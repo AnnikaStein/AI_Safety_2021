{
 "cells": [
  {
   "cell_type": "markdown",
   "metadata": {},
   "source": [
    "# Basic information about the model"
   ]
  },
  {
   "cell_type": "code",
   "execution_count": 2,
   "metadata": {},
   "outputs": [],
   "source": [
    "import torch"
   ]
  },
  {
   "cell_type": "code",
   "execution_count": 3,
   "metadata": {},
   "outputs": [],
   "source": [
    "import torch.nn as nn"
   ]
  },
  {
   "cell_type": "markdown",
   "metadata": {},
   "source": [
    "## Number of trainable parameters"
   ]
  },
  {
   "cell_type": "markdown",
   "metadata": {},
   "source": [
    "https://discuss.pytorch.org/t/how-do-i-check-the-number-of-parameters-of-a-model/4325/25"
   ]
  },
  {
   "cell_type": "code",
   "execution_count": 4,
   "metadata": {},
   "outputs": [
    {
     "name": "stdout",
     "output_type": "stream",
     "text": [
      "47604\n"
     ]
    }
   ],
   "source": [
    "model = nn.Sequential(nn.Linear(67, 100),\n",
    "                      nn.ReLU(),\n",
    "                      nn.Dropout(0.1),\n",
    "                      nn.Linear(100, 100),\n",
    "                      nn.ReLU(),\n",
    "                      nn.Dropout(0.1),\n",
    "                      nn.Linear(100, 100),\n",
    "                      nn.ReLU(),\n",
    "                      nn.Dropout(0.1),\n",
    "                      nn.Linear(100, 100),\n",
    "                      nn.ReLU(),\n",
    "                      nn.Dropout(0.1),\n",
    "                      nn.Linear(100, 100),\n",
    "                      nn.ReLU(),\n",
    "                      nn.Linear(100, 4),\n",
    "                      nn.Softmax(dim=1))\n",
    "\n",
    "pytorch_total_params = sum(p.numel() for p in model.parameters() if p.requires_grad)\n",
    "print(pytorch_total_params)"
   ]
  },
  {
   "cell_type": "code",
   "execution_count": 5,
   "metadata": {},
   "outputs": [
    {
     "name": "stdout",
     "output_type": "stream",
     "text": [
      "Sequential(\n",
      "  (0): Linear(in_features=67, out_features=100, bias=True)\n",
      "  (1): ReLU()\n",
      "  (2): Dropout(p=0.1, inplace=False)\n",
      "  (3): Linear(in_features=100, out_features=100, bias=True)\n",
      "  (4): ReLU()\n",
      "  (5): Dropout(p=0.1, inplace=False)\n",
      "  (6): Linear(in_features=100, out_features=100, bias=True)\n",
      "  (7): ReLU()\n",
      "  (8): Dropout(p=0.1, inplace=False)\n",
      "  (9): Linear(in_features=100, out_features=100, bias=True)\n",
      "  (10): ReLU()\n",
      "  (11): Dropout(p=0.1, inplace=False)\n",
      "  (12): Linear(in_features=100, out_features=100, bias=True)\n",
      "  (13): ReLU()\n",
      "  (14): Linear(in_features=100, out_features=4, bias=True)\n",
      "  (15): Softmax(dim=1)\n",
      ")\n"
     ]
    }
   ],
   "source": [
    "print(model)"
   ]
  },
  {
   "cell_type": "markdown",
   "metadata": {},
   "source": [
    "# Used packages"
   ]
  },
  {
   "cell_type": "code",
   "execution_count": 1,
   "metadata": {},
   "outputs": [],
   "source": [
    "import uproot4"
   ]
  },
  {
   "cell_type": "code",
   "execution_count": 2,
   "metadata": {},
   "outputs": [
    {
     "data": {
      "text/plain": [
       "'0.1.2'"
      ]
     },
     "execution_count": 2,
     "metadata": {},
     "output_type": "execute_result"
    }
   ],
   "source": [
    "uproot4.__version__"
   ]
  },
  {
   "cell_type": "code",
   "execution_count": 3,
   "metadata": {},
   "outputs": [],
   "source": [
    "import awkward1"
   ]
  },
  {
   "cell_type": "code",
   "execution_count": 4,
   "metadata": {},
   "outputs": [
    {
     "data": {
      "text/plain": [
       "'0.4.5'"
      ]
     },
     "execution_count": 4,
     "metadata": {},
     "output_type": "execute_result"
    }
   ],
   "source": [
    "awkward1.__version__"
   ]
  },
  {
   "cell_type": "code",
   "execution_count": 7,
   "metadata": {},
   "outputs": [],
   "source": [
    "import numpy as np"
   ]
  },
  {
   "cell_type": "code",
   "execution_count": 8,
   "metadata": {},
   "outputs": [],
   "source": [
    "bins = np.append(np.insert(np.linspace(0,0.98,50),0,[-0.05,-0.025]),[1.00001,1.025,1.05])"
   ]
  },
  {
   "cell_type": "code",
   "execution_count": 9,
   "metadata": {},
   "outputs": [
    {
     "data": {
      "text/plain": [
       "array([-0.05   , -0.025  ,  0.     ,  0.02   ,  0.04   ,  0.06   ,\n",
       "        0.08   ,  0.1    ,  0.12   ,  0.14   ,  0.16   ,  0.18   ,\n",
       "        0.2    ,  0.22   ,  0.24   ,  0.26   ,  0.28   ,  0.3    ,\n",
       "        0.32   ,  0.34   ,  0.36   ,  0.38   ,  0.4    ,  0.42   ,\n",
       "        0.44   ,  0.46   ,  0.48   ,  0.5    ,  0.52   ,  0.54   ,\n",
       "        0.56   ,  0.58   ,  0.6    ,  0.62   ,  0.64   ,  0.66   ,\n",
       "        0.68   ,  0.7    ,  0.72   ,  0.74   ,  0.76   ,  0.78   ,\n",
       "        0.8    ,  0.82   ,  0.84   ,  0.86   ,  0.88   ,  0.9    ,\n",
       "        0.92   ,  0.94   ,  0.96   ,  0.98   ,  1.00001,  1.025  ,\n",
       "        1.05   ])"
      ]
     },
     "execution_count": 9,
     "metadata": {},
     "output_type": "execute_result"
    }
   ],
   "source": [
    "bins"
   ]
  },
  {
   "cell_type": "code",
   "execution_count": null,
   "metadata": {},
   "outputs": [],
   "source": []
  }
 ],
 "metadata": {
  "kernelspec": {
   "display_name": "Python 3",
   "language": "python",
   "name": "python3"
  },
  "language_info": {
   "codemirror_mode": {
    "name": "ipython",
    "version": 3
   },
   "file_extension": ".py",
   "mimetype": "text/x-python",
   "name": "python",
   "nbconvert_exporter": "python",
   "pygments_lexer": "ipython3",
   "version": "3.8.6"
  }
 },
 "nbformat": 4,
 "nbformat_minor": 4
}
