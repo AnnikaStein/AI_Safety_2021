{
 "cells": [
  {
   "cell_type": "markdown",
   "metadata": {},
   "source": [
    "# Run discriminator shapes (interactively)"
   ]
  },
  {
   "cell_type": "markdown",
   "metadata": {},
   "source": [
    "***\n",
    "***\n",
    "## Basic training"
   ]
  },
  {
   "cell_type": "markdown",
   "metadata": {},
   "source": [
    "***\n",
    "Setup for plot:\n",
    "\n",
    "With DeepCSV,\n",
    "Mini-eval,\n",
    "Don't check inputs"
   ]
  },
  {
   "cell_type": "code",
   "execution_count": 3,
   "metadata": {},
   "outputs": [
    {
     "name": "stdout",
     "output_type": "stream",
     "text": [
      "Evaluate training at epoch 200\n",
      "With weighting method _ptetaflavloss_focalloss_gamma25.0\n",
      "gamma ['25.0']\n",
      "alpha ['25.0']\n",
      "epsilon ['_ptetaflavloss_focalloss_gamma25.0']\n",
      "test inputs done\n",
      "number of test inputs 13283070\n",
      "test targets done\n",
      "DeepCSV test done\n",
      "/home/um106329/miniconda3/envs/my-env/lib/python3.8/site-packages/coffea/hist/hist_tools.py:754: RuntimeWarning: Allocating a large (>10M bin) histogram!\n",
      "  warnings.warn(\"Allocating a large (>10M bin) histogram!\", RuntimeWarning)\n",
      "findfont: Font family ['cursive'] not found. Falling back to DejaVu Sans.\n",
      "Figure(1700x1500)\n",
      "/home/um106329/miniconda3/envs/my-env/lib/python3.8/site-packages/coffea/hist/hist_tools.py:754: RuntimeWarning: Allocating a large (>10M bin) histogram!\n",
      "  warnings.warn(\"Allocating a large (>10M bin) histogram!\", RuntimeWarning)\n",
      "Figure(1700x1500)\n",
      "/home/um106329/miniconda3/envs/my-env/lib/python3.8/site-packages/coffea/hist/hist_tools.py:754: RuntimeWarning: Allocating a large (>10M bin) histogram!\n",
      "  warnings.warn(\"Allocating a large (>10M bin) histogram!\", RuntimeWarning)\n",
      "Figure(1700x1500)\n",
      "/home/um106329/miniconda3/envs/my-env/lib/python3.8/site-packages/coffea/hist/hist_tools.py:754: RuntimeWarning: Allocating a large (>10M bin) histogram!\n",
      "  warnings.warn(\"Allocating a large (>10M bin) histogram!\", RuntimeWarning)\n",
      "Figure(1700x1500)\n",
      "/home/um106329/miniconda3/envs/my-env/lib/python3.8/site-packages/coffea/hist/hist_tools.py:754: RuntimeWarning: Allocating a large (>10M bin) histogram!\n",
      "  warnings.warn(\"Allocating a large (>10M bin) histogram!\", RuntimeWarning)\n",
      "Figure(1700x1500)\n"
     ]
    }
   ],
   "source": [
    "!python eval_discriminator_shapes.py 278 200 _ptetaflavloss_focalloss_gamma25.0 0.001 -1 yes no"
   ]
  },
  {
   "cell_type": "markdown",
   "metadata": {},
   "source": [
    "For smaller $\\gamma$: adjust the position of the text and legend inside the python script!"
   ]
  },
  {
   "cell_type": "code",
   "execution_count": 5,
   "metadata": {},
   "outputs": [
    {
     "name": "stdout",
     "output_type": "stream",
     "text": [
      "Evaluate training at epoch 200\n",
      "With weighting method _ptetaflavloss_focalloss\n",
      "gamma ['_ptetaflavloss_focalloss']\n",
      "alpha ['_ptetaflavloss_focalloss']\n",
      "epsilon ['_ptetaflavloss_focalloss']\n",
      "test inputs done\n",
      "number of test inputs 13283070\n",
      "test targets done\n",
      "DeepCSV test done\n",
      "/home/um106329/miniconda3/envs/my-env/lib/python3.8/site-packages/coffea/hist/hist_tools.py:754: RuntimeWarning: Allocating a large (>10M bin) histogram!\n",
      "  warnings.warn(\"Allocating a large (>10M bin) histogram!\", RuntimeWarning)\n",
      "findfont: Font family ['cursive'] not found. Falling back to DejaVu Sans.\n",
      "Figure(1700x1500)\n",
      "/home/um106329/miniconda3/envs/my-env/lib/python3.8/site-packages/coffea/hist/hist_tools.py:754: RuntimeWarning: Allocating a large (>10M bin) histogram!\n",
      "  warnings.warn(\"Allocating a large (>10M bin) histogram!\", RuntimeWarning)\n",
      "Figure(1700x1500)\n",
      "/home/um106329/miniconda3/envs/my-env/lib/python3.8/site-packages/coffea/hist/hist_tools.py:754: RuntimeWarning: Allocating a large (>10M bin) histogram!\n",
      "  warnings.warn(\"Allocating a large (>10M bin) histogram!\", RuntimeWarning)\n",
      "Figure(1700x1500)\n",
      "/home/um106329/miniconda3/envs/my-env/lib/python3.8/site-packages/coffea/hist/hist_tools.py:754: RuntimeWarning: Allocating a large (>10M bin) histogram!\n",
      "  warnings.warn(\"Allocating a large (>10M bin) histogram!\", RuntimeWarning)\n",
      "Figure(1700x1500)\n",
      "/home/um106329/miniconda3/envs/my-env/lib/python3.8/site-packages/coffea/hist/hist_tools.py:754: RuntimeWarning: Allocating a large (>10M bin) histogram!\n",
      "  warnings.warn(\"Allocating a large (>10M bin) histogram!\", RuntimeWarning)\n",
      "Figure(1700x1500)\n"
     ]
    }
   ],
   "source": [
    "!python eval_discriminator_shapes.py 278 200 _ptetaflavloss_focalloss 0.001 -1 yes no"
   ]
  },
  {
   "cell_type": "code",
   "execution_count": 6,
   "metadata": {},
   "outputs": [
    {
     "name": "stdout",
     "output_type": "stream",
     "text": [
      "Evaluate training at epoch 200\n",
      "With weighting method _flatptetaflavloss_focalloss\n",
      "gamma ['_flatptetaflavloss_focalloss']\n",
      "alpha ['_flatptetaflavloss_focalloss']\n",
      "epsilon ['_flatptetaflavloss_focalloss']\n",
      "test inputs done\n",
      "number of test inputs 13283070\n",
      "test targets done\n",
      "DeepCSV test done\n",
      "/home/um106329/miniconda3/envs/my-env/lib/python3.8/site-packages/coffea/hist/hist_tools.py:754: RuntimeWarning: Allocating a large (>10M bin) histogram!\n",
      "  warnings.warn(\"Allocating a large (>10M bin) histogram!\", RuntimeWarning)\n",
      "findfont: Font family ['cursive'] not found. Falling back to DejaVu Sans.\n",
      "Figure(1700x1500)\n",
      "/home/um106329/miniconda3/envs/my-env/lib/python3.8/site-packages/coffea/hist/hist_tools.py:754: RuntimeWarning: Allocating a large (>10M bin) histogram!\n",
      "  warnings.warn(\"Allocating a large (>10M bin) histogram!\", RuntimeWarning)\n",
      "Figure(1700x1500)\n",
      "/home/um106329/miniconda3/envs/my-env/lib/python3.8/site-packages/coffea/hist/hist_tools.py:754: RuntimeWarning: Allocating a large (>10M bin) histogram!\n",
      "  warnings.warn(\"Allocating a large (>10M bin) histogram!\", RuntimeWarning)\n",
      "Figure(1700x1500)\n",
      "/home/um106329/miniconda3/envs/my-env/lib/python3.8/site-packages/coffea/hist/hist_tools.py:754: RuntimeWarning: Allocating a large (>10M bin) histogram!\n",
      "  warnings.warn(\"Allocating a large (>10M bin) histogram!\", RuntimeWarning)\n",
      "Figure(1700x1500)\n",
      "/home/um106329/miniconda3/envs/my-env/lib/python3.8/site-packages/coffea/hist/hist_tools.py:754: RuntimeWarning: Allocating a large (>10M bin) histogram!\n",
      "  warnings.warn(\"Allocating a large (>10M bin) histogram!\", RuntimeWarning)\n",
      "Figure(1700x1500)\n"
     ]
    }
   ],
   "source": [
    "!python eval_discriminator_shapes.py 278 200 _flatptetaflavloss_focalloss 0.001 -1 yes no"
   ]
  },
  {
   "cell_type": "markdown",
   "metadata": {},
   "source": [
    "***\n",
    "***\n",
    "## Adversarial training"
   ]
  },
  {
   "cell_type": "markdown",
   "metadata": {},
   "source": [
    "***\n",
    "Setup for plot:\n",
    "\n",
    "With DeepCSV,\n",
    "Mini-eval,\n",
    "Don't check inputs"
   ]
  },
  {
   "cell_type": "code",
   "execution_count": 1,
   "metadata": {},
   "outputs": [
    {
     "name": "stdout",
     "output_type": "stream",
     "text": [
      "Evaluate training at epoch 200\n",
      "With weighting method _ptetaflavloss_focalloss_gamma25.0_adv_tr_eps0.01\n",
      "gamma ['25.0']\n",
      "alpha ['25.0']\n",
      "epsilon ['0.01']\n",
      "test inputs done\n",
      "number of test inputs 13283070\n",
      "test targets done\n",
      "DeepCSV test done\n",
      "/home/um106329/miniconda3/envs/my-env/lib/python3.8/site-packages/coffea/hist/hist_tools.py:754: RuntimeWarning: Allocating a large (>10M bin) histogram!\n",
      "  warnings.warn(\"Allocating a large (>10M bin) histogram!\", RuntimeWarning)\n",
      "findfont: Font family ['cursive'] not found. Falling back to DejaVu Sans.\n",
      "Figure(1700x1500)\n",
      "/home/um106329/miniconda3/envs/my-env/lib/python3.8/site-packages/coffea/hist/hist_tools.py:754: RuntimeWarning: Allocating a large (>10M bin) histogram!\n",
      "  warnings.warn(\"Allocating a large (>10M bin) histogram!\", RuntimeWarning)\n",
      "Figure(1700x1500)\n",
      "/home/um106329/miniconda3/envs/my-env/lib/python3.8/site-packages/coffea/hist/hist_tools.py:754: RuntimeWarning: Allocating a large (>10M bin) histogram!\n",
      "  warnings.warn(\"Allocating a large (>10M bin) histogram!\", RuntimeWarning)\n",
      "Figure(1700x1500)\n",
      "/home/um106329/miniconda3/envs/my-env/lib/python3.8/site-packages/coffea/hist/hist_tools.py:754: RuntimeWarning: Allocating a large (>10M bin) histogram!\n",
      "  warnings.warn(\"Allocating a large (>10M bin) histogram!\", RuntimeWarning)\n",
      "Figure(1700x1500)\n",
      "/home/um106329/miniconda3/envs/my-env/lib/python3.8/site-packages/coffea/hist/hist_tools.py:754: RuntimeWarning: Allocating a large (>10M bin) histogram!\n",
      "  warnings.warn(\"Allocating a large (>10M bin) histogram!\", RuntimeWarning)\n",
      "Figure(1700x1500)\n"
     ]
    }
   ],
   "source": [
    "!python eval_discriminator_shapes.py 278 200 _ptetaflavloss_focalloss_gamma25.0_adv_tr_eps0.01 0.001 -1 yes no"
   ]
  },
  {
   "cell_type": "markdown",
   "metadata": {},
   "source": [
    "## compose tar archives for easy download"
   ]
  },
  {
   "cell_type": "code",
   "execution_count": 7,
   "metadata": {},
   "outputs": [],
   "source": [
    "!tar czf discriminator_shapes_pdf.tar.gz discriminator_shapes/shapes_new/*.pdf"
   ]
  },
  {
   "cell_type": "code",
   "execution_count": 8,
   "metadata": {},
   "outputs": [],
   "source": [
    "!tar czf discriminator_shapes_svg.tar.gz discriminator_shapes/shapes_new/*.svg"
   ]
  },
  {
   "cell_type": "code",
   "execution_count": null,
   "metadata": {},
   "outputs": [],
   "source": []
  }
 ],
 "metadata": {
  "kernelspec": {
   "display_name": "Python 3",
   "language": "python",
   "name": "python3"
  },
  "language_info": {
   "codemirror_mode": {
    "name": "ipython",
    "version": 3
   },
   "file_extension": ".py",
   "mimetype": "text/x-python",
   "name": "python",
   "nbconvert_exporter": "python",
   "pygments_lexer": "ipython3",
   "version": "3.8.6"
  }
 },
 "nbformat": 4,
 "nbformat_minor": 4
}
