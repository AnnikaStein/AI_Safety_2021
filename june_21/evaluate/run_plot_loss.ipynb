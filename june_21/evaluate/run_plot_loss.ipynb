{
 "cells": [
  {
   "cell_type": "markdown",
   "metadata": {},
   "source": [
    "# Run plot loss (interactively)"
   ]
  },
  {
   "cell_type": "markdown",
   "metadata": {},
   "source": [
    "***\n",
    "***\n",
    "## Basic versus Adversarial training"
   ]
  },
  {
   "cell_type": "code",
   "execution_count": 4,
   "metadata": {},
   "outputs": [
    {
     "name": "stdout",
     "output_type": "stream",
     "text": [
      "['-1', '-1']\n",
      "gamma ['25.0', '25.0']\n",
      "alpha ['25.0', '25.0']\n",
      "epsilon ['_ptetaflavloss_focalloss_gamma25.0', '0.01']\n",
      "findfont: Font family ['cursive'] not found. Falling back to DejaVu Sans.\n"
     ]
    }
   ],
   "source": [
    "!python plot_loss.py 278 _ptetaflavloss_focalloss_gamma25.0+_ptetaflavloss_focalloss_gamma25.0_adv_tr_eps0.01 0.001 _-1,_-1"
   ]
  },
  {
   "cell_type": "code",
   "execution_count": null,
   "metadata": {},
   "outputs": [],
   "source": []
  }
 ],
 "metadata": {
  "kernelspec": {
   "display_name": "Python 3",
   "language": "python",
   "name": "python3"
  },
  "language_info": {
   "codemirror_mode": {
    "name": "ipython",
    "version": 3
   },
   "file_extension": ".py",
   "mimetype": "text/x-python",
   "name": "python",
   "nbconvert_exporter": "python",
   "pygments_lexer": "ipython3",
   "version": "3.8.6"
  }
 },
 "nbformat": 4,
 "nbformat_minor": 4
}
