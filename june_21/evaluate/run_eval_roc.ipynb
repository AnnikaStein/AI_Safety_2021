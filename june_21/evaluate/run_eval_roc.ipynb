{
 "cells": [
  {
   "cell_type": "markdown",
   "metadata": {},
   "source": [
    "# Run ROC curves (interactively)\n",
    "***\n",
    "***"
   ]
  },
  {
   "cell_type": "markdown",
   "metadata": {},
   "source": [
    "## Not flat versus Flat\n",
    "### Different epochs in one plot\n",
    "***"
   ]
  },
  {
   "cell_type": "markdown",
   "metadata": {},
   "source": [
    "Setup for plot:\n",
    "\n",
    "No DeepCSV,\n",
    "Mini-eval,\n",
    "No additional axis,\n",
    "No log-scale (flip)"
   ]
  },
  {
   "cell_type": "code",
   "execution_count": 2,
   "metadata": {},
   "outputs": [
    {
     "name": "stdout",
     "output_type": "stream",
     "text": [
      "Evaluate training at epoch 10,10,100,100,200,200\n",
      "With weighting method _ptetaflavloss_focalloss_gamma25.0,_flatptetaflavloss_focalloss_gamma25.0,_ptetaflavloss_focalloss_gamma25.0,_flatptetaflavloss_focalloss_gamma25.0,_ptetaflavloss_focalloss_gamma25.0,_flatptetaflavloss_focalloss_gamma25.0\n",
      "gamma ['25.0', '25.0', '25.0', '25.0', '25.0', '25.0']\n",
      "alpha ['25.0', '25.0', '25.0', '25.0', '25.0', '25.0']\n",
      "epsilon ['_ptetaflavloss_focalloss_gamma25.0', '_flatptetaflavloss_focalloss_gamma25.0', '_ptetaflavloss_focalloss_gamma25.0', '_flatptetaflavloss_focalloss_gamma25.0', '_ptetaflavloss_focalloss_gamma25.0', '_flatptetaflavloss_focalloss_gamma25.0']\n",
      "test inputs done\n",
      "test targets done\n",
      "number of test inputs 13283070\n",
      "b\n",
      "All raw, but different weighting methods.\n",
      "Prepared matching inputs and targets for this output/discriminator.\n",
      "Predictions done.\n",
      "auc for b-tagging epoch 10 $p_T, \\eta$ rew. (F.L. $\\gamma=$25.0), setup b_raw: 0.9223602899433975\n",
      "Predictions done.\n",
      "auc for b-tagging epoch 10 $p_T, \\eta$ rew. (Flat, F.L. $\\gamma=$25.0), setup b_raw: 0.9087208738979051\n",
      "Predictions done.\n",
      "auc for b-tagging epoch 100 $p_T, \\eta$ rew. (F.L. $\\gamma=$25.0), setup b_raw: 0.9270856713286586\n",
      "Predictions done.\n",
      "auc for b-tagging epoch 100 $p_T, \\eta$ rew. (Flat, F.L. $\\gamma=$25.0), setup b_raw: 0.9152142731858991\n",
      "Predictions done.\n",
      "auc for b-tagging epoch 200 $p_T, \\eta$ rew. (F.L. $\\gamma=$25.0), setup b_raw: 0.9279157583881175\n",
      "Predictions done.\n",
      "auc for b-tagging epoch 200 $p_T, \\eta$ rew. (Flat, F.L. $\\gamma=$25.0), setup b_raw: 0.9153490577014761\n",
      "findfont: Font family ['cursive'] not found. Falling back to DejaVu Sans.\n",
      "Figure(1200x1200)\n"
     ]
    }
   ],
   "source": [
    "!python eval_roc_new.py 278 10,10,100,100,200,200 b_raw no _ptetaflavloss_focalloss_gamma25.0,_flatptetaflavloss_focalloss_gamma25.0,_ptetaflavloss_focalloss_gamma25.0,_flatptetaflavloss_focalloss_gamma25.0,_ptetaflavloss_focalloss_gamma25.0,_flatptetaflavloss_focalloss_gamma25.0 0.001 -1 yes no -1 no ROC"
   ]
  },
  {
   "cell_type": "code",
   "execution_count": 1,
   "metadata": {},
   "outputs": [
    {
     "name": "stdout",
     "output_type": "stream",
     "text": [
      "Evaluate training at epoch 10,10,100,100,200,200\n",
      "With weighting method _ptetaflavloss_focalloss_gamma25.0,_flatptetaflavloss_focalloss_gamma25.0,_ptetaflavloss_focalloss_gamma25.0,_flatptetaflavloss_focalloss_gamma25.0,_ptetaflavloss_focalloss_gamma25.0,_flatptetaflavloss_focalloss_gamma25.0\n",
      "gamma ['25.0', '25.0', '25.0', '25.0', '25.0', '25.0']\n",
      "alpha ['25.0', '25.0', '25.0', '25.0', '25.0', '25.0']\n",
      "epsilon ['_ptetaflavloss_focalloss_gamma25.0', '_flatptetaflavloss_focalloss_gamma25.0', '_ptetaflavloss_focalloss_gamma25.0', '_flatptetaflavloss_focalloss_gamma25.0', '_ptetaflavloss_focalloss_gamma25.0', '_flatptetaflavloss_focalloss_gamma25.0']\n",
      "test inputs done\n",
      "test targets done\n",
      "number of test inputs 13283070\n",
      "bb\n",
      "All raw, but different weighting methods.\n",
      "Prepared matching inputs and targets for this output/discriminator.\n",
      "Predictions done.\n",
      "auc for bb-tagging epoch 10 $p_T, \\eta$ rew. (F.L. $\\gamma=$25.0), setup bb_raw: 0.9446247966697879\n",
      "Predictions done.\n",
      "auc for bb-tagging epoch 10 $p_T, \\eta$ rew. (Flat, F.L. $\\gamma=$25.0), setup bb_raw: 0.9415664196973231\n",
      "Predictions done.\n",
      "auc for bb-tagging epoch 100 $p_T, \\eta$ rew. (F.L. $\\gamma=$25.0), setup bb_raw: 0.9483283933387756\n",
      "Predictions done.\n",
      "auc for bb-tagging epoch 100 $p_T, \\eta$ rew. (Flat, F.L. $\\gamma=$25.0), setup bb_raw: 0.9456859242312253\n",
      "Predictions done.\n",
      "auc for bb-tagging epoch 200 $p_T, \\eta$ rew. (F.L. $\\gamma=$25.0), setup bb_raw: 0.949183328890535\n",
      "Predictions done.\n",
      "auc for bb-tagging epoch 200 $p_T, \\eta$ rew. (Flat, F.L. $\\gamma=$25.0), setup bb_raw: 0.9461426764742743\n",
      "findfont: Font family ['cursive'] not found. Falling back to DejaVu Sans.\n",
      "Figure(1200x1200)\n"
     ]
    }
   ],
   "source": [
    "!python eval_roc_new.py 278 10,10,100,100,200,200 bb_raw no _ptetaflavloss_focalloss_gamma25.0,_flatptetaflavloss_focalloss_gamma25.0,_ptetaflavloss_focalloss_gamma25.0,_flatptetaflavloss_focalloss_gamma25.0,_ptetaflavloss_focalloss_gamma25.0,_flatptetaflavloss_focalloss_gamma25.0 0.001 -1 yes no -1 no ROC"
   ]
  },
  {
   "cell_type": "code",
   "execution_count": 3,
   "metadata": {},
   "outputs": [
    {
     "name": "stdout",
     "output_type": "stream",
     "text": [
      "Evaluate training at epoch 10,10,100,100,200,200\n",
      "With weighting method _ptetaflavloss_focalloss_gamma25.0,_flatptetaflavloss_focalloss_gamma25.0,_ptetaflavloss_focalloss_gamma25.0,_flatptetaflavloss_focalloss_gamma25.0,_ptetaflavloss_focalloss_gamma25.0,_flatptetaflavloss_focalloss_gamma25.0\n",
      "gamma ['25.0', '25.0', '25.0', '25.0', '25.0', '25.0']\n",
      "alpha ['25.0', '25.0', '25.0', '25.0', '25.0', '25.0']\n",
      "epsilon ['_ptetaflavloss_focalloss_gamma25.0', '_flatptetaflavloss_focalloss_gamma25.0', '_ptetaflavloss_focalloss_gamma25.0', '_flatptetaflavloss_focalloss_gamma25.0', '_ptetaflavloss_focalloss_gamma25.0', '_flatptetaflavloss_focalloss_gamma25.0']\n",
      "test inputs done\n",
      "test targets done\n",
      "number of test inputs 13283070\n",
      "c\n",
      "All raw, but different weighting methods.\n",
      "Prepared matching inputs and targets for this output/discriminator.\n",
      "Predictions done.\n",
      "auc for c-tagging epoch 10 $p_T, \\eta$ rew. (F.L. $\\gamma=$25.0), setup c_raw: 0.5113990227876547\n",
      "Predictions done.\n",
      "auc for c-tagging epoch 10 $p_T, \\eta$ rew. (Flat, F.L. $\\gamma=$25.0), setup c_raw: 0.5060716324384165\n",
      "Predictions done.\n",
      "auc for c-tagging epoch 100 $p_T, \\eta$ rew. (F.L. $\\gamma=$25.0), setup c_raw: 0.5320432237365436\n",
      "Predictions done.\n",
      "auc for c-tagging epoch 100 $p_T, \\eta$ rew. (Flat, F.L. $\\gamma=$25.0), setup c_raw: 0.5281516960716445\n",
      "Predictions done.\n",
      "auc for c-tagging epoch 200 $p_T, \\eta$ rew. (F.L. $\\gamma=$25.0), setup c_raw: 0.535912067277592\n",
      "Predictions done.\n",
      "auc for c-tagging epoch 200 $p_T, \\eta$ rew. (Flat, F.L. $\\gamma=$25.0), setup c_raw: 0.5301656541345026\n",
      "findfont: Font family ['cursive'] not found. Falling back to DejaVu Sans.\n",
      "Figure(1200x1200)\n"
     ]
    }
   ],
   "source": [
    "!python eval_roc_new.py 278 10,10,100,100,200,200 c_raw no _ptetaflavloss_focalloss_gamma25.0,_flatptetaflavloss_focalloss_gamma25.0,_ptetaflavloss_focalloss_gamma25.0,_flatptetaflavloss_focalloss_gamma25.0,_ptetaflavloss_focalloss_gamma25.0,_flatptetaflavloss_focalloss_gamma25.0 0.001 -1 yes no -1 no ROC"
   ]
  },
  {
   "cell_type": "code",
   "execution_count": 4,
   "metadata": {},
   "outputs": [
    {
     "name": "stdout",
     "output_type": "stream",
     "text": [
      "Evaluate training at epoch 10,10,100,100,200,200\n",
      "With weighting method _ptetaflavloss_focalloss_gamma25.0,_flatptetaflavloss_focalloss_gamma25.0,_ptetaflavloss_focalloss_gamma25.0,_flatptetaflavloss_focalloss_gamma25.0,_ptetaflavloss_focalloss_gamma25.0,_flatptetaflavloss_focalloss_gamma25.0\n",
      "gamma ['25.0', '25.0', '25.0', '25.0', '25.0', '25.0']\n",
      "alpha ['25.0', '25.0', '25.0', '25.0', '25.0', '25.0']\n",
      "epsilon ['_ptetaflavloss_focalloss_gamma25.0', '_flatptetaflavloss_focalloss_gamma25.0', '_ptetaflavloss_focalloss_gamma25.0', '_flatptetaflavloss_focalloss_gamma25.0', '_ptetaflavloss_focalloss_gamma25.0', '_flatptetaflavloss_focalloss_gamma25.0']\n",
      "test inputs done\n",
      "test targets done\n",
      "number of test inputs 13283070\n",
      "udsg\n",
      "All raw, but different weighting methods.\n",
      "Prepared matching inputs and targets for this output/discriminator.\n",
      "Predictions done.\n",
      "auc for udsg-tagging epoch 10 $p_T, \\eta$ rew. (F.L. $\\gamma=$25.0), setup udsg_raw: 0.846588053956517\n",
      "Predictions done.\n",
      "auc for udsg-tagging epoch 10 $p_T, \\eta$ rew. (Flat, F.L. $\\gamma=$25.0), setup udsg_raw: 0.8440921176766532\n",
      "Predictions done.\n",
      "auc for udsg-tagging epoch 100 $p_T, \\eta$ rew. (F.L. $\\gamma=$25.0), setup udsg_raw: 0.853057707826037\n",
      "Predictions done.\n",
      "auc for udsg-tagging epoch 100 $p_T, \\eta$ rew. (Flat, F.L. $\\gamma=$25.0), setup udsg_raw: 0.8516809355238849\n",
      "Predictions done.\n",
      "auc for udsg-tagging epoch 200 $p_T, \\eta$ rew. (F.L. $\\gamma=$25.0), setup udsg_raw: 0.8538680707680908\n",
      "Predictions done.\n",
      "auc for udsg-tagging epoch 200 $p_T, \\eta$ rew. (Flat, F.L. $\\gamma=$25.0), setup udsg_raw: 0.8524051593345077\n",
      "findfont: Font family ['cursive'] not found. Falling back to DejaVu Sans.\n",
      "Figure(1200x1200)\n"
     ]
    }
   ],
   "source": [
    "!python eval_roc_new.py 278 10,10,100,100,200,200 udsg_raw no _ptetaflavloss_focalloss_gamma25.0,_flatptetaflavloss_focalloss_gamma25.0,_ptetaflavloss_focalloss_gamma25.0,_flatptetaflavloss_focalloss_gamma25.0,_ptetaflavloss_focalloss_gamma25.0,_flatptetaflavloss_focalloss_gamma25.0 0.001 -1 yes no -1 no ROC"
   ]
  },
  {
   "cell_type": "code",
   "execution_count": 5,
   "metadata": {},
   "outputs": [
    {
     "name": "stdout",
     "output_type": "stream",
     "text": [
      "Evaluate training at epoch 10,10,100,100,200,200\n",
      "With weighting method _ptetaflavloss_focalloss_gamma25.0,_flatptetaflavloss_focalloss_gamma25.0,_ptetaflavloss_focalloss_gamma25.0,_flatptetaflavloss_focalloss_gamma25.0,_ptetaflavloss_focalloss_gamma25.0,_flatptetaflavloss_focalloss_gamma25.0\n",
      "gamma ['25.0', '25.0', '25.0', '25.0', '25.0', '25.0']\n",
      "alpha ['25.0', '25.0', '25.0', '25.0', '25.0', '25.0']\n",
      "epsilon ['_ptetaflavloss_focalloss_gamma25.0', '_flatptetaflavloss_focalloss_gamma25.0', '_ptetaflavloss_focalloss_gamma25.0', '_flatptetaflavloss_focalloss_gamma25.0', '_ptetaflavloss_focalloss_gamma25.0', '_flatptetaflavloss_focalloss_gamma25.0']\n",
      "test inputs done\n",
      "test targets done\n",
      "number of test inputs 13283070\n",
      "BvL\n",
      "All raw, but different weighting methods.\n",
      "Prepared matching inputs and targets for this output/discriminator.\n",
      "Predictions done.\n",
      "auc for bvl-tagging epoch 10 $p_T, \\eta$ rew. (F.L. $\\gamma=$25.0), setup BvL_raw: 0.9424025827237164\n",
      "Predictions done.\n",
      "auc for bvl-tagging epoch 10 $p_T, \\eta$ rew. (Flat, F.L. $\\gamma=$25.0), setup BvL_raw: 0.9408818370097256\n",
      "Predictions done.\n",
      "auc for bvl-tagging epoch 100 $p_T, \\eta$ rew. (F.L. $\\gamma=$25.0), setup BvL_raw: 0.9467892045744443\n",
      "Predictions done.\n",
      "auc for bvl-tagging epoch 100 $p_T, \\eta$ rew. (Flat, F.L. $\\gamma=$25.0), setup BvL_raw: 0.9458377526021297\n",
      "Predictions done.\n",
      "auc for bvl-tagging epoch 200 $p_T, \\eta$ rew. (F.L. $\\gamma=$25.0), setup BvL_raw: 0.947256066778877\n",
      "Predictions done.\n",
      "auc for bvl-tagging epoch 200 $p_T, \\eta$ rew. (Flat, F.L. $\\gamma=$25.0), setup BvL_raw: 0.9462233522739932\n",
      "findfont: Font family ['cursive'] not found. Falling back to DejaVu Sans.\n",
      "Figure(1200x1200)\n"
     ]
    }
   ],
   "source": [
    "!python eval_roc_new.py 278 10,10,100,100,200,200 BvL_raw no _ptetaflavloss_focalloss_gamma25.0,_flatptetaflavloss_focalloss_gamma25.0,_ptetaflavloss_focalloss_gamma25.0,_flatptetaflavloss_focalloss_gamma25.0,_ptetaflavloss_focalloss_gamma25.0,_flatptetaflavloss_focalloss_gamma25.0 0.001 -1 yes no -1 no ROC"
   ]
  },
  {
   "cell_type": "code",
   "execution_count": 6,
   "metadata": {},
   "outputs": [
    {
     "name": "stdout",
     "output_type": "stream",
     "text": [
      "Evaluate training at epoch 10,10,100,100,200,200\n",
      "With weighting method _ptetaflavloss_focalloss_gamma25.0,_flatptetaflavloss_focalloss_gamma25.0,_ptetaflavloss_focalloss_gamma25.0,_flatptetaflavloss_focalloss_gamma25.0,_ptetaflavloss_focalloss_gamma25.0,_flatptetaflavloss_focalloss_gamma25.0\n",
      "gamma ['25.0', '25.0', '25.0', '25.0', '25.0', '25.0']\n",
      "alpha ['25.0', '25.0', '25.0', '25.0', '25.0', '25.0']\n",
      "epsilon ['_ptetaflavloss_focalloss_gamma25.0', '_flatptetaflavloss_focalloss_gamma25.0', '_ptetaflavloss_focalloss_gamma25.0', '_flatptetaflavloss_focalloss_gamma25.0', '_ptetaflavloss_focalloss_gamma25.0', '_flatptetaflavloss_focalloss_gamma25.0']\n",
      "test inputs done\n",
      "test targets done\n",
      "number of test inputs 13283070\n",
      "BvC\n",
      "All raw, but different weighting methods.\n",
      "Prepared matching inputs and targets for this output/discriminator.\n",
      "Predictions done.\n",
      "auc for bvc-tagging epoch 10 $p_T, \\eta$ rew. (F.L. $\\gamma=$25.0), setup BvC_raw: 0.8562684981526606\n",
      "Predictions done.\n",
      "auc for bvc-tagging epoch 10 $p_T, \\eta$ rew. (Flat, F.L. $\\gamma=$25.0), setup BvC_raw: 0.8534278777261989\n",
      "Predictions done.\n",
      "auc for bvc-tagging epoch 100 $p_T, \\eta$ rew. (F.L. $\\gamma=$25.0), setup BvC_raw: 0.8653889630109288\n",
      "Predictions done.\n",
      "auc for bvc-tagging epoch 100 $p_T, \\eta$ rew. (Flat, F.L. $\\gamma=$25.0), setup BvC_raw: 0.8642824093442527\n",
      "Predictions done.\n",
      "auc for bvc-tagging epoch 200 $p_T, \\eta$ rew. (F.L. $\\gamma=$25.0), setup BvC_raw: 0.8663511544015304\n",
      "Predictions done.\n",
      "auc for bvc-tagging epoch 200 $p_T, \\eta$ rew. (Flat, F.L. $\\gamma=$25.0), setup BvC_raw: 0.8652831026987111\n",
      "findfont: Font family ['cursive'] not found. Falling back to DejaVu Sans.\n",
      "Figure(1200x1200)\n"
     ]
    }
   ],
   "source": [
    "!python eval_roc_new.py 278 10,10,100,100,200,200 BvC_raw no _ptetaflavloss_focalloss_gamma25.0,_flatptetaflavloss_focalloss_gamma25.0,_ptetaflavloss_focalloss_gamma25.0,_flatptetaflavloss_focalloss_gamma25.0,_ptetaflavloss_focalloss_gamma25.0,_flatptetaflavloss_focalloss_gamma25.0 0.001 -1 yes no -1 no ROC"
   ]
  },
  {
   "cell_type": "code",
   "execution_count": 7,
   "metadata": {},
   "outputs": [
    {
     "name": "stdout",
     "output_type": "stream",
     "text": [
      "Evaluate training at epoch 10,10,100,100,200,200\n",
      "With weighting method _ptetaflavloss_focalloss_gamma25.0,_flatptetaflavloss_focalloss_gamma25.0,_ptetaflavloss_focalloss_gamma25.0,_flatptetaflavloss_focalloss_gamma25.0,_ptetaflavloss_focalloss_gamma25.0,_flatptetaflavloss_focalloss_gamma25.0\n",
      "gamma ['25.0', '25.0', '25.0', '25.0', '25.0', '25.0']\n",
      "alpha ['25.0', '25.0', '25.0', '25.0', '25.0', '25.0']\n",
      "epsilon ['_ptetaflavloss_focalloss_gamma25.0', '_flatptetaflavloss_focalloss_gamma25.0', '_ptetaflavloss_focalloss_gamma25.0', '_flatptetaflavloss_focalloss_gamma25.0', '_ptetaflavloss_focalloss_gamma25.0', '_flatptetaflavloss_focalloss_gamma25.0']\n",
      "test inputs done\n",
      "test targets done\n",
      "number of test inputs 13283070\n",
      "CvB\n",
      "All raw, but different weighting methods.\n",
      "Prepared matching inputs and targets for this output/discriminator.\n",
      "Predictions done.\n",
      "auc for cvb-tagging epoch 10 $p_T, \\eta$ rew. (F.L. $\\gamma=$25.0), setup CvB_raw: 0.8562684982258016\n",
      "Predictions done.\n",
      "auc for cvb-tagging epoch 10 $p_T, \\eta$ rew. (Flat, F.L. $\\gamma=$25.0), setup CvB_raw: 0.8534278775554176\n",
      "Predictions done.\n",
      "auc for cvb-tagging epoch 100 $p_T, \\eta$ rew. (F.L. $\\gamma=$25.0), setup CvB_raw: 0.8653889667592449\n",
      "Predictions done.\n",
      "auc for cvb-tagging epoch 100 $p_T, \\eta$ rew. (Flat, F.L. $\\gamma=$25.0), setup CvB_raw: 0.8642824084875047\n",
      "Predictions done.\n",
      "auc for cvb-tagging epoch 200 $p_T, \\eta$ rew. (F.L. $\\gamma=$25.0), setup CvB_raw: 0.8663511767849073\n",
      "Predictions done.\n",
      "auc for cvb-tagging epoch 200 $p_T, \\eta$ rew. (Flat, F.L. $\\gamma=$25.0), setup CvB_raw: 0.8652831071823457\n",
      "findfont: Font family ['cursive'] not found. Falling back to DejaVu Sans.\n",
      "Figure(1200x1200)\n"
     ]
    }
   ],
   "source": [
    "!python eval_roc_new.py 278 10,10,100,100,200,200 CvB_raw no _ptetaflavloss_focalloss_gamma25.0,_flatptetaflavloss_focalloss_gamma25.0,_ptetaflavloss_focalloss_gamma25.0,_flatptetaflavloss_focalloss_gamma25.0,_ptetaflavloss_focalloss_gamma25.0,_flatptetaflavloss_focalloss_gamma25.0 0.001 -1 yes no -1 no ROC"
   ]
  },
  {
   "cell_type": "code",
   "execution_count": 8,
   "metadata": {},
   "outputs": [
    {
     "name": "stdout",
     "output_type": "stream",
     "text": [
      "Evaluate training at epoch 10,10,100,100,200,200\n",
      "With weighting method _ptetaflavloss_focalloss_gamma25.0,_flatptetaflavloss_focalloss_gamma25.0,_ptetaflavloss_focalloss_gamma25.0,_flatptetaflavloss_focalloss_gamma25.0,_ptetaflavloss_focalloss_gamma25.0,_flatptetaflavloss_focalloss_gamma25.0\n",
      "gamma ['25.0', '25.0', '25.0', '25.0', '25.0', '25.0']\n",
      "alpha ['25.0', '25.0', '25.0', '25.0', '25.0', '25.0']\n",
      "epsilon ['_ptetaflavloss_focalloss_gamma25.0', '_flatptetaflavloss_focalloss_gamma25.0', '_ptetaflavloss_focalloss_gamma25.0', '_flatptetaflavloss_focalloss_gamma25.0', '_ptetaflavloss_focalloss_gamma25.0', '_flatptetaflavloss_focalloss_gamma25.0']\n",
      "test inputs done\n",
      "test targets done\n",
      "number of test inputs 13283070\n",
      "CvL\n",
      "All raw, but different weighting methods.\n",
      "Prepared matching inputs and targets for this output/discriminator.\n",
      "Predictions done.\n",
      "auc for cvl-tagging epoch 10 $p_T, \\eta$ rew. (F.L. $\\gamma=$25.0), setup CvL_raw: 0.7378801273337545\n",
      "Predictions done.\n",
      "auc for cvl-tagging epoch 10 $p_T, \\eta$ rew. (Flat, F.L. $\\gamma=$25.0), setup CvL_raw: 0.7334132790010658\n",
      "Predictions done.\n",
      "auc for cvl-tagging epoch 100 $p_T, \\eta$ rew. (F.L. $\\gamma=$25.0), setup CvL_raw: 0.7478788739992308\n",
      "Predictions done.\n",
      "auc for cvl-tagging epoch 100 $p_T, \\eta$ rew. (Flat, F.L. $\\gamma=$25.0), setup CvL_raw: 0.7459114249133741\n",
      "Predictions done.\n",
      "auc for cvl-tagging epoch 200 $p_T, \\eta$ rew. (F.L. $\\gamma=$25.0), setup CvL_raw: 0.7495151027782788\n",
      "Predictions done.\n",
      "auc for cvl-tagging epoch 200 $p_T, \\eta$ rew. (Flat, F.L. $\\gamma=$25.0), setup CvL_raw: 0.7473822475879256\n",
      "findfont: Font family ['cursive'] not found. Falling back to DejaVu Sans.\n",
      "Figure(1200x1200)\n"
     ]
    }
   ],
   "source": [
    "!python eval_roc_new.py 278 10,10,100,100,200,200 CvL_raw no _ptetaflavloss_focalloss_gamma25.0,_flatptetaflavloss_focalloss_gamma25.0,_ptetaflavloss_focalloss_gamma25.0,_flatptetaflavloss_focalloss_gamma25.0,_ptetaflavloss_focalloss_gamma25.0,_flatptetaflavloss_focalloss_gamma25.0 0.001 -1 yes no -1 no ROC"
   ]
  },
  {
   "cell_type": "markdown",
   "metadata": {},
   "source": [
    "***"
   ]
  },
  {
   "cell_type": "markdown",
   "metadata": {},
   "source": [
    "Setup for plot:\n",
    "\n",
    "No DeepCSV,\n",
    "Mini-eval,\n",
    "No additional axis,\n",
    "With log-scale (flip)"
   ]
  },
  {
   "cell_type": "code",
   "execution_count": 9,
   "metadata": {},
   "outputs": [
    {
     "name": "stdout",
     "output_type": "stream",
     "text": [
      "Evaluate training at epoch 10,10,100,100,200,200\n",
      "With weighting method _ptetaflavloss_focalloss_gamma25.0,_flatptetaflavloss_focalloss_gamma25.0,_ptetaflavloss_focalloss_gamma25.0,_flatptetaflavloss_focalloss_gamma25.0,_ptetaflavloss_focalloss_gamma25.0,_flatptetaflavloss_focalloss_gamma25.0\n",
      "gamma ['25.0', '25.0', '25.0', '25.0', '25.0', '25.0']\n",
      "alpha ['25.0', '25.0', '25.0', '25.0', '25.0', '25.0']\n",
      "epsilon ['_ptetaflavloss_focalloss_gamma25.0', '_flatptetaflavloss_focalloss_gamma25.0', '_ptetaflavloss_focalloss_gamma25.0', '_flatptetaflavloss_focalloss_gamma25.0', '_ptetaflavloss_focalloss_gamma25.0', '_flatptetaflavloss_focalloss_gamma25.0']\n",
      "test inputs done\n",
      "test targets done\n",
      "number of test inputs 13283070\n",
      "b\n",
      "All raw, but different weighting methods.\n",
      "Prepared matching inputs and targets for this output/discriminator.\n",
      "Predictions done.\n",
      "auc for b-tagging epoch 10 $p_T, \\eta$ rew. (F.L. $\\gamma=$25.0), setup b_raw: 0.9223602899433975\n",
      "Predictions done.\n",
      "auc for b-tagging epoch 10 $p_T, \\eta$ rew. (Flat, F.L. $\\gamma=$25.0), setup b_raw: 0.9087208738979051\n",
      "Predictions done.\n",
      "auc for b-tagging epoch 100 $p_T, \\eta$ rew. (F.L. $\\gamma=$25.0), setup b_raw: 0.9270856713286586\n",
      "Predictions done.\n",
      "auc for b-tagging epoch 100 $p_T, \\eta$ rew. (Flat, F.L. $\\gamma=$25.0), setup b_raw: 0.9152142731858991\n",
      "Predictions done.\n",
      "auc for b-tagging epoch 200 $p_T, \\eta$ rew. (F.L. $\\gamma=$25.0), setup b_raw: 0.9279157583881175\n",
      "Predictions done.\n",
      "auc for b-tagging epoch 200 $p_T, \\eta$ rew. (Flat, F.L. $\\gamma=$25.0), setup b_raw: 0.9153490577014761\n",
      "findfont: Font family ['cursive'] not found. Falling back to DejaVu Sans.\n",
      "Figure(1200x1200)\n"
     ]
    }
   ],
   "source": [
    "!python eval_roc_new.py 278 10,10,100,100,200,200 b_raw no _ptetaflavloss_focalloss_gamma25.0,_flatptetaflavloss_focalloss_gamma25.0,_ptetaflavloss_focalloss_gamma25.0,_flatptetaflavloss_focalloss_gamma25.0,_ptetaflavloss_focalloss_gamma25.0,_flatptetaflavloss_focalloss_gamma25.0 0.001 -1 yes no -1 yes ROC"
   ]
  },
  {
   "cell_type": "code",
   "execution_count": null,
   "metadata": {},
   "outputs": [
    {
     "name": "stdout",
     "output_type": "stream",
     "text": [
      "Evaluate training at epoch 10,10,100,100,200,200\n",
      "With weighting method _ptetaflavloss_focalloss_gamma25.0,_flatptetaflavloss_focalloss_gamma25.0,_ptetaflavloss_focalloss_gamma25.0,_flatptetaflavloss_focalloss_gamma25.0,_ptetaflavloss_focalloss_gamma25.0,_flatptetaflavloss_focalloss_gamma25.0\n",
      "gamma ['25.0', '25.0', '25.0', '25.0', '25.0', '25.0']\n",
      "alpha ['25.0', '25.0', '25.0', '25.0', '25.0', '25.0']\n",
      "epsilon ['_ptetaflavloss_focalloss_gamma25.0', '_flatptetaflavloss_focalloss_gamma25.0', '_ptetaflavloss_focalloss_gamma25.0', '_flatptetaflavloss_focalloss_gamma25.0', '_ptetaflavloss_focalloss_gamma25.0', '_flatptetaflavloss_focalloss_gamma25.0']\n",
      "test inputs done\n",
      "test targets done\n",
      "number of test inputs 13283070\n",
      "bb\n",
      "All raw, but different weighting methods.\n",
      "Prepared matching inputs and targets for this output/discriminator.\n"
     ]
    }
   ],
   "source": [
    "!python eval_roc_new.py 278 10,10,100,100,200,200 bb_raw no _ptetaflavloss_focalloss_gamma25.0,_flatptetaflavloss_focalloss_gamma25.0,_ptetaflavloss_focalloss_gamma25.0,_flatptetaflavloss_focalloss_gamma25.0,_ptetaflavloss_focalloss_gamma25.0,_flatptetaflavloss_focalloss_gamma25.0 0.001 -1 yes no -1 yes ROC"
   ]
  },
  {
   "cell_type": "code",
   "execution_count": null,
   "metadata": {},
   "outputs": [],
   "source": [
    "!python eval_roc_new.py 278 10,10,100,100,200,200 c_raw no _ptetaflavloss_focalloss_gamma25.0,_flatptetaflavloss_focalloss_gamma25.0,_ptetaflavloss_focalloss_gamma25.0,_flatptetaflavloss_focalloss_gamma25.0,_ptetaflavloss_focalloss_gamma25.0,_flatptetaflavloss_focalloss_gamma25.0 0.001 -1 yes no -1 yes ROC"
   ]
  },
  {
   "cell_type": "code",
   "execution_count": null,
   "metadata": {},
   "outputs": [],
   "source": [
    "!python eval_roc_new.py 278 10,10,100,100,200,200 udsg_raw no _ptetaflavloss_focalloss_gamma25.0,_flatptetaflavloss_focalloss_gamma25.0,_ptetaflavloss_focalloss_gamma25.0,_flatptetaflavloss_focalloss_gamma25.0,_ptetaflavloss_focalloss_gamma25.0,_flatptetaflavloss_focalloss_gamma25.0 0.001 -1 yes no -1 yes ROC"
   ]
  },
  {
   "cell_type": "code",
   "execution_count": null,
   "metadata": {},
   "outputs": [],
   "source": [
    "!python eval_roc_new.py 278 10,10,100,100,200,200 BvL_raw no _ptetaflavloss_focalloss_gamma25.0,_flatptetaflavloss_focalloss_gamma25.0,_ptetaflavloss_focalloss_gamma25.0,_flatptetaflavloss_focalloss_gamma25.0,_ptetaflavloss_focalloss_gamma25.0,_flatptetaflavloss_focalloss_gamma25.0 0.001 -1 yes no -1 yes ROC"
   ]
  },
  {
   "cell_type": "code",
   "execution_count": null,
   "metadata": {},
   "outputs": [],
   "source": [
    "!python eval_roc_new.py 278 10,10,100,100,200,200 BvC_raw no _ptetaflavloss_focalloss_gamma25.0,_flatptetaflavloss_focalloss_gamma25.0,_ptetaflavloss_focalloss_gamma25.0,_flatptetaflavloss_focalloss_gamma25.0,_ptetaflavloss_focalloss_gamma25.0,_flatptetaflavloss_focalloss_gamma25.0 0.001 -1 yes no -1 yes ROC"
   ]
  },
  {
   "cell_type": "code",
   "execution_count": null,
   "metadata": {},
   "outputs": [],
   "source": [
    "!python eval_roc_new.py 278 10,10,100,100,200,200 CvB_raw no _ptetaflavloss_focalloss_gamma25.0,_flatptetaflavloss_focalloss_gamma25.0,_ptetaflavloss_focalloss_gamma25.0,_flatptetaflavloss_focalloss_gamma25.0,_ptetaflavloss_focalloss_gamma25.0,_flatptetaflavloss_focalloss_gamma25.0 0.001 -1 yes no -1 yes ROC"
   ]
  },
  {
   "cell_type": "code",
   "execution_count": null,
   "metadata": {},
   "outputs": [],
   "source": [
    "!python eval_roc_new.py 278 10,10,100,100,200,200 CvL_raw no _ptetaflavloss_focalloss_gamma25.0,_flatptetaflavloss_focalloss_gamma25.0,_ptetaflavloss_focalloss_gamma25.0,_flatptetaflavloss_focalloss_gamma25.0,_ptetaflavloss_focalloss_gamma25.0,_flatptetaflavloss_focalloss_gamma25.0 0.001 -1 yes no -1 yes ROC"
   ]
  },
  {
   "cell_type": "markdown",
   "metadata": {},
   "source": [
    "***"
   ]
  },
  {
   "cell_type": "markdown",
   "metadata": {},
   "source": [
    "Setup for plot:\n",
    "\n",
    "No DeepCSV,\n",
    "Mini-eval,\n",
    "With additional axis,\n",
    "With log-scale (flip)"
   ]
  },
  {
   "cell_type": "code",
   "execution_count": 1,
   "metadata": {},
   "outputs": [
    {
     "name": "stdout",
     "output_type": "stream",
     "text": [
      "Evaluate training at epoch 10,10,100,100,200,200\n",
      "With weighting method _ptetaflavloss_focalloss_gamma25.0,_flatptetaflavloss_focalloss_gamma25.0,_ptetaflavloss_focalloss_gamma25.0,_flatptetaflavloss_focalloss_gamma25.0,_ptetaflavloss_focalloss_gamma25.0,_flatptetaflavloss_focalloss_gamma25.0\n",
      "gamma ['25.0', '25.0', '25.0', '25.0', '25.0', '25.0']\n",
      "alpha ['25.0', '25.0', '25.0', '25.0', '25.0', '25.0']\n",
      "epsilon ['_ptetaflavloss_focalloss_gamma25.0', '_flatptetaflavloss_focalloss_gamma25.0', '_ptetaflavloss_focalloss_gamma25.0', '_flatptetaflavloss_focalloss_gamma25.0', '_ptetaflavloss_focalloss_gamma25.0', '_flatptetaflavloss_focalloss_gamma25.0']\n",
      "test inputs done\n",
      "test targets done\n",
      "number of test inputs 13283070\n",
      "b\n",
      "All raw, but different weighting methods.\n",
      "Prepared matching inputs and targets for this output/discriminator.\n",
      "Predictions done.\n",
      "auc for b-tagging epoch 10 $p_T, \\eta$ rew. (F.L. $\\gamma=$25.0), setup b_raw: 0.9223602899433975\n",
      "Predictions done.\n",
      "auc for b-tagging epoch 10 $p_T, \\eta$ rew. (Flat, F.L. $\\gamma=$25.0), setup b_raw: 0.9087208738979051\n",
      "Predictions done.\n",
      "auc for b-tagging epoch 100 $p_T, \\eta$ rew. (F.L. $\\gamma=$25.0), setup b_raw: 0.9270856713286586\n",
      "Predictions done.\n",
      "auc for b-tagging epoch 100 $p_T, \\eta$ rew. (Flat, F.L. $\\gamma=$25.0), setup b_raw: 0.9152142731858991\n",
      "Predictions done.\n",
      "auc for b-tagging epoch 200 $p_T, \\eta$ rew. (F.L. $\\gamma=$25.0), setup b_raw: 0.9279157583881175\n",
      "Predictions done.\n",
      "auc for b-tagging epoch 200 $p_T, \\eta$ rew. (Flat, F.L. $\\gamma=$25.0), setup b_raw: 0.9153490577014761\n",
      "findfont: Font family ['cursive'] not found. Falling back to DejaVu Sans.\n",
      "Figure(1200x1200)\n"
     ]
    }
   ],
   "source": [
    "!python eval_roc_new.py 278 10,10,100,100,200,200 b_raw no _ptetaflavloss_focalloss_gamma25.0,_flatptetaflavloss_focalloss_gamma25.0,_ptetaflavloss_focalloss_gamma25.0,_flatptetaflavloss_focalloss_gamma25.0,_ptetaflavloss_focalloss_gamma25.0,_flatptetaflavloss_focalloss_gamma25.0 0.001 -1 yes yes -1 yes ROC"
   ]
  },
  {
   "cell_type": "code",
   "execution_count": 2,
   "metadata": {},
   "outputs": [
    {
     "name": "stdout",
     "output_type": "stream",
     "text": [
      "Evaluate training at epoch 10,10,100,100,200,200\n",
      "With weighting method _ptetaflavloss_focalloss_gamma25.0,_flatptetaflavloss_focalloss_gamma25.0,_ptetaflavloss_focalloss_gamma25.0,_flatptetaflavloss_focalloss_gamma25.0,_ptetaflavloss_focalloss_gamma25.0,_flatptetaflavloss_focalloss_gamma25.0\n",
      "gamma ['25.0', '25.0', '25.0', '25.0', '25.0', '25.0']\n",
      "alpha ['25.0', '25.0', '25.0', '25.0', '25.0', '25.0']\n",
      "epsilon ['_ptetaflavloss_focalloss_gamma25.0', '_flatptetaflavloss_focalloss_gamma25.0', '_ptetaflavloss_focalloss_gamma25.0', '_flatptetaflavloss_focalloss_gamma25.0', '_ptetaflavloss_focalloss_gamma25.0', '_flatptetaflavloss_focalloss_gamma25.0']\n",
      "test inputs done\n",
      "test targets done\n",
      "number of test inputs 13283070\n",
      "bb\n",
      "All raw, but different weighting methods.\n",
      "Prepared matching inputs and targets for this output/discriminator.\n",
      "Predictions done.\n",
      "auc for bb-tagging epoch 10 $p_T, \\eta$ rew. (F.L. $\\gamma=$25.0), setup bb_raw: 0.9446247966697879\n",
      "Predictions done.\n",
      "auc for bb-tagging epoch 10 $p_T, \\eta$ rew. (Flat, F.L. $\\gamma=$25.0), setup bb_raw: 0.9415664196973231\n",
      "Predictions done.\n",
      "auc for bb-tagging epoch 100 $p_T, \\eta$ rew. (F.L. $\\gamma=$25.0), setup bb_raw: 0.9483283933387756\n",
      "Predictions done.\n",
      "auc for bb-tagging epoch 100 $p_T, \\eta$ rew. (Flat, F.L. $\\gamma=$25.0), setup bb_raw: 0.9456859242312253\n",
      "Predictions done.\n",
      "auc for bb-tagging epoch 200 $p_T, \\eta$ rew. (F.L. $\\gamma=$25.0), setup bb_raw: 0.949183328890535\n",
      "Predictions done.\n",
      "auc for bb-tagging epoch 200 $p_T, \\eta$ rew. (Flat, F.L. $\\gamma=$25.0), setup bb_raw: 0.9461426764742743\n",
      "findfont: Font family ['cursive'] not found. Falling back to DejaVu Sans.\n",
      "Figure(1200x1200)\n"
     ]
    }
   ],
   "source": [
    "!python eval_roc_new.py 278 10,10,100,100,200,200 bb_raw no _ptetaflavloss_focalloss_gamma25.0,_flatptetaflavloss_focalloss_gamma25.0,_ptetaflavloss_focalloss_gamma25.0,_flatptetaflavloss_focalloss_gamma25.0,_ptetaflavloss_focalloss_gamma25.0,_flatptetaflavloss_focalloss_gamma25.0 0.001 -1 yes yes -1 yes ROC"
   ]
  },
  {
   "cell_type": "code",
   "execution_count": 3,
   "metadata": {},
   "outputs": [
    {
     "name": "stdout",
     "output_type": "stream",
     "text": [
      "Evaluate training at epoch 10,10,100,100,200,200\n",
      "With weighting method _ptetaflavloss_focalloss_gamma25.0,_flatptetaflavloss_focalloss_gamma25.0,_ptetaflavloss_focalloss_gamma25.0,_flatptetaflavloss_focalloss_gamma25.0,_ptetaflavloss_focalloss_gamma25.0,_flatptetaflavloss_focalloss_gamma25.0\n",
      "gamma ['25.0', '25.0', '25.0', '25.0', '25.0', '25.0']\n",
      "alpha ['25.0', '25.0', '25.0', '25.0', '25.0', '25.0']\n",
      "epsilon ['_ptetaflavloss_focalloss_gamma25.0', '_flatptetaflavloss_focalloss_gamma25.0', '_ptetaflavloss_focalloss_gamma25.0', '_flatptetaflavloss_focalloss_gamma25.0', '_ptetaflavloss_focalloss_gamma25.0', '_flatptetaflavloss_focalloss_gamma25.0']\n",
      "test inputs done\n",
      "test targets done\n",
      "number of test inputs 13283070\n",
      "c\n",
      "All raw, but different weighting methods.\n",
      "Prepared matching inputs and targets for this output/discriminator.\n",
      "Predictions done.\n",
      "auc for c-tagging epoch 10 $p_T, \\eta$ rew. (F.L. $\\gamma=$25.0), setup c_raw: 0.5113990227876547\n",
      "Predictions done.\n",
      "auc for c-tagging epoch 10 $p_T, \\eta$ rew. (Flat, F.L. $\\gamma=$25.0), setup c_raw: 0.5060716324384165\n",
      "Predictions done.\n",
      "auc for c-tagging epoch 100 $p_T, \\eta$ rew. (F.L. $\\gamma=$25.0), setup c_raw: 0.5320432237365436\n",
      "Predictions done.\n",
      "auc for c-tagging epoch 100 $p_T, \\eta$ rew. (Flat, F.L. $\\gamma=$25.0), setup c_raw: 0.5281516960716445\n",
      "Predictions done.\n",
      "auc for c-tagging epoch 200 $p_T, \\eta$ rew. (F.L. $\\gamma=$25.0), setup c_raw: 0.535912067277592\n",
      "Predictions done.\n",
      "auc for c-tagging epoch 200 $p_T, \\eta$ rew. (Flat, F.L. $\\gamma=$25.0), setup c_raw: 0.5301656541345026\n",
      "findfont: Font family ['cursive'] not found. Falling back to DejaVu Sans.\n",
      "Figure(1200x1200)\n"
     ]
    }
   ],
   "source": [
    "!python eval_roc_new.py 278 10,10,100,100,200,200 c_raw no _ptetaflavloss_focalloss_gamma25.0,_flatptetaflavloss_focalloss_gamma25.0,_ptetaflavloss_focalloss_gamma25.0,_flatptetaflavloss_focalloss_gamma25.0,_ptetaflavloss_focalloss_gamma25.0,_flatptetaflavloss_focalloss_gamma25.0 0.001 -1 yes yes -1 yes ROC"
   ]
  },
  {
   "cell_type": "code",
   "execution_count": 4,
   "metadata": {},
   "outputs": [
    {
     "name": "stdout",
     "output_type": "stream",
     "text": [
      "Evaluate training at epoch 10,10,100,100,200,200\n",
      "With weighting method _ptetaflavloss_focalloss_gamma25.0,_flatptetaflavloss_focalloss_gamma25.0,_ptetaflavloss_focalloss_gamma25.0,_flatptetaflavloss_focalloss_gamma25.0,_ptetaflavloss_focalloss_gamma25.0,_flatptetaflavloss_focalloss_gamma25.0\n",
      "gamma ['25.0', '25.0', '25.0', '25.0', '25.0', '25.0']\n",
      "alpha ['25.0', '25.0', '25.0', '25.0', '25.0', '25.0']\n",
      "epsilon ['_ptetaflavloss_focalloss_gamma25.0', '_flatptetaflavloss_focalloss_gamma25.0', '_ptetaflavloss_focalloss_gamma25.0', '_flatptetaflavloss_focalloss_gamma25.0', '_ptetaflavloss_focalloss_gamma25.0', '_flatptetaflavloss_focalloss_gamma25.0']\n",
      "test inputs done\n",
      "test targets done\n",
      "number of test inputs 13283070\n",
      "udsg\n",
      "All raw, but different weighting methods.\n",
      "Prepared matching inputs and targets for this output/discriminator.\n",
      "Predictions done.\n",
      "auc for udsg-tagging epoch 10 $p_T, \\eta$ rew. (F.L. $\\gamma=$25.0), setup udsg_raw: 0.846588053956517\n",
      "Predictions done.\n",
      "auc for udsg-tagging epoch 10 $p_T, \\eta$ rew. (Flat, F.L. $\\gamma=$25.0), setup udsg_raw: 0.8440921176766532\n",
      "Predictions done.\n",
      "auc for udsg-tagging epoch 100 $p_T, \\eta$ rew. (F.L. $\\gamma=$25.0), setup udsg_raw: 0.853057707826037\n",
      "Predictions done.\n",
      "auc for udsg-tagging epoch 100 $p_T, \\eta$ rew. (Flat, F.L. $\\gamma=$25.0), setup udsg_raw: 0.8516809355238849\n",
      "Predictions done.\n",
      "auc for udsg-tagging epoch 200 $p_T, \\eta$ rew. (F.L. $\\gamma=$25.0), setup udsg_raw: 0.8538680707680908\n",
      "Predictions done.\n",
      "auc for udsg-tagging epoch 200 $p_T, \\eta$ rew. (Flat, F.L. $\\gamma=$25.0), setup udsg_raw: 0.8524051593345077\n",
      "findfont: Font family ['cursive'] not found. Falling back to DejaVu Sans.\n",
      "Figure(1200x1200)\n"
     ]
    }
   ],
   "source": [
    "!python eval_roc_new.py 278 10,10,100,100,200,200 udsg_raw no _ptetaflavloss_focalloss_gamma25.0,_flatptetaflavloss_focalloss_gamma25.0,_ptetaflavloss_focalloss_gamma25.0,_flatptetaflavloss_focalloss_gamma25.0,_ptetaflavloss_focalloss_gamma25.0,_flatptetaflavloss_focalloss_gamma25.0 0.001 -1 yes yes -1 yes ROC"
   ]
  },
  {
   "cell_type": "code",
   "execution_count": 5,
   "metadata": {},
   "outputs": [
    {
     "name": "stdout",
     "output_type": "stream",
     "text": [
      "Evaluate training at epoch 10,10,100,100,200,200\n",
      "With weighting method _ptetaflavloss_focalloss_gamma25.0,_flatptetaflavloss_focalloss_gamma25.0,_ptetaflavloss_focalloss_gamma25.0,_flatptetaflavloss_focalloss_gamma25.0,_ptetaflavloss_focalloss_gamma25.0,_flatptetaflavloss_focalloss_gamma25.0\n",
      "gamma ['25.0', '25.0', '25.0', '25.0', '25.0', '25.0']\n",
      "alpha ['25.0', '25.0', '25.0', '25.0', '25.0', '25.0']\n",
      "epsilon ['_ptetaflavloss_focalloss_gamma25.0', '_flatptetaflavloss_focalloss_gamma25.0', '_ptetaflavloss_focalloss_gamma25.0', '_flatptetaflavloss_focalloss_gamma25.0', '_ptetaflavloss_focalloss_gamma25.0', '_flatptetaflavloss_focalloss_gamma25.0']\n",
      "test inputs done\n",
      "test targets done\n",
      "number of test inputs 13283070\n",
      "BvL\n",
      "All raw, but different weighting methods.\n",
      "Prepared matching inputs and targets for this output/discriminator.\n",
      "Predictions done.\n",
      "auc for bvl-tagging epoch 10 $p_T, \\eta$ rew. (F.L. $\\gamma=$25.0), setup BvL_raw: 0.9424025827237164\n",
      "Predictions done.\n",
      "auc for bvl-tagging epoch 10 $p_T, \\eta$ rew. (Flat, F.L. $\\gamma=$25.0), setup BvL_raw: 0.9408818370097256\n",
      "Predictions done.\n",
      "auc for bvl-tagging epoch 100 $p_T, \\eta$ rew. (F.L. $\\gamma=$25.0), setup BvL_raw: 0.9467892045744443\n",
      "Predictions done.\n",
      "auc for bvl-tagging epoch 100 $p_T, \\eta$ rew. (Flat, F.L. $\\gamma=$25.0), setup BvL_raw: 0.9458377526021297\n",
      "Predictions done.\n",
      "auc for bvl-tagging epoch 200 $p_T, \\eta$ rew. (F.L. $\\gamma=$25.0), setup BvL_raw: 0.947256066778877\n",
      "Predictions done.\n",
      "auc for bvl-tagging epoch 200 $p_T, \\eta$ rew. (Flat, F.L. $\\gamma=$25.0), setup BvL_raw: 0.9462233522739932\n",
      "findfont: Font family ['cursive'] not found. Falling back to DejaVu Sans.\n",
      "Figure(1200x1200)\n"
     ]
    }
   ],
   "source": [
    "!python eval_roc_new.py 278 10,10,100,100,200,200 BvL_raw no _ptetaflavloss_focalloss_gamma25.0,_flatptetaflavloss_focalloss_gamma25.0,_ptetaflavloss_focalloss_gamma25.0,_flatptetaflavloss_focalloss_gamma25.0,_ptetaflavloss_focalloss_gamma25.0,_flatptetaflavloss_focalloss_gamma25.0 0.001 -1 yes yes -1 yes ROC"
   ]
  },
  {
   "cell_type": "code",
   "execution_count": 6,
   "metadata": {},
   "outputs": [
    {
     "name": "stdout",
     "output_type": "stream",
     "text": [
      "Evaluate training at epoch 10,10,100,100,200,200\n",
      "With weighting method _ptetaflavloss_focalloss_gamma25.0,_flatptetaflavloss_focalloss_gamma25.0,_ptetaflavloss_focalloss_gamma25.0,_flatptetaflavloss_focalloss_gamma25.0,_ptetaflavloss_focalloss_gamma25.0,_flatptetaflavloss_focalloss_gamma25.0\n",
      "gamma ['25.0', '25.0', '25.0', '25.0', '25.0', '25.0']\n",
      "alpha ['25.0', '25.0', '25.0', '25.0', '25.0', '25.0']\n",
      "epsilon ['_ptetaflavloss_focalloss_gamma25.0', '_flatptetaflavloss_focalloss_gamma25.0', '_ptetaflavloss_focalloss_gamma25.0', '_flatptetaflavloss_focalloss_gamma25.0', '_ptetaflavloss_focalloss_gamma25.0', '_flatptetaflavloss_focalloss_gamma25.0']\n",
      "test inputs done\n",
      "test targets done\n",
      "number of test inputs 13283070\n",
      "BvC\n",
      "All raw, but different weighting methods.\n",
      "Prepared matching inputs and targets for this output/discriminator.\n",
      "Predictions done.\n",
      "auc for bvc-tagging epoch 10 $p_T, \\eta$ rew. (F.L. $\\gamma=$25.0), setup BvC_raw: 0.8562684981526606\n",
      "Predictions done.\n",
      "auc for bvc-tagging epoch 10 $p_T, \\eta$ rew. (Flat, F.L. $\\gamma=$25.0), setup BvC_raw: 0.8534278777261989\n",
      "Predictions done.\n",
      "auc for bvc-tagging epoch 100 $p_T, \\eta$ rew. (F.L. $\\gamma=$25.0), setup BvC_raw: 0.8653889630109288\n",
      "Predictions done.\n",
      "auc for bvc-tagging epoch 100 $p_T, \\eta$ rew. (Flat, F.L. $\\gamma=$25.0), setup BvC_raw: 0.8642824093442527\n",
      "Predictions done.\n",
      "auc for bvc-tagging epoch 200 $p_T, \\eta$ rew. (F.L. $\\gamma=$25.0), setup BvC_raw: 0.8663511544015304\n",
      "Predictions done.\n",
      "auc for bvc-tagging epoch 200 $p_T, \\eta$ rew. (Flat, F.L. $\\gamma=$25.0), setup BvC_raw: 0.8652831026987111\n",
      "findfont: Font family ['cursive'] not found. Falling back to DejaVu Sans.\n",
      "Figure(1200x1200)\n"
     ]
    }
   ],
   "source": [
    "!python eval_roc_new.py 278 10,10,100,100,200,200 BvC_raw no _ptetaflavloss_focalloss_gamma25.0,_flatptetaflavloss_focalloss_gamma25.0,_ptetaflavloss_focalloss_gamma25.0,_flatptetaflavloss_focalloss_gamma25.0,_ptetaflavloss_focalloss_gamma25.0,_flatptetaflavloss_focalloss_gamma25.0 0.001 -1 yes yes -1 yes ROC"
   ]
  },
  {
   "cell_type": "code",
   "execution_count": 7,
   "metadata": {},
   "outputs": [
    {
     "name": "stdout",
     "output_type": "stream",
     "text": [
      "Evaluate training at epoch 10,10,100,100,200,200\n",
      "With weighting method _ptetaflavloss_focalloss_gamma25.0,_flatptetaflavloss_focalloss_gamma25.0,_ptetaflavloss_focalloss_gamma25.0,_flatptetaflavloss_focalloss_gamma25.0,_ptetaflavloss_focalloss_gamma25.0,_flatptetaflavloss_focalloss_gamma25.0\n",
      "gamma ['25.0', '25.0', '25.0', '25.0', '25.0', '25.0']\n",
      "alpha ['25.0', '25.0', '25.0', '25.0', '25.0', '25.0']\n",
      "epsilon ['_ptetaflavloss_focalloss_gamma25.0', '_flatptetaflavloss_focalloss_gamma25.0', '_ptetaflavloss_focalloss_gamma25.0', '_flatptetaflavloss_focalloss_gamma25.0', '_ptetaflavloss_focalloss_gamma25.0', '_flatptetaflavloss_focalloss_gamma25.0']\n",
      "test inputs done\n",
      "test targets done\n",
      "number of test inputs 13283070\n",
      "CvB\n",
      "All raw, but different weighting methods.\n",
      "Prepared matching inputs and targets for this output/discriminator.\n",
      "Predictions done.\n",
      "auc for cvb-tagging epoch 10 $p_T, \\eta$ rew. (F.L. $\\gamma=$25.0), setup CvB_raw: 0.8562684982258016\n",
      "Predictions done.\n",
      "auc for cvb-tagging epoch 10 $p_T, \\eta$ rew. (Flat, F.L. $\\gamma=$25.0), setup CvB_raw: 0.8534278775554176\n",
      "Predictions done.\n",
      "auc for cvb-tagging epoch 100 $p_T, \\eta$ rew. (F.L. $\\gamma=$25.0), setup CvB_raw: 0.8653889667592449\n",
      "Predictions done.\n",
      "auc for cvb-tagging epoch 100 $p_T, \\eta$ rew. (Flat, F.L. $\\gamma=$25.0), setup CvB_raw: 0.8642824084875047\n",
      "Predictions done.\n",
      "auc for cvb-tagging epoch 200 $p_T, \\eta$ rew. (F.L. $\\gamma=$25.0), setup CvB_raw: 0.8663511767849073\n",
      "Predictions done.\n",
      "auc for cvb-tagging epoch 200 $p_T, \\eta$ rew. (Flat, F.L. $\\gamma=$25.0), setup CvB_raw: 0.8652831071823457\n",
      "findfont: Font family ['cursive'] not found. Falling back to DejaVu Sans.\n",
      "Figure(1200x1200)\n"
     ]
    }
   ],
   "source": [
    "!python eval_roc_new.py 278 10,10,100,100,200,200 CvB_raw no _ptetaflavloss_focalloss_gamma25.0,_flatptetaflavloss_focalloss_gamma25.0,_ptetaflavloss_focalloss_gamma25.0,_flatptetaflavloss_focalloss_gamma25.0,_ptetaflavloss_focalloss_gamma25.0,_flatptetaflavloss_focalloss_gamma25.0 0.001 -1 yes yes -1 yes ROC"
   ]
  },
  {
   "cell_type": "code",
   "execution_count": 8,
   "metadata": {},
   "outputs": [
    {
     "name": "stdout",
     "output_type": "stream",
     "text": [
      "Evaluate training at epoch 10,10,100,100,200,200\n",
      "With weighting method _ptetaflavloss_focalloss_gamma25.0,_flatptetaflavloss_focalloss_gamma25.0,_ptetaflavloss_focalloss_gamma25.0,_flatptetaflavloss_focalloss_gamma25.0,_ptetaflavloss_focalloss_gamma25.0,_flatptetaflavloss_focalloss_gamma25.0\n",
      "gamma ['25.0', '25.0', '25.0', '25.0', '25.0', '25.0']\n",
      "alpha ['25.0', '25.0', '25.0', '25.0', '25.0', '25.0']\n",
      "epsilon ['_ptetaflavloss_focalloss_gamma25.0', '_flatptetaflavloss_focalloss_gamma25.0', '_ptetaflavloss_focalloss_gamma25.0', '_flatptetaflavloss_focalloss_gamma25.0', '_ptetaflavloss_focalloss_gamma25.0', '_flatptetaflavloss_focalloss_gamma25.0']\n",
      "test inputs done\n",
      "test targets done\n",
      "number of test inputs 13283070\n",
      "CvL\n",
      "All raw, but different weighting methods.\n",
      "Prepared matching inputs and targets for this output/discriminator.\n",
      "Predictions done.\n",
      "auc for cvl-tagging epoch 10 $p_T, \\eta$ rew. (F.L. $\\gamma=$25.0), setup CvL_raw: 0.7378801273337545\n",
      "Predictions done.\n",
      "auc for cvl-tagging epoch 10 $p_T, \\eta$ rew. (Flat, F.L. $\\gamma=$25.0), setup CvL_raw: 0.7334132790010658\n",
      "Predictions done.\n",
      "auc for cvl-tagging epoch 100 $p_T, \\eta$ rew. (F.L. $\\gamma=$25.0), setup CvL_raw: 0.7478788739992308\n",
      "Predictions done.\n",
      "auc for cvl-tagging epoch 100 $p_T, \\eta$ rew. (Flat, F.L. $\\gamma=$25.0), setup CvL_raw: 0.7459114249133741\n",
      "Predictions done.\n",
      "auc for cvl-tagging epoch 200 $p_T, \\eta$ rew. (F.L. $\\gamma=$25.0), setup CvL_raw: 0.7495151027782788\n",
      "Predictions done.\n",
      "auc for cvl-tagging epoch 200 $p_T, \\eta$ rew. (Flat, F.L. $\\gamma=$25.0), setup CvL_raw: 0.7473822475879256\n",
      "findfont: Font family ['cursive'] not found. Falling back to DejaVu Sans.\n",
      "Figure(1200x1200)\n"
     ]
    }
   ],
   "source": [
    "!python eval_roc_new.py 278 10,10,100,100,200,200 CvL_raw no _ptetaflavloss_focalloss_gamma25.0,_flatptetaflavloss_focalloss_gamma25.0,_ptetaflavloss_focalloss_gamma25.0,_flatptetaflavloss_focalloss_gamma25.0,_ptetaflavloss_focalloss_gamma25.0,_flatptetaflavloss_focalloss_gamma25.0 0.001 -1 yes yes -1 yes ROC"
   ]
  },
  {
   "cell_type": "markdown",
   "metadata": {},
   "source": [
    "***\n",
    "***"
   ]
  },
  {
   "cell_type": "markdown",
   "metadata": {},
   "source": [
    "## Different gamma for Focal Loss\n",
    "### Not flat and flat\n",
    "***"
   ]
  },
  {
   "cell_type": "markdown",
   "metadata": {},
   "source": [
    "Setup for plot:\n",
    "\n",
    "With DeepCSV,\n",
    "Mini-eval,\n",
    "No additional axis,\n",
    "No log-scale (flip)"
   ]
  },
  {
   "cell_type": "code",
   "execution_count": 35,
   "metadata": {},
   "outputs": [
    {
     "name": "stdout",
     "output_type": "stream",
     "text": [
      "Evaluate training at epoch 200,200,200,200\n",
      "With weighting method _ptetaflavloss_focalloss,_flatptetaflavloss_focalloss,_ptetaflavloss_focalloss_gamma25.0,_flatptetaflavloss_focalloss_gamma25.0\n",
      "gamma ['_ptetaflavloss_focalloss', '_flatptetaflavloss_focalloss', '25.0', '25.0']\n",
      "alpha ['_ptetaflavloss_focalloss', '_flatptetaflavloss_focalloss', '25.0', '25.0']\n",
      "epsilon ['_ptetaflavloss_focalloss', '_flatptetaflavloss_focalloss', '_ptetaflavloss_focalloss_gamma25.0', '_flatptetaflavloss_focalloss_gamma25.0']\n",
      "test inputs done\n",
      "test targets done\n",
      "number of test inputs 13283070\n",
      "b\n",
      "All raw, but different weighting methods.\n",
      "DeepCSV test done\n",
      "Prepared matching inputs and targets for this output/discriminator.\n",
      "Predictions done.\n",
      "auc for b-tagging epoch 200 $p_T, \\eta$ rew. (F.L. $\\gamma=$2.0), setup b_raw: 0.9195867978851772\n",
      "Predictions done.\n",
      "auc for b-tagging epoch 200 $p_T, \\eta$ rew. (Flat, F.L. $\\gamma=$2.0), setup b_raw: 0.9081618998301776\n",
      "Predictions done.\n",
      "auc for b-tagging epoch 200 $p_T, \\eta$ rew. (F.L. $\\gamma=$25.0), setup b_raw: 0.9279157583881175\n",
      "Predictions done.\n",
      "auc for b-tagging epoch 200 $p_T, \\eta$ rew. (Flat, F.L. $\\gamma=$25.0), setup b_raw: 0.9153490577014761\n",
      "auc for b-tagging DeepCSV: 0.9324704215613766\n",
      "findfont: Font family ['cursive'] not found. Falling back to DejaVu Sans.\n",
      "Figure(1200x1200)\n"
     ]
    }
   ],
   "source": [
    "!python eval_roc_new.py 278 200,200,200,200 b_raw yes _ptetaflavloss_focalloss,_flatptetaflavloss_focalloss,_ptetaflavloss_focalloss_gamma25.0,_flatptetaflavloss_focalloss_gamma25.0 0.001 -1 yes no -1 no ROC"
   ]
  },
  {
   "cell_type": "code",
   "execution_count": 36,
   "metadata": {},
   "outputs": [
    {
     "name": "stdout",
     "output_type": "stream",
     "text": [
      "Evaluate training at epoch 200,200,200,200\n",
      "With weighting method _ptetaflavloss_focalloss,_flatptetaflavloss_focalloss,_ptetaflavloss_focalloss_gamma25.0,_flatptetaflavloss_focalloss_gamma25.0\n",
      "gamma ['_ptetaflavloss_focalloss', '_flatptetaflavloss_focalloss', '25.0', '25.0']\n",
      "alpha ['_ptetaflavloss_focalloss', '_flatptetaflavloss_focalloss', '25.0', '25.0']\n",
      "epsilon ['_ptetaflavloss_focalloss', '_flatptetaflavloss_focalloss', '_ptetaflavloss_focalloss_gamma25.0', '_flatptetaflavloss_focalloss_gamma25.0']\n",
      "test inputs done\n",
      "test targets done\n",
      "number of test inputs 13283070\n",
      "bb\n",
      "All raw, but different weighting methods.\n",
      "DeepCSV test done\n",
      "Prepared matching inputs and targets for this output/discriminator.\n",
      "Predictions done.\n",
      "auc for bb-tagging epoch 200 $p_T, \\eta$ rew. (F.L. $\\gamma=$2.0), setup bb_raw: 0.9500314237760703\n",
      "Predictions done.\n",
      "auc for bb-tagging epoch 200 $p_T, \\eta$ rew. (Flat, F.L. $\\gamma=$2.0), setup bb_raw: 0.947445933605419\n",
      "Predictions done.\n",
      "auc for bb-tagging epoch 200 $p_T, \\eta$ rew. (F.L. $\\gamma=$25.0), setup bb_raw: 0.949183328890535\n",
      "Predictions done.\n",
      "auc for bb-tagging epoch 200 $p_T, \\eta$ rew. (Flat, F.L. $\\gamma=$25.0), setup bb_raw: 0.9461426764742743\n",
      "auc for bb-tagging DeepCSV: 0.9533279357676674\n",
      "findfont: Font family ['cursive'] not found. Falling back to DejaVu Sans.\n",
      "Figure(1200x1200)\n"
     ]
    }
   ],
   "source": [
    "!python eval_roc_new.py 278 200,200,200,200 bb_raw yes _ptetaflavloss_focalloss,_flatptetaflavloss_focalloss,_ptetaflavloss_focalloss_gamma25.0,_flatptetaflavloss_focalloss_gamma25.0 0.001 -1 yes no -1 no ROC"
   ]
  },
  {
   "cell_type": "code",
   "execution_count": 37,
   "metadata": {},
   "outputs": [
    {
     "name": "stdout",
     "output_type": "stream",
     "text": [
      "Evaluate training at epoch 200,200,200,200\n",
      "With weighting method _ptetaflavloss_focalloss,_flatptetaflavloss_focalloss,_ptetaflavloss_focalloss_gamma25.0,_flatptetaflavloss_focalloss_gamma25.0\n",
      "gamma ['_ptetaflavloss_focalloss', '_flatptetaflavloss_focalloss', '25.0', '25.0']\n",
      "alpha ['_ptetaflavloss_focalloss', '_flatptetaflavloss_focalloss', '25.0', '25.0']\n",
      "epsilon ['_ptetaflavloss_focalloss', '_flatptetaflavloss_focalloss', '_ptetaflavloss_focalloss_gamma25.0', '_flatptetaflavloss_focalloss_gamma25.0']\n",
      "test inputs done\n",
      "test targets done\n",
      "number of test inputs 13283070\n",
      "c\n",
      "All raw, but different weighting methods.\n",
      "DeepCSV test done\n",
      "Prepared matching inputs and targets for this output/discriminator.\n",
      "Predictions done.\n",
      "auc for c-tagging epoch 200 $p_T, \\eta$ rew. (F.L. $\\gamma=$2.0), setup c_raw: 0.6830990779391097\n",
      "Predictions done.\n",
      "auc for c-tagging epoch 200 $p_T, \\eta$ rew. (Flat, F.L. $\\gamma=$2.0), setup c_raw: 0.6818956722694662\n",
      "Predictions done.\n",
      "auc for c-tagging epoch 200 $p_T, \\eta$ rew. (F.L. $\\gamma=$25.0), setup c_raw: 0.535912067277592\n",
      "Predictions done.\n",
      "auc for c-tagging epoch 200 $p_T, \\eta$ rew. (Flat, F.L. $\\gamma=$25.0), setup c_raw: 0.5301656541345026\n",
      "auc for c-tagging DeepCSV: 0.720592283219137\n",
      "findfont: Font family ['cursive'] not found. Falling back to DejaVu Sans.\n",
      "Figure(1200x1200)\n"
     ]
    }
   ],
   "source": [
    "!python eval_roc_new.py 278 200,200,200,200 c_raw yes _ptetaflavloss_focalloss,_flatptetaflavloss_focalloss,_ptetaflavloss_focalloss_gamma25.0,_flatptetaflavloss_focalloss_gamma25.0 0.001 -1 yes no -1 no ROC"
   ]
  },
  {
   "cell_type": "code",
   "execution_count": 30,
   "metadata": {},
   "outputs": [
    {
     "name": "stdout",
     "output_type": "stream",
     "text": [
      "Evaluate training at epoch 200,200,200,200\n",
      "With weighting method _ptetaflavloss_focalloss,_flatptetaflavloss_focalloss,_ptetaflavloss_focalloss_gamma25.0,_flatptetaflavloss_focalloss_gamma25.0\n",
      "gamma ['_ptetaflavloss_focalloss', '_flatptetaflavloss_focalloss', '25.0', '25.0']\n",
      "alpha ['_ptetaflavloss_focalloss', '_flatptetaflavloss_focalloss', '25.0', '25.0']\n",
      "epsilon ['_ptetaflavloss_focalloss', '_flatptetaflavloss_focalloss', '_ptetaflavloss_focalloss_gamma25.0', '_flatptetaflavloss_focalloss_gamma25.0']\n",
      "test inputs done\n",
      "test targets done\n",
      "number of test inputs 13283070\n",
      "udsg\n",
      "All raw, but different weighting methods.\n",
      "DeepCSV test done\n",
      "Prepared matching inputs and targets for this output/discriminator.\n",
      "Predictions done.\n",
      "auc for udsg-tagging epoch 200 $p_T, \\eta$ rew. (F.L. $\\gamma=$2.0), setup udsg_raw: 0.8608048716010357\n",
      "Predictions done.\n",
      "auc for udsg-tagging epoch 200 $p_T, \\eta$ rew. (Flat, F.L. $\\gamma=$2.0), setup udsg_raw: 0.8589854969566092\n",
      "Predictions done.\n",
      "auc for udsg-tagging epoch 200 $p_T, \\eta$ rew. (F.L. $\\gamma=$25.0), setup udsg_raw: 0.8538680707680908\n",
      "Predictions done.\n",
      "auc for udsg-tagging epoch 200 $p_T, \\eta$ rew. (Flat, F.L. $\\gamma=$25.0), setup udsg_raw: 0.8524051593345077\n",
      "auc for udsg-tagging DeepCSV: 0.8423692981036903\n",
      "findfont: Font family ['cursive'] not found. Falling back to DejaVu Sans.\n",
      "Figure(1200x1200)\n"
     ]
    }
   ],
   "source": [
    "!python eval_roc_new.py 278 200,200,200,200 udsg_raw yes _ptetaflavloss_focalloss,_flatptetaflavloss_focalloss,_ptetaflavloss_focalloss_gamma25.0,_flatptetaflavloss_focalloss_gamma25.0 0.001 -1 yes no -1 no ROC"
   ]
  },
  {
   "cell_type": "code",
   "execution_count": 31,
   "metadata": {},
   "outputs": [
    {
     "name": "stdout",
     "output_type": "stream",
     "text": [
      "Evaluate training at epoch 200,200,200,200\n",
      "With weighting method _ptetaflavloss_focalloss,_flatptetaflavloss_focalloss,_ptetaflavloss_focalloss_gamma25.0,_flatptetaflavloss_focalloss_gamma25.0\n",
      "gamma ['_ptetaflavloss_focalloss', '_flatptetaflavloss_focalloss', '25.0', '25.0']\n",
      "alpha ['_ptetaflavloss_focalloss', '_flatptetaflavloss_focalloss', '25.0', '25.0']\n",
      "epsilon ['_ptetaflavloss_focalloss', '_flatptetaflavloss_focalloss', '_ptetaflavloss_focalloss_gamma25.0', '_flatptetaflavloss_focalloss_gamma25.0']\n",
      "test inputs done\n",
      "test targets done\n",
      "number of test inputs 13283070\n",
      "BvL\n",
      "All raw, but different weighting methods.\n",
      "DeepCSV test done\n",
      "Prepared matching inputs and targets for this output/discriminator.\n",
      "Predictions done.\n",
      "auc for bvl-tagging epoch 200 $p_T, \\eta$ rew. (F.L. $\\gamma=$2.0), setup BvL_raw: 0.946002141557919\n",
      "Predictions done.\n",
      "auc for bvl-tagging epoch 200 $p_T, \\eta$ rew. (Flat, F.L. $\\gamma=$2.0), setup BvL_raw: 0.9438009118273255\n",
      "Predictions done.\n",
      "auc for bvl-tagging epoch 200 $p_T, \\eta$ rew. (F.L. $\\gamma=$25.0), setup BvL_raw: 0.947256066778877\n",
      "Predictions done.\n",
      "auc for bvl-tagging epoch 200 $p_T, \\eta$ rew. (Flat, F.L. $\\gamma=$25.0), setup BvL_raw: 0.9462233522739932\n",
      "auc for bvl-tagging DeepCSV: 0.9503456826671651\n",
      "findfont: Font family ['cursive'] not found. Falling back to DejaVu Sans.\n",
      "Figure(1200x1200)\n"
     ]
    }
   ],
   "source": [
    "!python eval_roc_new.py 278 200,200,200,200 BvL_raw yes _ptetaflavloss_focalloss,_flatptetaflavloss_focalloss,_ptetaflavloss_focalloss_gamma25.0,_flatptetaflavloss_focalloss_gamma25.0 0.001 -1 yes no -1 no ROC"
   ]
  },
  {
   "cell_type": "code",
   "execution_count": 32,
   "metadata": {},
   "outputs": [
    {
     "name": "stdout",
     "output_type": "stream",
     "text": [
      "Evaluate training at epoch 200,200,200,200\n",
      "With weighting method _ptetaflavloss_focalloss,_flatptetaflavloss_focalloss,_ptetaflavloss_focalloss_gamma25.0,_flatptetaflavloss_focalloss_gamma25.0\n",
      "gamma ['_ptetaflavloss_focalloss', '_flatptetaflavloss_focalloss', '25.0', '25.0']\n",
      "alpha ['_ptetaflavloss_focalloss', '_flatptetaflavloss_focalloss', '25.0', '25.0']\n",
      "epsilon ['_ptetaflavloss_focalloss', '_flatptetaflavloss_focalloss', '_ptetaflavloss_focalloss_gamma25.0', '_flatptetaflavloss_focalloss_gamma25.0']\n",
      "test inputs done\n",
      "test targets done\n",
      "number of test inputs 13283070\n",
      "BvC\n",
      "All raw, but different weighting methods.\n",
      "DeepCSV test done\n",
      "Prepared matching inputs and targets for this output/discriminator.\n",
      "Predictions done.\n",
      "auc for bvc-tagging epoch 200 $p_T, \\eta$ rew. (F.L. $\\gamma=$2.0), setup BvC_raw: 0.8641959747143392\n",
      "Predictions done.\n",
      "auc for bvc-tagging epoch 200 $p_T, \\eta$ rew. (Flat, F.L. $\\gamma=$2.0), setup BvC_raw: 0.8611402253875071\n",
      "Predictions done.\n",
      "auc for bvc-tagging epoch 200 $p_T, \\eta$ rew. (F.L. $\\gamma=$25.0), setup BvC_raw: 0.8663511544015304\n",
      "Predictions done.\n",
      "auc for bvc-tagging epoch 200 $p_T, \\eta$ rew. (Flat, F.L. $\\gamma=$25.0), setup BvC_raw: 0.8652831026987111\n",
      "auc for bvc-tagging DeepCSV: 0.873600086078701\n",
      "findfont: Font family ['cursive'] not found. Falling back to DejaVu Sans.\n",
      "Figure(1200x1200)\n"
     ]
    }
   ],
   "source": [
    "!python eval_roc_new.py 278 200,200,200,200 BvC_raw yes _ptetaflavloss_focalloss,_flatptetaflavloss_focalloss,_ptetaflavloss_focalloss_gamma25.0,_flatptetaflavloss_focalloss_gamma25.0 0.001 -1 yes no -1 no ROC"
   ]
  },
  {
   "cell_type": "code",
   "execution_count": 33,
   "metadata": {},
   "outputs": [
    {
     "name": "stdout",
     "output_type": "stream",
     "text": [
      "Evaluate training at epoch 200,200,200,200\n",
      "With weighting method _ptetaflavloss_focalloss,_flatptetaflavloss_focalloss,_ptetaflavloss_focalloss_gamma25.0,_flatptetaflavloss_focalloss_gamma25.0\n",
      "gamma ['_ptetaflavloss_focalloss', '_flatptetaflavloss_focalloss', '25.0', '25.0']\n",
      "alpha ['_ptetaflavloss_focalloss', '_flatptetaflavloss_focalloss', '25.0', '25.0']\n",
      "epsilon ['_ptetaflavloss_focalloss', '_flatptetaflavloss_focalloss', '_ptetaflavloss_focalloss_gamma25.0', '_flatptetaflavloss_focalloss_gamma25.0']\n",
      "test inputs done\n",
      "test targets done\n",
      "number of test inputs 13283070\n",
      "CvB\n",
      "All raw, but different weighting methods.\n",
      "DeepCSV test done\n",
      "Prepared matching inputs and targets for this output/discriminator.\n",
      "Predictions done.\n",
      "auc for cvb-tagging epoch 200 $p_T, \\eta$ rew. (F.L. $\\gamma=$2.0), setup CvB_raw: 0.8622592715824267\n",
      "Predictions done.\n",
      "auc for cvb-tagging epoch 200 $p_T, \\eta$ rew. (Flat, F.L. $\\gamma=$2.0), setup CvB_raw: 0.859501091551312\n",
      "Predictions done.\n",
      "auc for cvb-tagging epoch 200 $p_T, \\eta$ rew. (F.L. $\\gamma=$25.0), setup CvB_raw: 0.8663511767849073\n",
      "Predictions done.\n",
      "auc for cvb-tagging epoch 200 $p_T, \\eta$ rew. (Flat, F.L. $\\gamma=$25.0), setup CvB_raw: 0.8652831071823457\n",
      "auc for cvb-tagging DeepCSV: 0.8736000860787012\n",
      "findfont: Font family ['cursive'] not found. Falling back to DejaVu Sans.\n",
      "Figure(1200x1200)\n"
     ]
    }
   ],
   "source": [
    "!python eval_roc_new.py 278 200,200,200,200 CvB_raw yes _ptetaflavloss_focalloss,_flatptetaflavloss_focalloss,_ptetaflavloss_focalloss_gamma25.0,_flatptetaflavloss_focalloss_gamma25.0 0.001 -1 yes no -1 no ROC"
   ]
  },
  {
   "cell_type": "code",
   "execution_count": 34,
   "metadata": {},
   "outputs": [
    {
     "name": "stdout",
     "output_type": "stream",
     "text": [
      "Evaluate training at epoch 200,200,200,200\n",
      "With weighting method _ptetaflavloss_focalloss,_flatptetaflavloss_focalloss,_ptetaflavloss_focalloss_gamma25.0,_flatptetaflavloss_focalloss_gamma25.0\n",
      "gamma ['_ptetaflavloss_focalloss', '_flatptetaflavloss_focalloss', '25.0', '25.0']\n",
      "alpha ['_ptetaflavloss_focalloss', '_flatptetaflavloss_focalloss', '25.0', '25.0']\n",
      "epsilon ['_ptetaflavloss_focalloss', '_flatptetaflavloss_focalloss', '_ptetaflavloss_focalloss_gamma25.0', '_flatptetaflavloss_focalloss_gamma25.0']\n",
      "test inputs done\n",
      "test targets done\n",
      "number of test inputs 13283070\n",
      "CvL\n",
      "All raw, but different weighting methods.\n",
      "DeepCSV test done\n",
      "Prepared matching inputs and targets for this output/discriminator.\n",
      "Predictions done.\n",
      "auc for cvl-tagging epoch 200 $p_T, \\eta$ rew. (F.L. $\\gamma=$2.0), setup CvL_raw: 0.7500381667889733\n",
      "Predictions done.\n",
      "auc for cvl-tagging epoch 200 $p_T, \\eta$ rew. (Flat, F.L. $\\gamma=$2.0), setup CvL_raw: 0.7471071135431588\n",
      "Predictions done.\n",
      "auc for cvl-tagging epoch 200 $p_T, \\eta$ rew. (F.L. $\\gamma=$25.0), setup CvL_raw: 0.7495151027782788\n",
      "Predictions done.\n",
      "auc for cvl-tagging epoch 200 $p_T, \\eta$ rew. (Flat, F.L. $\\gamma=$25.0), setup CvL_raw: 0.7473822475879256\n",
      "auc for cvl-tagging DeepCSV: 0.7471380907949777\n",
      "findfont: Font family ['cursive'] not found. Falling back to DejaVu Sans.\n",
      "Figure(1200x1200)\n"
     ]
    }
   ],
   "source": [
    "!python eval_roc_new.py 278 200,200,200,200 CvL_raw yes _ptetaflavloss_focalloss,_flatptetaflavloss_focalloss,_ptetaflavloss_focalloss_gamma25.0,_flatptetaflavloss_focalloss_gamma25.0 0.001 -1 yes no -1 no ROC"
   ]
  },
  {
   "cell_type": "markdown",
   "metadata": {},
   "source": [
    "***\n",
    "Setup for plot:\n",
    "\n",
    "With DeepCSV,\n",
    "Mini-eval,\n",
    "With additional axis,\n",
    "With log-scale (flip)"
   ]
  },
  {
   "cell_type": "code",
   "execution_count": 38,
   "metadata": {},
   "outputs": [
    {
     "name": "stdout",
     "output_type": "stream",
     "text": [
      "Evaluate training at epoch 200,200,200,200\n",
      "With weighting method _ptetaflavloss_focalloss,_flatptetaflavloss_focalloss,_ptetaflavloss_focalloss_gamma25.0,_flatptetaflavloss_focalloss_gamma25.0\n",
      "gamma ['_ptetaflavloss_focalloss', '_flatptetaflavloss_focalloss', '25.0', '25.0']\n",
      "alpha ['_ptetaflavloss_focalloss', '_flatptetaflavloss_focalloss', '25.0', '25.0']\n",
      "epsilon ['_ptetaflavloss_focalloss', '_flatptetaflavloss_focalloss', '_ptetaflavloss_focalloss_gamma25.0', '_flatptetaflavloss_focalloss_gamma25.0']\n",
      "test inputs done\n",
      "test targets done\n",
      "number of test inputs 13283070\n",
      "b\n",
      "All raw, but different weighting methods.\n",
      "DeepCSV test done\n",
      "Prepared matching inputs and targets for this output/discriminator.\n",
      "Predictions done.\n",
      "auc for b-tagging epoch 200 $p_T, \\eta$ rew. (F.L. $\\gamma=$2.0), setup b_raw: 0.9195867978851772\n",
      "Predictions done.\n",
      "auc for b-tagging epoch 200 $p_T, \\eta$ rew. (Flat, F.L. $\\gamma=$2.0), setup b_raw: 0.9081618998301776\n",
      "Predictions done.\n",
      "auc for b-tagging epoch 200 $p_T, \\eta$ rew. (F.L. $\\gamma=$25.0), setup b_raw: 0.9279157583881175\n",
      "Predictions done.\n",
      "auc for b-tagging epoch 200 $p_T, \\eta$ rew. (Flat, F.L. $\\gamma=$25.0), setup b_raw: 0.9153490577014761\n",
      "auc for b-tagging DeepCSV: 0.9324704215613766\n",
      "findfont: Font family ['cursive'] not found. Falling back to DejaVu Sans.\n",
      "Figure(1200x1200)\n"
     ]
    }
   ],
   "source": [
    "!python eval_roc_new.py 278 200,200,200,200 b_raw yes _ptetaflavloss_focalloss,_flatptetaflavloss_focalloss,_ptetaflavloss_focalloss_gamma25.0,_flatptetaflavloss_focalloss_gamma25.0 0.001 -1 yes yes -1 yes ROC"
   ]
  },
  {
   "cell_type": "code",
   "execution_count": 39,
   "metadata": {},
   "outputs": [
    {
     "name": "stdout",
     "output_type": "stream",
     "text": [
      "Evaluate training at epoch 200,200,200,200\n",
      "With weighting method _ptetaflavloss_focalloss,_flatptetaflavloss_focalloss,_ptetaflavloss_focalloss_gamma25.0,_flatptetaflavloss_focalloss_gamma25.0\n",
      "gamma ['_ptetaflavloss_focalloss', '_flatptetaflavloss_focalloss', '25.0', '25.0']\n",
      "alpha ['_ptetaflavloss_focalloss', '_flatptetaflavloss_focalloss', '25.0', '25.0']\n",
      "epsilon ['_ptetaflavloss_focalloss', '_flatptetaflavloss_focalloss', '_ptetaflavloss_focalloss_gamma25.0', '_flatptetaflavloss_focalloss_gamma25.0']\n",
      "test inputs done\n",
      "test targets done\n",
      "number of test inputs 13283070\n",
      "bb\n",
      "All raw, but different weighting methods.\n",
      "DeepCSV test done\n",
      "Prepared matching inputs and targets for this output/discriminator.\n",
      "Predictions done.\n",
      "auc for bb-tagging epoch 200 $p_T, \\eta$ rew. (F.L. $\\gamma=$2.0), setup bb_raw: 0.9500314237760703\n",
      "Predictions done.\n",
      "auc for bb-tagging epoch 200 $p_T, \\eta$ rew. (Flat, F.L. $\\gamma=$2.0), setup bb_raw: 0.947445933605419\n",
      "Predictions done.\n",
      "auc for bb-tagging epoch 200 $p_T, \\eta$ rew. (F.L. $\\gamma=$25.0), setup bb_raw: 0.949183328890535\n",
      "Predictions done.\n",
      "auc for bb-tagging epoch 200 $p_T, \\eta$ rew. (Flat, F.L. $\\gamma=$25.0), setup bb_raw: 0.9461426764742743\n",
      "auc for bb-tagging DeepCSV: 0.9533279357676674\n",
      "findfont: Font family ['cursive'] not found. Falling back to DejaVu Sans.\n",
      "Figure(1200x1200)\n"
     ]
    }
   ],
   "source": [
    "!python eval_roc_new.py 278 200,200,200,200 bb_raw yes _ptetaflavloss_focalloss,_flatptetaflavloss_focalloss,_ptetaflavloss_focalloss_gamma25.0,_flatptetaflavloss_focalloss_gamma25.0 0.001 -1 yes yes -1 yes ROC"
   ]
  },
  {
   "cell_type": "code",
   "execution_count": 40,
   "metadata": {},
   "outputs": [
    {
     "name": "stdout",
     "output_type": "stream",
     "text": [
      "Evaluate training at epoch 200,200,200,200\n",
      "With weighting method _ptetaflavloss_focalloss,_flatptetaflavloss_focalloss,_ptetaflavloss_focalloss_gamma25.0,_flatptetaflavloss_focalloss_gamma25.0\n",
      "gamma ['_ptetaflavloss_focalloss', '_flatptetaflavloss_focalloss', '25.0', '25.0']\n",
      "alpha ['_ptetaflavloss_focalloss', '_flatptetaflavloss_focalloss', '25.0', '25.0']\n",
      "epsilon ['_ptetaflavloss_focalloss', '_flatptetaflavloss_focalloss', '_ptetaflavloss_focalloss_gamma25.0', '_flatptetaflavloss_focalloss_gamma25.0']\n",
      "test inputs done\n",
      "test targets done\n",
      "number of test inputs 13283070\n",
      "c\n",
      "All raw, but different weighting methods.\n",
      "DeepCSV test done\n",
      "Prepared matching inputs and targets for this output/discriminator.\n",
      "Predictions done.\n",
      "auc for c-tagging epoch 200 $p_T, \\eta$ rew. (F.L. $\\gamma=$2.0), setup c_raw: 0.6830990779391097\n",
      "Predictions done.\n",
      "auc for c-tagging epoch 200 $p_T, \\eta$ rew. (Flat, F.L. $\\gamma=$2.0), setup c_raw: 0.6818956722694662\n",
      "Predictions done.\n",
      "auc for c-tagging epoch 200 $p_T, \\eta$ rew. (F.L. $\\gamma=$25.0), setup c_raw: 0.535912067277592\n",
      "Predictions done.\n",
      "auc for c-tagging epoch 200 $p_T, \\eta$ rew. (Flat, F.L. $\\gamma=$25.0), setup c_raw: 0.5301656541345026\n",
      "auc for c-tagging DeepCSV: 0.720592283219137\n",
      "findfont: Font family ['cursive'] not found. Falling back to DejaVu Sans.\n",
      "Figure(1200x1200)\n"
     ]
    }
   ],
   "source": [
    "!python eval_roc_new.py 278 200,200,200,200 c_raw yes _ptetaflavloss_focalloss,_flatptetaflavloss_focalloss,_ptetaflavloss_focalloss_gamma25.0,_flatptetaflavloss_focalloss_gamma25.0 0.001 -1 yes yes -1 yes ROC"
   ]
  },
  {
   "cell_type": "code",
   "execution_count": 41,
   "metadata": {},
   "outputs": [
    {
     "name": "stdout",
     "output_type": "stream",
     "text": [
      "Evaluate training at epoch 200,200,200,200\n",
      "With weighting method _ptetaflavloss_focalloss,_flatptetaflavloss_focalloss,_ptetaflavloss_focalloss_gamma25.0,_flatptetaflavloss_focalloss_gamma25.0\n",
      "gamma ['_ptetaflavloss_focalloss', '_flatptetaflavloss_focalloss', '25.0', '25.0']\n",
      "alpha ['_ptetaflavloss_focalloss', '_flatptetaflavloss_focalloss', '25.0', '25.0']\n",
      "epsilon ['_ptetaflavloss_focalloss', '_flatptetaflavloss_focalloss', '_ptetaflavloss_focalloss_gamma25.0', '_flatptetaflavloss_focalloss_gamma25.0']\n",
      "test inputs done\n",
      "test targets done\n",
      "number of test inputs 13283070\n",
      "udsg\n",
      "All raw, but different weighting methods.\n",
      "DeepCSV test done\n",
      "Prepared matching inputs and targets for this output/discriminator.\n",
      "Predictions done.\n",
      "auc for udsg-tagging epoch 200 $p_T, \\eta$ rew. (F.L. $\\gamma=$2.0), setup udsg_raw: 0.8608048716010357\n",
      "Predictions done.\n",
      "auc for udsg-tagging epoch 200 $p_T, \\eta$ rew. (Flat, F.L. $\\gamma=$2.0), setup udsg_raw: 0.8589854969566092\n",
      "Predictions done.\n",
      "auc for udsg-tagging epoch 200 $p_T, \\eta$ rew. (F.L. $\\gamma=$25.0), setup udsg_raw: 0.8538680707680908\n",
      "Predictions done.\n",
      "auc for udsg-tagging epoch 200 $p_T, \\eta$ rew. (Flat, F.L. $\\gamma=$25.0), setup udsg_raw: 0.8524051593345077\n",
      "auc for udsg-tagging DeepCSV: 0.8423692981036903\n",
      "findfont: Font family ['cursive'] not found. Falling back to DejaVu Sans.\n",
      "Figure(1200x1200)\n"
     ]
    }
   ],
   "source": [
    "!python eval_roc_new.py 278 200,200,200,200 udsg_raw yes _ptetaflavloss_focalloss,_flatptetaflavloss_focalloss,_ptetaflavloss_focalloss_gamma25.0,_flatptetaflavloss_focalloss_gamma25.0 0.001 -1 yes yes -1 yes ROC"
   ]
  },
  {
   "cell_type": "code",
   "execution_count": 42,
   "metadata": {},
   "outputs": [
    {
     "name": "stdout",
     "output_type": "stream",
     "text": [
      "Evaluate training at epoch 200,200,200,200\n",
      "With weighting method _ptetaflavloss_focalloss,_flatptetaflavloss_focalloss,_ptetaflavloss_focalloss_gamma25.0,_flatptetaflavloss_focalloss_gamma25.0\n",
      "gamma ['_ptetaflavloss_focalloss', '_flatptetaflavloss_focalloss', '25.0', '25.0']\n",
      "alpha ['_ptetaflavloss_focalloss', '_flatptetaflavloss_focalloss', '25.0', '25.0']\n",
      "epsilon ['_ptetaflavloss_focalloss', '_flatptetaflavloss_focalloss', '_ptetaflavloss_focalloss_gamma25.0', '_flatptetaflavloss_focalloss_gamma25.0']\n",
      "test inputs done\n",
      "test targets done\n",
      "number of test inputs 13283070\n",
      "BvL\n",
      "All raw, but different weighting methods.\n",
      "DeepCSV test done\n",
      "Prepared matching inputs and targets for this output/discriminator.\n",
      "Predictions done.\n",
      "auc for bvl-tagging epoch 200 $p_T, \\eta$ rew. (F.L. $\\gamma=$2.0), setup BvL_raw: 0.946002141557919\n",
      "Predictions done.\n",
      "auc for bvl-tagging epoch 200 $p_T, \\eta$ rew. (Flat, F.L. $\\gamma=$2.0), setup BvL_raw: 0.9438009118273255\n",
      "Predictions done.\n",
      "auc for bvl-tagging epoch 200 $p_T, \\eta$ rew. (F.L. $\\gamma=$25.0), setup BvL_raw: 0.947256066778877\n",
      "Predictions done.\n",
      "auc for bvl-tagging epoch 200 $p_T, \\eta$ rew. (Flat, F.L. $\\gamma=$25.0), setup BvL_raw: 0.9462233522739932\n",
      "auc for bvl-tagging DeepCSV: 0.9503456826671651\n",
      "findfont: Font family ['cursive'] not found. Falling back to DejaVu Sans.\n",
      "Figure(1200x1200)\n"
     ]
    }
   ],
   "source": [
    "!python eval_roc_new.py 278 200,200,200,200 BvL_raw yes _ptetaflavloss_focalloss,_flatptetaflavloss_focalloss,_ptetaflavloss_focalloss_gamma25.0,_flatptetaflavloss_focalloss_gamma25.0 0.001 -1 yes yes -1 yes ROC"
   ]
  },
  {
   "cell_type": "code",
   "execution_count": 43,
   "metadata": {},
   "outputs": [
    {
     "name": "stdout",
     "output_type": "stream",
     "text": [
      "Evaluate training at epoch 200,200,200,200\n",
      "With weighting method _ptetaflavloss_focalloss,_flatptetaflavloss_focalloss,_ptetaflavloss_focalloss_gamma25.0,_flatptetaflavloss_focalloss_gamma25.0\n",
      "gamma ['_ptetaflavloss_focalloss', '_flatptetaflavloss_focalloss', '25.0', '25.0']\n",
      "alpha ['_ptetaflavloss_focalloss', '_flatptetaflavloss_focalloss', '25.0', '25.0']\n",
      "epsilon ['_ptetaflavloss_focalloss', '_flatptetaflavloss_focalloss', '_ptetaflavloss_focalloss_gamma25.0', '_flatptetaflavloss_focalloss_gamma25.0']\n",
      "test inputs done\n",
      "test targets done\n",
      "number of test inputs 13283070\n",
      "BvC\n",
      "All raw, but different weighting methods.\n",
      "DeepCSV test done\n",
      "Prepared matching inputs and targets for this output/discriminator.\n",
      "Predictions done.\n",
      "auc for bvc-tagging epoch 200 $p_T, \\eta$ rew. (F.L. $\\gamma=$2.0), setup BvC_raw: 0.8641959747143392\n",
      "Predictions done.\n",
      "auc for bvc-tagging epoch 200 $p_T, \\eta$ rew. (Flat, F.L. $\\gamma=$2.0), setup BvC_raw: 0.8611402253875071\n",
      "Predictions done.\n",
      "auc for bvc-tagging epoch 200 $p_T, \\eta$ rew. (F.L. $\\gamma=$25.0), setup BvC_raw: 0.8663511544015304\n",
      "Predictions done.\n",
      "auc for bvc-tagging epoch 200 $p_T, \\eta$ rew. (Flat, F.L. $\\gamma=$25.0), setup BvC_raw: 0.8652831026987111\n",
      "auc for bvc-tagging DeepCSV: 0.873600086078701\n",
      "findfont: Font family ['cursive'] not found. Falling back to DejaVu Sans.\n",
      "Figure(1200x1200)\n"
     ]
    }
   ],
   "source": [
    "!python eval_roc_new.py 278 200,200,200,200 BvC_raw yes _ptetaflavloss_focalloss,_flatptetaflavloss_focalloss,_ptetaflavloss_focalloss_gamma25.0,_flatptetaflavloss_focalloss_gamma25.0 0.001 -1 yes yes -1 yes ROC"
   ]
  },
  {
   "cell_type": "code",
   "execution_count": 44,
   "metadata": {},
   "outputs": [
    {
     "name": "stdout",
     "output_type": "stream",
     "text": [
      "Evaluate training at epoch 200,200,200,200\n",
      "With weighting method _ptetaflavloss_focalloss,_flatptetaflavloss_focalloss,_ptetaflavloss_focalloss_gamma25.0,_flatptetaflavloss_focalloss_gamma25.0\n",
      "gamma ['_ptetaflavloss_focalloss', '_flatptetaflavloss_focalloss', '25.0', '25.0']\n",
      "alpha ['_ptetaflavloss_focalloss', '_flatptetaflavloss_focalloss', '25.0', '25.0']\n",
      "epsilon ['_ptetaflavloss_focalloss', '_flatptetaflavloss_focalloss', '_ptetaflavloss_focalloss_gamma25.0', '_flatptetaflavloss_focalloss_gamma25.0']\n",
      "test inputs done\n",
      "test targets done\n",
      "number of test inputs 13283070\n",
      "CvB\n",
      "All raw, but different weighting methods.\n",
      "DeepCSV test done\n",
      "Prepared matching inputs and targets for this output/discriminator.\n",
      "Predictions done.\n",
      "auc for cvb-tagging epoch 200 $p_T, \\eta$ rew. (F.L. $\\gamma=$2.0), setup CvB_raw: 0.8622592715824267\n",
      "Predictions done.\n",
      "auc for cvb-tagging epoch 200 $p_T, \\eta$ rew. (Flat, F.L. $\\gamma=$2.0), setup CvB_raw: 0.859501091551312\n",
      "Predictions done.\n",
      "auc for cvb-tagging epoch 200 $p_T, \\eta$ rew. (F.L. $\\gamma=$25.0), setup CvB_raw: 0.8663511767849073\n",
      "Predictions done.\n",
      "auc for cvb-tagging epoch 200 $p_T, \\eta$ rew. (Flat, F.L. $\\gamma=$25.0), setup CvB_raw: 0.8652831071823457\n",
      "auc for cvb-tagging DeepCSV: 0.8736000860787012\n",
      "findfont: Font family ['cursive'] not found. Falling back to DejaVu Sans.\n",
      "Figure(1200x1200)\n"
     ]
    }
   ],
   "source": [
    "!python eval_roc_new.py 278 200,200,200,200 CvB_raw yes _ptetaflavloss_focalloss,_flatptetaflavloss_focalloss,_ptetaflavloss_focalloss_gamma25.0,_flatptetaflavloss_focalloss_gamma25.0 0.001 -1 yes yes -1 yes ROC"
   ]
  },
  {
   "cell_type": "code",
   "execution_count": 46,
   "metadata": {},
   "outputs": [
    {
     "name": "stdout",
     "output_type": "stream",
     "text": [
      "Evaluate training at epoch 200,200,200,200\n",
      "With weighting method _ptetaflavloss_focalloss,_flatptetaflavloss_focalloss,_ptetaflavloss_focalloss_gamma25.0,_flatptetaflavloss_focalloss_gamma25.0\n",
      "gamma ['_ptetaflavloss_focalloss', '_flatptetaflavloss_focalloss', '25.0', '25.0']\n",
      "alpha ['_ptetaflavloss_focalloss', '_flatptetaflavloss_focalloss', '25.0', '25.0']\n",
      "epsilon ['_ptetaflavloss_focalloss', '_flatptetaflavloss_focalloss', '_ptetaflavloss_focalloss_gamma25.0', '_flatptetaflavloss_focalloss_gamma25.0']\n",
      "test inputs done\n",
      "test targets done\n",
      "number of test inputs 13283070\n",
      "CvL\n",
      "All raw, but different weighting methods.\n",
      "DeepCSV test done\n",
      "Prepared matching inputs and targets for this output/discriminator.\n",
      "Predictions done.\n",
      "auc for cvl-tagging epoch 200 $p_T, \\eta$ rew. (F.L. $\\gamma=$2.0), setup CvL_raw: 0.7500381667889733\n",
      "Predictions done.\n",
      "auc for cvl-tagging epoch 200 $p_T, \\eta$ rew. (Flat, F.L. $\\gamma=$2.0), setup CvL_raw: 0.7471071135431588\n",
      "Predictions done.\n",
      "auc for cvl-tagging epoch 200 $p_T, \\eta$ rew. (F.L. $\\gamma=$25.0), setup CvL_raw: 0.7495151027782788\n",
      "Predictions done.\n",
      "auc for cvl-tagging epoch 200 $p_T, \\eta$ rew. (Flat, F.L. $\\gamma=$25.0), setup CvL_raw: 0.7473822475879256\n",
      "auc for cvl-tagging DeepCSV: 0.7471380907949777\n",
      "findfont: Font family ['cursive'] not found. Falling back to DejaVu Sans.\n",
      "Figure(1200x1200)\n"
     ]
    }
   ],
   "source": [
    "!python eval_roc_new.py 278 200,200,200,200 CvL_raw yes _ptetaflavloss_focalloss,_flatptetaflavloss_focalloss,_ptetaflavloss_focalloss_gamma25.0,_flatptetaflavloss_focalloss_gamma25.0 0.001 -1 yes yes -1 yes ROC"
   ]
  },
  {
   "cell_type": "markdown",
   "metadata": {},
   "source": [
    "***\n",
    "Setup for plot:\n",
    "\n",
    "With DeepCSV,\n",
    "Mini-eval,\n",
    "Without additional axis,\n",
    "With log-scale (flip)"
   ]
  },
  {
   "cell_type": "code",
   "execution_count": 59,
   "metadata": {},
   "outputs": [
    {
     "name": "stdout",
     "output_type": "stream",
     "text": [
      "Evaluate training at epoch 200\n",
      "With weighting method _ptetaflavloss_focalloss,_flatptetaflavloss_focalloss,_ptetaflavloss_focalloss_gamma25.0,_flatptetaflavloss_focalloss_gamma25.0\n",
      "gamma ['_ptetaflavloss_focalloss', '_flatptetaflavloss_focalloss', '25.0', '25.0']\n",
      "alpha ['_ptetaflavloss_focalloss', '_flatptetaflavloss_focalloss', '25.0', '25.0']\n",
      "epsilon ['_ptetaflavloss_focalloss', '_flatptetaflavloss_focalloss', '_ptetaflavloss_focalloss_gamma25.0', '_flatptetaflavloss_focalloss_gamma25.0']\n",
      "test inputs done\n",
      "test targets done\n",
      "number of test inputs 13283070\n",
      "b\n",
      "All raw, but different weighting methods.\n",
      "DeepCSV test done\n",
      "Prepared matching inputs and targets for this output/discriminator.\n",
      "Predictions done.\n",
      "auc for b-tagging epoch 200 $p_T, \\eta$ rew. (F.L. $\\gamma=$2.0), setup b_raw: 0.9195867978851772\n",
      "Predictions done.\n",
      "auc for b-tagging epoch 200 $p_T, \\eta$ rew. (Flat, F.L. $\\gamma=$2.0), setup b_raw: 0.9081618998301776\n",
      "Predictions done.\n",
      "auc for b-tagging epoch 200 $p_T, \\eta$ rew. (F.L. $\\gamma=$25.0), setup b_raw: 0.9279157583881175\n",
      "Predictions done.\n",
      "auc for b-tagging epoch 200 $p_T, \\eta$ rew. (Flat, F.L. $\\gamma=$25.0), setup b_raw: 0.9153490577014761\n",
      "auc for b-tagging DeepCSV: 0.9324704215613766\n",
      "findfont: Font family ['cursive'] not found. Falling back to DejaVu Sans.\n",
      "Figure(1200x1200)\n"
     ]
    }
   ],
   "source": [
    "!python eval_roc_new.py 278 200 b_raw yes _ptetaflavloss_focalloss,_flatptetaflavloss_focalloss,_ptetaflavloss_focalloss_gamma25.0,_flatptetaflavloss_focalloss_gamma25.0 0.001 -1 yes no -1 yes ROC"
   ]
  },
  {
   "cell_type": "code",
   "execution_count": 60,
   "metadata": {},
   "outputs": [
    {
     "name": "stdout",
     "output_type": "stream",
     "text": [
      "Evaluate training at epoch 200\n",
      "With weighting method _ptetaflavloss_focalloss,_flatptetaflavloss_focalloss,_ptetaflavloss_focalloss_gamma25.0,_flatptetaflavloss_focalloss_gamma25.0\n",
      "gamma ['_ptetaflavloss_focalloss', '_flatptetaflavloss_focalloss', '25.0', '25.0']\n",
      "alpha ['_ptetaflavloss_focalloss', '_flatptetaflavloss_focalloss', '25.0', '25.0']\n",
      "epsilon ['_ptetaflavloss_focalloss', '_flatptetaflavloss_focalloss', '_ptetaflavloss_focalloss_gamma25.0', '_flatptetaflavloss_focalloss_gamma25.0']\n",
      "test inputs done\n",
      "test targets done\n",
      "number of test inputs 13283070\n",
      "bb\n",
      "All raw, but different weighting methods.\n",
      "DeepCSV test done\n",
      "Prepared matching inputs and targets for this output/discriminator.\n",
      "Predictions done.\n",
      "auc for bb-tagging epoch 200 $p_T, \\eta$ rew. (F.L. $\\gamma=$2.0), setup bb_raw: 0.9500314237760703\n",
      "Predictions done.\n",
      "auc for bb-tagging epoch 200 $p_T, \\eta$ rew. (Flat, F.L. $\\gamma=$2.0), setup bb_raw: 0.947445933605419\n",
      "Predictions done.\n",
      "auc for bb-tagging epoch 200 $p_T, \\eta$ rew. (F.L. $\\gamma=$25.0), setup bb_raw: 0.949183328890535\n",
      "Predictions done.\n",
      "auc for bb-tagging epoch 200 $p_T, \\eta$ rew. (Flat, F.L. $\\gamma=$25.0), setup bb_raw: 0.9461426764742743\n",
      "auc for bb-tagging DeepCSV: 0.9533279357676674\n",
      "findfont: Font family ['cursive'] not found. Falling back to DejaVu Sans.\n",
      "Figure(1200x1200)\n"
     ]
    }
   ],
   "source": [
    "!python eval_roc_new.py 278 200 bb_raw yes _ptetaflavloss_focalloss,_flatptetaflavloss_focalloss,_ptetaflavloss_focalloss_gamma25.0,_flatptetaflavloss_focalloss_gamma25.0 0.001 -1 yes no -1 yes ROC"
   ]
  },
  {
   "cell_type": "code",
   "execution_count": 61,
   "metadata": {},
   "outputs": [
    {
     "name": "stdout",
     "output_type": "stream",
     "text": [
      "Evaluate training at epoch 200\n",
      "With weighting method _ptetaflavloss_focalloss,_flatptetaflavloss_focalloss,_ptetaflavloss_focalloss_gamma25.0,_flatptetaflavloss_focalloss_gamma25.0\n",
      "gamma ['_ptetaflavloss_focalloss', '_flatptetaflavloss_focalloss', '25.0', '25.0']\n",
      "alpha ['_ptetaflavloss_focalloss', '_flatptetaflavloss_focalloss', '25.0', '25.0']\n",
      "epsilon ['_ptetaflavloss_focalloss', '_flatptetaflavloss_focalloss', '_ptetaflavloss_focalloss_gamma25.0', '_flatptetaflavloss_focalloss_gamma25.0']\n",
      "test inputs done\n",
      "test targets done\n",
      "number of test inputs 13283070\n",
      "c\n",
      "All raw, but different weighting methods.\n",
      "DeepCSV test done\n",
      "Prepared matching inputs and targets for this output/discriminator.\n",
      "Predictions done.\n",
      "auc for c-tagging epoch 200 $p_T, \\eta$ rew. (F.L. $\\gamma=$2.0), setup c_raw: 0.6830990779391097\n",
      "Predictions done.\n",
      "auc for c-tagging epoch 200 $p_T, \\eta$ rew. (Flat, F.L. $\\gamma=$2.0), setup c_raw: 0.6818956722694662\n",
      "Predictions done.\n",
      "auc for c-tagging epoch 200 $p_T, \\eta$ rew. (F.L. $\\gamma=$25.0), setup c_raw: 0.535912067277592\n",
      "Predictions done.\n",
      "auc for c-tagging epoch 200 $p_T, \\eta$ rew. (Flat, F.L. $\\gamma=$25.0), setup c_raw: 0.5301656541345026\n",
      "auc for c-tagging DeepCSV: 0.720592283219137\n",
      "findfont: Font family ['cursive'] not found. Falling back to DejaVu Sans.\n",
      "Figure(1200x1200)\n"
     ]
    }
   ],
   "source": [
    "!python eval_roc_new.py 278 200 c_raw yes _ptetaflavloss_focalloss,_flatptetaflavloss_focalloss,_ptetaflavloss_focalloss_gamma25.0,_flatptetaflavloss_focalloss_gamma25.0 0.001 -1 yes no -1 yes ROC"
   ]
  },
  {
   "cell_type": "code",
   "execution_count": 62,
   "metadata": {},
   "outputs": [
    {
     "name": "stdout",
     "output_type": "stream",
     "text": [
      "Evaluate training at epoch 200\n",
      "With weighting method _ptetaflavloss_focalloss,_flatptetaflavloss_focalloss,_ptetaflavloss_focalloss_gamma25.0,_flatptetaflavloss_focalloss_gamma25.0\n",
      "gamma ['_ptetaflavloss_focalloss', '_flatptetaflavloss_focalloss', '25.0', '25.0']\n",
      "alpha ['_ptetaflavloss_focalloss', '_flatptetaflavloss_focalloss', '25.0', '25.0']\n",
      "epsilon ['_ptetaflavloss_focalloss', '_flatptetaflavloss_focalloss', '_ptetaflavloss_focalloss_gamma25.0', '_flatptetaflavloss_focalloss_gamma25.0']\n",
      "test inputs done\n",
      "test targets done\n",
      "number of test inputs 13283070\n",
      "udsg\n",
      "All raw, but different weighting methods.\n",
      "DeepCSV test done\n",
      "Prepared matching inputs and targets for this output/discriminator.\n",
      "Predictions done.\n",
      "auc for udsg-tagging epoch 200 $p_T, \\eta$ rew. (F.L. $\\gamma=$2.0), setup udsg_raw: 0.8608048716010357\n",
      "Predictions done.\n",
      "auc for udsg-tagging epoch 200 $p_T, \\eta$ rew. (Flat, F.L. $\\gamma=$2.0), setup udsg_raw: 0.8589854969566092\n",
      "Predictions done.\n",
      "auc for udsg-tagging epoch 200 $p_T, \\eta$ rew. (F.L. $\\gamma=$25.0), setup udsg_raw: 0.8538680707680908\n",
      "Predictions done.\n",
      "auc for udsg-tagging epoch 200 $p_T, \\eta$ rew. (Flat, F.L. $\\gamma=$25.0), setup udsg_raw: 0.8524051593345077\n",
      "auc for udsg-tagging DeepCSV: 0.8423692981036903\n",
      "findfont: Font family ['cursive'] not found. Falling back to DejaVu Sans.\n",
      "Figure(1200x1200)\n"
     ]
    }
   ],
   "source": [
    "!python eval_roc_new.py 278 200 udsg_raw yes _ptetaflavloss_focalloss,_flatptetaflavloss_focalloss,_ptetaflavloss_focalloss_gamma25.0,_flatptetaflavloss_focalloss_gamma25.0 0.001 -1 yes no -1 yes ROC"
   ]
  },
  {
   "cell_type": "code",
   "execution_count": 63,
   "metadata": {},
   "outputs": [
    {
     "name": "stdout",
     "output_type": "stream",
     "text": [
      "Evaluate training at epoch 200\n",
      "With weighting method _ptetaflavloss_focalloss,_flatptetaflavloss_focalloss,_ptetaflavloss_focalloss_gamma25.0,_flatptetaflavloss_focalloss_gamma25.0\n",
      "gamma ['_ptetaflavloss_focalloss', '_flatptetaflavloss_focalloss', '25.0', '25.0']\n",
      "alpha ['_ptetaflavloss_focalloss', '_flatptetaflavloss_focalloss', '25.0', '25.0']\n",
      "epsilon ['_ptetaflavloss_focalloss', '_flatptetaflavloss_focalloss', '_ptetaflavloss_focalloss_gamma25.0', '_flatptetaflavloss_focalloss_gamma25.0']\n",
      "test inputs done\n",
      "test targets done\n",
      "number of test inputs 13283070\n",
      "BvL\n",
      "All raw, but different weighting methods.\n",
      "DeepCSV test done\n",
      "Prepared matching inputs and targets for this output/discriminator.\n",
      "Predictions done.\n",
      "auc for bvl-tagging epoch 200 $p_T, \\eta$ rew. (F.L. $\\gamma=$2.0), setup BvL_raw: 0.946002141557919\n",
      "Predictions done.\n",
      "auc for bvl-tagging epoch 200 $p_T, \\eta$ rew. (Flat, F.L. $\\gamma=$2.0), setup BvL_raw: 0.9438009118273255\n",
      "Predictions done.\n",
      "auc for bvl-tagging epoch 200 $p_T, \\eta$ rew. (F.L. $\\gamma=$25.0), setup BvL_raw: 0.947256066778877\n",
      "Predictions done.\n",
      "auc for bvl-tagging epoch 200 $p_T, \\eta$ rew. (Flat, F.L. $\\gamma=$25.0), setup BvL_raw: 0.9462233522739932\n",
      "auc for bvl-tagging DeepCSV: 0.9503456826671651\n",
      "findfont: Font family ['cursive'] not found. Falling back to DejaVu Sans.\n",
      "Figure(1200x1200)\n"
     ]
    }
   ],
   "source": [
    "!python eval_roc_new.py 278 200 BvL_raw yes _ptetaflavloss_focalloss,_flatptetaflavloss_focalloss,_ptetaflavloss_focalloss_gamma25.0,_flatptetaflavloss_focalloss_gamma25.0 0.001 -1 yes no -1 yes ROC"
   ]
  },
  {
   "cell_type": "code",
   "execution_count": 64,
   "metadata": {},
   "outputs": [
    {
     "name": "stdout",
     "output_type": "stream",
     "text": [
      "Evaluate training at epoch 200\n",
      "With weighting method _ptetaflavloss_focalloss,_flatptetaflavloss_focalloss,_ptetaflavloss_focalloss_gamma25.0,_flatptetaflavloss_focalloss_gamma25.0\n",
      "gamma ['_ptetaflavloss_focalloss', '_flatptetaflavloss_focalloss', '25.0', '25.0']\n",
      "alpha ['_ptetaflavloss_focalloss', '_flatptetaflavloss_focalloss', '25.0', '25.0']\n",
      "epsilon ['_ptetaflavloss_focalloss', '_flatptetaflavloss_focalloss', '_ptetaflavloss_focalloss_gamma25.0', '_flatptetaflavloss_focalloss_gamma25.0']\n",
      "test inputs done\n",
      "test targets done\n",
      "number of test inputs 13283070\n",
      "BvC\n",
      "All raw, but different weighting methods.\n",
      "DeepCSV test done\n",
      "Prepared matching inputs and targets for this output/discriminator.\n",
      "Predictions done.\n",
      "auc for bvc-tagging epoch 200 $p_T, \\eta$ rew. (F.L. $\\gamma=$2.0), setup BvC_raw: 0.8641959747143392\n",
      "Predictions done.\n",
      "auc for bvc-tagging epoch 200 $p_T, \\eta$ rew. (Flat, F.L. $\\gamma=$2.0), setup BvC_raw: 0.8611402253875071\n",
      "Predictions done.\n",
      "auc for bvc-tagging epoch 200 $p_T, \\eta$ rew. (F.L. $\\gamma=$25.0), setup BvC_raw: 0.8663511544015304\n",
      "Predictions done.\n",
      "auc for bvc-tagging epoch 200 $p_T, \\eta$ rew. (Flat, F.L. $\\gamma=$25.0), setup BvC_raw: 0.8652831026987111\n",
      "auc for bvc-tagging DeepCSV: 0.873600086078701\n",
      "findfont: Font family ['cursive'] not found. Falling back to DejaVu Sans.\n",
      "Figure(1200x1200)\n"
     ]
    }
   ],
   "source": [
    "!python eval_roc_new.py 278 200 BvC_raw yes _ptetaflavloss_focalloss,_flatptetaflavloss_focalloss,_ptetaflavloss_focalloss_gamma25.0,_flatptetaflavloss_focalloss_gamma25.0 0.001 -1 yes no -1 yes ROC"
   ]
  },
  {
   "cell_type": "code",
   "execution_count": 65,
   "metadata": {},
   "outputs": [
    {
     "name": "stdout",
     "output_type": "stream",
     "text": [
      "Evaluate training at epoch 200\n",
      "With weighting method _ptetaflavloss_focalloss,_flatptetaflavloss_focalloss,_ptetaflavloss_focalloss_gamma25.0,_flatptetaflavloss_focalloss_gamma25.0\n",
      "gamma ['_ptetaflavloss_focalloss', '_flatptetaflavloss_focalloss', '25.0', '25.0']\n",
      "alpha ['_ptetaflavloss_focalloss', '_flatptetaflavloss_focalloss', '25.0', '25.0']\n",
      "epsilon ['_ptetaflavloss_focalloss', '_flatptetaflavloss_focalloss', '_ptetaflavloss_focalloss_gamma25.0', '_flatptetaflavloss_focalloss_gamma25.0']\n",
      "test inputs done\n",
      "test targets done\n",
      "number of test inputs 13283070\n",
      "CvB\n",
      "All raw, but different weighting methods.\n",
      "DeepCSV test done\n",
      "Prepared matching inputs and targets for this output/discriminator.\n",
      "Predictions done.\n",
      "auc for cvb-tagging epoch 200 $p_T, \\eta$ rew. (F.L. $\\gamma=$2.0), setup CvB_raw: 0.8622592715824267\n",
      "Predictions done.\n",
      "auc for cvb-tagging epoch 200 $p_T, \\eta$ rew. (Flat, F.L. $\\gamma=$2.0), setup CvB_raw: 0.859501091551312\n",
      "Predictions done.\n",
      "auc for cvb-tagging epoch 200 $p_T, \\eta$ rew. (F.L. $\\gamma=$25.0), setup CvB_raw: 0.8663511767849073\n",
      "Predictions done.\n",
      "auc for cvb-tagging epoch 200 $p_T, \\eta$ rew. (Flat, F.L. $\\gamma=$25.0), setup CvB_raw: 0.8652831071823457\n",
      "auc for cvb-tagging DeepCSV: 0.8736000860787012\n",
      "findfont: Font family ['cursive'] not found. Falling back to DejaVu Sans.\n",
      "Figure(1200x1200)\n"
     ]
    }
   ],
   "source": [
    "!python eval_roc_new.py 278 200 CvB_raw yes _ptetaflavloss_focalloss,_flatptetaflavloss_focalloss,_ptetaflavloss_focalloss_gamma25.0,_flatptetaflavloss_focalloss_gamma25.0 0.001 -1 yes no -1 yes ROC"
   ]
  },
  {
   "cell_type": "code",
   "execution_count": 58,
   "metadata": {},
   "outputs": [
    {
     "name": "stdout",
     "output_type": "stream",
     "text": [
      "Evaluate training at epoch 200\n",
      "With weighting method _ptetaflavloss_focalloss,_flatptetaflavloss_focalloss,_ptetaflavloss_focalloss_gamma25.0,_flatptetaflavloss_focalloss_gamma25.0\n",
      "gamma ['_ptetaflavloss_focalloss', '_flatptetaflavloss_focalloss', '25.0', '25.0']\n",
      "alpha ['_ptetaflavloss_focalloss', '_flatptetaflavloss_focalloss', '25.0', '25.0']\n",
      "epsilon ['_ptetaflavloss_focalloss', '_flatptetaflavloss_focalloss', '_ptetaflavloss_focalloss_gamma25.0', '_flatptetaflavloss_focalloss_gamma25.0']\n",
      "test inputs done\n",
      "test targets done\n",
      "number of test inputs 13283070\n",
      "CvL\n",
      "All raw, but different weighting methods.\n",
      "DeepCSV test done\n",
      "Prepared matching inputs and targets for this output/discriminator.\n",
      "Predictions done.\n",
      "auc for cvl-tagging epoch 200 $p_T, \\eta$ rew. (F.L. $\\gamma=$2.0), setup CvL_raw: 0.7500381667889733\n",
      "Predictions done.\n",
      "auc for cvl-tagging epoch 200 $p_T, \\eta$ rew. (Flat, F.L. $\\gamma=$2.0), setup CvL_raw: 0.7471071135431588\n",
      "Predictions done.\n",
      "auc for cvl-tagging epoch 200 $p_T, \\eta$ rew. (F.L. $\\gamma=$25.0), setup CvL_raw: 0.7495151027782788\n",
      "Predictions done.\n",
      "auc for cvl-tagging epoch 200 $p_T, \\eta$ rew. (Flat, F.L. $\\gamma=$25.0), setup CvL_raw: 0.7473822475879256\n",
      "auc for cvl-tagging DeepCSV: 0.7471380907949777\n",
      "findfont: Font family ['cursive'] not found. Falling back to DejaVu Sans.\n",
      "Figure(1200x1200)\n"
     ]
    }
   ],
   "source": [
    "!python eval_roc_new.py 278 200 CvL_raw yes _ptetaflavloss_focalloss,_flatptetaflavloss_focalloss,_ptetaflavloss_focalloss_gamma25.0,_flatptetaflavloss_focalloss_gamma25.0 0.001 -1 yes no -1 yes ROC"
   ]
  },
  {
   "cell_type": "markdown",
   "metadata": {},
   "source": [
    "***\n",
    "***"
   ]
  },
  {
   "cell_type": "markdown",
   "metadata": {},
   "source": [
    "## Basic training\n",
    "### Different epsilon for FGSM\n",
    "***"
   ]
  },
  {
   "cell_type": "markdown",
   "metadata": {},
   "source": [
    "Setup for plot:\n",
    "\n",
    "With DeepCSV,\n",
    "Mini-eval,\n",
    "No additional axis,\n",
    "No log-scale (flip)"
   ]
  },
  {
   "cell_type": "code",
   "execution_count": 66,
   "metadata": {},
   "outputs": [
    {
     "name": "stdout",
     "output_type": "stream",
     "text": [
      "Evaluate training at epoch 200\n",
      "With weighting method _ptetaflavloss_focalloss_gamma25.0\n",
      "gamma ['25.0']\n",
      "alpha ['25.0']\n",
      "epsilon ['_ptetaflavloss_focalloss_gamma25.0']\n",
      "test inputs done\n",
      "test targets done\n",
      "number of test inputs 13283070\n",
      "b\n",
      "Prepared matching inputs and targets for this output/discriminator.\n",
      "Predictions done.\n",
      "auc for b-tagging epoch 200 $p_T, \\eta$ rew. (F.L. $\\gamma=$25.0), setup b_raw: 0.9279157583881175\n",
      "Predictions done.\n",
      "auc for b-tagging epoch 200 $p_T, \\eta$ rew. (F.L. $\\gamma=$25.0), setup b_eps0.005: 0.9056469930948479\n",
      "Predictions done.\n",
      "auc for b-tagging epoch 200 $p_T, \\eta$ rew. (F.L. $\\gamma=$25.0), setup b_eps0.01: 0.880449642646804\n",
      "Predictions done.\n",
      "auc for b-tagging epoch 200 $p_T, \\eta$ rew. (F.L. $\\gamma=$25.0), setup b_eps0.05: 0.6721889123946634\n",
      "Predictions done.\n",
      "auc for b-tagging epoch 200 $p_T, \\eta$ rew. (F.L. $\\gamma=$25.0), setup b_eps0.1: 0.47346697398627696\n",
      "findfont: Font family ['cursive'] not found. Falling back to DejaVu Sans.\n",
      "Figure(1200x1200)\n"
     ]
    }
   ],
   "source": [
    "!python eval_roc_new.py 278 200 b_raw,b_eps0.005,b_eps0.01,b_eps0.05,b_eps0.1 no _ptetaflavloss_focalloss_gamma25.0 0.001 -1 yes no -1 no ROC"
   ]
  },
  {
   "cell_type": "code",
   "execution_count": 67,
   "metadata": {},
   "outputs": [
    {
     "name": "stdout",
     "output_type": "stream",
     "text": [
      "Evaluate training at epoch 200\n",
      "With weighting method _ptetaflavloss_focalloss_gamma25.0\n",
      "gamma ['25.0']\n",
      "alpha ['25.0']\n",
      "epsilon ['_ptetaflavloss_focalloss_gamma25.0']\n",
      "test inputs done\n",
      "test targets done\n",
      "number of test inputs 13283070\n",
      "bb\n",
      "Prepared matching inputs and targets for this output/discriminator.\n",
      "Predictions done.\n",
      "auc for bb-tagging epoch 200 $p_T, \\eta$ rew. (F.L. $\\gamma=$25.0), setup bb_raw: 0.949183328890535\n",
      "Predictions done.\n",
      "auc for bb-tagging epoch 200 $p_T, \\eta$ rew. (F.L. $\\gamma=$25.0), setup bb_eps0.005: 0.9306251326141324\n",
      "Predictions done.\n",
      "auc for bb-tagging epoch 200 $p_T, \\eta$ rew. (F.L. $\\gamma=$25.0), setup bb_eps0.01: 0.9055340119989109\n",
      "Predictions done.\n",
      "auc for bb-tagging epoch 200 $p_T, \\eta$ rew. (F.L. $\\gamma=$25.0), setup bb_eps0.05: 0.6240352709079633\n",
      "Predictions done.\n",
      "auc for bb-tagging epoch 200 $p_T, \\eta$ rew. (F.L. $\\gamma=$25.0), setup bb_eps0.1: 0.3665708385068027\n",
      "findfont: Font family ['cursive'] not found. Falling back to DejaVu Sans.\n",
      "Figure(1200x1200)\n"
     ]
    }
   ],
   "source": [
    "!python eval_roc_new.py 278 200 bb_raw,bb_eps0.005,bb_eps0.01,bb_eps0.05,bb_eps0.1 no _ptetaflavloss_focalloss_gamma25.0 0.001 -1 yes no -1 no ROC"
   ]
  },
  {
   "cell_type": "code",
   "execution_count": 68,
   "metadata": {},
   "outputs": [
    {
     "name": "stdout",
     "output_type": "stream",
     "text": [
      "Evaluate training at epoch 200\n",
      "With weighting method _ptetaflavloss_focalloss_gamma25.0\n",
      "gamma ['25.0']\n",
      "alpha ['25.0']\n",
      "epsilon ['_ptetaflavloss_focalloss_gamma25.0']\n",
      "test inputs done\n",
      "test targets done\n",
      "number of test inputs 13283070\n",
      "c\n",
      "Prepared matching inputs and targets for this output/discriminator.\n",
      "Predictions done.\n",
      "auc for c-tagging epoch 200 $p_T, \\eta$ rew. (F.L. $\\gamma=$25.0), setup c_raw: 0.535912067277592\n",
      "Predictions done.\n",
      "auc for c-tagging epoch 200 $p_T, \\eta$ rew. (F.L. $\\gamma=$25.0), setup c_eps0.005: 0.5257945083125389\n",
      "Predictions done.\n",
      "auc for c-tagging epoch 200 $p_T, \\eta$ rew. (F.L. $\\gamma=$25.0), setup c_eps0.01: 0.5218362931612719\n",
      "Predictions done.\n",
      "auc for c-tagging epoch 200 $p_T, \\eta$ rew. (F.L. $\\gamma=$25.0), setup c_eps0.05: 0.45722490591832415\n",
      "Predictions done.\n",
      "auc for c-tagging epoch 200 $p_T, \\eta$ rew. (F.L. $\\gamma=$25.0), setup c_eps0.1: 0.41670520866453753\n",
      "findfont: Font family ['cursive'] not found. Falling back to DejaVu Sans.\n",
      "Figure(1200x1200)\n"
     ]
    }
   ],
   "source": [
    "!python eval_roc_new.py 278 200 c_raw,c_eps0.005,c_eps0.01,c_eps0.05,c_eps0.1 no _ptetaflavloss_focalloss_gamma25.0 0.001 -1 yes no -1 no ROC"
   ]
  },
  {
   "cell_type": "code",
   "execution_count": 69,
   "metadata": {},
   "outputs": [
    {
     "name": "stdout",
     "output_type": "stream",
     "text": [
      "Evaluate training at epoch 200\n",
      "With weighting method _ptetaflavloss_focalloss_gamma25.0\n",
      "gamma ['25.0']\n",
      "alpha ['25.0']\n",
      "epsilon ['_ptetaflavloss_focalloss_gamma25.0']\n",
      "test inputs done\n",
      "test targets done\n",
      "number of test inputs 13283070\n",
      "udsg\n",
      "Prepared matching inputs and targets for this output/discriminator.\n",
      "Predictions done.\n",
      "auc for udsg-tagging epoch 200 $p_T, \\eta$ rew. (F.L. $\\gamma=$25.0), setup udsg_raw: 0.8538680707680908\n",
      "Predictions done.\n",
      "auc for udsg-tagging epoch 200 $p_T, \\eta$ rew. (F.L. $\\gamma=$25.0), setup udsg_eps0.005: 0.8310575305927014\n",
      "Predictions done.\n",
      "auc for udsg-tagging epoch 200 $p_T, \\eta$ rew. (F.L. $\\gamma=$25.0), setup udsg_eps0.01: 0.8024854329043214\n",
      "Predictions done.\n",
      "auc for udsg-tagging epoch 200 $p_T, \\eta$ rew. (F.L. $\\gamma=$25.0), setup udsg_eps0.05: 0.6119778928059443\n",
      "Predictions done.\n",
      "auc for udsg-tagging epoch 200 $p_T, \\eta$ rew. (F.L. $\\gamma=$25.0), setup udsg_eps0.1: 0.4932433737241323\n",
      "findfont: Font family ['cursive'] not found. Falling back to DejaVu Sans.\n",
      "Figure(1200x1200)\n"
     ]
    }
   ],
   "source": [
    "!python eval_roc_new.py 278 200 udsg_raw,udsg_eps0.005,udsg_eps0.01,udsg_eps0.05,udsg_eps0.1 no _ptetaflavloss_focalloss_gamma25.0 0.001 -1 yes no -1 no ROC"
   ]
  },
  {
   "cell_type": "code",
   "execution_count": 70,
   "metadata": {},
   "outputs": [
    {
     "name": "stdout",
     "output_type": "stream",
     "text": [
      "Evaluate training at epoch 200\n",
      "With weighting method _ptetaflavloss_focalloss_gamma25.0\n",
      "gamma ['25.0']\n",
      "alpha ['25.0']\n",
      "epsilon ['_ptetaflavloss_focalloss_gamma25.0']\n",
      "test inputs done\n",
      "test targets done\n",
      "number of test inputs 13283070\n",
      "BvL\n",
      "Prepared matching inputs and targets for this output/discriminator.\n",
      "Predictions done.\n",
      "auc for bvl-tagging epoch 200 $p_T, \\eta$ rew. (F.L. $\\gamma=$25.0), setup BvL_raw: 0.947256066778877\n",
      "Predictions done.\n",
      "auc for bvl-tagging epoch 200 $p_T, \\eta$ rew. (F.L. $\\gamma=$25.0), setup BvL_eps0.005: 0.9202027640532419\n",
      "Predictions done.\n",
      "auc for bvl-tagging epoch 200 $p_T, \\eta$ rew. (F.L. $\\gamma=$25.0), setup BvL_eps0.01: 0.8860962391706987\n",
      "Predictions done.\n",
      "auc for bvl-tagging epoch 200 $p_T, \\eta$ rew. (F.L. $\\gamma=$25.0), setup BvL_eps0.05: 0.6475589823619697\n",
      "Predictions done.\n",
      "auc for bvl-tagging epoch 200 $p_T, \\eta$ rew. (F.L. $\\gamma=$25.0), setup BvL_eps0.1: 0.4850969342890189\n",
      "findfont: Font family ['cursive'] not found. Falling back to DejaVu Sans.\n",
      "Figure(1200x1200)\n"
     ]
    }
   ],
   "source": [
    "!python eval_roc_new.py 278 200 BvL_raw,BvL_eps0.005,BvL_eps0.01,BvL_eps0.05,BvL_eps0.1 no _ptetaflavloss_focalloss_gamma25.0 0.001 -1 yes no -1 no ROC"
   ]
  },
  {
   "cell_type": "code",
   "execution_count": 71,
   "metadata": {},
   "outputs": [
    {
     "name": "stdout",
     "output_type": "stream",
     "text": [
      "Evaluate training at epoch 200\n",
      "With weighting method _ptetaflavloss_focalloss_gamma25.0\n",
      "gamma ['25.0']\n",
      "alpha ['25.0']\n",
      "epsilon ['_ptetaflavloss_focalloss_gamma25.0']\n",
      "test inputs done\n",
      "test targets done\n",
      "number of test inputs 13283070\n",
      "BvC\n",
      "Prepared matching inputs and targets for this output/discriminator.\n",
      "Predictions done.\n",
      "auc for bvc-tagging epoch 200 $p_T, \\eta$ rew. (F.L. $\\gamma=$25.0), setup BvC_raw: 0.8663511544015304\n",
      "Predictions done.\n",
      "auc for bvc-tagging epoch 200 $p_T, \\eta$ rew. (F.L. $\\gamma=$25.0), setup BvC_eps0.005: 0.8314914219370341\n",
      "Predictions done.\n",
      "auc for bvc-tagging epoch 200 $p_T, \\eta$ rew. (F.L. $\\gamma=$25.0), setup BvC_eps0.01: 0.7934087845023442\n",
      "Predictions done.\n",
      "auc for bvc-tagging epoch 200 $p_T, \\eta$ rew. (F.L. $\\gamma=$25.0), setup BvC_eps0.05: 0.5279705254578216\n",
      "Predictions done.\n",
      "auc for bvc-tagging epoch 200 $p_T, \\eta$ rew. (F.L. $\\gamma=$25.0), setup BvC_eps0.1: 0.3705117576856729\n",
      "findfont: Font family ['cursive'] not found. Falling back to DejaVu Sans.\n",
      "Figure(1200x1200)\n"
     ]
    }
   ],
   "source": [
    "!python eval_roc_new.py 278 200 BvC_raw,BvC_eps0.005,BvC_eps0.01,BvC_eps0.05,BvC_eps0.1 no _ptetaflavloss_focalloss_gamma25.0 0.001 -1 yes no -1 no ROC"
   ]
  },
  {
   "cell_type": "code",
   "execution_count": 72,
   "metadata": {},
   "outputs": [
    {
     "name": "stdout",
     "output_type": "stream",
     "text": [
      "Evaluate training at epoch 200\n",
      "With weighting method _ptetaflavloss_focalloss_gamma25.0\n",
      "gamma ['25.0']\n",
      "alpha ['25.0']\n",
      "epsilon ['_ptetaflavloss_focalloss_gamma25.0']\n",
      "test inputs done\n",
      "test targets done\n",
      "number of test inputs 13283070\n",
      "CvB\n",
      "Prepared matching inputs and targets for this output/discriminator.\n",
      "Predictions done.\n",
      "auc for cvb-tagging epoch 200 $p_T, \\eta$ rew. (F.L. $\\gamma=$25.0), setup CvB_raw: 0.8663511767849073\n",
      "Predictions done.\n",
      "auc for cvb-tagging epoch 200 $p_T, \\eta$ rew. (F.L. $\\gamma=$25.0), setup CvB_eps0.005: 0.8314914315970157\n",
      "Predictions done.\n",
      "auc for cvb-tagging epoch 200 $p_T, \\eta$ rew. (F.L. $\\gamma=$25.0), setup CvB_eps0.01: 0.7934087958051652\n",
      "Predictions done.\n",
      "auc for cvb-tagging epoch 200 $p_T, \\eta$ rew. (F.L. $\\gamma=$25.0), setup CvB_eps0.05: 0.5279705776342194\n",
      "Predictions done.\n",
      "auc for cvb-tagging epoch 200 $p_T, \\eta$ rew. (F.L. $\\gamma=$25.0), setup CvB_eps0.1: 0.370512545977014\n",
      "findfont: Font family ['cursive'] not found. Falling back to DejaVu Sans.\n",
      "Figure(1200x1200)\n"
     ]
    }
   ],
   "source": [
    "!python eval_roc_new.py 278 200 CvB_raw,CvB_eps0.005,CvB_eps0.01,CvB_eps0.05,CvB_eps0.1 no _ptetaflavloss_focalloss_gamma25.0 0.001 -1 yes no -1 no ROC"
   ]
  },
  {
   "cell_type": "code",
   "execution_count": null,
   "metadata": {},
   "outputs": [
    {
     "name": "stdout",
     "output_type": "stream",
     "text": [
      "Evaluate training at epoch 200\n",
      "With weighting method _ptetaflavloss_focalloss_gamma25.0\n",
      "gamma ['25.0']\n",
      "alpha ['25.0']\n",
      "epsilon ['_ptetaflavloss_focalloss_gamma25.0']\n",
      "test inputs done\n",
      "test targets done\n",
      "number of test inputs 13283070\n",
      "CvL\n",
      "Prepared matching inputs and targets for this output/discriminator.\n",
      "Predictions done.\n",
      "auc for cvl-tagging epoch 200 $p_T, \\eta$ rew. (F.L. $\\gamma=$25.0), setup CvL_raw: 0.7495151027782788\n",
      "Predictions done.\n",
      "auc for cvl-tagging epoch 200 $p_T, \\eta$ rew. (F.L. $\\gamma=$25.0), setup CvL_eps0.005: 0.7272137297785761\n"
     ]
    }
   ],
   "source": [
    "!python eval_roc_new.py 278 200 CvL_raw,CvL_eps0.005,CvL_eps0.01,CvL_eps0.05,CvL_eps0.1 no _ptetaflavloss_focalloss_gamma25.0 0.001 -1 yes no -1 no ROC"
   ]
  },
  {
   "cell_type": "markdown",
   "metadata": {},
   "source": [
    "***\n",
    "Setup for plot:\n",
    "\n",
    "With DeepCSV,\n",
    "Mini-eval,\n",
    "Without additional axis,\n",
    "With log-scale (flip)"
   ]
  },
  {
   "cell_type": "code",
   "execution_count": null,
   "metadata": {},
   "outputs": [],
   "source": [
    "!python eval_roc_new.py 278 200 b_raw,b_eps0.005,b_eps0.01,b_eps0.05,b_eps0.1 no _ptetaflavloss_focalloss_gamma25.0 0.001 -1 yes no -1 yes ROC"
   ]
  },
  {
   "cell_type": "code",
   "execution_count": null,
   "metadata": {},
   "outputs": [],
   "source": [
    "!python eval_roc_new.py 278 200 bb_raw,bb_eps0.005,bb_eps0.01,bb_eps0.05,bb_eps0.1 no _ptetaflavloss_focalloss_gamma25.0 0.001 -1 yes no -1 yes ROC"
   ]
  },
  {
   "cell_type": "code",
   "execution_count": null,
   "metadata": {},
   "outputs": [],
   "source": [
    "!python eval_roc_new.py 278 200 c_raw,c_eps0.005,c_eps0.01,c_eps0.05,c_eps0.1 no _ptetaflavloss_focalloss_gamma25.0 0.001 -1 yes no -1 yes ROC"
   ]
  },
  {
   "cell_type": "code",
   "execution_count": null,
   "metadata": {},
   "outputs": [],
   "source": [
    "!python eval_roc_new.py 278 200 udsg_raw,udsg_eps0.005,udsg_eps0.01,udsg_eps0.05,udsg_eps0.1 no _ptetaflavloss_focalloss_gamma25.0 0.001 -1 yes no -1 yes ROC"
   ]
  },
  {
   "cell_type": "code",
   "execution_count": null,
   "metadata": {},
   "outputs": [],
   "source": [
    "!python eval_roc_new.py 278 200 BvL_raw,BvL_eps0.005,BvL_eps0.01,BvL_eps0.05,BvL_eps0.1 no _ptetaflavloss_focalloss_gamma25.0 0.001 -1 yes no -1 yes ROC"
   ]
  },
  {
   "cell_type": "code",
   "execution_count": null,
   "metadata": {},
   "outputs": [],
   "source": [
    "!python eval_roc_new.py 278 200 BvC_raw,BvC_eps0.005,BvC_eps0.01,BvC_eps0.05,BvC_eps0.1 no _ptetaflavloss_focalloss_gamma25.0 0.001 -1 yes no -1 yes ROC"
   ]
  },
  {
   "cell_type": "code",
   "execution_count": null,
   "metadata": {},
   "outputs": [],
   "source": [
    "!python eval_roc_new.py 278 200 CvB_raw,CvB_eps0.005,CvB_eps0.01,CvB_eps0.05,CvB_eps0.1 no _ptetaflavloss_focalloss_gamma25.0 0.001 -1 yes no -1 yes ROC"
   ]
  },
  {
   "cell_type": "code",
   "execution_count": null,
   "metadata": {},
   "outputs": [],
   "source": [
    "!python eval_roc_new.py 278 200 CvL_raw,CvL_eps0.005,CvL_eps0.01,CvL_eps0.05,CvL_eps0.1 no _ptetaflavloss_focalloss_gamma25.0 0.001 -1 yes no -1 yes ROC"
   ]
  },
  {
   "cell_type": "markdown",
   "metadata": {},
   "source": [
    "***\n",
    "***\n",
    "## Basic training\n",
    "### Same epsilon for FGSM, different epochs for evaluation, but all with one fixed model for the FGSM attack\n",
    "***"
   ]
  },
  {
   "cell_type": "markdown",
   "metadata": {},
   "source": [
    "Setup for plot:\n",
    "\n",
    "With DeepCSV,\n",
    "Mini-eval,\n",
    "No additional axis,\n",
    "No log-scale (flip)"
   ]
  },
  {
   "cell_type": "code",
   "execution_count": null,
   "metadata": {},
   "outputs": [],
   "source": [
    "!python eval_roc_new.py 278 10,10,100,100,200,200 b_raw,b_eps0.01,b_raw,b_eps0.01,b_raw,b_eps0.01 no _ptetaflavloss_focalloss_gamma25.0 0.001 -1 yes no 5 no ROC"
   ]
  },
  {
   "cell_type": "code",
   "execution_count": null,
   "metadata": {},
   "outputs": [],
   "source": [
    "!python eval_roc_new.py 278 10,10,100,100,200,200 bb_raw,b_eps0.01,bb_raw,bb_eps0.01,bb_raw,bb_eps0.01 no _ptetaflavloss_focalloss_gamma25.0 0.001 -1 yes no 5 no ROC"
   ]
  },
  {
   "cell_type": "code",
   "execution_count": null,
   "metadata": {},
   "outputs": [],
   "source": [
    "!python eval_roc_new.py 278 10,10,100,100,200,200 c_raw,c_eps0.01,c_raw,c_eps0.01,c_raw,c_eps0.01 no _ptetaflavloss_focalloss_gamma25.0 0.001 -1 yes no 5 no ROC"
   ]
  },
  {
   "cell_type": "code",
   "execution_count": null,
   "metadata": {},
   "outputs": [],
   "source": [
    "!python eval_roc_new.py 278 10,10,100,100,200,200 udsg_raw,udsg_eps0.01,udsg_raw,udsg_eps0.01,udsg_raw,udsg_eps0.01 no _ptetaflavloss_focalloss_gamma25.0 0.001 -1 yes no 5 no ROC"
   ]
  },
  {
   "cell_type": "code",
   "execution_count": 2,
   "metadata": {},
   "outputs": [
    {
     "name": "stdout",
     "output_type": "stream",
     "text": [
      "Evaluate training at epoch 10,10,100,100,200,200\n",
      "With weighting method _ptetaflavloss_focalloss_gamma25.0\n",
      "gamma ['25.0']\n",
      "alpha ['25.0']\n",
      "epsilon ['_ptetaflavloss_focalloss_gamma25.0']\n",
      "test inputs done\n",
      "test targets done\n",
      "number of test inputs 13283070\n",
      "BvL\n",
      "Prepared matching inputs and targets for this output/discriminator.\n",
      "Predictions done.\n",
      "auc for bvl-tagging epoch 10 $p_T, \\eta$ rew. (F.L. $\\gamma=$25.0), setup BvL_raw: 0.9424025827237164\n",
      "Predictions done.\n",
      "auc for bvl-tagging epoch 10 $p_T, \\eta$ rew. (F.L. $\\gamma=$25.0), setup BvL_eps0.01: 0.9249374350506442\n",
      "Predictions done.\n",
      "auc for bvl-tagging epoch 100 $p_T, \\eta$ rew. (F.L. $\\gamma=$25.0), setup BvL_raw: 0.9467892045744443\n",
      "Predictions done.\n",
      "auc for bvl-tagging epoch 100 $p_T, \\eta$ rew. (F.L. $\\gamma=$25.0), setup BvL_eps0.01: 0.8941091815839971\n",
      "Predictions done.\n",
      "auc for bvl-tagging epoch 200 $p_T, \\eta$ rew. (F.L. $\\gamma=$25.0), setup BvL_raw: 0.947256066778877\n",
      "Predictions done.\n",
      "auc for bvl-tagging epoch 200 $p_T, \\eta$ rew. (F.L. $\\gamma=$25.0), setup BvL_eps0.01: 0.8860962391706987\n",
      "findfont: Font family ['cursive'] not found. Falling back to DejaVu Sans.\n",
      "Figure(1200x1200)\n"
     ]
    }
   ],
   "source": [
    "!python eval_roc_new.py 278 10,10,100,100,200,200 BvL_raw,BvL_eps0.01,BvL_raw,BvL_eps0.01,BvL_raw,BvL_eps0.01 no _ptetaflavloss_focalloss_gamma25.0 0.001 -1 yes no 5 no ROC"
   ]
  },
  {
   "cell_type": "code",
   "execution_count": null,
   "metadata": {},
   "outputs": [],
   "source": [
    "!python eval_roc_new.py 278 10,10,100,100,200,200 BvC_raw,BvC_eps0.01,BvC_raw,BvC_eps0.01,BvC_raw,BvC_eps0.01 no _ptetaflavloss_focalloss_gamma25.0 0.001 -1 yes no 5 no ROC"
   ]
  },
  {
   "cell_type": "code",
   "execution_count": null,
   "metadata": {},
   "outputs": [],
   "source": [
    "!python eval_roc_new.py 278 10,10,100,100,200,200 CvB_raw,CvB_eps0.01,CvB_raw,CvB_eps0.01,CvB_raw,CvB_eps0.01 no _ptetaflavloss_focalloss_gamma25.0 0.001 -1 yes no 5 no ROC"
   ]
  },
  {
   "cell_type": "code",
   "execution_count": null,
   "metadata": {},
   "outputs": [],
   "source": [
    "!python eval_roc_new.py 278 10,10,100,100,200,200 CvL_raw,CvL_eps0.01,CvL_raw,CvL_eps0.01,CvL_raw,CvL_eps0.01 no _ptetaflavloss_focalloss_gamma25.0 0.001 -1 yes no 5 no ROC"
   ]
  },
  {
   "cell_type": "markdown",
   "metadata": {},
   "source": [
    "***\n",
    "Setup for plot:\n",
    "\n",
    "With DeepCSV,\n",
    "Mini-eval,\n",
    "Without additional axis,\n",
    "With log-scale (flip)"
   ]
  },
  {
   "cell_type": "code",
   "execution_count": 5,
   "metadata": {},
   "outputs": [
    {
     "name": "stdout",
     "output_type": "stream",
     "text": [
      "Evaluate training at epoch 10,10,100,100,200,200\n",
      "With weighting method _ptetaflavloss_focalloss_gamma25.0\n",
      "gamma ['25.0']\n",
      "alpha ['25.0']\n",
      "epsilon ['_ptetaflavloss_focalloss_gamma25.0']\n",
      "test inputs done\n",
      "test targets done\n",
      "number of test inputs 13283070\n",
      "b\n",
      "Prepared matching inputs and targets for this output/discriminator.\n",
      "Predictions done.\n",
      "auc for b-tagging epoch 10 $p_T, \\eta$ rew. (F.L. $\\gamma=$25.0), setup b_raw: 0.9223602899433975\n",
      "Predictions done.\n",
      "auc for b-tagging epoch 10 $p_T, \\eta$ rew. (F.L. $\\gamma=$25.0), setup b_eps0.01: 0.9043338978564348\n",
      "Predictions done.\n",
      "auc for b-tagging epoch 100 $p_T, \\eta$ rew. (F.L. $\\gamma=$25.0), setup b_raw: 0.9270856713286586\n",
      "Predictions done.\n",
      "auc for b-tagging epoch 100 $p_T, \\eta$ rew. (F.L. $\\gamma=$25.0), setup b_eps0.01: 0.8836142563404651\n",
      "Predictions done.\n",
      "auc for b-tagging epoch 200 $p_T, \\eta$ rew. (F.L. $\\gamma=$25.0), setup b_raw: 0.9279157583881175\n",
      "Predictions done.\n",
      "auc for b-tagging epoch 200 $p_T, \\eta$ rew. (F.L. $\\gamma=$25.0), setup b_eps0.01: 0.880449642646804\n",
      "findfont: Font family ['cursive'] not found. Falling back to DejaVu Sans.\n",
      "Figure(1200x1200)\n"
     ]
    }
   ],
   "source": [
    "!python eval_roc_new.py 278 10,10,100,100,200,200 b_raw,b_eps0.01,b_raw,b_eps0.01,b_raw,b_eps0.01 no _ptetaflavloss_focalloss_gamma25.0 0.001 -1 yes no 5 yes ROC"
   ]
  },
  {
   "cell_type": "code",
   "execution_count": 6,
   "metadata": {},
   "outputs": [
    {
     "name": "stdout",
     "output_type": "stream",
     "text": [
      "Evaluate training at epoch 10,10,100,100,200,200\n",
      "With weighting method _ptetaflavloss_focalloss_gamma25.0\n",
      "gamma ['25.0']\n",
      "alpha ['25.0']\n",
      "epsilon ['_ptetaflavloss_focalloss_gamma25.0']\n",
      "test inputs done\n",
      "test targets done\n",
      "number of test inputs 13283070\n",
      "bb\n",
      "Prepared matching inputs and targets for this output/discriminator.\n",
      "Predictions done.\n",
      "auc for bb-tagging epoch 10 $p_T, \\eta$ rew. (F.L. $\\gamma=$25.0), setup bb_raw: 0.9446247966697879\n",
      "Predictions done.\n",
      "auc for bb-tagging epoch 10 $p_T, \\eta$ rew. (F.L. $\\gamma=$25.0), setup b_eps0.01: 0.9333313782841078\n",
      "Predictions done.\n",
      "auc for bb-tagging epoch 100 $p_T, \\eta$ rew. (F.L. $\\gamma=$25.0), setup bb_raw: 0.9483283933387756\n",
      "Predictions done.\n",
      "auc for bb-tagging epoch 100 $p_T, \\eta$ rew. (F.L. $\\gamma=$25.0), setup bb_eps0.01: 0.9111501589364842\n",
      "Predictions done.\n",
      "auc for bb-tagging epoch 200 $p_T, \\eta$ rew. (F.L. $\\gamma=$25.0), setup bb_raw: 0.949183328890535\n",
      "Predictions done.\n",
      "auc for bb-tagging epoch 200 $p_T, \\eta$ rew. (F.L. $\\gamma=$25.0), setup bb_eps0.01: 0.9055340119989109\n",
      "findfont: Font family ['cursive'] not found. Falling back to DejaVu Sans.\n",
      "Figure(1200x1200)\n"
     ]
    }
   ],
   "source": [
    "!python eval_roc_new.py 278 10,10,100,100,200,200 bb_raw,b_eps0.01,bb_raw,bb_eps0.01,bb_raw,bb_eps0.01 no _ptetaflavloss_focalloss_gamma25.0 0.001 -1 yes no 5 yes ROC"
   ]
  },
  {
   "cell_type": "code",
   "execution_count": 7,
   "metadata": {},
   "outputs": [
    {
     "name": "stdout",
     "output_type": "stream",
     "text": [
      "Evaluate training at epoch 10,10,100,100,200,200\n",
      "With weighting method _ptetaflavloss_focalloss_gamma25.0\n",
      "gamma ['25.0']\n",
      "alpha ['25.0']\n",
      "epsilon ['_ptetaflavloss_focalloss_gamma25.0']\n",
      "test inputs done\n",
      "test targets done\n",
      "number of test inputs 13283070\n",
      "c\n",
      "Prepared matching inputs and targets for this output/discriminator.\n",
      "Predictions done.\n",
      "auc for c-tagging epoch 10 $p_T, \\eta$ rew. (F.L. $\\gamma=$25.0), setup c_raw: 0.5113990227876547\n",
      "Predictions done.\n",
      "auc for c-tagging epoch 10 $p_T, \\eta$ rew. (F.L. $\\gamma=$25.0), setup c_eps0.01: 0.5047104824497589\n",
      "Predictions done.\n",
      "auc for c-tagging epoch 100 $p_T, \\eta$ rew. (F.L. $\\gamma=$25.0), setup c_raw: 0.5320432237365436\n",
      "Predictions done.\n",
      "auc for c-tagging epoch 100 $p_T, \\eta$ rew. (F.L. $\\gamma=$25.0), setup c_eps0.01: 0.5194536597158287\n",
      "Predictions done.\n",
      "auc for c-tagging epoch 200 $p_T, \\eta$ rew. (F.L. $\\gamma=$25.0), setup c_raw: 0.535912067277592\n",
      "Predictions done.\n",
      "auc for c-tagging epoch 200 $p_T, \\eta$ rew. (F.L. $\\gamma=$25.0), setup c_eps0.01: 0.5218362931612719\n",
      "findfont: Font family ['cursive'] not found. Falling back to DejaVu Sans.\n",
      "Figure(1200x1200)\n"
     ]
    }
   ],
   "source": [
    "!python eval_roc_new.py 278 10,10,100,100,200,200 c_raw,c_eps0.01,c_raw,c_eps0.01,c_raw,c_eps0.01 no _ptetaflavloss_focalloss_gamma25.0 0.001 -1 yes no 5 yes ROC"
   ]
  },
  {
   "cell_type": "code",
   "execution_count": 8,
   "metadata": {},
   "outputs": [
    {
     "name": "stdout",
     "output_type": "stream",
     "text": [
      "Evaluate training at epoch 10,10,100,100,200,200\n",
      "With weighting method _ptetaflavloss_focalloss_gamma25.0\n",
      "gamma ['25.0']\n",
      "alpha ['25.0']\n",
      "epsilon ['_ptetaflavloss_focalloss_gamma25.0']\n",
      "test inputs done\n",
      "test targets done\n",
      "number of test inputs 13283070\n",
      "udsg\n",
      "Prepared matching inputs and targets for this output/discriminator.\n",
      "Predictions done.\n",
      "auc for udsg-tagging epoch 10 $p_T, \\eta$ rew. (F.L. $\\gamma=$25.0), setup udsg_raw: 0.846588053956517\n",
      "Predictions done.\n",
      "auc for udsg-tagging epoch 10 $p_T, \\eta$ rew. (F.L. $\\gamma=$25.0), setup udsg_eps0.01: 0.8301828551050268\n",
      "Predictions done.\n",
      "auc for udsg-tagging epoch 100 $p_T, \\eta$ rew. (F.L. $\\gamma=$25.0), setup udsg_raw: 0.853057707826037\n",
      "Predictions done.\n",
      "auc for udsg-tagging epoch 100 $p_T, \\eta$ rew. (F.L. $\\gamma=$25.0), setup udsg_eps0.01: 0.808730948540148\n",
      "Predictions done.\n",
      "auc for udsg-tagging epoch 200 $p_T, \\eta$ rew. (F.L. $\\gamma=$25.0), setup udsg_raw: 0.8538680707680908\n",
      "Predictions done.\n",
      "auc for udsg-tagging epoch 200 $p_T, \\eta$ rew. (F.L. $\\gamma=$25.0), setup udsg_eps0.01: 0.8024854329043214\n",
      "findfont: Font family ['cursive'] not found. Falling back to DejaVu Sans.\n",
      "Figure(1200x1200)\n"
     ]
    }
   ],
   "source": [
    "!python eval_roc_new.py 278 10,10,100,100,200,200 udsg_raw,udsg_eps0.01,udsg_raw,udsg_eps0.01,udsg_raw,udsg_eps0.01 no _ptetaflavloss_focalloss_gamma25.0 0.001 -1 yes no 5 yes ROC"
   ]
  },
  {
   "cell_type": "code",
   "execution_count": 4,
   "metadata": {},
   "outputs": [
    {
     "name": "stdout",
     "output_type": "stream",
     "text": [
      "Evaluate training at epoch 10,10,100,100,200,200\n",
      "With weighting method _ptetaflavloss_focalloss_gamma25.0\n",
      "gamma ['25.0']\n",
      "alpha ['25.0']\n",
      "epsilon ['_ptetaflavloss_focalloss_gamma25.0']\n",
      "test inputs done\n",
      "test targets done\n",
      "number of test inputs 13283070\n",
      "BvL\n",
      "Prepared matching inputs and targets for this output/discriminator.\n",
      "Predictions done.\n",
      "auc for bvl-tagging epoch 10 $p_T, \\eta$ rew. (F.L. $\\gamma=$25.0), setup BvL_raw: 0.9424025827237164\n",
      "Predictions done.\n",
      "auc for bvl-tagging epoch 10 $p_T, \\eta$ rew. (F.L. $\\gamma=$25.0), setup BvL_eps0.01: 0.9249374350506442\n",
      "Predictions done.\n",
      "auc for bvl-tagging epoch 100 $p_T, \\eta$ rew. (F.L. $\\gamma=$25.0), setup BvL_raw: 0.9467892045744443\n",
      "Predictions done.\n",
      "auc for bvl-tagging epoch 100 $p_T, \\eta$ rew. (F.L. $\\gamma=$25.0), setup BvL_eps0.01: 0.8941091815839971\n",
      "Predictions done.\n",
      "auc for bvl-tagging epoch 200 $p_T, \\eta$ rew. (F.L. $\\gamma=$25.0), setup BvL_raw: 0.947256066778877\n",
      "Predictions done.\n",
      "auc for bvl-tagging epoch 200 $p_T, \\eta$ rew. (F.L. $\\gamma=$25.0), setup BvL_eps0.01: 0.8860962391706987\n",
      "findfont: Font family ['cursive'] not found. Falling back to DejaVu Sans.\n",
      "Figure(1200x1200)\n"
     ]
    }
   ],
   "source": [
    "!python eval_roc_new.py 278 10,10,100,100,200,200 BvL_raw,BvL_eps0.01,BvL_raw,BvL_eps0.01,BvL_raw,BvL_eps0.01 no _ptetaflavloss_focalloss_gamma25.0 0.001 -1 yes no 5 yes ROC"
   ]
  },
  {
   "cell_type": "code",
   "execution_count": 9,
   "metadata": {},
   "outputs": [
    {
     "name": "stdout",
     "output_type": "stream",
     "text": [
      "Evaluate training at epoch 10,10,100,100,200,200\n",
      "With weighting method _ptetaflavloss_focalloss_gamma25.0\n",
      "gamma ['25.0']\n",
      "alpha ['25.0']\n",
      "epsilon ['_ptetaflavloss_focalloss_gamma25.0']\n",
      "test inputs done\n",
      "test targets done\n",
      "number of test inputs 13283070\n",
      "BvC\n",
      "Prepared matching inputs and targets for this output/discriminator.\n",
      "Predictions done.\n",
      "auc for bvc-tagging epoch 10 $p_T, \\eta$ rew. (F.L. $\\gamma=$25.0), setup BvC_raw: 0.8562684981526606\n",
      "Predictions done.\n",
      "auc for bvc-tagging epoch 10 $p_T, \\eta$ rew. (F.L. $\\gamma=$25.0), setup BvC_eps0.01: 0.8342501253220624\n",
      "Predictions done.\n",
      "auc for bvc-tagging epoch 100 $p_T, \\eta$ rew. (F.L. $\\gamma=$25.0), setup BvC_raw: 0.8653889630109288\n",
      "Predictions done.\n",
      "auc for bvc-tagging epoch 100 $p_T, \\eta$ rew. (F.L. $\\gamma=$25.0), setup BvC_eps0.01: 0.8014987876955431\n",
      "Predictions done.\n",
      "auc for bvc-tagging epoch 200 $p_T, \\eta$ rew. (F.L. $\\gamma=$25.0), setup BvC_raw: 0.8663511544015304\n",
      "Predictions done.\n",
      "auc for bvc-tagging epoch 200 $p_T, \\eta$ rew. (F.L. $\\gamma=$25.0), setup BvC_eps0.01: 0.7934087845023442\n",
      "findfont: Font family ['cursive'] not found. Falling back to DejaVu Sans.\n",
      "Figure(1200x1200)\n"
     ]
    }
   ],
   "source": [
    "!python eval_roc_new.py 278 10,10,100,100,200,200 BvC_raw,BvC_eps0.01,BvC_raw,BvC_eps0.01,BvC_raw,BvC_eps0.01 no _ptetaflavloss_focalloss_gamma25.0 0.001 -1 yes no 5 yes ROC"
   ]
  },
  {
   "cell_type": "code",
   "execution_count": 10,
   "metadata": {},
   "outputs": [
    {
     "name": "stdout",
     "output_type": "stream",
     "text": [
      "Evaluate training at epoch 10,10,100,100,200,200\n",
      "With weighting method _ptetaflavloss_focalloss_gamma25.0\n",
      "gamma ['25.0']\n",
      "alpha ['25.0']\n",
      "epsilon ['_ptetaflavloss_focalloss_gamma25.0']\n",
      "test inputs done\n",
      "test targets done\n",
      "number of test inputs 13283070\n",
      "CvB\n",
      "Prepared matching inputs and targets for this output/discriminator.\n",
      "Predictions done.\n",
      "auc for cvb-tagging epoch 10 $p_T, \\eta$ rew. (F.L. $\\gamma=$25.0), setup CvB_raw: 0.8562684982258016\n",
      "Predictions done.\n",
      "auc for cvb-tagging epoch 10 $p_T, \\eta$ rew. (F.L. $\\gamma=$25.0), setup CvB_eps0.01: 0.8342501253252582\n",
      "Predictions done.\n",
      "auc for cvb-tagging epoch 100 $p_T, \\eta$ rew. (F.L. $\\gamma=$25.0), setup CvB_raw: 0.8653889667592449\n",
      "Predictions done.\n",
      "auc for cvb-tagging epoch 100 $p_T, \\eta$ rew. (F.L. $\\gamma=$25.0), setup CvB_eps0.01: 0.8014987994205245\n",
      "Predictions done.\n",
      "auc for cvb-tagging epoch 200 $p_T, \\eta$ rew. (F.L. $\\gamma=$25.0), setup CvB_raw: 0.8663511767849073\n",
      "Predictions done.\n",
      "auc for cvb-tagging epoch 200 $p_T, \\eta$ rew. (F.L. $\\gamma=$25.0), setup CvB_eps0.01: 0.7934087958051652\n",
      "findfont: Font family ['cursive'] not found. Falling back to DejaVu Sans.\n",
      "Figure(1200x1200)\n"
     ]
    }
   ],
   "source": [
    "!python eval_roc_new.py 278 10,10,100,100,200,200 CvB_raw,CvB_eps0.01,CvB_raw,CvB_eps0.01,CvB_raw,CvB_eps0.01 no _ptetaflavloss_focalloss_gamma25.0 0.001 -1 yes no 5 yes ROC"
   ]
  },
  {
   "cell_type": "code",
   "execution_count": 11,
   "metadata": {},
   "outputs": [
    {
     "name": "stdout",
     "output_type": "stream",
     "text": [
      "Evaluate training at epoch 10,10,100,100,200,200\n",
      "With weighting method _ptetaflavloss_focalloss_gamma25.0\n",
      "gamma ['25.0']\n",
      "alpha ['25.0']\n",
      "epsilon ['_ptetaflavloss_focalloss_gamma25.0']\n",
      "test inputs done\n",
      "test targets done\n",
      "number of test inputs 13283070\n",
      "CvL\n",
      "Prepared matching inputs and targets for this output/discriminator.\n",
      "Predictions done.\n",
      "auc for cvl-tagging epoch 10 $p_T, \\eta$ rew. (F.L. $\\gamma=$25.0), setup CvL_raw: 0.7378801273337545\n",
      "Predictions done.\n",
      "auc for cvl-tagging epoch 10 $p_T, \\eta$ rew. (F.L. $\\gamma=$25.0), setup CvL_eps0.01: 0.7189404831346736\n",
      "Predictions done.\n",
      "auc for cvl-tagging epoch 100 $p_T, \\eta$ rew. (F.L. $\\gamma=$25.0), setup CvL_raw: 0.7478788739992308\n",
      "Predictions done.\n",
      "auc for cvl-tagging epoch 100 $p_T, \\eta$ rew. (F.L. $\\gamma=$25.0), setup CvL_eps0.01: 0.7067460484680328\n",
      "Predictions done.\n",
      "auc for cvl-tagging epoch 200 $p_T, \\eta$ rew. (F.L. $\\gamma=$25.0), setup CvL_raw: 0.7495151027782788\n",
      "Predictions done.\n",
      "auc for cvl-tagging epoch 200 $p_T, \\eta$ rew. (F.L. $\\gamma=$25.0), setup CvL_eps0.01: 0.701023066960059\n",
      "findfont: Font family ['cursive'] not found. Falling back to DejaVu Sans.\n",
      "Figure(1200x1200)\n"
     ]
    }
   ],
   "source": [
    "!python eval_roc_new.py 278 10,10,100,100,200,200 CvL_raw,CvL_eps0.01,CvL_raw,CvL_eps0.01,CvL_raw,CvL_eps0.01 no _ptetaflavloss_focalloss_gamma25.0 0.001 -1 yes no 5 yes ROC"
   ]
  },
  {
   "cell_type": "markdown",
   "metadata": {},
   "source": [
    "***\n",
    "Setup for plot:\n",
    "\n",
    "With DeepCSV,\n",
    "Mini-eval,\n",
    "With additional axis,\n",
    "With log-scale (flip)"
   ]
  },
  {
   "cell_type": "code",
   "execution_count": 12,
   "metadata": {},
   "outputs": [
    {
     "name": "stdout",
     "output_type": "stream",
     "text": [
      "Evaluate training at epoch 10,10,100,100,200,200\n",
      "With weighting method _ptetaflavloss_focalloss_gamma25.0\n",
      "gamma ['25.0']\n",
      "alpha ['25.0']\n",
      "epsilon ['_ptetaflavloss_focalloss_gamma25.0']\n",
      "test inputs done\n",
      "test targets done\n",
      "number of test inputs 13283070\n",
      "b\n",
      "Prepared matching inputs and targets for this output/discriminator.\n",
      "Predictions done.\n",
      "auc for b-tagging epoch 10 $p_T, \\eta$ rew. (F.L. $\\gamma=$25.0), setup b_raw: 0.9223602899433975\n",
      "Predictions done.\n",
      "auc for b-tagging epoch 10 $p_T, \\eta$ rew. (F.L. $\\gamma=$25.0), setup b_eps0.01: 0.9043338978564348\n",
      "Predictions done.\n",
      "auc for b-tagging epoch 100 $p_T, \\eta$ rew. (F.L. $\\gamma=$25.0), setup b_raw: 0.9270856713286586\n",
      "Predictions done.\n",
      "auc for b-tagging epoch 100 $p_T, \\eta$ rew. (F.L. $\\gamma=$25.0), setup b_eps0.01: 0.8836142563404651\n",
      "Predictions done.\n",
      "auc for b-tagging epoch 200 $p_T, \\eta$ rew. (F.L. $\\gamma=$25.0), setup b_raw: 0.9279157583881175\n",
      "Predictions done.\n",
      "auc for b-tagging epoch 200 $p_T, \\eta$ rew. (F.L. $\\gamma=$25.0), setup b_eps0.01: 0.880449642646804\n",
      "findfont: Font family ['cursive'] not found. Falling back to DejaVu Sans.\n",
      "Figure(1200x1200)\n"
     ]
    }
   ],
   "source": [
    "!python eval_roc_new.py 278 10,10,100,100,200,200 b_raw,b_eps0.01,b_raw,b_eps0.01,b_raw,b_eps0.01 no _ptetaflavloss_focalloss_gamma25.0 0.001 -1 yes yes 5 yes ROC"
   ]
  },
  {
   "cell_type": "code",
   "execution_count": 13,
   "metadata": {},
   "outputs": [
    {
     "name": "stdout",
     "output_type": "stream",
     "text": [
      "Evaluate training at epoch 10,10,100,100,200,200\n",
      "With weighting method _ptetaflavloss_focalloss_gamma25.0\n",
      "gamma ['25.0']\n",
      "alpha ['25.0']\n",
      "epsilon ['_ptetaflavloss_focalloss_gamma25.0']\n",
      "test inputs done\n",
      "test targets done\n",
      "number of test inputs 13283070\n",
      "bb\n",
      "Prepared matching inputs and targets for this output/discriminator.\n",
      "Predictions done.\n",
      "auc for bb-tagging epoch 10 $p_T, \\eta$ rew. (F.L. $\\gamma=$25.0), setup bb_raw: 0.9446247966697879\n",
      "Predictions done.\n",
      "auc for bb-tagging epoch 10 $p_T, \\eta$ rew. (F.L. $\\gamma=$25.0), setup b_eps0.01: 0.9333313782841078\n",
      "Predictions done.\n",
      "auc for bb-tagging epoch 100 $p_T, \\eta$ rew. (F.L. $\\gamma=$25.0), setup bb_raw: 0.9483283933387756\n",
      "Predictions done.\n",
      "auc for bb-tagging epoch 100 $p_T, \\eta$ rew. (F.L. $\\gamma=$25.0), setup bb_eps0.01: 0.9111501589364842\n",
      "Predictions done.\n",
      "auc for bb-tagging epoch 200 $p_T, \\eta$ rew. (F.L. $\\gamma=$25.0), setup bb_raw: 0.949183328890535\n",
      "Predictions done.\n",
      "auc for bb-tagging epoch 200 $p_T, \\eta$ rew. (F.L. $\\gamma=$25.0), setup bb_eps0.01: 0.9055340119989109\n",
      "findfont: Font family ['cursive'] not found. Falling back to DejaVu Sans.\n",
      "Figure(1200x1200)\n"
     ]
    }
   ],
   "source": [
    "!python eval_roc_new.py 278 10,10,100,100,200,200 bb_raw,b_eps0.01,bb_raw,bb_eps0.01,bb_raw,bb_eps0.01 no _ptetaflavloss_focalloss_gamma25.0 0.001 -1 yes yes 5 yes ROC"
   ]
  },
  {
   "cell_type": "code",
   "execution_count": 14,
   "metadata": {},
   "outputs": [
    {
     "name": "stdout",
     "output_type": "stream",
     "text": [
      "Evaluate training at epoch 10,10,100,100,200,200\n",
      "With weighting method _ptetaflavloss_focalloss_gamma25.0\n",
      "gamma ['25.0']\n",
      "alpha ['25.0']\n",
      "epsilon ['_ptetaflavloss_focalloss_gamma25.0']\n",
      "test inputs done\n",
      "test targets done\n",
      "number of test inputs 13283070\n",
      "c\n",
      "Prepared matching inputs and targets for this output/discriminator.\n",
      "Predictions done.\n",
      "auc for c-tagging epoch 10 $p_T, \\eta$ rew. (F.L. $\\gamma=$25.0), setup c_raw: 0.5113990227876547\n",
      "Predictions done.\n",
      "auc for c-tagging epoch 10 $p_T, \\eta$ rew. (F.L. $\\gamma=$25.0), setup c_eps0.01: 0.5047104824497589\n",
      "Predictions done.\n",
      "auc for c-tagging epoch 100 $p_T, \\eta$ rew. (F.L. $\\gamma=$25.0), setup c_raw: 0.5320432237365436\n",
      "Predictions done.\n",
      "auc for c-tagging epoch 100 $p_T, \\eta$ rew. (F.L. $\\gamma=$25.0), setup c_eps0.01: 0.5194536597158287\n",
      "Predictions done.\n",
      "auc for c-tagging epoch 200 $p_T, \\eta$ rew. (F.L. $\\gamma=$25.0), setup c_raw: 0.535912067277592\n",
      "Predictions done.\n",
      "auc for c-tagging epoch 200 $p_T, \\eta$ rew. (F.L. $\\gamma=$25.0), setup c_eps0.01: 0.5218362931612719\n",
      "findfont: Font family ['cursive'] not found. Falling back to DejaVu Sans.\n",
      "Figure(1200x1200)\n"
     ]
    }
   ],
   "source": [
    "!python eval_roc_new.py 278 10,10,100,100,200,200 c_raw,c_eps0.01,c_raw,c_eps0.01,c_raw,c_eps0.01 no _ptetaflavloss_focalloss_gamma25.0 0.001 -1 yes yes 5 yes ROC"
   ]
  },
  {
   "cell_type": "code",
   "execution_count": 15,
   "metadata": {},
   "outputs": [
    {
     "name": "stdout",
     "output_type": "stream",
     "text": [
      "Evaluate training at epoch 10,10,100,100,200,200\n",
      "With weighting method _ptetaflavloss_focalloss_gamma25.0\n",
      "gamma ['25.0']\n",
      "alpha ['25.0']\n",
      "epsilon ['_ptetaflavloss_focalloss_gamma25.0']\n",
      "test inputs done\n",
      "test targets done\n",
      "number of test inputs 13283070\n",
      "udsg\n",
      "Prepared matching inputs and targets for this output/discriminator.\n",
      "Predictions done.\n",
      "auc for udsg-tagging epoch 10 $p_T, \\eta$ rew. (F.L. $\\gamma=$25.0), setup udsg_raw: 0.846588053956517\n",
      "Predictions done.\n",
      "auc for udsg-tagging epoch 10 $p_T, \\eta$ rew. (F.L. $\\gamma=$25.0), setup udsg_eps0.01: 0.8301828551050268\n",
      "Predictions done.\n",
      "auc for udsg-tagging epoch 100 $p_T, \\eta$ rew. (F.L. $\\gamma=$25.0), setup udsg_raw: 0.853057707826037\n",
      "Predictions done.\n",
      "auc for udsg-tagging epoch 100 $p_T, \\eta$ rew. (F.L. $\\gamma=$25.0), setup udsg_eps0.01: 0.808730948540148\n",
      "Predictions done.\n",
      "auc for udsg-tagging epoch 200 $p_T, \\eta$ rew. (F.L. $\\gamma=$25.0), setup udsg_raw: 0.8538680707680908\n",
      "Predictions done.\n",
      "auc for udsg-tagging epoch 200 $p_T, \\eta$ rew. (F.L. $\\gamma=$25.0), setup udsg_eps0.01: 0.8024854329043214\n",
      "findfont: Font family ['cursive'] not found. Falling back to DejaVu Sans.\n",
      "Figure(1200x1200)\n"
     ]
    }
   ],
   "source": [
    "!python eval_roc_new.py 278 10,10,100,100,200,200 udsg_raw,udsg_eps0.01,udsg_raw,udsg_eps0.01,udsg_raw,udsg_eps0.01 no _ptetaflavloss_focalloss_gamma25.0 0.001 -1 yes yes 5 yes ROC"
   ]
  },
  {
   "cell_type": "code",
   "execution_count": 16,
   "metadata": {},
   "outputs": [
    {
     "name": "stdout",
     "output_type": "stream",
     "text": [
      "Evaluate training at epoch 10,10,100,100,200,200\n",
      "With weighting method _ptetaflavloss_focalloss_gamma25.0\n",
      "gamma ['25.0']\n",
      "alpha ['25.0']\n",
      "epsilon ['_ptetaflavloss_focalloss_gamma25.0']\n",
      "test inputs done\n",
      "test targets done\n",
      "number of test inputs 13283070\n",
      "BvL\n",
      "Prepared matching inputs and targets for this output/discriminator.\n",
      "Predictions done.\n",
      "auc for bvl-tagging epoch 10 $p_T, \\eta$ rew. (F.L. $\\gamma=$25.0), setup BvL_raw: 0.9424025827237164\n",
      "Predictions done.\n",
      "auc for bvl-tagging epoch 10 $p_T, \\eta$ rew. (F.L. $\\gamma=$25.0), setup BvL_eps0.01: 0.9249374350506442\n",
      "Predictions done.\n",
      "auc for bvl-tagging epoch 100 $p_T, \\eta$ rew. (F.L. $\\gamma=$25.0), setup BvL_raw: 0.9467892045744443\n",
      "Predictions done.\n",
      "auc for bvl-tagging epoch 100 $p_T, \\eta$ rew. (F.L. $\\gamma=$25.0), setup BvL_eps0.01: 0.8941091815839971\n",
      "Predictions done.\n",
      "auc for bvl-tagging epoch 200 $p_T, \\eta$ rew. (F.L. $\\gamma=$25.0), setup BvL_raw: 0.947256066778877\n",
      "Predictions done.\n",
      "auc for bvl-tagging epoch 200 $p_T, \\eta$ rew. (F.L. $\\gamma=$25.0), setup BvL_eps0.01: 0.8860962391706987\n",
      "findfont: Font family ['cursive'] not found. Falling back to DejaVu Sans.\n",
      "Figure(1200x1200)\n"
     ]
    }
   ],
   "source": [
    "!python eval_roc_new.py 278 10,10,100,100,200,200 BvL_raw,BvL_eps0.01,BvL_raw,BvL_eps0.01,BvL_raw,BvL_eps0.01 no _ptetaflavloss_focalloss_gamma25.0 0.001 -1 yes yes 5 yes ROC"
   ]
  },
  {
   "cell_type": "code",
   "execution_count": 17,
   "metadata": {},
   "outputs": [
    {
     "name": "stdout",
     "output_type": "stream",
     "text": [
      "Evaluate training at epoch 10,10,100,100,200,200\n",
      "With weighting method _ptetaflavloss_focalloss_gamma25.0\n",
      "gamma ['25.0']\n",
      "alpha ['25.0']\n",
      "epsilon ['_ptetaflavloss_focalloss_gamma25.0']\n",
      "test inputs done\n",
      "test targets done\n",
      "number of test inputs 13283070\n",
      "BvC\n",
      "Prepared matching inputs and targets for this output/discriminator.\n",
      "Predictions done.\n",
      "auc for bvc-tagging epoch 10 $p_T, \\eta$ rew. (F.L. $\\gamma=$25.0), setup BvC_raw: 0.8562684981526606\n",
      "Predictions done.\n",
      "auc for bvc-tagging epoch 10 $p_T, \\eta$ rew. (F.L. $\\gamma=$25.0), setup BvC_eps0.01: 0.8342501253220624\n",
      "Predictions done.\n",
      "auc for bvc-tagging epoch 100 $p_T, \\eta$ rew. (F.L. $\\gamma=$25.0), setup BvC_raw: 0.8653889630109288\n",
      "Predictions done.\n",
      "auc for bvc-tagging epoch 100 $p_T, \\eta$ rew. (F.L. $\\gamma=$25.0), setup BvC_eps0.01: 0.8014987876955431\n",
      "Predictions done.\n",
      "auc for bvc-tagging epoch 200 $p_T, \\eta$ rew. (F.L. $\\gamma=$25.0), setup BvC_raw: 0.8663511544015304\n",
      "Predictions done.\n",
      "auc for bvc-tagging epoch 200 $p_T, \\eta$ rew. (F.L. $\\gamma=$25.0), setup BvC_eps0.01: 0.7934087845023442\n",
      "findfont: Font family ['cursive'] not found. Falling back to DejaVu Sans.\n",
      "Figure(1200x1200)\n"
     ]
    }
   ],
   "source": [
    "!python eval_roc_new.py 278 10,10,100,100,200,200 BvC_raw,BvC_eps0.01,BvC_raw,BvC_eps0.01,BvC_raw,BvC_eps0.01 no _ptetaflavloss_focalloss_gamma25.0 0.001 -1 yes yes 5 yes ROC"
   ]
  },
  {
   "cell_type": "code",
   "execution_count": 18,
   "metadata": {},
   "outputs": [
    {
     "name": "stdout",
     "output_type": "stream",
     "text": [
      "Evaluate training at epoch 10,10,100,100,200,200\n",
      "With weighting method _ptetaflavloss_focalloss_gamma25.0\n",
      "gamma ['25.0']\n",
      "alpha ['25.0']\n",
      "epsilon ['_ptetaflavloss_focalloss_gamma25.0']\n",
      "test inputs done\n",
      "test targets done\n",
      "number of test inputs 13283070\n",
      "CvB\n",
      "Prepared matching inputs and targets for this output/discriminator.\n",
      "Predictions done.\n",
      "auc for cvb-tagging epoch 10 $p_T, \\eta$ rew. (F.L. $\\gamma=$25.0), setup CvB_raw: 0.8562684982258016\n",
      "Predictions done.\n",
      "auc for cvb-tagging epoch 10 $p_T, \\eta$ rew. (F.L. $\\gamma=$25.0), setup CvB_eps0.01: 0.8342501253252582\n",
      "Predictions done.\n",
      "auc for cvb-tagging epoch 100 $p_T, \\eta$ rew. (F.L. $\\gamma=$25.0), setup CvB_raw: 0.8653889667592449\n",
      "Predictions done.\n",
      "auc for cvb-tagging epoch 100 $p_T, \\eta$ rew. (F.L. $\\gamma=$25.0), setup CvB_eps0.01: 0.8014987994205245\n",
      "Predictions done.\n",
      "auc for cvb-tagging epoch 200 $p_T, \\eta$ rew. (F.L. $\\gamma=$25.0), setup CvB_raw: 0.8663511767849073\n",
      "Predictions done.\n",
      "auc for cvb-tagging epoch 200 $p_T, \\eta$ rew. (F.L. $\\gamma=$25.0), setup CvB_eps0.01: 0.7934087958051652\n",
      "findfont: Font family ['cursive'] not found. Falling back to DejaVu Sans.\n",
      "Figure(1200x1200)\n"
     ]
    }
   ],
   "source": [
    "!python eval_roc_new.py 278 10,10,100,100,200,200 CvB_raw,CvB_eps0.01,CvB_raw,CvB_eps0.01,CvB_raw,CvB_eps0.01 no _ptetaflavloss_focalloss_gamma25.0 0.001 -1 yes yes 5 yes ROC"
   ]
  },
  {
   "cell_type": "code",
   "execution_count": 19,
   "metadata": {},
   "outputs": [
    {
     "name": "stdout",
     "output_type": "stream",
     "text": [
      "Evaluate training at epoch 10,10,100,100,200,200\n",
      "With weighting method _ptetaflavloss_focalloss_gamma25.0\n",
      "gamma ['25.0']\n",
      "alpha ['25.0']\n",
      "epsilon ['_ptetaflavloss_focalloss_gamma25.0']\n",
      "test inputs done\n",
      "test targets done\n",
      "number of test inputs 13283070\n",
      "CvL\n",
      "Prepared matching inputs and targets for this output/discriminator.\n",
      "Predictions done.\n",
      "auc for cvl-tagging epoch 10 $p_T, \\eta$ rew. (F.L. $\\gamma=$25.0), setup CvL_raw: 0.7378801273337545\n",
      "Predictions done.\n",
      "auc for cvl-tagging epoch 10 $p_T, \\eta$ rew. (F.L. $\\gamma=$25.0), setup CvL_eps0.01: 0.7189404831346736\n",
      "Predictions done.\n",
      "auc for cvl-tagging epoch 100 $p_T, \\eta$ rew. (F.L. $\\gamma=$25.0), setup CvL_raw: 0.7478788739992308\n",
      "Predictions done.\n",
      "auc for cvl-tagging epoch 100 $p_T, \\eta$ rew. (F.L. $\\gamma=$25.0), setup CvL_eps0.01: 0.7067460484680328\n",
      "Predictions done.\n",
      "auc for cvl-tagging epoch 200 $p_T, \\eta$ rew. (F.L. $\\gamma=$25.0), setup CvL_raw: 0.7495151027782788\n",
      "Predictions done.\n",
      "auc for cvl-tagging epoch 200 $p_T, \\eta$ rew. (F.L. $\\gamma=$25.0), setup CvL_eps0.01: 0.701023066960059\n",
      "findfont: Font family ['cursive'] not found. Falling back to DejaVu Sans.\n",
      "Figure(1200x1200)\n"
     ]
    }
   ],
   "source": [
    "!python eval_roc_new.py 278 10,10,100,100,200,200 CvL_raw,CvL_eps0.01,CvL_raw,CvL_eps0.01,CvL_raw,CvL_eps0.01 no _ptetaflavloss_focalloss_gamma25.0 0.001 -1 yes yes 5 yes ROC"
   ]
  },
  {
   "cell_type": "markdown",
   "metadata": {},
   "source": [
    "***\n",
    "***\n",
    "## Basic training\n",
    "### Same epsilon for FGSM, different epochs for evaluation, all with individual model for the FGSM attack"
   ]
  },
  {
   "cell_type": "markdown",
   "metadata": {},
   "source": [
    "***\n",
    "Setup for plot:\n",
    "\n",
    "With DeepCSV,\n",
    "Mini-eval,\n",
    "With additional axis,\n",
    "With log-scale (flip)"
   ]
  },
  {
   "cell_type": "code",
   "execution_count": 20,
   "metadata": {},
   "outputs": [
    {
     "name": "stdout",
     "output_type": "stream",
     "text": [
      "Evaluate training at epoch 10,10,100,100,200,200\n",
      "With weighting method _ptetaflavloss_focalloss_gamma25.0\n",
      "gamma ['25.0']\n",
      "alpha ['25.0']\n",
      "epsilon ['_ptetaflavloss_focalloss_gamma25.0']\n",
      "test inputs done\n",
      "test targets done\n",
      "number of test inputs 13283070\n",
      "b\n",
      "Prepared matching inputs and targets for this output/discriminator.\n",
      "Predictions done.\n",
      "auc for b-tagging epoch 10 $p_T, \\eta$ rew. (F.L. $\\gamma=$25.0), setup b_raw: 0.9223602899433975\n",
      "Predictions done.\n",
      "auc for b-tagging epoch 10 $p_T, \\eta$ rew. (F.L. $\\gamma=$25.0), setup b_eps0.01: 0.8981445257724099\n",
      "Predictions done.\n",
      "auc for b-tagging epoch 100 $p_T, \\eta$ rew. (F.L. $\\gamma=$25.0), setup b_raw: 0.9270856713286586\n",
      "Predictions done.\n",
      "auc for b-tagging epoch 100 $p_T, \\eta$ rew. (F.L. $\\gamma=$25.0), setup b_eps0.01: 0.8819998088106413\n",
      "Predictions done.\n",
      "auc for b-tagging epoch 200 $p_T, \\eta$ rew. (F.L. $\\gamma=$25.0), setup b_raw: 0.9279157583881175\n",
      "Predictions done.\n",
      "auc for b-tagging epoch 200 $p_T, \\eta$ rew. (F.L. $\\gamma=$25.0), setup b_eps0.01: 0.880449642646804\n",
      "findfont: Font family ['cursive'] not found. Falling back to DejaVu Sans.\n",
      "Figure(1200x1200)\n"
     ]
    }
   ],
   "source": [
    "!python eval_roc_new.py 278 10,10,100,100,200,200 b_raw,b_eps0.01,b_raw,b_eps0.01,b_raw,b_eps0.01 no _ptetaflavloss_focalloss_gamma25.0 0.001 -1 yes yes -1 yes ROC"
   ]
  },
  {
   "cell_type": "code",
   "execution_count": 21,
   "metadata": {},
   "outputs": [
    {
     "name": "stdout",
     "output_type": "stream",
     "text": [
      "Evaluate training at epoch 10,10,100,100,200,200\n",
      "With weighting method _ptetaflavloss_focalloss_gamma25.0\n",
      "gamma ['25.0']\n",
      "alpha ['25.0']\n",
      "epsilon ['_ptetaflavloss_focalloss_gamma25.0']\n",
      "test inputs done\n",
      "test targets done\n",
      "number of test inputs 13283070\n",
      "bb\n",
      "Prepared matching inputs and targets for this output/discriminator.\n",
      "Predictions done.\n",
      "auc for bb-tagging epoch 10 $p_T, \\eta$ rew. (F.L. $\\gamma=$25.0), setup bb_raw: 0.9446247966697879\n",
      "Predictions done.\n",
      "auc for bb-tagging epoch 10 $p_T, \\eta$ rew. (F.L. $\\gamma=$25.0), setup b_eps0.01: 0.9296012822773716\n",
      "Predictions done.\n",
      "auc for bb-tagging epoch 100 $p_T, \\eta$ rew. (F.L. $\\gamma=$25.0), setup bb_raw: 0.9483283933387756\n",
      "Predictions done.\n",
      "auc for bb-tagging epoch 100 $p_T, \\eta$ rew. (F.L. $\\gamma=$25.0), setup bb_eps0.01: 0.9103578844295453\n",
      "Predictions done.\n",
      "auc for bb-tagging epoch 200 $p_T, \\eta$ rew. (F.L. $\\gamma=$25.0), setup bb_raw: 0.949183328890535\n",
      "Predictions done.\n",
      "auc for bb-tagging epoch 200 $p_T, \\eta$ rew. (F.L. $\\gamma=$25.0), setup bb_eps0.01: 0.9055340119989109\n",
      "findfont: Font family ['cursive'] not found. Falling back to DejaVu Sans.\n",
      "Figure(1200x1200)\n"
     ]
    }
   ],
   "source": [
    "!python eval_roc_new.py 278 10,10,100,100,200,200 bb_raw,b_eps0.01,bb_raw,bb_eps0.01,bb_raw,bb_eps0.01 no _ptetaflavloss_focalloss_gamma25.0 0.001 -1 yes yes -1 yes ROC"
   ]
  },
  {
   "cell_type": "code",
   "execution_count": 22,
   "metadata": {},
   "outputs": [
    {
     "name": "stdout",
     "output_type": "stream",
     "text": [
      "Evaluate training at epoch 10,10,100,100,200,200\n",
      "With weighting method _ptetaflavloss_focalloss_gamma25.0\n",
      "gamma ['25.0']\n",
      "alpha ['25.0']\n",
      "epsilon ['_ptetaflavloss_focalloss_gamma25.0']\n",
      "test inputs done\n",
      "test targets done\n",
      "number of test inputs 13283070\n",
      "c\n",
      "Prepared matching inputs and targets for this output/discriminator.\n",
      "Predictions done.\n",
      "auc for c-tagging epoch 10 $p_T, \\eta$ rew. (F.L. $\\gamma=$25.0), setup c_raw: 0.5113990227876547\n",
      "Predictions done.\n",
      "auc for c-tagging epoch 10 $p_T, \\eta$ rew. (F.L. $\\gamma=$25.0), setup c_eps0.01: 0.4969631917658169\n",
      "Predictions done.\n",
      "auc for c-tagging epoch 100 $p_T, \\eta$ rew. (F.L. $\\gamma=$25.0), setup c_raw: 0.5320432237365436\n",
      "Predictions done.\n",
      "auc for c-tagging epoch 100 $p_T, \\eta$ rew. (F.L. $\\gamma=$25.0), setup c_eps0.01: 0.5171790075439804\n",
      "Predictions done.\n",
      "auc for c-tagging epoch 200 $p_T, \\eta$ rew. (F.L. $\\gamma=$25.0), setup c_raw: 0.535912067277592\n",
      "Predictions done.\n",
      "auc for c-tagging epoch 200 $p_T, \\eta$ rew. (F.L. $\\gamma=$25.0), setup c_eps0.01: 0.5218362931612719\n",
      "findfont: Font family ['cursive'] not found. Falling back to DejaVu Sans.\n",
      "Figure(1200x1200)\n"
     ]
    }
   ],
   "source": [
    "!python eval_roc_new.py 278 10,10,100,100,200,200 c_raw,c_eps0.01,c_raw,c_eps0.01,c_raw,c_eps0.01 no _ptetaflavloss_focalloss_gamma25.0 0.001 -1 yes yes -1 yes ROC"
   ]
  },
  {
   "cell_type": "code",
   "execution_count": 23,
   "metadata": {},
   "outputs": [
    {
     "name": "stdout",
     "output_type": "stream",
     "text": [
      "Evaluate training at epoch 10,10,100,100,200,200\n",
      "With weighting method _ptetaflavloss_focalloss_gamma25.0\n",
      "gamma ['25.0']\n",
      "alpha ['25.0']\n",
      "epsilon ['_ptetaflavloss_focalloss_gamma25.0']\n",
      "test inputs done\n",
      "test targets done\n",
      "number of test inputs 13283070\n",
      "udsg\n",
      "Prepared matching inputs and targets for this output/discriminator.\n",
      "Predictions done.\n",
      "auc for udsg-tagging epoch 10 $p_T, \\eta$ rew. (F.L. $\\gamma=$25.0), setup udsg_raw: 0.846588053956517\n",
      "Predictions done.\n",
      "auc for udsg-tagging epoch 10 $p_T, \\eta$ rew. (F.L. $\\gamma=$25.0), setup udsg_eps0.01: 0.8258090674024589\n",
      "Predictions done.\n",
      "auc for udsg-tagging epoch 100 $p_T, \\eta$ rew. (F.L. $\\gamma=$25.0), setup udsg_raw: 0.853057707826037\n",
      "Predictions done.\n",
      "auc for udsg-tagging epoch 100 $p_T, \\eta$ rew. (F.L. $\\gamma=$25.0), setup udsg_eps0.01: 0.8086143282372587\n",
      "Predictions done.\n",
      "auc for udsg-tagging epoch 200 $p_T, \\eta$ rew. (F.L. $\\gamma=$25.0), setup udsg_raw: 0.8538680707680908\n",
      "Predictions done.\n",
      "auc for udsg-tagging epoch 200 $p_T, \\eta$ rew. (F.L. $\\gamma=$25.0), setup udsg_eps0.01: 0.8024854329043214\n",
      "findfont: Font family ['cursive'] not found. Falling back to DejaVu Sans.\n",
      "Figure(1200x1200)\n"
     ]
    }
   ],
   "source": [
    "!python eval_roc_new.py 278 10,10,100,100,200,200 udsg_raw,udsg_eps0.01,udsg_raw,udsg_eps0.01,udsg_raw,udsg_eps0.01 no _ptetaflavloss_focalloss_gamma25.0 0.001 -1 yes yes -1 yes ROC"
   ]
  },
  {
   "cell_type": "code",
   "execution_count": 24,
   "metadata": {},
   "outputs": [
    {
     "name": "stdout",
     "output_type": "stream",
     "text": [
      "Evaluate training at epoch 10,10,100,100,200,200\n",
      "With weighting method _ptetaflavloss_focalloss_gamma25.0\n",
      "gamma ['25.0']\n",
      "alpha ['25.0']\n",
      "epsilon ['_ptetaflavloss_focalloss_gamma25.0']\n",
      "test inputs done\n",
      "test targets done\n",
      "number of test inputs 13283070\n",
      "BvL\n",
      "Prepared matching inputs and targets for this output/discriminator.\n",
      "Predictions done.\n",
      "auc for bvl-tagging epoch 10 $p_T, \\eta$ rew. (F.L. $\\gamma=$25.0), setup BvL_raw: 0.9424025827237164\n",
      "Predictions done.\n",
      "auc for bvl-tagging epoch 10 $p_T, \\eta$ rew. (F.L. $\\gamma=$25.0), setup BvL_eps0.01: 0.9184441655956027\n",
      "Predictions done.\n",
      "auc for bvl-tagging epoch 100 $p_T, \\eta$ rew. (F.L. $\\gamma=$25.0), setup BvL_raw: 0.9467892045744443\n",
      "Predictions done.\n",
      "auc for bvl-tagging epoch 100 $p_T, \\eta$ rew. (F.L. $\\gamma=$25.0), setup BvL_eps0.01: 0.8922197450546479\n",
      "Predictions done.\n",
      "auc for bvl-tagging epoch 200 $p_T, \\eta$ rew. (F.L. $\\gamma=$25.0), setup BvL_raw: 0.947256066778877\n",
      "Predictions done.\n",
      "auc for bvl-tagging epoch 200 $p_T, \\eta$ rew. (F.L. $\\gamma=$25.0), setup BvL_eps0.01: 0.8860962391706987\n",
      "findfont: Font family ['cursive'] not found. Falling back to DejaVu Sans.\n",
      "Figure(1200x1200)\n"
     ]
    }
   ],
   "source": [
    "!python eval_roc_new.py 278 10,10,100,100,200,200 BvL_raw,BvL_eps0.01,BvL_raw,BvL_eps0.01,BvL_raw,BvL_eps0.01 no _ptetaflavloss_focalloss_gamma25.0 0.001 -1 yes yes -1 yes ROC"
   ]
  },
  {
   "cell_type": "code",
   "execution_count": 25,
   "metadata": {},
   "outputs": [
    {
     "name": "stdout",
     "output_type": "stream",
     "text": [
      "Evaluate training at epoch 10,10,100,100,200,200\n",
      "With weighting method _ptetaflavloss_focalloss_gamma25.0\n",
      "gamma ['25.0']\n",
      "alpha ['25.0']\n",
      "epsilon ['_ptetaflavloss_focalloss_gamma25.0']\n",
      "test inputs done\n",
      "test targets done\n",
      "number of test inputs 13283070\n",
      "BvC\n",
      "Prepared matching inputs and targets for this output/discriminator.\n",
      "Predictions done.\n",
      "auc for bvc-tagging epoch 10 $p_T, \\eta$ rew. (F.L. $\\gamma=$25.0), setup BvC_raw: 0.8562684981526606\n",
      "Predictions done.\n",
      "auc for bvc-tagging epoch 10 $p_T, \\eta$ rew. (F.L. $\\gamma=$25.0), setup BvC_eps0.01: 0.8226499403489715\n",
      "Predictions done.\n",
      "auc for bvc-tagging epoch 100 $p_T, \\eta$ rew. (F.L. $\\gamma=$25.0), setup BvC_raw: 0.8653889630109288\n",
      "Predictions done.\n",
      "auc for bvc-tagging epoch 100 $p_T, \\eta$ rew. (F.L. $\\gamma=$25.0), setup BvC_eps0.01: 0.7980176491048866\n",
      "Predictions done.\n",
      "auc for bvc-tagging epoch 200 $p_T, \\eta$ rew. (F.L. $\\gamma=$25.0), setup BvC_raw: 0.8663511544015304\n",
      "Predictions done.\n",
      "auc for bvc-tagging epoch 200 $p_T, \\eta$ rew. (F.L. $\\gamma=$25.0), setup BvC_eps0.01: 0.7934087845023442\n",
      "findfont: Font family ['cursive'] not found. Falling back to DejaVu Sans.\n",
      "Figure(1200x1200)\n"
     ]
    }
   ],
   "source": [
    "!python eval_roc_new.py 278 10,10,100,100,200,200 BvC_raw,BvC_eps0.01,BvC_raw,BvC_eps0.01,BvC_raw,BvC_eps0.01 no _ptetaflavloss_focalloss_gamma25.0 0.001 -1 yes yes -1 yes ROC"
   ]
  },
  {
   "cell_type": "code",
   "execution_count": 26,
   "metadata": {},
   "outputs": [
    {
     "name": "stdout",
     "output_type": "stream",
     "text": [
      "Evaluate training at epoch 10,10,100,100,200,200\n",
      "With weighting method _ptetaflavloss_focalloss_gamma25.0\n",
      "gamma ['25.0']\n",
      "alpha ['25.0']\n",
      "epsilon ['_ptetaflavloss_focalloss_gamma25.0']\n",
      "test inputs done\n",
      "test targets done\n",
      "number of test inputs 13283070\n",
      "CvB\n",
      "Prepared matching inputs and targets for this output/discriminator.\n",
      "Predictions done.\n",
      "auc for cvb-tagging epoch 10 $p_T, \\eta$ rew. (F.L. $\\gamma=$25.0), setup CvB_raw: 0.8562684982258016\n",
      "Predictions done.\n",
      "auc for cvb-tagging epoch 10 $p_T, \\eta$ rew. (F.L. $\\gamma=$25.0), setup CvB_eps0.01: 0.8226499399871703\n",
      "Predictions done.\n",
      "auc for cvb-tagging epoch 100 $p_T, \\eta$ rew. (F.L. $\\gamma=$25.0), setup CvB_raw: 0.8653889667592449\n",
      "Predictions done.\n",
      "auc for cvb-tagging epoch 100 $p_T, \\eta$ rew. (F.L. $\\gamma=$25.0), setup CvB_eps0.01: 0.7980176540291446\n",
      "Predictions done.\n",
      "auc for cvb-tagging epoch 200 $p_T, \\eta$ rew. (F.L. $\\gamma=$25.0), setup CvB_raw: 0.8663511767849073\n",
      "Predictions done.\n",
      "auc for cvb-tagging epoch 200 $p_T, \\eta$ rew. (F.L. $\\gamma=$25.0), setup CvB_eps0.01: 0.7934087958051652\n",
      "findfont: Font family ['cursive'] not found. Falling back to DejaVu Sans.\n",
      "Figure(1200x1200)\n"
     ]
    }
   ],
   "source": [
    "!python eval_roc_new.py 278 10,10,100,100,200,200 CvB_raw,CvB_eps0.01,CvB_raw,CvB_eps0.01,CvB_raw,CvB_eps0.01 no _ptetaflavloss_focalloss_gamma25.0 0.001 -1 yes yes -1 yes ROC"
   ]
  },
  {
   "cell_type": "code",
   "execution_count": 27,
   "metadata": {},
   "outputs": [
    {
     "name": "stdout",
     "output_type": "stream",
     "text": [
      "Evaluate training at epoch 10,10,100,100,200,200\n",
      "With weighting method _ptetaflavloss_focalloss_gamma25.0\n",
      "gamma ['25.0']\n",
      "alpha ['25.0']\n",
      "epsilon ['_ptetaflavloss_focalloss_gamma25.0']\n",
      "test inputs done\n",
      "test targets done\n",
      "number of test inputs 13283070\n",
      "CvL\n",
      "Prepared matching inputs and targets for this output/discriminator.\n",
      "Predictions done.\n",
      "auc for cvl-tagging epoch 10 $p_T, \\eta$ rew. (F.L. $\\gamma=$25.0), setup CvL_raw: 0.7378801273337545\n",
      "Predictions done.\n",
      "auc for cvl-tagging epoch 10 $p_T, \\eta$ rew. (F.L. $\\gamma=$25.0), setup CvL_eps0.01: 0.7155253949543375\n",
      "Predictions done.\n",
      "auc for cvl-tagging epoch 100 $p_T, \\eta$ rew. (F.L. $\\gamma=$25.0), setup CvL_raw: 0.7478788739992308\n",
      "Predictions done.\n",
      "auc for cvl-tagging epoch 100 $p_T, \\eta$ rew. (F.L. $\\gamma=$25.0), setup CvL_eps0.01: 0.7092948662151853\n",
      "Predictions done.\n",
      "auc for cvl-tagging epoch 200 $p_T, \\eta$ rew. (F.L. $\\gamma=$25.0), setup CvL_raw: 0.7495151027782788\n",
      "Predictions done.\n",
      "auc for cvl-tagging epoch 200 $p_T, \\eta$ rew. (F.L. $\\gamma=$25.0), setup CvL_eps0.01: 0.701023066960059\n",
      "findfont: Font family ['cursive'] not found. Falling back to DejaVu Sans.\n",
      "Figure(1200x1200)\n"
     ]
    }
   ],
   "source": [
    "!python eval_roc_new.py 278 10,10,100,100,200,200 CvL_raw,CvL_eps0.01,CvL_raw,CvL_eps0.01,CvL_raw,CvL_eps0.01 no _ptetaflavloss_focalloss_gamma25.0 0.001 -1 yes yes -1 yes ROC"
   ]
  },
  {
   "cell_type": "markdown",
   "metadata": {},
   "source": [
    "***\n",
    "***\n",
    "## Basic training\n",
    "### Same sigma for Noise, different epochs for evaluation"
   ]
  },
  {
   "cell_type": "markdown",
   "metadata": {},
   "source": [
    "***\n",
    "Setup for plot:\n",
    "\n",
    "With DeepCSV,\n",
    "Mini-eval,\n",
    "With additional axis,\n",
    "With log-scale (flip)"
   ]
  },
  {
   "cell_type": "code",
   "execution_count": 31,
   "metadata": {},
   "outputs": [
    {
     "name": "stdout",
     "output_type": "stream",
     "text": [
      "Evaluate training at epoch 10,10,100,100,200,200\n",
      "With weighting method _ptetaflavloss_focalloss_gamma25.0\n",
      "gamma ['25.0']\n",
      "alpha ['25.0']\n",
      "epsilon ['_ptetaflavloss_focalloss_gamma25.0']\n",
      "test inputs done\n",
      "test targets done\n",
      "number of test inputs 13283070\n",
      "BvL\n",
      "Prepared matching inputs and targets for this output/discriminator.\n",
      "Predictions done.\n",
      "auc for bvl-tagging epoch 10 $p_T, \\eta$ rew. (F.L. $\\gamma=$25.0), setup BvL_raw: 0.9424025827237164\n",
      "Predictions done.\n",
      "auc for bvl-tagging epoch 10 $p_T, \\eta$ rew. (F.L. $\\gamma=$25.0), setup BvL_sigma0.01: 0.9423073662614428\n",
      "Predictions done.\n",
      "auc for bvl-tagging epoch 100 $p_T, \\eta$ rew. (F.L. $\\gamma=$25.0), setup BvL_raw: 0.9467892045744443\n",
      "Predictions done.\n",
      "auc for bvl-tagging epoch 100 $p_T, \\eta$ rew. (F.L. $\\gamma=$25.0), setup BvL_sigma0.01: 0.9461956956586469\n",
      "Predictions done.\n",
      "auc for bvl-tagging epoch 200 $p_T, \\eta$ rew. (F.L. $\\gamma=$25.0), setup BvL_raw: 0.947256066778877\n",
      "Predictions done.\n",
      "auc for bvl-tagging epoch 200 $p_T, \\eta$ rew. (F.L. $\\gamma=$25.0), setup BvL_sigma0.01: 0.9463652315660014\n",
      "findfont: Font family ['cursive'] not found. Falling back to DejaVu Sans.\n",
      "Figure(1200x1200)\n"
     ]
    }
   ],
   "source": [
    "!python eval_roc_new.py 278 10,10,100,100,200,200 BvL_raw,BvL_sigma0.01,BvL_raw,BvL_sigma0.01,BvL_raw,BvL_sigma0.01 no _ptetaflavloss_focalloss_gamma25.0 0.001 -1 yes yes -1 yes ROC"
   ]
  },
  {
   "cell_type": "markdown",
   "metadata": {},
   "source": [
    "***\n",
    "***\n",
    "## Basic training\n",
    "### Different sigma for Noise, same epoch"
   ]
  },
  {
   "cell_type": "markdown",
   "metadata": {},
   "source": [
    "***\n",
    "Setup for plot:\n",
    "\n",
    "With DeepCSV,\n",
    "Mini-eval,\n",
    "With additional axis,\n",
    "With log-scale (flip)"
   ]
  },
  {
   "cell_type": "code",
   "execution_count": 30,
   "metadata": {},
   "outputs": [
    {
     "name": "stdout",
     "output_type": "stream",
     "text": [
      "Evaluate training at epoch 200\n",
      "With weighting method _ptetaflavloss_focalloss_gamma25.0\n",
      "gamma ['25.0']\n",
      "alpha ['25.0']\n",
      "epsilon ['_ptetaflavloss_focalloss_gamma25.0']\n",
      "test inputs done\n",
      "test targets done\n",
      "number of test inputs 13283070\n",
      "BvL\n",
      "Prepared matching inputs and targets for this output/discriminator.\n",
      "Predictions done.\n",
      "auc for bvl-tagging epoch 200 $p_T, \\eta$ rew. (F.L. $\\gamma=$25.0), setup BvL_raw: 0.947256066778877\n",
      "Predictions done.\n",
      "auc for bvl-tagging epoch 200 $p_T, \\eta$ rew. (F.L. $\\gamma=$25.0), setup BvL_sigma0.005: 0.9470566577769002\n",
      "Predictions done.\n",
      "auc for bvl-tagging epoch 200 $p_T, \\eta$ rew. (F.L. $\\gamma=$25.0), setup BvL_sigma0.01: 0.9463404872191842\n",
      "Predictions done.\n",
      "auc for bvl-tagging epoch 200 $p_T, \\eta$ rew. (F.L. $\\gamma=$25.0), setup BvL_sigma0.05: 0.9302266035042731\n",
      "Predictions done.\n",
      "auc for bvl-tagging epoch 200 $p_T, \\eta$ rew. (F.L. $\\gamma=$25.0), setup BvL_sigma0.1: 0.9102033192381483\n",
      "findfont: Font family ['cursive'] not found. Falling back to DejaVu Sans.\n",
      "Figure(1200x1200)\n"
     ]
    }
   ],
   "source": [
    "!python eval_roc_new.py 278 200 BvL_raw,BvL_sigma0.005,BvL_sigma0.01,BvL_sigma0.05,BvL_sigma0.1 no _ptetaflavloss_focalloss_gamma25.0 0.001 -1 yes yes -1 yes ROC"
   ]
  },
  {
   "cell_type": "markdown",
   "metadata": {},
   "source": [
    "***\n",
    "***\n",
    "## Adversarial training\n",
    "### Same sigma for Noise, different epochs for evaluation"
   ]
  },
  {
   "cell_type": "markdown",
   "metadata": {},
   "source": [
    "***\n",
    "Setup for plot:\n",
    "\n",
    "With DeepCSV,\n",
    "Mini-eval,\n",
    "With additional axis,\n",
    "With log-scale (flip)"
   ]
  },
  {
   "cell_type": "code",
   "execution_count": 32,
   "metadata": {},
   "outputs": [
    {
     "name": "stdout",
     "output_type": "stream",
     "text": [
      "Evaluate training at epoch 10,10,100,100,200,200\n",
      "With weighting method _ptetaflavloss_focalloss_gamma25.0_adv_tr_eps0.01\n",
      "gamma ['25.0']\n",
      "alpha ['25.0']\n",
      "epsilon ['0.01']\n",
      "test inputs done\n",
      "test targets done\n",
      "number of test inputs 13283070\n",
      "BvL\n",
      "Prepared matching inputs and targets for this output/discriminator.\n",
      "Predictions done.\n",
      "auc for bvl-tagging epoch 10 $p_T, \\eta$ rew. (F.L. $\\gamma=$25.0, $\\epsilon=$0.01), setup BvL_raw: 0.9420160803790423\n",
      "Predictions done.\n",
      "auc for bvl-tagging epoch 10 $p_T, \\eta$ rew. (F.L. $\\gamma=$25.0, $\\epsilon=$0.01), setup BvL_sigma0.01: 0.9419916213846\n",
      "Predictions done.\n",
      "auc for bvl-tagging epoch 100 $p_T, \\eta$ rew. (F.L. $\\gamma=$25.0, $\\epsilon=$0.01), setup BvL_raw: 0.9465169916775285\n",
      "Predictions done.\n",
      "auc for bvl-tagging epoch 100 $p_T, \\eta$ rew. (F.L. $\\gamma=$25.0, $\\epsilon=$0.01), setup BvL_sigma0.01: 0.9464834543463772\n",
      "Predictions done.\n",
      "auc for bvl-tagging epoch 200 $p_T, \\eta$ rew. (F.L. $\\gamma=$25.0, $\\epsilon=$0.01), setup BvL_raw: 0.9470546223965332\n",
      "Predictions done.\n",
      "auc for bvl-tagging epoch 200 $p_T, \\eta$ rew. (F.L. $\\gamma=$25.0, $\\epsilon=$0.01), setup BvL_sigma0.01: 0.947027830581297\n",
      "findfont: Font family ['cursive'] not found. Falling back to DejaVu Sans.\n",
      "Figure(1200x1200)\n"
     ]
    }
   ],
   "source": [
    "!python eval_roc_new.py 278 10,10,100,100,200,200 BvL_raw,BvL_sigma0.01,BvL_raw,BvL_sigma0.01,BvL_raw,BvL_sigma0.01 no _ptetaflavloss_focalloss_gamma25.0_adv_tr_eps0.01 0.001 -1 yes yes -1 yes ROC"
   ]
  },
  {
   "cell_type": "markdown",
   "metadata": {},
   "source": [
    "***\n",
    "***\n",
    "## Adversarial training\n",
    "### Different sigma for Noise, same epoch"
   ]
  },
  {
   "cell_type": "markdown",
   "metadata": {},
   "source": [
    "***\n",
    "Setup for plot:\n",
    "\n",
    "With DeepCSV,\n",
    "Mini-eval,\n",
    "With additional axis,\n",
    "With log-scale (flip)"
   ]
  },
  {
   "cell_type": "code",
   "execution_count": 33,
   "metadata": {},
   "outputs": [
    {
     "name": "stdout",
     "output_type": "stream",
     "text": [
      "Evaluate training at epoch 200\n",
      "With weighting method _ptetaflavloss_focalloss_gamma25.0_adv_tr_eps0.01\n",
      "gamma ['25.0']\n",
      "alpha ['25.0']\n",
      "epsilon ['0.01']\n",
      "test inputs done\n",
      "test targets done\n",
      "number of test inputs 13283070\n",
      "BvL\n",
      "Prepared matching inputs and targets for this output/discriminator.\n",
      "Predictions done.\n",
      "auc for bvl-tagging epoch 200 $p_T, \\eta$ rew. (F.L. $\\gamma=$25.0, $\\epsilon=$0.01), setup BvL_raw: 0.9470546223965332\n",
      "Predictions done.\n",
      "auc for bvl-tagging epoch 200 $p_T, \\eta$ rew. (F.L. $\\gamma=$25.0, $\\epsilon=$0.01), setup BvL_sigma0.005: 0.9470569513905769\n",
      "Predictions done.\n",
      "auc for bvl-tagging epoch 200 $p_T, \\eta$ rew. (F.L. $\\gamma=$25.0, $\\epsilon=$0.01), setup BvL_sigma0.01: 0.9470277797461192\n",
      "Predictions done.\n",
      "auc for bvl-tagging epoch 200 $p_T, \\eta$ rew. (F.L. $\\gamma=$25.0, $\\epsilon=$0.01), setup BvL_sigma0.05: 0.9439850898060426\n",
      "Predictions done.\n",
      "auc for bvl-tagging epoch 200 $p_T, \\eta$ rew. (F.L. $\\gamma=$25.0, $\\epsilon=$0.01), setup BvL_sigma0.1: 0.9322804905469617\n",
      "findfont: Font family ['cursive'] not found. Falling back to DejaVu Sans.\n",
      "Figure(1200x1200)\n"
     ]
    }
   ],
   "source": [
    "!python eval_roc_new.py 278 200 BvL_raw,BvL_sigma0.005,BvL_sigma0.01,BvL_sigma0.05,BvL_sigma0.1 no _ptetaflavloss_focalloss_gamma25.0_adv_tr_eps0.01 0.001 -1 yes yes -1 yes ROC"
   ]
  },
  {
   "cell_type": "markdown",
   "metadata": {},
   "source": [
    "***\n",
    "***\n",
    "## Adversarial training\n",
    "### Same epsilon for FGSM, different epochs for evaluation"
   ]
  },
  {
   "cell_type": "markdown",
   "metadata": {},
   "source": [
    "***\n",
    "Setup for plot:\n",
    "\n",
    "With DeepCSV,\n",
    "Mini-eval,\n",
    "With additional axis,\n",
    "With log-scale (flip)"
   ]
  },
  {
   "cell_type": "code",
   "execution_count": 37,
   "metadata": {},
   "outputs": [
    {
     "name": "stdout",
     "output_type": "stream",
     "text": [
      "Evaluate training at epoch 10,10,100,100,200,200\n",
      "With weighting method _ptetaflavloss_focalloss_gamma25.0_adv_tr_eps0.01\n",
      "gamma ['25.0']\n",
      "alpha ['25.0']\n",
      "epsilon ['0.01']\n",
      "test inputs done\n",
      "test targets done\n",
      "number of test inputs 13283070\n",
      "BvL\n",
      "Prepared matching inputs and targets for this output/discriminator.\n",
      "Predictions done.\n",
      "auc for bvl-tagging epoch 10 $p_T, \\eta$ rew. (F.L. $\\gamma=$25.0, $\\epsilon=$0.01), setup BvL_raw: 0.9420160803790423\n",
      "Predictions done.\n",
      "auc for bvl-tagging epoch 10 $p_T, \\eta$ rew. (F.L. $\\gamma=$25.0, $\\epsilon=$0.01), setup BvL_eps0.01: 0.9315442425499603\n",
      "Predictions done.\n",
      "auc for bvl-tagging epoch 100 $p_T, \\eta$ rew. (F.L. $\\gamma=$25.0, $\\epsilon=$0.01), setup BvL_raw: 0.9465169916775285\n",
      "Predictions done.\n",
      "auc for bvl-tagging epoch 100 $p_T, \\eta$ rew. (F.L. $\\gamma=$25.0, $\\epsilon=$0.01), setup BvL_eps0.01: 0.9357702249599126\n",
      "Predictions done.\n",
      "auc for bvl-tagging epoch 200 $p_T, \\eta$ rew. (F.L. $\\gamma=$25.0, $\\epsilon=$0.01), setup BvL_raw: 0.9470546223965332\n",
      "Predictions done.\n",
      "auc for bvl-tagging epoch 200 $p_T, \\eta$ rew. (F.L. $\\gamma=$25.0, $\\epsilon=$0.01), setup BvL_eps0.01: 0.9363643321476657\n",
      "findfont: Font family ['cursive'] not found. Falling back to DejaVu Sans.\n",
      "Figure(1200x1200)\n"
     ]
    }
   ],
   "source": [
    "!python eval_roc_new.py 278 10,10,100,100,200,200 BvL_raw,BvL_eps0.01,BvL_raw,BvL_eps0.01,BvL_raw,BvL_eps0.01 no _ptetaflavloss_focalloss_gamma25.0_adv_tr_eps0.01 0.001 -1 yes no -1 yes ROC"
   ]
  },
  {
   "cell_type": "markdown",
   "metadata": {},
   "source": [
    "***\n",
    "***\n",
    "## Adversarial training\n",
    "### Different epsilon for FGSM, same epoch"
   ]
  },
  {
   "cell_type": "markdown",
   "metadata": {},
   "source": [
    "***\n",
    "Setup for plot:\n",
    "\n",
    "With DeepCSV,\n",
    "Mini-eval,\n",
    "Without additional axis,\n",
    "With log-scale (flip)"
   ]
  },
  {
   "cell_type": "code",
   "execution_count": 36,
   "metadata": {},
   "outputs": [
    {
     "name": "stdout",
     "output_type": "stream",
     "text": [
      "Evaluate training at epoch 200\n",
      "With weighting method _ptetaflavloss_focalloss_gamma25.0_adv_tr_eps0.01\n",
      "gamma ['25.0']\n",
      "alpha ['25.0']\n",
      "epsilon ['0.01']\n",
      "test inputs done\n",
      "test targets done\n",
      "number of test inputs 13283070\n",
      "BvL\n",
      "Prepared matching inputs and targets for this output/discriminator.\n",
      "Predictions done.\n",
      "auc for bvl-tagging epoch 200 $p_T, \\eta$ rew. (F.L. $\\gamma=$25.0, $\\epsilon=$0.01), setup BvL_raw: 0.9470546223965332\n",
      "Predictions done.\n",
      "auc for bvl-tagging epoch 200 $p_T, \\eta$ rew. (F.L. $\\gamma=$25.0, $\\epsilon=$0.01), setup BvL_eps0.005: 0.9418524899052629\n",
      "Predictions done.\n",
      "auc for bvl-tagging epoch 200 $p_T, \\eta$ rew. (F.L. $\\gamma=$25.0, $\\epsilon=$0.01), setup BvL_eps0.01: 0.9363643321476657\n",
      "Predictions done.\n",
      "auc for bvl-tagging epoch 200 $p_T, \\eta$ rew. (F.L. $\\gamma=$25.0, $\\epsilon=$0.01), setup BvL_eps0.05: 0.8751637675897765\n",
      "Predictions done.\n",
      "auc for bvl-tagging epoch 200 $p_T, \\eta$ rew. (F.L. $\\gamma=$25.0, $\\epsilon=$0.01), setup BvL_eps0.1: 0.7573381247853725\n",
      "findfont: Font family ['cursive'] not found. Falling back to DejaVu Sans.\n",
      "Figure(1200x1200)\n"
     ]
    }
   ],
   "source": [
    "!python eval_roc_new.py 278 200 BvL_raw,BvL_eps0.005,BvL_eps0.01,BvL_eps0.05,BvL_eps0.1 no _ptetaflavloss_focalloss_gamma25.0_adv_tr_eps0.01 0.001 -1 yes no -1 yes ROC"
   ]
  },
  {
   "cell_type": "markdown",
   "metadata": {},
   "source": [
    "***\n",
    "***\n",
    "## Comparing Basic and Adversarial training\n",
    "### Same epsilon for FGSM, different epochs"
   ]
  },
  {
   "cell_type": "markdown",
   "metadata": {},
   "source": [
    "***\n",
    "Setup for plot:\n",
    "\n",
    "With DeepCSV,\n",
    "Mini-eval,\n",
    "Without additional axis,\n",
    "With log-scale (flip)"
   ]
  },
  {
   "cell_type": "code",
   "execution_count": 40,
   "metadata": {},
   "outputs": [
    {
     "name": "stdout",
     "output_type": "stream",
     "text": [
      "Evaluate training at epoch 200\n",
      "With weighting method _ptetaflavloss_focalloss_gamma25.0,_ptetaflavloss_focalloss_gamma25.0,_ptetaflavloss_focalloss_gamma25.0_adv_tr_eps0.01,_ptetaflavloss_focalloss_gamma25.0_adv_tr_eps0.01\n",
      "gamma ['25.0', '25.0', '25.0', '25.0']\n",
      "alpha ['25.0', '25.0', '25.0', '25.0']\n",
      "epsilon ['_ptetaflavloss_focalloss_gamma25.0', '_ptetaflavloss_focalloss_gamma25.0', '0.01', '0.01']\n",
      "test inputs done\n",
      "test targets done\n",
      "number of test inputs 13283070\n",
      "BvL\n",
      "Prepared matching inputs and targets for this output/discriminator.\n",
      "Predictions done.\n",
      "auc for bvl-tagging epoch 200 $p_T, \\eta$ rew. (F.L. $\\gamma=$25.0), setup BvL_raw: 0.947256066778877\n",
      "Predictions done.\n",
      "auc for bvl-tagging epoch 200 $p_T, \\eta$ rew. (F.L. $\\gamma=$25.0), setup BvL_eps0.01: 0.8860962391706987\n",
      "Predictions done.\n",
      "auc for bvl-tagging epoch 200 $p_T, \\eta$ rew. (F.L. $\\gamma=$25.0, $\\epsilon=$0.01), setup BvL_raw: 0.9470546223965332\n",
      "Predictions done.\n",
      "auc for bvl-tagging epoch 200 $p_T, \\eta$ rew. (F.L. $\\gamma=$25.0, $\\epsilon=$0.01), setup BvL_eps0.01: 0.9363643321476657\n",
      "findfont: Font family ['cursive'] not found. Falling back to DejaVu Sans.\n",
      "Figure(1200x1200)\n"
     ]
    }
   ],
   "source": [
    "!python eval_roc_new.py 278 200 BvL_raw,BvL_eps0.01,BvL_raw,BvL_eps0.01 no _ptetaflavloss_focalloss_gamma25.0,_ptetaflavloss_focalloss_gamma25.0,_ptetaflavloss_focalloss_gamma25.0_adv_tr_eps0.01,_ptetaflavloss_focalloss_gamma25.0_adv_tr_eps0.01 0.001 -1 yes no -1 yes ROC"
   ]
  },
  {
   "cell_type": "markdown",
   "metadata": {},
   "source": [
    "---\n",
    "---\n",
    "---"
   ]
  },
  {
   "cell_type": "markdown",
   "metadata": {},
   "source": [
    "# For proposal"
   ]
  },
  {
   "cell_type": "code",
   "execution_count": 2,
   "metadata": {},
   "outputs": [
    {
     "name": "stdout",
     "output_type": "stream",
     "text": [
      "Evaluate training at epoch 200\n",
      "With weighting method _ptetaflavloss_focalloss_gamma25.0\n",
      "gamma ['25.0']\n",
      "alpha ['25.0']\n",
      "epsilon ['_ptetaflavloss_focalloss_gamma25.0']\n",
      "test inputs done\n",
      "test targets done\n",
      "number of test inputs 13283070\n",
      "BvL\n",
      "Prepared matching inputs and targets for this output/discriminator.\n",
      "Predictions done.\n",
      "auc for bvl-tagging epoch 200 $p_T, \\eta$ rew. (F.L. $\\gamma=$25.0), setup BvL_raw: 0.947256066778877\n",
      "Predictions done.\n",
      "auc for bvl-tagging epoch 200 $p_T, \\eta$ rew. (F.L. $\\gamma=$25.0), setup BvL_eps0.02: 0.8261951464161177\n",
      "findfont: Font family ['cursive'] not found. Falling back to DejaVu Sans.\n",
      "Figure(1200x1200)\n"
     ]
    }
   ],
   "source": [
    "!python eval_roc_new.py 278 200 BvL_raw,BvL_eps0.02 no _ptetaflavloss_focalloss_gamma25.0 0.001 -1 yes no -1 yes no 3.0 ROC"
   ]
  },
  {
   "cell_type": "markdown",
   "metadata": {},
   "source": [
    "---\n",
    "---\n",
    "---"
   ]
  },
  {
   "cell_type": "markdown",
   "metadata": {},
   "source": [
    "# v2 (05.09.2021)"
   ]
  },
  {
   "cell_type": "markdown",
   "metadata": {},
   "source": [
    "Three lines: chapter  \n",
    "Two lines: type of plot  \n",
    "One line: flavour differ  \n",
    "If one style differs between plots, no line in between"
   ]
  },
  {
   "cell_type": "markdown",
   "metadata": {},
   "source": [
    "## Plots for nominal performance only (chapter 3)\n",
    "- Basic training at final epoch versus DeepCSV, all eight ROC curves (b,bb,c,udsg,BvL,BvC,CvB,CvL)  \n",
    "- Basic training at different epochs"
   ]
  },
  {
   "cell_type": "markdown",
   "metadata": {},
   "source": [
    "---\n",
    "---"
   ]
  },
  {
   "cell_type": "code",
   "execution_count": 5,
   "metadata": {},
   "outputs": [
    {
     "name": "stdout",
     "output_type": "stream",
     "text": [
      "Evaluate training at epoch 200\n",
      "With weighting method _ptetaflavloss_focalloss_gamma25.0\n",
      "gamma ['25.0']\n",
      "alpha ['25.0']\n",
      "epsilon ['_ptetaflavloss_focalloss_gamma25.0']\n",
      "test inputs done\n",
      "test targets done\n",
      "number of test inputs 13283070\n",
      "b\n",
      "All raw, same weighting method, compare different epochs.\n",
      "DeepCSV test done\n",
      "Prepared matching inputs and targets for this output/discriminator.\n",
      "Predictions done.\n",
      "auc for b-tagging epoch 200 $p_T, \\eta$ rew. (F.L. $\\gamma=$25.0), setup b_raw: 0.9279157583881175\n",
      "auc for b-tagging DeepCSV: 0.9324704215613766\n",
      "findfont: Font family ['cursive'] not found. Falling back to DejaVu Sans.\n",
      "Figure(1200x1200)\n"
     ]
    }
   ],
   "source": [
    "!python eval_roc_new.py 278 200 b_raw yes _ptetaflavloss_focalloss_gamma25.0 0.001 -1 yes no -1 yes yes 3.0 ROC"
   ]
  },
  {
   "cell_type": "markdown",
   "metadata": {},
   "source": [
    "---"
   ]
  },
  {
   "cell_type": "code",
   "execution_count": 6,
   "metadata": {},
   "outputs": [
    {
     "name": "stdout",
     "output_type": "stream",
     "text": [
      "Evaluate training at epoch 200\n",
      "With weighting method _ptetaflavloss_focalloss_gamma25.0\n",
      "gamma ['25.0']\n",
      "alpha ['25.0']\n",
      "epsilon ['_ptetaflavloss_focalloss_gamma25.0']\n",
      "test inputs done\n",
      "test targets done\n",
      "number of test inputs 13283070\n",
      "bb\n",
      "All raw, same weighting method, compare different epochs.\n",
      "DeepCSV test done\n",
      "Prepared matching inputs and targets for this output/discriminator.\n",
      "Predictions done.\n",
      "auc for bb-tagging epoch 200 $p_T, \\eta$ rew. (F.L. $\\gamma=$25.0), setup bb_raw: 0.949183328890535\n",
      "auc for bb-tagging DeepCSV: 0.9533279357676674\n",
      "findfont: Font family ['cursive'] not found. Falling back to DejaVu Sans.\n",
      "Figure(1200x1200)\n"
     ]
    }
   ],
   "source": [
    "!python eval_roc_new.py 278 200 bb_raw yes _ptetaflavloss_focalloss_gamma25.0 0.001 -1 yes no -1 yes yes 3.0 ROC"
   ]
  },
  {
   "cell_type": "markdown",
   "metadata": {},
   "source": [
    "---"
   ]
  },
  {
   "cell_type": "code",
   "execution_count": 7,
   "metadata": {},
   "outputs": [
    {
     "name": "stdout",
     "output_type": "stream",
     "text": [
      "Evaluate training at epoch 200\n",
      "With weighting method _ptetaflavloss_focalloss_gamma25.0\n",
      "gamma ['25.0']\n",
      "alpha ['25.0']\n",
      "epsilon ['_ptetaflavloss_focalloss_gamma25.0']\n",
      "test inputs done\n",
      "test targets done\n",
      "number of test inputs 13283070\n",
      "c\n",
      "All raw, same weighting method, compare different epochs.\n",
      "DeepCSV test done\n",
      "Prepared matching inputs and targets for this output/discriminator.\n",
      "Predictions done.\n",
      "auc for c-tagging epoch 200 $p_T, \\eta$ rew. (F.L. $\\gamma=$25.0), setup c_raw: 0.535912067277592\n",
      "auc for c-tagging DeepCSV: 0.720592283219137\n",
      "findfont: Font family ['cursive'] not found. Falling back to DejaVu Sans.\n",
      "Figure(1200x1200)\n"
     ]
    }
   ],
   "source": [
    "!python eval_roc_new.py 278 200 c_raw yes _ptetaflavloss_focalloss_gamma25.0 0.001 -1 yes no -1 yes yes 3.0 ROC"
   ]
  },
  {
   "cell_type": "markdown",
   "metadata": {},
   "source": [
    "---"
   ]
  },
  {
   "cell_type": "code",
   "execution_count": 8,
   "metadata": {},
   "outputs": [
    {
     "name": "stdout",
     "output_type": "stream",
     "text": [
      "Evaluate training at epoch 200\n",
      "With weighting method _ptetaflavloss_focalloss_gamma25.0\n",
      "gamma ['25.0']\n",
      "alpha ['25.0']\n",
      "epsilon ['_ptetaflavloss_focalloss_gamma25.0']\n",
      "test inputs done\n",
      "test targets done\n",
      "number of test inputs 13283070\n",
      "udsg\n",
      "All raw, same weighting method, compare different epochs.\n",
      "DeepCSV test done\n",
      "Prepared matching inputs and targets for this output/discriminator.\n",
      "Predictions done.\n",
      "auc for udsg-tagging epoch 200 $p_T, \\eta$ rew. (F.L. $\\gamma=$25.0), setup udsg_raw: 0.8538680707680908\n",
      "auc for udsg-tagging DeepCSV: 0.8423692981036903\n",
      "findfont: Font family ['cursive'] not found. Falling back to DejaVu Sans.\n",
      "Figure(1200x1200)\n"
     ]
    }
   ],
   "source": [
    "!python eval_roc_new.py 278 200 udsg_raw yes _ptetaflavloss_focalloss_gamma25.0 0.001 -1 yes no -1 yes yes 3.0 ROC"
   ]
  },
  {
   "cell_type": "code",
   "execution_count": 3,
   "metadata": {},
   "outputs": [
    {
     "name": "stdout",
     "output_type": "stream",
     "text": [
      "Evaluate training at epoch 200\n",
      "With weighting method _ptetaflavloss_focalloss_gamma25.0\n",
      "gamma ['25.0']\n",
      "alpha ['25.0']\n",
      "epsilon ['_ptetaflavloss_focalloss_gamma25.0']\n",
      "test inputs done\n",
      "test targets done\n",
      "number of test inputs 13283070\n",
      "BvL\n",
      "All raw, same weighting method, compare different epochs.\n",
      "DeepCSV test done\n",
      "Prepared matching inputs and targets for this output/discriminator.\n",
      "Predictions done.\n",
      "auc for bvl-tagging epoch 200 $p_T, \\eta$ rew. (F.L. $\\gamma=$25.0), setup BvL_raw: 0.947256066778877\n",
      "auc for bvl-tagging DeepCSV: 0.9503456826671651\n",
      "findfont: Font family ['cursive'] not found. Falling back to DejaVu Sans.\n",
      "Figure(1200x1200)\n"
     ]
    }
   ],
   "source": [
    "# no additional axis\n",
    "!python eval_roc_new.py 278 200 BvL_raw yes _ptetaflavloss_focalloss_gamma25.0 0.001 -1 yes no -1 yes yes 3.0 ROC"
   ]
  },
  {
   "cell_type": "code",
   "execution_count": 4,
   "metadata": {},
   "outputs": [
    {
     "name": "stdout",
     "output_type": "stream",
     "text": [
      "Evaluate training at epoch 200\n",
      "With weighting method _ptetaflavloss_focalloss_gamma25.0\n",
      "gamma ['25.0']\n",
      "alpha ['25.0']\n",
      "epsilon ['_ptetaflavloss_focalloss_gamma25.0']\n",
      "test inputs done\n",
      "test targets done\n",
      "number of test inputs 13283070\n",
      "BvL\n",
      "All raw, same weighting method, compare different epochs.\n",
      "DeepCSV test done\n",
      "Prepared matching inputs and targets for this output/discriminator.\n",
      "Predictions done.\n",
      "auc for bvl-tagging epoch 200 $p_T, \\eta$ rew. (F.L. $\\gamma=$25.0), setup BvL_raw: 0.947256066778877\n",
      "auc for bvl-tagging DeepCSV: 0.9503456826671651\n",
      "findfont: Font family ['cursive'] not found. Falling back to DejaVu Sans.\n",
      "Figure(1200x1200)\n"
     ]
    }
   ],
   "source": [
    "# with additional axis (useless in this case...)\n",
    "!python eval_roc_new.py 278 200 BvL_raw yes _ptetaflavloss_focalloss_gamma25.0 0.001 -1 yes yes -1 yes yes 3.0 ROC"
   ]
  },
  {
   "cell_type": "markdown",
   "metadata": {},
   "source": [
    "---"
   ]
  },
  {
   "cell_type": "code",
   "execution_count": 9,
   "metadata": {},
   "outputs": [
    {
     "name": "stdout",
     "output_type": "stream",
     "text": [
      "Evaluate training at epoch 200\n",
      "With weighting method _ptetaflavloss_focalloss_gamma25.0\n",
      "gamma ['25.0']\n",
      "alpha ['25.0']\n",
      "epsilon ['_ptetaflavloss_focalloss_gamma25.0']\n",
      "test inputs done\n",
      "test targets done\n",
      "number of test inputs 13283070\n",
      "BvC\n",
      "All raw, same weighting method, compare different epochs.\n",
      "DeepCSV test done\n",
      "Prepared matching inputs and targets for this output/discriminator.\n",
      "Predictions done.\n",
      "auc for bvc-tagging epoch 200 $p_T, \\eta$ rew. (F.L. $\\gamma=$25.0), setup BvC_raw: 0.8663511544015304\n",
      "auc for bvc-tagging DeepCSV: 0.873600086078701\n",
      "findfont: Font family ['cursive'] not found. Falling back to DejaVu Sans.\n",
      "Figure(1200x1200)\n"
     ]
    }
   ],
   "source": [
    "!python eval_roc_new.py 278 200 BvC_raw yes _ptetaflavloss_focalloss_gamma25.0 0.001 -1 yes no -1 yes yes 3.0 ROC"
   ]
  },
  {
   "cell_type": "markdown",
   "metadata": {},
   "source": [
    "---"
   ]
  },
  {
   "cell_type": "code",
   "execution_count": 10,
   "metadata": {},
   "outputs": [
    {
     "name": "stdout",
     "output_type": "stream",
     "text": [
      "Evaluate training at epoch 200\n",
      "With weighting method _ptetaflavloss_focalloss_gamma25.0\n",
      "gamma ['25.0']\n",
      "alpha ['25.0']\n",
      "epsilon ['_ptetaflavloss_focalloss_gamma25.0']\n",
      "test inputs done\n",
      "test targets done\n",
      "number of test inputs 13283070\n",
      "CvB\n",
      "All raw, same weighting method, compare different epochs.\n",
      "DeepCSV test done\n",
      "Prepared matching inputs and targets for this output/discriminator.\n",
      "Predictions done.\n",
      "auc for cvb-tagging epoch 200 $p_T, \\eta$ rew. (F.L. $\\gamma=$25.0), setup CvB_raw: 0.8663511767849073\n",
      "auc for cvb-tagging DeepCSV: 0.8736000860787012\n",
      "findfont: Font family ['cursive'] not found. Falling back to DejaVu Sans.\n",
      "Figure(1200x1200)\n"
     ]
    }
   ],
   "source": [
    "!python eval_roc_new.py 278 200 CvB_raw yes _ptetaflavloss_focalloss_gamma25.0 0.001 -1 yes no -1 yes yes 3.0 ROC"
   ]
  },
  {
   "cell_type": "markdown",
   "metadata": {},
   "source": [
    "---"
   ]
  },
  {
   "cell_type": "code",
   "execution_count": 11,
   "metadata": {},
   "outputs": [
    {
     "name": "stdout",
     "output_type": "stream",
     "text": [
      "Evaluate training at epoch 200\n",
      "With weighting method _ptetaflavloss_focalloss_gamma25.0\n",
      "gamma ['25.0']\n",
      "alpha ['25.0']\n",
      "epsilon ['_ptetaflavloss_focalloss_gamma25.0']\n",
      "test inputs done\n",
      "test targets done\n",
      "number of test inputs 13283070\n",
      "CvL\n",
      "All raw, same weighting method, compare different epochs.\n",
      "DeepCSV test done\n",
      "Prepared matching inputs and targets for this output/discriminator.\n",
      "Predictions done.\n",
      "auc for cvl-tagging epoch 200 $p_T, \\eta$ rew. (F.L. $\\gamma=$25.0), setup CvL_raw: 0.7495151027782788\n",
      "auc for cvl-tagging DeepCSV: 0.7471380907949777\n",
      "findfont: Font family ['cursive'] not found. Falling back to DejaVu Sans.\n",
      "Figure(1200x1200)\n"
     ]
    }
   ],
   "source": [
    "!python eval_roc_new.py 278 200 CvL_raw yes _ptetaflavloss_focalloss_gamma25.0 0.001 -1 yes no -1 yes yes 3.0 ROC"
   ]
  },
  {
   "cell_type": "markdown",
   "metadata": {},
   "source": [
    "---\n",
    "---"
   ]
  },
  {
   "cell_type": "code",
   "execution_count": 15,
   "metadata": {},
   "outputs": [
    {
     "name": "stdout",
     "output_type": "stream",
     "text": [
      "Evaluate training at epoch 1,5,10,50,100,150,200\n",
      "With weighting method _ptetaflavloss_focalloss_gamma25.0\n",
      "gamma ['25.0']\n",
      "alpha ['25.0']\n",
      "epsilon ['_ptetaflavloss_focalloss_gamma25.0']\n",
      "test inputs done\n",
      "test targets done\n",
      "number of test inputs 13283070\n",
      "BvL\n",
      "All raw, same weighting method, compare different epochs.\n",
      "Prepared matching inputs and targets for this output/discriminator.\n",
      "Predictions done.\n",
      "auc for bvl-tagging epoch 1 $p_T, \\eta$ rew. (F.L. $\\gamma=$25.0), setup BvL_raw: 0.9279358114892423\n",
      "Predictions done.\n",
      "auc for bvl-tagging epoch 5 $p_T, \\eta$ rew. (F.L. $\\gamma=$25.0), setup BvL_raw: 0.9402696715482214\n",
      "Predictions done.\n",
      "auc for bvl-tagging epoch 10 $p_T, \\eta$ rew. (F.L. $\\gamma=$25.0), setup BvL_raw: 0.9424025827237164\n",
      "Predictions done.\n",
      "auc for bvl-tagging epoch 50 $p_T, \\eta$ rew. (F.L. $\\gamma=$25.0), setup BvL_raw: 0.9459703824922304\n",
      "Predictions done.\n",
      "auc for bvl-tagging epoch 100 $p_T, \\eta$ rew. (F.L. $\\gamma=$25.0), setup BvL_raw: 0.9467892045744443\n",
      "Predictions done.\n",
      "auc for bvl-tagging epoch 150 $p_T, \\eta$ rew. (F.L. $\\gamma=$25.0), setup BvL_raw: 0.9470821088658137\n",
      "Predictions done.\n",
      "auc for bvl-tagging epoch 200 $p_T, \\eta$ rew. (F.L. $\\gamma=$25.0), setup BvL_raw: 0.947256066778877\n",
      "findfont: Font family ['cursive'] not found. Falling back to DejaVu Sans.\n",
      "Figure(1200x1200)\n"
     ]
    }
   ],
   "source": [
    "!python eval_roc_new.py 278 1,5,10,50,100,150,200 BvL_raw no _ptetaflavloss_focalloss_gamma25.0 0.001 -1 yes no -1 yes no 3.0 ROC"
   ]
  },
  {
   "cell_type": "code",
   "execution_count": 14,
   "metadata": {},
   "outputs": [
    {
     "name": "stdout",
     "output_type": "stream",
     "text": [
      "Evaluate training at epoch 1,5,10,50,100,150,200\n",
      "With weighting method _ptetaflavloss_focalloss_gamma25.0\n",
      "gamma ['25.0']\n",
      "alpha ['25.0']\n",
      "epsilon ['_ptetaflavloss_focalloss_gamma25.0']\n",
      "test inputs done\n",
      "test targets done\n",
      "number of test inputs 13283070\n",
      "BvL\n",
      "All raw, same weighting method, compare different epochs.\n",
      "Prepared matching inputs and targets for this output/discriminator.\n",
      "Predictions done.\n",
      "auc for bvl-tagging epoch 1 $p_T, \\eta$ rew. (F.L. $\\gamma=$25.0), setup BvL_raw: 0.9279358114892423\n",
      "Predictions done.\n",
      "auc for bvl-tagging epoch 5 $p_T, \\eta$ rew. (F.L. $\\gamma=$25.0), setup BvL_raw: 0.9402696715482214\n",
      "Predictions done.\n",
      "auc for bvl-tagging epoch 10 $p_T, \\eta$ rew. (F.L. $\\gamma=$25.0), setup BvL_raw: 0.9424025827237164\n",
      "Predictions done.\n",
      "auc for bvl-tagging epoch 50 $p_T, \\eta$ rew. (F.L. $\\gamma=$25.0), setup BvL_raw: 0.9459703824922304\n",
      "Predictions done.\n",
      "auc for bvl-tagging epoch 100 $p_T, \\eta$ rew. (F.L. $\\gamma=$25.0), setup BvL_raw: 0.9467892045744443\n",
      "Predictions done.\n",
      "auc for bvl-tagging epoch 150 $p_T, \\eta$ rew. (F.L. $\\gamma=$25.0), setup BvL_raw: 0.9470821088658137\n",
      "Predictions done.\n",
      "auc for bvl-tagging epoch 200 $p_T, \\eta$ rew. (F.L. $\\gamma=$25.0), setup BvL_raw: 0.947256066778877\n",
      "findfont: Font family ['cursive'] not found. Falling back to DejaVu Sans.\n",
      "Figure(1200x1200)\n"
     ]
    }
   ],
   "source": [
    "!python eval_roc_new.py 278 1,5,10,50,100,150,200 BvL_raw no _ptetaflavloss_focalloss_gamma25.0 0.001 -1 yes yes -1 yes no 3.0 ROC"
   ]
  },
  {
   "cell_type": "markdown",
   "metadata": {},
   "source": [
    "---\n",
    "---"
   ]
  },
  {
   "cell_type": "code",
   "execution_count": 12,
   "metadata": {},
   "outputs": [
    {
     "name": "stdout",
     "output_type": "stream",
     "text": [
      "Evaluate training at epoch 200\n",
      "With weighting method _ptetaflavloss_focalloss,_flatptetaflavloss_focalloss,_ptetaflavloss_focalloss_gamma25.0,_flatptetaflavloss_focalloss_gamma25.0\n",
      "gamma ['_ptetaflavloss_focalloss', '_flatptetaflavloss_focalloss', '25.0', '25.0']\n",
      "alpha ['_ptetaflavloss_focalloss', '_flatptetaflavloss_focalloss', '25.0', '25.0']\n",
      "epsilon ['_ptetaflavloss_focalloss', '_flatptetaflavloss_focalloss', '_ptetaflavloss_focalloss_gamma25.0', '_flatptetaflavloss_focalloss_gamma25.0']\n",
      "test inputs done\n",
      "test targets done\n",
      "number of test inputs 13283070\n",
      "BvL\n",
      "All raw, but different weighting methods.\n",
      "Prepared matching inputs and targets for this output/discriminator.\n",
      "Predictions done.\n",
      "auc for bvl-tagging epoch 200 $p_T, \\eta$ rew. (F.L. $\\gamma=$2.0), setup BvL_raw: 0.946002141557919\n",
      "Predictions done.\n",
      "auc for bvl-tagging epoch 200 $p_T, \\eta$ rew. (Flat, F.L. $\\gamma=$2.0), setup BvL_raw: 0.9438009118273255\n",
      "Predictions done.\n",
      "auc for bvl-tagging epoch 200 $p_T, \\eta$ rew. (F.L. $\\gamma=$25.0), setup BvL_raw: 0.947256066778877\n",
      "Predictions done.\n",
      "auc for bvl-tagging epoch 200 $p_T, \\eta$ rew. (Flat, F.L. $\\gamma=$25.0), setup BvL_raw: 0.9462233522739932\n",
      "findfont: Font family ['cursive'] not found. Falling back to DejaVu Sans.\n",
      "Figure(1200x1200)\n"
     ]
    }
   ],
   "source": [
    "!python eval_roc_new.py 278 200 BvL_raw no _ptetaflavloss_focalloss,_flatptetaflavloss_focalloss,_ptetaflavloss_focalloss_gamma25.0,_flatptetaflavloss_focalloss_gamma25.0 0.001 -1 yes no -1 yes no 3.0 ROC"
   ]
  },
  {
   "cell_type": "code",
   "execution_count": 13,
   "metadata": {},
   "outputs": [
    {
     "name": "stdout",
     "output_type": "stream",
     "text": [
      "Evaluate training at epoch 200\n",
      "With weighting method _ptetaflavloss_focalloss,_flatptetaflavloss_focalloss,_ptetaflavloss_focalloss_gamma25.0,_flatptetaflavloss_focalloss_gamma25.0\n",
      "gamma ['_ptetaflavloss_focalloss', '_flatptetaflavloss_focalloss', '25.0', '25.0']\n",
      "alpha ['_ptetaflavloss_focalloss', '_flatptetaflavloss_focalloss', '25.0', '25.0']\n",
      "epsilon ['_ptetaflavloss_focalloss', '_flatptetaflavloss_focalloss', '_ptetaflavloss_focalloss_gamma25.0', '_flatptetaflavloss_focalloss_gamma25.0']\n",
      "test inputs done\n",
      "test targets done\n",
      "number of test inputs 13283070\n",
      "BvL\n",
      "All raw, but different weighting methods.\n",
      "Prepared matching inputs and targets for this output/discriminator.\n",
      "Predictions done.\n",
      "auc for bvl-tagging epoch 200 $p_T, \\eta$ rew. (F.L. $\\gamma=$2.0), setup BvL_raw: 0.946002141557919\n",
      "Predictions done.\n",
      "auc for bvl-tagging epoch 200 $p_T, \\eta$ rew. (Flat, F.L. $\\gamma=$2.0), setup BvL_raw: 0.9438009118273255\n",
      "Predictions done.\n",
      "auc for bvl-tagging epoch 200 $p_T, \\eta$ rew. (F.L. $\\gamma=$25.0), setup BvL_raw: 0.947256066778877\n",
      "Predictions done.\n",
      "auc for bvl-tagging epoch 200 $p_T, \\eta$ rew. (Flat, F.L. $\\gamma=$25.0), setup BvL_raw: 0.9462233522739932\n",
      "findfont: Font family ['cursive'] not found. Falling back to DejaVu Sans.\n",
      "Figure(1200x1200)\n"
     ]
    }
   ],
   "source": [
    "!python eval_roc_new.py 278 200 BvL_raw no _ptetaflavloss_focalloss,_flatptetaflavloss_focalloss,_ptetaflavloss_focalloss_gamma25.0,_flatptetaflavloss_focalloss_gamma25.0 0.001 -1 yes yes -1 yes no 3.0 ROC"
   ]
  },
  {
   "cell_type": "markdown",
   "metadata": {},
   "source": [
    "---\n",
    "---\n",
    "---"
   ]
  },
  {
   "cell_type": "markdown",
   "metadata": {},
   "source": [
    "## Plots for chapter 4\n",
    "- Same distorted inputs or individually constructed distorted inputs (transferability / generalization of adversarial examples) # abs/1412.6572 and 1611.01236 can be done across models (basic/a.t.) or just comparing different epochs  \n",
    "- Different parameters (Noise, FGSM) for Basic, A.T.  \n",
    "- Different epochs, same parameter  \n",
    "- Basic versus A.T. in one plot with same distortion"
   ]
  },
  {
   "cell_type": "markdown",
   "metadata": {},
   "source": [
    "---\n",
    "---"
   ]
  },
  {
   "cell_type": "code",
   "execution_count": 20,
   "metadata": {},
   "outputs": [
    {
     "name": "stdout",
     "output_type": "stream",
     "text": [
      "Evaluate training at epoch 1,5,10,50,100,150,200\n",
      "With weighting method _ptetaflavloss_focalloss_gamma25.0_adv_tr_eps0.01\n",
      "gamma ['25.0']\n",
      "alpha ['25.0']\n",
      "epsilon ['0.01']\n",
      "test inputs done\n",
      "test targets done\n",
      "number of test inputs 13283070\n",
      "BvL\n",
      "All raw, same weighting method, compare different epochs.\n",
      "Prepared matching inputs and targets for this output/discriminator.\n",
      "Predictions done.\n",
      "auc for bvl-tagging epoch 1 $p_T, \\eta$ rew. (F.L. $\\gamma=$25.0, $\\epsilon=$0.01), setup BvL_raw: 0.9281942213952339\n",
      "Predictions done.\n",
      "auc for bvl-tagging epoch 5 $p_T, \\eta$ rew. (F.L. $\\gamma=$25.0, $\\epsilon=$0.01), setup BvL_raw: 0.9396036610497082\n",
      "Predictions done.\n",
      "auc for bvl-tagging epoch 10 $p_T, \\eta$ rew. (F.L. $\\gamma=$25.0, $\\epsilon=$0.01), setup BvL_raw: 0.9420160803790423\n",
      "Predictions done.\n",
      "auc for bvl-tagging epoch 50 $p_T, \\eta$ rew. (F.L. $\\gamma=$25.0, $\\epsilon=$0.01), setup BvL_raw: 0.9457036437217312\n",
      "Predictions done.\n",
      "auc for bvl-tagging epoch 100 $p_T, \\eta$ rew. (F.L. $\\gamma=$25.0, $\\epsilon=$0.01), setup BvL_raw: 0.9465169916775285\n",
      "Predictions done.\n",
      "auc for bvl-tagging epoch 150 $p_T, \\eta$ rew. (F.L. $\\gamma=$25.0, $\\epsilon=$0.01), setup BvL_raw: 0.9467845358342135\n",
      "Predictions done.\n",
      "auc for bvl-tagging epoch 200 $p_T, \\eta$ rew. (F.L. $\\gamma=$25.0, $\\epsilon=$0.01), setup BvL_raw: 0.9470546223965332\n",
      "findfont: Font family ['cursive'] not found. Falling back to DejaVu Sans.\n",
      "Figure(1200x1200)\n"
     ]
    }
   ],
   "source": [
    "!python eval_roc_new.py 278 1,5,10,50,100,150,200 BvL_raw no _ptetaflavloss_focalloss_gamma25.0_adv_tr_eps0.01 0.001 -1 yes no -1 yes no 3.0 ROC"
   ]
  },
  {
   "cell_type": "code",
   "execution_count": 21,
   "metadata": {},
   "outputs": [
    {
     "name": "stdout",
     "output_type": "stream",
     "text": [
      "Evaluate training at epoch 1,5,10,50,100,150,200\n",
      "With weighting method _ptetaflavloss_focalloss_gamma25.0_adv_tr_eps0.01\n",
      "gamma ['25.0']\n",
      "alpha ['25.0']\n",
      "epsilon ['0.01']\n",
      "test inputs done\n",
      "test targets done\n",
      "number of test inputs 13283070\n",
      "BvL\n",
      "All raw, same weighting method, compare different epochs.\n",
      "Prepared matching inputs and targets for this output/discriminator.\n",
      "Predictions done.\n",
      "auc for bvl-tagging epoch 1 $p_T, \\eta$ rew. (F.L. $\\gamma=$25.0, $\\epsilon=$0.01), setup BvL_raw: 0.9281942213952339\n",
      "Predictions done.\n",
      "auc for bvl-tagging epoch 5 $p_T, \\eta$ rew. (F.L. $\\gamma=$25.0, $\\epsilon=$0.01), setup BvL_raw: 0.9396036610497082\n",
      "Predictions done.\n",
      "auc for bvl-tagging epoch 10 $p_T, \\eta$ rew. (F.L. $\\gamma=$25.0, $\\epsilon=$0.01), setup BvL_raw: 0.9420160803790423\n",
      "Predictions done.\n",
      "auc for bvl-tagging epoch 50 $p_T, \\eta$ rew. (F.L. $\\gamma=$25.0, $\\epsilon=$0.01), setup BvL_raw: 0.9457036437217312\n",
      "Predictions done.\n",
      "auc for bvl-tagging epoch 100 $p_T, \\eta$ rew. (F.L. $\\gamma=$25.0, $\\epsilon=$0.01), setup BvL_raw: 0.9465169916775285\n",
      "Predictions done.\n",
      "auc for bvl-tagging epoch 150 $p_T, \\eta$ rew. (F.L. $\\gamma=$25.0, $\\epsilon=$0.01), setup BvL_raw: 0.9467845358342135\n",
      "Predictions done.\n",
      "auc for bvl-tagging epoch 200 $p_T, \\eta$ rew. (F.L. $\\gamma=$25.0, $\\epsilon=$0.01), setup BvL_raw: 0.9470546223965332\n",
      "findfont: Font family ['cursive'] not found. Falling back to DejaVu Sans.\n",
      "Figure(1200x1200)\n"
     ]
    }
   ],
   "source": [
    "!python eval_roc_new.py 278 1,5,10,50,100,150,200 BvL_raw no _ptetaflavloss_focalloss_gamma25.0_adv_tr_eps0.01 0.001 -1 yes yes -1 yes no 3.0 ROC"
   ]
  },
  {
   "cell_type": "markdown",
   "metadata": {},
   "source": [
    "---\n",
    "---"
   ]
  },
  {
   "cell_type": "code",
   "execution_count": 1,
   "metadata": {},
   "outputs": [
    {
     "name": "stdout",
     "output_type": "stream",
     "text": [
      "Evaluate training at epoch 200\n",
      "With weighting method _ptetaflavloss_focalloss_gamma25.0\n",
      "gamma ['25.0']\n",
      "alpha ['25.0']\n",
      "epsilon ['_ptetaflavloss_focalloss_gamma25.0']\n",
      "test inputs done\n",
      "test targets done\n",
      "number of test inputs 13283070\n",
      "BvL\n",
      "Prepared matching inputs and targets for this output/discriminator.\n",
      "Predictions done.\n",
      "auc for bvl-tagging epoch 200 $p_T, \\eta$ rew. (F.L. $\\gamma=$25.0), setup BvL_raw: 0.947256066778877\n",
      "Predictions done.\n",
      "auc for bvl-tagging epoch 200 $p_T, \\eta$ rew. (F.L. $\\gamma=$25.0), setup BvL_eps0.005: 0.92363203303678\n",
      "Predictions done.\n",
      "auc for bvl-tagging epoch 200 $p_T, \\eta$ rew. (F.L. $\\gamma=$25.0), setup BvL_eps0.01: 0.8941561794319884\n",
      "Predictions done.\n",
      "auc for bvl-tagging epoch 200 $p_T, \\eta$ rew. (F.L. $\\gamma=$25.0), setup BvL_eps0.05: 0.675917383090166\n",
      "Predictions done.\n",
      "auc for bvl-tagging epoch 200 $p_T, \\eta$ rew. (F.L. $\\gamma=$25.0), setup BvL_eps0.1: 0.5216893409146903\n",
      "findfont: Font family ['cursive'] not found. Falling back to DejaVu Sans.\n",
      "Figure(1200x1200)\n"
     ]
    }
   ],
   "source": [
    "!python eval_roc_new.py 278 200 BvL_raw,BvL_eps0.005,BvL_eps0.01,BvL_eps0.05,BvL_eps0.1 no _ptetaflavloss_focalloss_gamma25.0 0.001 -1 yes no -1 yes no 3.0 ROC"
   ]
  },
  {
   "cell_type": "markdown",
   "metadata": {},
   "source": [
    "---\n",
    "---"
   ]
  },
  {
   "cell_type": "code",
   "execution_count": 3,
   "metadata": {},
   "outputs": [
    {
     "name": "stdout",
     "output_type": "stream",
     "text": [
      "Evaluate training at epoch 200\n",
      "With weighting method _ptetaflavloss_focalloss_gamma25.0_adv_tr_eps0.01\n",
      "gamma ['25.0']\n",
      "alpha ['25.0']\n",
      "epsilon ['0.01']\n",
      "test inputs done\n",
      "test targets done\n",
      "number of test inputs 13283070\n",
      "BvL\n",
      "Prepared matching inputs and targets for this output/discriminator.\n",
      "Predictions done.\n",
      "auc for bvl-tagging epoch 200 $p_T, \\eta$ rew. (F.L. $\\gamma=$25.0, $\\epsilon=$0.01), setup BvL_raw: 0.9470546223965332\n",
      "Predictions done.\n",
      "auc for bvl-tagging epoch 200 $p_T, \\eta$ rew. (F.L. $\\gamma=$25.0, $\\epsilon=$0.01), setup BvL_eps0.005: 0.9419729571824722\n",
      "Predictions done.\n",
      "auc for bvl-tagging epoch 200 $p_T, \\eta$ rew. (F.L. $\\gamma=$25.0, $\\epsilon=$0.01), setup BvL_eps0.01: 0.9366128964983321\n",
      "Predictions done.\n",
      "auc for bvl-tagging epoch 200 $p_T, \\eta$ rew. (F.L. $\\gamma=$25.0, $\\epsilon=$0.01), setup BvL_eps0.05: 0.8767615929600568\n",
      "Predictions done.\n",
      "auc for bvl-tagging epoch 200 $p_T, \\eta$ rew. (F.L. $\\gamma=$25.0, $\\epsilon=$0.01), setup BvL_eps0.1: 0.7608301124359335\n",
      "findfont: Font family ['cursive'] not found. Falling back to DejaVu Sans.\n",
      "Figure(1200x1200)\n"
     ]
    }
   ],
   "source": [
    "!python eval_roc_new.py 278 200 BvL_raw,BvL_eps0.005,BvL_eps0.01,BvL_eps0.05,BvL_eps0.1 no _ptetaflavloss_focalloss_gamma25.0_adv_tr_eps0.01 0.001 -1 yes no -1 yes no 3.0 ROC"
   ]
  },
  {
   "cell_type": "markdown",
   "metadata": {},
   "source": [
    "---\n",
    "---"
   ]
  },
  {
   "cell_type": "code",
   "execution_count": 5,
   "metadata": {},
   "outputs": [
    {
     "name": "stdout",
     "output_type": "stream",
     "text": [
      "Evaluate training at epoch 10,10,100,100,200,200\n",
      "With weighting method _ptetaflavloss_focalloss_gamma25.0\n",
      "gamma ['25.0']\n",
      "alpha ['25.0']\n",
      "epsilon ['_ptetaflavloss_focalloss_gamma25.0']\n",
      "test inputs done\n",
      "test targets done\n",
      "number of test inputs 13283070\n",
      "BvL\n",
      "Prepared matching inputs and targets for this output/discriminator.\n",
      "Predictions done.\n",
      "auc for bvl-tagging epoch 10 $p_T, \\eta$ rew. (F.L. $\\gamma=$25.0), setup BvL_raw: 0.9424025827237164\n",
      "Predictions done.\n",
      "auc for bvl-tagging epoch 10 $p_T, \\eta$ rew. (F.L. $\\gamma=$25.0), setup BvL_eps0.01: 0.9205004546566258\n",
      "Predictions done.\n",
      "auc for bvl-tagging epoch 100 $p_T, \\eta$ rew. (F.L. $\\gamma=$25.0), setup BvL_raw: 0.9467892045744443\n",
      "Predictions done.\n",
      "auc for bvl-tagging epoch 100 $p_T, \\eta$ rew. (F.L. $\\gamma=$25.0), setup BvL_eps0.01: 0.8993181102945391\n",
      "Predictions done.\n",
      "auc for bvl-tagging epoch 200 $p_T, \\eta$ rew. (F.L. $\\gamma=$25.0), setup BvL_raw: 0.947256066778877\n",
      "Predictions done.\n",
      "auc for bvl-tagging epoch 200 $p_T, \\eta$ rew. (F.L. $\\gamma=$25.0), setup BvL_eps0.01: 0.8941561794319884\n",
      "findfont: Font family ['cursive'] not found. Falling back to DejaVu Sans.\n",
      "Figure(1200x1200)\n"
     ]
    }
   ],
   "source": [
    "!python eval_roc_new.py 278 10,10,100,100,200,200 BvL_raw,BvL_eps0.01,BvL_raw,BvL_eps0.01,BvL_raw,BvL_eps0.01 no _ptetaflavloss_focalloss_gamma25.0 0.001 -1 yes no -1 yes no 3.0 ROC"
   ]
  },
  {
   "cell_type": "code",
   "execution_count": 6,
   "metadata": {},
   "outputs": [
    {
     "name": "stdout",
     "output_type": "stream",
     "text": [
      "Evaluate training at epoch 10,10,100,100,200,200\n",
      "With weighting method _ptetaflavloss_focalloss_gamma25.0\n",
      "gamma ['25.0']\n",
      "alpha ['25.0']\n",
      "epsilon ['_ptetaflavloss_focalloss_gamma25.0']\n",
      "test inputs done\n",
      "test targets done\n",
      "number of test inputs 13283070\n",
      "BvL\n",
      "Prepared matching inputs and targets for this output/discriminator.\n",
      "Predictions done.\n",
      "auc for bvl-tagging epoch 10 $p_T, \\eta$ rew. (F.L. $\\gamma=$25.0), setup BvL_raw: 0.9424025827237164\n",
      "Predictions done.\n",
      "auc for bvl-tagging epoch 10 $p_T, \\eta$ rew. (F.L. $\\gamma=$25.0), setup BvL_eps0.01: 0.9205004546566258\n",
      "Predictions done.\n",
      "auc for bvl-tagging epoch 100 $p_T, \\eta$ rew. (F.L. $\\gamma=$25.0), setup BvL_raw: 0.9467892045744443\n",
      "Predictions done.\n",
      "auc for bvl-tagging epoch 100 $p_T, \\eta$ rew. (F.L. $\\gamma=$25.0), setup BvL_eps0.01: 0.8993181102945391\n",
      "Predictions done.\n",
      "auc for bvl-tagging epoch 200 $p_T, \\eta$ rew. (F.L. $\\gamma=$25.0), setup BvL_raw: 0.947256066778877\n",
      "Predictions done.\n",
      "auc for bvl-tagging epoch 200 $p_T, \\eta$ rew. (F.L. $\\gamma=$25.0), setup BvL_eps0.01: 0.8941561794319884\n",
      "findfont: Font family ['cursive'] not found. Falling back to DejaVu Sans.\n",
      "Figure(1200x1200)\n"
     ]
    }
   ],
   "source": [
    "!python eval_roc_new.py 278 10,10,100,100,200,200 BvL_raw,BvL_eps0.01,BvL_raw,BvL_eps0.01,BvL_raw,BvL_eps0.01 no _ptetaflavloss_focalloss_gamma25.0 0.001 -1 yes yes -1 yes no 3.0 ROC"
   ]
  },
  {
   "cell_type": "markdown",
   "metadata": {},
   "source": [
    "---\n",
    "---"
   ]
  },
  {
   "cell_type": "code",
   "execution_count": 7,
   "metadata": {},
   "outputs": [
    {
     "name": "stdout",
     "output_type": "stream",
     "text": [
      "Evaluate training at epoch 10,10,100,100,200,200\n",
      "With weighting method _ptetaflavloss_focalloss_gamma25.0_adv_tr_eps0.01\n",
      "gamma ['25.0']\n",
      "alpha ['25.0']\n",
      "epsilon ['0.01']\n",
      "test inputs done\n",
      "test targets done\n",
      "number of test inputs 13283070\n",
      "BvL\n",
      "Prepared matching inputs and targets for this output/discriminator.\n",
      "Predictions done.\n",
      "auc for bvl-tagging epoch 10 $p_T, \\eta$ rew. (F.L. $\\gamma=$25.0, $\\epsilon=$0.01), setup BvL_raw: 0.9420160803790423\n",
      "Predictions done.\n",
      "auc for bvl-tagging epoch 10 $p_T, \\eta$ rew. (F.L. $\\gamma=$25.0, $\\epsilon=$0.01), setup BvL_eps0.01: 0.931963175955995\n",
      "Predictions done.\n",
      "auc for bvl-tagging epoch 100 $p_T, \\eta$ rew. (F.L. $\\gamma=$25.0, $\\epsilon=$0.01), setup BvL_raw: 0.9465169916775285\n",
      "Predictions done.\n",
      "auc for bvl-tagging epoch 100 $p_T, \\eta$ rew. (F.L. $\\gamma=$25.0, $\\epsilon=$0.01), setup BvL_eps0.01: 0.9360781425095673\n",
      "Predictions done.\n",
      "auc for bvl-tagging epoch 200 $p_T, \\eta$ rew. (F.L. $\\gamma=$25.0, $\\epsilon=$0.01), setup BvL_raw: 0.9470546223965332\n",
      "Predictions done.\n",
      "auc for bvl-tagging epoch 200 $p_T, \\eta$ rew. (F.L. $\\gamma=$25.0, $\\epsilon=$0.01), setup BvL_eps0.01: 0.9366128964983321\n",
      "findfont: Font family ['cursive'] not found. Falling back to DejaVu Sans.\n",
      "Figure(1200x1200)\n"
     ]
    }
   ],
   "source": [
    "!python eval_roc_new.py 278 10,10,100,100,200,200 BvL_raw,BvL_eps0.01,BvL_raw,BvL_eps0.01,BvL_raw,BvL_eps0.01 no _ptetaflavloss_focalloss_gamma25.0_adv_tr_eps0.01 0.001 -1 yes no -1 yes no 3.0 ROC"
   ]
  },
  {
   "cell_type": "code",
   "execution_count": 8,
   "metadata": {},
   "outputs": [
    {
     "name": "stdout",
     "output_type": "stream",
     "text": [
      "Evaluate training at epoch 10,10,100,100,200,200\n",
      "With weighting method _ptetaflavloss_focalloss_gamma25.0_adv_tr_eps0.01\n",
      "gamma ['25.0']\n",
      "alpha ['25.0']\n",
      "epsilon ['0.01']\n",
      "test inputs done\n",
      "test targets done\n",
      "number of test inputs 13283070\n",
      "BvL\n",
      "Prepared matching inputs and targets for this output/discriminator.\n",
      "Predictions done.\n",
      "auc for bvl-tagging epoch 10 $p_T, \\eta$ rew. (F.L. $\\gamma=$25.0, $\\epsilon=$0.01), setup BvL_raw: 0.9420160803790423\n",
      "Predictions done.\n",
      "auc for bvl-tagging epoch 10 $p_T, \\eta$ rew. (F.L. $\\gamma=$25.0, $\\epsilon=$0.01), setup BvL_eps0.01: 0.931963175955995\n",
      "Predictions done.\n",
      "auc for bvl-tagging epoch 100 $p_T, \\eta$ rew. (F.L. $\\gamma=$25.0, $\\epsilon=$0.01), setup BvL_raw: 0.9465169916775285\n",
      "Predictions done.\n",
      "auc for bvl-tagging epoch 100 $p_T, \\eta$ rew. (F.L. $\\gamma=$25.0, $\\epsilon=$0.01), setup BvL_eps0.01: 0.9360781425095673\n",
      "Predictions done.\n",
      "auc for bvl-tagging epoch 200 $p_T, \\eta$ rew. (F.L. $\\gamma=$25.0, $\\epsilon=$0.01), setup BvL_raw: 0.9470546223965332\n",
      "Predictions done.\n",
      "auc for bvl-tagging epoch 200 $p_T, \\eta$ rew. (F.L. $\\gamma=$25.0, $\\epsilon=$0.01), setup BvL_eps0.01: 0.9366128964983321\n",
      "findfont: Font family ['cursive'] not found. Falling back to DejaVu Sans.\n",
      "Figure(1200x1200)\n"
     ]
    }
   ],
   "source": [
    "!python eval_roc_new.py 278 10,10,100,100,200,200 BvL_raw,BvL_eps0.01,BvL_raw,BvL_eps0.01,BvL_raw,BvL_eps0.01 no _ptetaflavloss_focalloss_gamma25.0_adv_tr_eps0.01 0.001 -1 yes yes -1 yes no 3.0 ROC"
   ]
  },
  {
   "cell_type": "markdown",
   "metadata": {},
   "source": [
    "---\n",
    "---"
   ]
  },
  {
   "cell_type": "code",
   "execution_count": 9,
   "metadata": {},
   "outputs": [
    {
     "name": "stdout",
     "output_type": "stream",
     "text": [
      "Evaluate training at epoch 200\n",
      "With weighting method _ptetaflavloss_focalloss_gamma25.0,_ptetaflavloss_focalloss_gamma25.0,_ptetaflavloss_focalloss_gamma25.0_adv_tr_eps0.01,_ptetaflavloss_focalloss_gamma25.0_adv_tr_eps0.01\n",
      "gamma ['25.0', '25.0', '25.0', '25.0']\n",
      "alpha ['25.0', '25.0', '25.0', '25.0']\n",
      "epsilon ['_ptetaflavloss_focalloss_gamma25.0', '_ptetaflavloss_focalloss_gamma25.0', '0.01', '0.01']\n",
      "test inputs done\n",
      "test targets done\n",
      "number of test inputs 13283070\n",
      "BvL\n",
      "Prepared matching inputs and targets for this output/discriminator.\n",
      "Predictions done.\n",
      "auc for bvl-tagging epoch 200 $p_T, \\eta$ rew. (F.L. $\\gamma=$25.0), setup BvL_raw: 0.947256066778877\n",
      "Predictions done.\n",
      "auc for bvl-tagging epoch 200 $p_T, \\eta$ rew. (F.L. $\\gamma=$25.0), setup BvL_eps0.01: 0.8941561794319884\n",
      "Predictions done.\n",
      "auc for bvl-tagging epoch 200 $p_T, \\eta$ rew. (F.L. $\\gamma=$25.0, $\\epsilon=$0.01), setup BvL_raw: 0.9470546223965332\n",
      "Predictions done.\n",
      "auc for bvl-tagging epoch 200 $p_T, \\eta$ rew. (F.L. $\\gamma=$25.0, $\\epsilon=$0.01), setup BvL_eps0.01: 0.9366128964983321\n",
      "findfont: Font family ['cursive'] not found. Falling back to DejaVu Sans.\n",
      "Figure(1200x1200)\n"
     ]
    }
   ],
   "source": [
    "!python eval_roc_new.py 278 200 BvL_raw,BvL_eps0.01,BvL_raw,BvL_eps0.01 no _ptetaflavloss_focalloss_gamma25.0,_ptetaflavloss_focalloss_gamma25.0,_ptetaflavloss_focalloss_gamma25.0_adv_tr_eps0.01,_ptetaflavloss_focalloss_gamma25.0_adv_tr_eps0.01 0.001 -1 yes no -1 yes no 3.0 ROC"
   ]
  },
  {
   "cell_type": "code",
   "execution_count": 10,
   "metadata": {},
   "outputs": [
    {
     "name": "stdout",
     "output_type": "stream",
     "text": [
      "Evaluate training at epoch 200\n",
      "With weighting method _ptetaflavloss_focalloss_gamma25.0,_ptetaflavloss_focalloss_gamma25.0,_ptetaflavloss_focalloss_gamma25.0_adv_tr_eps0.01,_ptetaflavloss_focalloss_gamma25.0_adv_tr_eps0.01\n",
      "gamma ['25.0', '25.0', '25.0', '25.0']\n",
      "alpha ['25.0', '25.0', '25.0', '25.0']\n",
      "epsilon ['_ptetaflavloss_focalloss_gamma25.0', '_ptetaflavloss_focalloss_gamma25.0', '0.01', '0.01']\n",
      "test inputs done\n",
      "test targets done\n",
      "number of test inputs 13283070\n",
      "BvL\n",
      "Prepared matching inputs and targets for this output/discriminator.\n",
      "Predictions done.\n",
      "auc for bvl-tagging epoch 200 $p_T, \\eta$ rew. (F.L. $\\gamma=$25.0), setup BvL_raw: 0.947256066778877\n",
      "Predictions done.\n",
      "auc for bvl-tagging epoch 200 $p_T, \\eta$ rew. (F.L. $\\gamma=$25.0), setup BvL_eps0.01: 0.8941561794319884\n",
      "Predictions done.\n",
      "auc for bvl-tagging epoch 200 $p_T, \\eta$ rew. (F.L. $\\gamma=$25.0, $\\epsilon=$0.01), setup BvL_raw: 0.9470546223965332\n",
      "Predictions done.\n",
      "auc for bvl-tagging epoch 200 $p_T, \\eta$ rew. (F.L. $\\gamma=$25.0, $\\epsilon=$0.01), setup BvL_eps0.01: 0.9366128964983321\n",
      "findfont: Font family ['cursive'] not found. Falling back to DejaVu Sans.\n",
      "Figure(1200x1200)\n"
     ]
    }
   ],
   "source": [
    "!python eval_roc_new.py 278 200 BvL_raw,BvL_eps0.01,BvL_raw,BvL_eps0.01 no _ptetaflavloss_focalloss_gamma25.0,_ptetaflavloss_focalloss_gamma25.0,_ptetaflavloss_focalloss_gamma25.0_adv_tr_eps0.01,_ptetaflavloss_focalloss_gamma25.0_adv_tr_eps0.01 0.001 -1 yes yes -1 yes no 3.0 ROC"
   ]
  },
  {
   "cell_type": "markdown",
   "metadata": {},
   "source": [
    "---\n",
    "---"
   ]
  },
  {
   "cell_type": "code",
   "execution_count": 11,
   "metadata": {},
   "outputs": [
    {
     "name": "stdout",
     "output_type": "stream",
     "text": [
      "Evaluate training at epoch 10,10,100,100,200,200\n",
      "With weighting method _ptetaflavloss_focalloss_gamma25.0\n",
      "gamma ['25.0']\n",
      "alpha ['25.0']\n",
      "epsilon ['_ptetaflavloss_focalloss_gamma25.0']\n",
      "test inputs done\n",
      "test targets done\n",
      "number of test inputs 13283070\n",
      "BvL\n",
      "Prepared matching inputs and targets for this output/discriminator.\n",
      "Predictions done.\n",
      "auc for bvl-tagging epoch 10 $p_T, \\eta$ rew. (F.L. $\\gamma=$25.0), setup BvL_raw: 0.9424025827237164\n",
      "Predictions done.\n",
      "auc for bvl-tagging epoch 10 $p_T, \\eta$ rew. (F.L. $\\gamma=$25.0), setup BvL_eps0.01: 0.9266107573220237\n",
      "Predictions done.\n",
      "auc for bvl-tagging epoch 100 $p_T, \\eta$ rew. (F.L. $\\gamma=$25.0), setup BvL_raw: 0.9467892045744443\n",
      "Predictions done.\n",
      "auc for bvl-tagging epoch 100 $p_T, \\eta$ rew. (F.L. $\\gamma=$25.0), setup BvL_eps0.01: 0.9010643225623708\n",
      "Predictions done.\n",
      "auc for bvl-tagging epoch 200 $p_T, \\eta$ rew. (F.L. $\\gamma=$25.0), setup BvL_raw: 0.947256066778877\n",
      "Predictions done.\n",
      "auc for bvl-tagging epoch 200 $p_T, \\eta$ rew. (F.L. $\\gamma=$25.0), setup BvL_eps0.01: 0.8941561794319884\n",
      "findfont: Font family ['cursive'] not found. Falling back to DejaVu Sans.\n",
      "Figure(1200x1200)\n"
     ]
    }
   ],
   "source": [
    "!python eval_roc_new.py 278 10,10,100,100,200,200 BvL_raw,BvL_eps0.01,BvL_raw,BvL_eps0.01,BvL_raw,BvL_eps0.01 no _ptetaflavloss_focalloss_gamma25.0 0.001 -1 yes no 5 yes no 3.0 ROC"
   ]
  },
  {
   "cell_type": "code",
   "execution_count": 17,
   "metadata": {},
   "outputs": [
    {
     "name": "stdout",
     "output_type": "stream",
     "text": [
      "Evaluate training at epoch 10,10,100,100,200,200\n",
      "With weighting method _ptetaflavloss_focalloss_gamma25.0\n",
      "gamma ['25.0']\n",
      "alpha ['25.0']\n",
      "epsilon ['_ptetaflavloss_focalloss_gamma25.0']\n",
      "test inputs done\n",
      "test targets done\n",
      "number of test inputs 13283070\n",
      "BvL\n",
      "Prepared matching inputs and targets for this output/discriminator.\n",
      "Predictions done.\n",
      "auc for bvl-tagging epoch 10 $p_T, \\eta$ rew. (F.L. $\\gamma=$25.0), setup BvL_raw: 0.9424025827237164\n",
      "Predictions done.\n",
      "auc for bvl-tagging epoch 10 $p_T, \\eta$ rew. (F.L. $\\gamma=$25.0), setup BvL_eps0.01: 0.9266107573220237\n",
      "Predictions done.\n",
      "auc for bvl-tagging epoch 100 $p_T, \\eta$ rew. (F.L. $\\gamma=$25.0), setup BvL_raw: 0.9467892045744443\n",
      "Predictions done.\n",
      "auc for bvl-tagging epoch 100 $p_T, \\eta$ rew. (F.L. $\\gamma=$25.0), setup BvL_eps0.01: 0.9010643225623708\n",
      "Predictions done.\n",
      "auc for bvl-tagging epoch 200 $p_T, \\eta$ rew. (F.L. $\\gamma=$25.0), setup BvL_raw: 0.947256066778877\n",
      "Predictions done.\n",
      "auc for bvl-tagging epoch 200 $p_T, \\eta$ rew. (F.L. $\\gamma=$25.0), setup BvL_eps0.01: 0.8941561794319884\n",
      "findfont: Font family ['cursive'] not found. Falling back to DejaVu Sans.\n",
      "Figure(1200x1200)\n"
     ]
    }
   ],
   "source": [
    "!python eval_roc_new.py 278 10,10,100,100,200,200 BvL_raw,BvL_eps0.01,BvL_raw,BvL_eps0.01,BvL_raw,BvL_eps0.01 no _ptetaflavloss_focalloss_gamma25.0 0.001 -1 yes yes 5 yes no 3.0 ROC"
   ]
  },
  {
   "cell_type": "markdown",
   "metadata": {},
   "source": [
    "---\n",
    "---"
   ]
  },
  {
   "cell_type": "code",
   "execution_count": 13,
   "metadata": {},
   "outputs": [
    {
     "name": "stdout",
     "output_type": "stream",
     "text": [
      "Evaluate training at epoch 10,10,100,100,200,200\n",
      "With weighting method _ptetaflavloss_focalloss_gamma25.0_adv_tr_eps0.01\n",
      "gamma ['25.0']\n",
      "alpha ['25.0']\n",
      "epsilon ['0.01']\n",
      "test inputs done\n",
      "test targets done\n",
      "number of test inputs 13283070\n",
      "BvL\n",
      "Prepared matching inputs and targets for this output/discriminator.\n",
      "Predictions done.\n",
      "auc for bvl-tagging epoch 10 $p_T, \\eta$ rew. (F.L. $\\gamma=$25.0, $\\epsilon=$0.01), setup BvL_raw: 0.9420160803790423\n",
      "Predictions done.\n",
      "auc for bvl-tagging epoch 10 $p_T, \\eta$ rew. (F.L. $\\gamma=$25.0, $\\epsilon=$0.01), setup BvL_eps0.01: 0.934870482493859\n",
      "Predictions done.\n",
      "auc for bvl-tagging epoch 100 $p_T, \\eta$ rew. (F.L. $\\gamma=$25.0, $\\epsilon=$0.01), setup BvL_raw: 0.9465169916775285\n",
      "Predictions done.\n",
      "auc for bvl-tagging epoch 100 $p_T, \\eta$ rew. (F.L. $\\gamma=$25.0, $\\epsilon=$0.01), setup BvL_eps0.01: 0.9367021069745697\n",
      "Predictions done.\n",
      "auc for bvl-tagging epoch 200 $p_T, \\eta$ rew. (F.L. $\\gamma=$25.0, $\\epsilon=$0.01), setup BvL_raw: 0.9470546223965332\n",
      "Predictions done.\n",
      "auc for bvl-tagging epoch 200 $p_T, \\eta$ rew. (F.L. $\\gamma=$25.0, $\\epsilon=$0.01), setup BvL_eps0.01: 0.9366128964983321\n",
      "findfont: Font family ['cursive'] not found. Falling back to DejaVu Sans.\n",
      "Figure(1200x1200)\n"
     ]
    }
   ],
   "source": [
    "!python eval_roc_new.py 278 10,10,100,100,200,200 BvL_raw,BvL_eps0.01,BvL_raw,BvL_eps0.01,BvL_raw,BvL_eps0.01 no _ptetaflavloss_focalloss_gamma25.0_adv_tr_eps0.01 0.001 -1 yes no 5 yes no 3.0 ROC"
   ]
  },
  {
   "cell_type": "code",
   "execution_count": 14,
   "metadata": {},
   "outputs": [
    {
     "name": "stdout",
     "output_type": "stream",
     "text": [
      "Evaluate training at epoch 10,10,100,100,200,200\n",
      "With weighting method _ptetaflavloss_focalloss_gamma25.0_adv_tr_eps0.01\n",
      "gamma ['25.0']\n",
      "alpha ['25.0']\n",
      "epsilon ['0.01']\n",
      "test inputs done\n",
      "test targets done\n",
      "number of test inputs 13283070\n",
      "BvL\n",
      "Prepared matching inputs and targets for this output/discriminator.\n",
      "Predictions done.\n",
      "auc for bvl-tagging epoch 10 $p_T, \\eta$ rew. (F.L. $\\gamma=$25.0, $\\epsilon=$0.01), setup BvL_raw: 0.9420160803790423\n",
      "Predictions done.\n",
      "auc for bvl-tagging epoch 10 $p_T, \\eta$ rew. (F.L. $\\gamma=$25.0, $\\epsilon=$0.01), setup BvL_eps0.01: 0.934870482493859\n",
      "Predictions done.\n",
      "auc for bvl-tagging epoch 100 $p_T, \\eta$ rew. (F.L. $\\gamma=$25.0, $\\epsilon=$0.01), setup BvL_raw: 0.9465169916775285\n",
      "Predictions done.\n",
      "auc for bvl-tagging epoch 100 $p_T, \\eta$ rew. (F.L. $\\gamma=$25.0, $\\epsilon=$0.01), setup BvL_eps0.01: 0.9367021069745697\n",
      "Predictions done.\n",
      "auc for bvl-tagging epoch 200 $p_T, \\eta$ rew. (F.L. $\\gamma=$25.0, $\\epsilon=$0.01), setup BvL_raw: 0.9470546223965332\n",
      "Predictions done.\n",
      "auc for bvl-tagging epoch 200 $p_T, \\eta$ rew. (F.L. $\\gamma=$25.0, $\\epsilon=$0.01), setup BvL_eps0.01: 0.9366128964983321\n",
      "findfont: Font family ['cursive'] not found. Falling back to DejaVu Sans.\n",
      "Figure(1200x1200)\n"
     ]
    }
   ],
   "source": [
    "!python eval_roc_new.py 278 10,10,100,100,200,200 BvL_raw,BvL_eps0.01,BvL_raw,BvL_eps0.01,BvL_raw,BvL_eps0.01 no _ptetaflavloss_focalloss_gamma25.0_adv_tr_eps0.01 0.001 -1 yes yes 5 yes no 3.0 ROC"
   ]
  },
  {
   "cell_type": "markdown",
   "metadata": {},
   "source": [
    "---\n",
    "---"
   ]
  },
  {
   "cell_type": "code",
   "execution_count": 15,
   "metadata": {},
   "outputs": [
    {
     "name": "stdout",
     "output_type": "stream",
     "text": [
      "Evaluate training at epoch 200\n",
      "With weighting method _ptetaflavloss_focalloss_gamma25.0,_ptetaflavloss_focalloss_gamma25.0,_ptetaflavloss_focalloss_gamma25.0_adv_tr_eps0.01,_ptetaflavloss_focalloss_gamma25.0_adv_tr_eps0.01\n",
      "gamma ['25.0', '25.0', '25.0', '25.0']\n",
      "alpha ['25.0', '25.0', '25.0', '25.0']\n",
      "epsilon ['_ptetaflavloss_focalloss_gamma25.0', '_ptetaflavloss_focalloss_gamma25.0', '0.01', '0.01']\n",
      "test inputs done\n",
      "test targets done\n",
      "number of test inputs 13283070\n",
      "BvL\n",
      "Prepared matching inputs and targets for this output/discriminator.\n",
      "Predictions done.\n",
      "auc for bvl-tagging epoch 200 $p_T, \\eta$ rew. (F.L. $\\gamma=$25.0), setup BvL_raw: 0.947256066778877\n",
      "Predictions done.\n",
      "auc for bvl-tagging epoch 200 $p_T, \\eta$ rew. (F.L. $\\gamma=$25.0), setup BvL_eps0.01: 0.8941561794319884\n",
      "Predictions done.\n",
      "auc for bvl-tagging epoch 200 $p_T, \\eta$ rew. (F.L. $\\gamma=$25.0, $\\epsilon=$0.01), setup BvL_raw: 0.9470546223965332\n",
      "Predictions done.\n",
      "auc for bvl-tagging epoch 200 $p_T, \\eta$ rew. (F.L. $\\gamma=$25.0, $\\epsilon=$0.01), setup BvL_eps0.01: 0.9387698019177624\n",
      "findfont: Font family ['cursive'] not found. Falling back to DejaVu Sans.\n",
      "Figure(1200x1200)\n"
     ]
    }
   ],
   "source": [
    "!python eval_roc_new.py 278 200 BvL_raw,BvL_eps0.01,BvL_raw,BvL_eps0.01 no _ptetaflavloss_focalloss_gamma25.0,_ptetaflavloss_focalloss_gamma25.0,_ptetaflavloss_focalloss_gamma25.0_adv_tr_eps0.01,_ptetaflavloss_focalloss_gamma25.0_adv_tr_eps0.01 0.001 -1 yes no 1 yes no 3.0 ROC"
   ]
  },
  {
   "cell_type": "code",
   "execution_count": 16,
   "metadata": {},
   "outputs": [
    {
     "name": "stdout",
     "output_type": "stream",
     "text": [
      "Evaluate training at epoch 200\n",
      "With weighting method _ptetaflavloss_focalloss_gamma25.0,_ptetaflavloss_focalloss_gamma25.0,_ptetaflavloss_focalloss_gamma25.0_adv_tr_eps0.01,_ptetaflavloss_focalloss_gamma25.0_adv_tr_eps0.01\n",
      "gamma ['25.0', '25.0', '25.0', '25.0']\n",
      "alpha ['25.0', '25.0', '25.0', '25.0']\n",
      "epsilon ['_ptetaflavloss_focalloss_gamma25.0', '_ptetaflavloss_focalloss_gamma25.0', '0.01', '0.01']\n",
      "test inputs done\n",
      "test targets done\n",
      "number of test inputs 13283070\n",
      "BvL\n",
      "Prepared matching inputs and targets for this output/discriminator.\n",
      "Predictions done.\n",
      "auc for bvl-tagging epoch 200 $p_T, \\eta$ rew. (F.L. $\\gamma=$25.0), setup BvL_raw: 0.947256066778877\n",
      "Predictions done.\n",
      "auc for bvl-tagging epoch 200 $p_T, \\eta$ rew. (F.L. $\\gamma=$25.0), setup BvL_eps0.01: 0.8941561794319884\n",
      "Predictions done.\n",
      "auc for bvl-tagging epoch 200 $p_T, \\eta$ rew. (F.L. $\\gamma=$25.0, $\\epsilon=$0.01), setup BvL_raw: 0.9470546223965332\n",
      "Predictions done.\n",
      "auc for bvl-tagging epoch 200 $p_T, \\eta$ rew. (F.L. $\\gamma=$25.0, $\\epsilon=$0.01), setup BvL_eps0.01: 0.9387698019177624\n",
      "findfont: Font family ['cursive'] not found. Falling back to DejaVu Sans.\n",
      "Figure(1200x1200)\n"
     ]
    }
   ],
   "source": [
    "!python eval_roc_new.py 278 200 BvL_raw,BvL_eps0.01,BvL_raw,BvL_eps0.01 no _ptetaflavloss_focalloss_gamma25.0,_ptetaflavloss_focalloss_gamma25.0,_ptetaflavloss_focalloss_gamma25.0_adv_tr_eps0.01,_ptetaflavloss_focalloss_gamma25.0_adv_tr_eps0.01 0.001 -1 yes yes 1 yes no 3.0 ROC"
   ]
  },
  {
   "cell_type": "markdown",
   "metadata": {},
   "source": [
    "---\n",
    "---"
   ]
  },
  {
   "cell_type": "code",
   "execution_count": 18,
   "metadata": {},
   "outputs": [
    {
     "name": "stdout",
     "output_type": "stream",
     "text": [
      "Evaluate training at epoch 200\n",
      "With weighting method _ptetaflavloss_focalloss_gamma25.0\n",
      "gamma ['25.0']\n",
      "alpha ['25.0']\n",
      "epsilon ['_ptetaflavloss_focalloss_gamma25.0']\n",
      "test inputs done\n",
      "test targets done\n",
      "number of test inputs 13283070\n",
      "BvL\n",
      "Prepared matching inputs and targets for this output/discriminator.\n",
      "Predictions done.\n",
      "auc for bvl-tagging epoch 200 $p_T, \\eta$ rew. (F.L. $\\gamma=$25.0), setup BvL_raw: 0.947256066778877\n",
      "Predictions done.\n",
      "auc for bvl-tagging epoch 200 $p_T, \\eta$ rew. (F.L. $\\gamma=$25.0), setup BvL_sigma0.005: 0.9470470802328366\n",
      "Predictions done.\n",
      "auc for bvl-tagging epoch 200 $p_T, \\eta$ rew. (F.L. $\\gamma=$25.0), setup BvL_sigma0.01: 0.9463749690096384\n",
      "Predictions done.\n",
      "auc for bvl-tagging epoch 200 $p_T, \\eta$ rew. (F.L. $\\gamma=$25.0), setup BvL_sigma0.05: 0.9306781849861924\n",
      "Predictions done.\n",
      "auc for bvl-tagging epoch 200 $p_T, \\eta$ rew. (F.L. $\\gamma=$25.0), setup BvL_sigma0.1: 0.9112664000142402\n",
      "findfont: Font family ['cursive'] not found. Falling back to DejaVu Sans.\n",
      "Figure(1200x1200)\n"
     ]
    }
   ],
   "source": [
    "!python eval_roc_new.py 278 200 BvL_raw,BvL_sigma0.005,BvL_sigma0.01,BvL_sigma0.05,BvL_sigma0.1 no _ptetaflavloss_focalloss_gamma25.0 0.001 -1 yes no -1 yes no 3.0 ROC"
   ]
  },
  {
   "cell_type": "code",
   "execution_count": 26,
   "metadata": {},
   "outputs": [
    {
     "name": "stdout",
     "output_type": "stream",
     "text": [
      "Evaluate training at epoch 200\n",
      "With weighting method _ptetaflavloss_focalloss_gamma25.0\n",
      "gamma ['25.0']\n",
      "alpha ['25.0']\n",
      "epsilon ['_ptetaflavloss_focalloss_gamma25.0']\n",
      "test inputs done\n",
      "test targets done\n",
      "number of test inputs 13283070\n",
      "BvL\n",
      "Prepared matching inputs and targets for this output/discriminator.\n",
      "Predictions done.\n",
      "auc for bvl-tagging epoch 200 $p_T, \\eta$ rew. (F.L. $\\gamma=$25.0), setup BvL_raw: 0.947256066778877\n",
      "Predictions done.\n",
      "auc for bvl-tagging epoch 200 $p_T, \\eta$ rew. (F.L. $\\gamma=$25.0), setup BvL_sigma0.005: 0.9470487144406095\n",
      "Predictions done.\n",
      "auc for bvl-tagging epoch 200 $p_T, \\eta$ rew. (F.L. $\\gamma=$25.0), setup BvL_sigma0.01: 0.9463849163578345\n",
      "Predictions done.\n",
      "auc for bvl-tagging epoch 200 $p_T, \\eta$ rew. (F.L. $\\gamma=$25.0), setup BvL_sigma0.05: 0.9306969207291331\n",
      "Predictions done.\n",
      "auc for bvl-tagging epoch 200 $p_T, \\eta$ rew. (F.L. $\\gamma=$25.0), setup BvL_sigma0.1: 0.9112695861808277\n",
      "findfont: Font family ['cursive'] not found. Falling back to DejaVu Sans.\n",
      "Figure(1200x1200)\n"
     ]
    }
   ],
   "source": [
    "!python eval_roc_new.py 278 200 BvL_raw,BvL_sigma0.005,BvL_sigma0.01,BvL_sigma0.05,BvL_sigma0.1 no _ptetaflavloss_focalloss_gamma25.0 0.001 -1 yes yes -1 yes no 3.0 ROC"
   ]
  },
  {
   "cell_type": "markdown",
   "metadata": {},
   "source": [
    "---\n",
    "---"
   ]
  },
  {
   "cell_type": "code",
   "execution_count": 19,
   "metadata": {},
   "outputs": [
    {
     "name": "stdout",
     "output_type": "stream",
     "text": [
      "Evaluate training at epoch 200\n",
      "With weighting method _ptetaflavloss_focalloss_gamma25.0_adv_tr_eps0.01\n",
      "gamma ['25.0']\n",
      "alpha ['25.0']\n",
      "epsilon ['0.01']\n",
      "test inputs done\n",
      "test targets done\n",
      "number of test inputs 13283070\n",
      "BvL\n",
      "Prepared matching inputs and targets for this output/discriminator.\n",
      "Predictions done.\n",
      "auc for bvl-tagging epoch 200 $p_T, \\eta$ rew. (F.L. $\\gamma=$25.0, $\\epsilon=$0.01), setup BvL_raw: 0.9470546223965332\n",
      "Predictions done.\n",
      "auc for bvl-tagging epoch 200 $p_T, \\eta$ rew. (F.L. $\\gamma=$25.0, $\\epsilon=$0.01), setup BvL_sigma0.005: 0.9470500373752984\n",
      "Predictions done.\n",
      "auc for bvl-tagging epoch 200 $p_T, \\eta$ rew. (F.L. $\\gamma=$25.0, $\\epsilon=$0.01), setup BvL_sigma0.01: 0.9470327289957505\n",
      "Predictions done.\n",
      "auc for bvl-tagging epoch 200 $p_T, \\eta$ rew. (F.L. $\\gamma=$25.0, $\\epsilon=$0.01), setup BvL_sigma0.05: 0.9440163243558439\n",
      "Predictions done.\n",
      "auc for bvl-tagging epoch 200 $p_T, \\eta$ rew. (F.L. $\\gamma=$25.0, $\\epsilon=$0.01), setup BvL_sigma0.1: 0.9323209220726012\n",
      "findfont: Font family ['cursive'] not found. Falling back to DejaVu Sans.\n",
      "Figure(1200x1200)\n"
     ]
    }
   ],
   "source": [
    "!python eval_roc_new.py 278 200 BvL_raw,BvL_sigma0.005,BvL_sigma0.01,BvL_sigma0.05,BvL_sigma0.1 no _ptetaflavloss_focalloss_gamma25.0_adv_tr_eps0.01 0.001 -1 yes no -1 yes no 3.0 ROC"
   ]
  },
  {
   "cell_type": "code",
   "execution_count": 27,
   "metadata": {},
   "outputs": [
    {
     "name": "stdout",
     "output_type": "stream",
     "text": [
      "Evaluate training at epoch 200\n",
      "With weighting method _ptetaflavloss_focalloss_gamma25.0_adv_tr_eps0.01\n",
      "gamma ['25.0']\n",
      "alpha ['25.0']\n",
      "epsilon ['0.01']\n",
      "test inputs done\n",
      "test targets done\n",
      "number of test inputs 13283070\n",
      "BvL\n",
      "Prepared matching inputs and targets for this output/discriminator.\n",
      "Predictions done.\n",
      "auc for bvl-tagging epoch 200 $p_T, \\eta$ rew. (F.L. $\\gamma=$25.0, $\\epsilon=$0.01), setup BvL_raw: 0.9470546223965332\n",
      "Predictions done.\n",
      "auc for bvl-tagging epoch 200 $p_T, \\eta$ rew. (F.L. $\\gamma=$25.0, $\\epsilon=$0.01), setup BvL_sigma0.005: 0.9470493610715313\n",
      "Predictions done.\n",
      "auc for bvl-tagging epoch 200 $p_T, \\eta$ rew. (F.L. $\\gamma=$25.0, $\\epsilon=$0.01), setup BvL_sigma0.01: 0.9470314469061875\n",
      "Predictions done.\n",
      "auc for bvl-tagging epoch 200 $p_T, \\eta$ rew. (F.L. $\\gamma=$25.0, $\\epsilon=$0.01), setup BvL_sigma0.05: 0.9440324655733239\n",
      "Predictions done.\n",
      "auc for bvl-tagging epoch 200 $p_T, \\eta$ rew. (F.L. $\\gamma=$25.0, $\\epsilon=$0.01), setup BvL_sigma0.1: 0.93227989492435\n",
      "findfont: Font family ['cursive'] not found. Falling back to DejaVu Sans.\n",
      "Figure(1200x1200)\n"
     ]
    }
   ],
   "source": [
    "!python eval_roc_new.py 278 200 BvL_raw,BvL_sigma0.005,BvL_sigma0.01,BvL_sigma0.05,BvL_sigma0.1 no _ptetaflavloss_focalloss_gamma25.0_adv_tr_eps0.01 0.001 -1 yes yes -1 yes no 3.0 ROC"
   ]
  },
  {
   "cell_type": "markdown",
   "metadata": {},
   "source": [
    "---\n",
    "---"
   ]
  },
  {
   "cell_type": "code",
   "execution_count": 20,
   "metadata": {},
   "outputs": [
    {
     "name": "stdout",
     "output_type": "stream",
     "text": [
      "Evaluate training at epoch 10,10,100,100,200,200\n",
      "With weighting method _ptetaflavloss_focalloss_gamma25.0\n",
      "gamma ['25.0']\n",
      "alpha ['25.0']\n",
      "epsilon ['_ptetaflavloss_focalloss_gamma25.0']\n",
      "test inputs done\n",
      "test targets done\n",
      "number of test inputs 13283070\n",
      "BvL\n",
      "Prepared matching inputs and targets for this output/discriminator.\n",
      "Predictions done.\n",
      "auc for bvl-tagging epoch 10 $p_T, \\eta$ rew. (F.L. $\\gamma=$25.0), setup BvL_raw: 0.9424025827237164\n",
      "Predictions done.\n",
      "auc for bvl-tagging epoch 10 $p_T, \\eta$ rew. (F.L. $\\gamma=$25.0), setup BvL_sigma0.01: 0.942320734041396\n",
      "Predictions done.\n",
      "auc for bvl-tagging epoch 100 $p_T, \\eta$ rew. (F.L. $\\gamma=$25.0), setup BvL_raw: 0.9467892045744443\n",
      "Predictions done.\n",
      "auc for bvl-tagging epoch 100 $p_T, \\eta$ rew. (F.L. $\\gamma=$25.0), setup BvL_sigma0.01: 0.9462275027019342\n",
      "Predictions done.\n",
      "auc for bvl-tagging epoch 200 $p_T, \\eta$ rew. (F.L. $\\gamma=$25.0), setup BvL_raw: 0.947256066778877\n",
      "Predictions done.\n",
      "auc for bvl-tagging epoch 200 $p_T, \\eta$ rew. (F.L. $\\gamma=$25.0), setup BvL_sigma0.01: 0.946344981262291\n",
      "findfont: Font family ['cursive'] not found. Falling back to DejaVu Sans.\n",
      "Figure(1200x1200)\n"
     ]
    }
   ],
   "source": [
    "!python eval_roc_new.py 278 10,10,100,100,200,200 BvL_raw,BvL_sigma0.01,BvL_raw,BvL_sigma0.01,BvL_raw,BvL_sigma0.01 no _ptetaflavloss_focalloss_gamma25.0 0.001 -1 yes no -1 yes no 3.0 ROC"
   ]
  },
  {
   "cell_type": "code",
   "execution_count": 21,
   "metadata": {},
   "outputs": [
    {
     "name": "stdout",
     "output_type": "stream",
     "text": [
      "Evaluate training at epoch 10,10,100,100,200,200\n",
      "With weighting method _ptetaflavloss_focalloss_gamma25.0\n",
      "gamma ['25.0']\n",
      "alpha ['25.0']\n",
      "epsilon ['_ptetaflavloss_focalloss_gamma25.0']\n",
      "test inputs done\n",
      "test targets done\n",
      "number of test inputs 13283070\n",
      "BvL\n",
      "Prepared matching inputs and targets for this output/discriminator.\n",
      "Predictions done.\n",
      "auc for bvl-tagging epoch 10 $p_T, \\eta$ rew. (F.L. $\\gamma=$25.0), setup BvL_raw: 0.9424025827237164\n",
      "Predictions done.\n",
      "auc for bvl-tagging epoch 10 $p_T, \\eta$ rew. (F.L. $\\gamma=$25.0), setup BvL_sigma0.01: 0.9423152103008995\n",
      "Predictions done.\n",
      "auc for bvl-tagging epoch 100 $p_T, \\eta$ rew. (F.L. $\\gamma=$25.0), setup BvL_raw: 0.9467892045744443\n",
      "Predictions done.\n",
      "auc for bvl-tagging epoch 100 $p_T, \\eta$ rew. (F.L. $\\gamma=$25.0), setup BvL_sigma0.01: 0.9462358510212754\n",
      "Predictions done.\n",
      "auc for bvl-tagging epoch 200 $p_T, \\eta$ rew. (F.L. $\\gamma=$25.0), setup BvL_raw: 0.947256066778877\n",
      "Predictions done.\n",
      "auc for bvl-tagging epoch 200 $p_T, \\eta$ rew. (F.L. $\\gamma=$25.0), setup BvL_sigma0.01: 0.9463748421290298\n",
      "findfont: Font family ['cursive'] not found. Falling back to DejaVu Sans.\n",
      "Figure(1200x1200)\n"
     ]
    }
   ],
   "source": [
    "!python eval_roc_new.py 278 10,10,100,100,200,200 BvL_raw,BvL_sigma0.01,BvL_raw,BvL_sigma0.01,BvL_raw,BvL_sigma0.01 no _ptetaflavloss_focalloss_gamma25.0 0.001 -1 yes yes -1 yes no 3.0 ROC"
   ]
  },
  {
   "cell_type": "markdown",
   "metadata": {},
   "source": [
    "---\n",
    "---"
   ]
  },
  {
   "cell_type": "code",
   "execution_count": 22,
   "metadata": {},
   "outputs": [
    {
     "name": "stdout",
     "output_type": "stream",
     "text": [
      "Evaluate training at epoch 10,10,100,100,200,200\n",
      "With weighting method _ptetaflavloss_focalloss_gamma25.0_adv_tr_eps0.01\n",
      "gamma ['25.0']\n",
      "alpha ['25.0']\n",
      "epsilon ['0.01']\n",
      "test inputs done\n",
      "test targets done\n",
      "number of test inputs 13283070\n",
      "BvL\n",
      "Prepared matching inputs and targets for this output/discriminator.\n",
      "Predictions done.\n",
      "auc for bvl-tagging epoch 10 $p_T, \\eta$ rew. (F.L. $\\gamma=$25.0, $\\epsilon=$0.01), setup BvL_raw: 0.9420160803790423\n",
      "Predictions done.\n",
      "auc for bvl-tagging epoch 10 $p_T, \\eta$ rew. (F.L. $\\gamma=$25.0, $\\epsilon=$0.01), setup BvL_sigma0.01: 0.9419850466518476\n",
      "Predictions done.\n",
      "auc for bvl-tagging epoch 100 $p_T, \\eta$ rew. (F.L. $\\gamma=$25.0, $\\epsilon=$0.01), setup BvL_raw: 0.9465169916775285\n",
      "Predictions done.\n",
      "auc for bvl-tagging epoch 100 $p_T, \\eta$ rew. (F.L. $\\gamma=$25.0, $\\epsilon=$0.01), setup BvL_sigma0.01: 0.9464851942624112\n",
      "Predictions done.\n",
      "auc for bvl-tagging epoch 200 $p_T, \\eta$ rew. (F.L. $\\gamma=$25.0, $\\epsilon=$0.01), setup BvL_raw: 0.9470546223965332\n",
      "Predictions done.\n",
      "auc for bvl-tagging epoch 200 $p_T, \\eta$ rew. (F.L. $\\gamma=$25.0, $\\epsilon=$0.01), setup BvL_sigma0.01: 0.9470361702180461\n",
      "findfont: Font family ['cursive'] not found. Falling back to DejaVu Sans.\n",
      "Figure(1200x1200)\n"
     ]
    }
   ],
   "source": [
    "!python eval_roc_new.py 278 10,10,100,100,200,200 BvL_raw,BvL_sigma0.01,BvL_raw,BvL_sigma0.01,BvL_raw,BvL_sigma0.01 no _ptetaflavloss_focalloss_gamma25.0_adv_tr_eps0.01 0.001 -1 yes no -1 yes no 3.0 ROC"
   ]
  },
  {
   "cell_type": "code",
   "execution_count": 23,
   "metadata": {},
   "outputs": [
    {
     "name": "stdout",
     "output_type": "stream",
     "text": [
      "Evaluate training at epoch 10,10,100,100,200,200\n",
      "With weighting method _ptetaflavloss_focalloss_gamma25.0_adv_tr_eps0.01\n",
      "gamma ['25.0']\n",
      "alpha ['25.0']\n",
      "epsilon ['0.01']\n",
      "test inputs done\n",
      "test targets done\n",
      "number of test inputs 13283070\n",
      "BvL\n",
      "Prepared matching inputs and targets for this output/discriminator.\n",
      "Predictions done.\n",
      "auc for bvl-tagging epoch 10 $p_T, \\eta$ rew. (F.L. $\\gamma=$25.0, $\\epsilon=$0.01), setup BvL_raw: 0.9420160803790423\n",
      "Predictions done.\n",
      "auc for bvl-tagging epoch 10 $p_T, \\eta$ rew. (F.L. $\\gamma=$25.0, $\\epsilon=$0.01), setup BvL_sigma0.01: 0.9419808969132836\n",
      "Predictions done.\n",
      "auc for bvl-tagging epoch 100 $p_T, \\eta$ rew. (F.L. $\\gamma=$25.0, $\\epsilon=$0.01), setup BvL_raw: 0.9465169916775285\n",
      "Predictions done.\n",
      "auc for bvl-tagging epoch 100 $p_T, \\eta$ rew. (F.L. $\\gamma=$25.0, $\\epsilon=$0.01), setup BvL_sigma0.01: 0.9464882755857584\n",
      "Predictions done.\n",
      "auc for bvl-tagging epoch 200 $p_T, \\eta$ rew. (F.L. $\\gamma=$25.0, $\\epsilon=$0.01), setup BvL_raw: 0.9470546223965332\n",
      "Predictions done.\n",
      "auc for bvl-tagging epoch 200 $p_T, \\eta$ rew. (F.L. $\\gamma=$25.0, $\\epsilon=$0.01), setup BvL_sigma0.01: 0.9470213533441842\n",
      "findfont: Font family ['cursive'] not found. Falling back to DejaVu Sans.\n",
      "Figure(1200x1200)\n"
     ]
    }
   ],
   "source": [
    "!python eval_roc_new.py 278 10,10,100,100,200,200 BvL_raw,BvL_sigma0.01,BvL_raw,BvL_sigma0.01,BvL_raw,BvL_sigma0.01 no _ptetaflavloss_focalloss_gamma25.0_adv_tr_eps0.01 0.001 -1 yes yes -1 yes no 3.0 ROC"
   ]
  },
  {
   "cell_type": "markdown",
   "metadata": {},
   "source": [
    "---\n",
    "---"
   ]
  },
  {
   "cell_type": "code",
   "execution_count": 24,
   "metadata": {},
   "outputs": [
    {
     "name": "stdout",
     "output_type": "stream",
     "text": [
      "Evaluate training at epoch 200\n",
      "With weighting method _ptetaflavloss_focalloss_gamma25.0,_ptetaflavloss_focalloss_gamma25.0,_ptetaflavloss_focalloss_gamma25.0_adv_tr_eps0.01,_ptetaflavloss_focalloss_gamma25.0_adv_tr_eps0.01\n",
      "gamma ['25.0', '25.0', '25.0', '25.0']\n",
      "alpha ['25.0', '25.0', '25.0', '25.0']\n",
      "epsilon ['_ptetaflavloss_focalloss_gamma25.0', '_ptetaflavloss_focalloss_gamma25.0', '0.01', '0.01']\n",
      "test inputs done\n",
      "test targets done\n",
      "number of test inputs 13283070\n",
      "BvL\n",
      "Prepared matching inputs and targets for this output/discriminator.\n",
      "Predictions done.\n",
      "auc for bvl-tagging epoch 200 $p_T, \\eta$ rew. (F.L. $\\gamma=$25.0), setup BvL_raw: 0.947256066778877\n",
      "Predictions done.\n",
      "auc for bvl-tagging epoch 200 $p_T, \\eta$ rew. (F.L. $\\gamma=$25.0), setup BvL_sigma0.01: 0.9463857269506426\n",
      "Predictions done.\n",
      "auc for bvl-tagging epoch 200 $p_T, \\eta$ rew. (F.L. $\\gamma=$25.0, $\\epsilon=$0.01), setup BvL_raw: 0.9470546223965332\n",
      "Predictions done.\n",
      "auc for bvl-tagging epoch 200 $p_T, \\eta$ rew. (F.L. $\\gamma=$25.0, $\\epsilon=$0.01), setup BvL_sigma0.01: 0.9470272728944609\n",
      "findfont: Font family ['cursive'] not found. Falling back to DejaVu Sans.\n",
      "Figure(1200x1200)\n"
     ]
    }
   ],
   "source": [
    "!python eval_roc_new.py 278 200 BvL_raw,BvL_sigma0.01,BvL_raw,BvL_sigma0.01 no _ptetaflavloss_focalloss_gamma25.0,_ptetaflavloss_focalloss_gamma25.0,_ptetaflavloss_focalloss_gamma25.0_adv_tr_eps0.01,_ptetaflavloss_focalloss_gamma25.0_adv_tr_eps0.01 0.001 -1 yes no -1 yes no 3.0 ROC"
   ]
  },
  {
   "cell_type": "code",
   "execution_count": 25,
   "metadata": {},
   "outputs": [
    {
     "name": "stdout",
     "output_type": "stream",
     "text": [
      "Evaluate training at epoch 200\n",
      "With weighting method _ptetaflavloss_focalloss_gamma25.0,_ptetaflavloss_focalloss_gamma25.0,_ptetaflavloss_focalloss_gamma25.0_adv_tr_eps0.01,_ptetaflavloss_focalloss_gamma25.0_adv_tr_eps0.01\n",
      "gamma ['25.0', '25.0', '25.0', '25.0']\n",
      "alpha ['25.0', '25.0', '25.0', '25.0']\n",
      "epsilon ['_ptetaflavloss_focalloss_gamma25.0', '_ptetaflavloss_focalloss_gamma25.0', '0.01', '0.01']\n",
      "test inputs done\n",
      "test targets done\n",
      "number of test inputs 13283070\n",
      "BvL\n",
      "Prepared matching inputs and targets for this output/discriminator.\n",
      "Predictions done.\n",
      "auc for bvl-tagging epoch 200 $p_T, \\eta$ rew. (F.L. $\\gamma=$25.0), setup BvL_raw: 0.947256066778877\n",
      "Predictions done.\n",
      "auc for bvl-tagging epoch 200 $p_T, \\eta$ rew. (F.L. $\\gamma=$25.0), setup BvL_sigma0.01: 0.946415564607426\n",
      "Predictions done.\n",
      "auc for bvl-tagging epoch 200 $p_T, \\eta$ rew. (F.L. $\\gamma=$25.0, $\\epsilon=$0.01), setup BvL_raw: 0.9470546223965332\n",
      "Predictions done.\n",
      "auc for bvl-tagging epoch 200 $p_T, \\eta$ rew. (F.L. $\\gamma=$25.0, $\\epsilon=$0.01), setup BvL_sigma0.01: 0.9470372258104139\n",
      "findfont: Font family ['cursive'] not found. Falling back to DejaVu Sans.\n",
      "Figure(1200x1200)\n"
     ]
    }
   ],
   "source": [
    "!python eval_roc_new.py 278 200 BvL_raw,BvL_sigma0.01,BvL_raw,BvL_sigma0.01 no _ptetaflavloss_focalloss_gamma25.0,_ptetaflavloss_focalloss_gamma25.0,_ptetaflavloss_focalloss_gamma25.0_adv_tr_eps0.01,_ptetaflavloss_focalloss_gamma25.0_adv_tr_eps0.01 0.001 -1 yes yes -1 yes no 3.0 ROC"
   ]
  },
  {
   "cell_type": "markdown",
   "metadata": {},
   "source": [
    "---\n",
    "---\n",
    "---"
   ]
  },
  {
   "cell_type": "markdown",
   "metadata": {},
   "source": [
    "## Plots for appendix\n",
    "- Different setups, e.g. flat or non-flat reweighting or different focussing parameter"
   ]
  },
  {
   "cell_type": "markdown",
   "metadata": {},
   "source": [
    "---\n",
    "---"
   ]
  },
  {
   "cell_type": "code",
   "execution_count": 16,
   "metadata": {},
   "outputs": [
    {
     "name": "stdout",
     "output_type": "stream",
     "text": [
      "Evaluate training at epoch 200\n",
      "With weighting method _ptetaflavloss_focalloss_gamma25.0,_flatptetaflavloss_focalloss_gamma25.0\n",
      "gamma ['25.0', '25.0']\n",
      "alpha ['25.0', '25.0']\n",
      "epsilon ['_ptetaflavloss_focalloss_gamma25.0', '_flatptetaflavloss_focalloss_gamma25.0']\n",
      "test inputs done\n",
      "test targets done\n",
      "number of test inputs 13283070\n",
      "BvL\n",
      "All raw, but different weighting methods.\n",
      "Prepared matching inputs and targets for this output/discriminator.\n",
      "Predictions done.\n",
      "auc for bvl-tagging epoch 200 $p_T, \\eta$ rew. (F.L. $\\gamma=$25.0), setup BvL_raw: 0.947256066778877\n",
      "Predictions done.\n",
      "auc for bvl-tagging epoch 200 $p_T, \\eta$ rew. (Flat, F.L. $\\gamma=$25.0), setup BvL_raw: 0.9462233522739932\n",
      "findfont: Font family ['cursive'] not found. Falling back to DejaVu Sans.\n",
      "Figure(1200x1200)\n"
     ]
    }
   ],
   "source": [
    "!python eval_roc_new.py 278 200 BvL_raw no _ptetaflavloss_focalloss_gamma25.0,_flatptetaflavloss_focalloss_gamma25.0 0.001 -1 yes no -1 yes no 3.0 ROC"
   ]
  },
  {
   "cell_type": "code",
   "execution_count": 17,
   "metadata": {},
   "outputs": [
    {
     "name": "stdout",
     "output_type": "stream",
     "text": [
      "Evaluate training at epoch 200\n",
      "With weighting method _ptetaflavloss_focalloss_gamma25.0,_flatptetaflavloss_focalloss_gamma25.0\n",
      "gamma ['25.0', '25.0']\n",
      "alpha ['25.0', '25.0']\n",
      "epsilon ['_ptetaflavloss_focalloss_gamma25.0', '_flatptetaflavloss_focalloss_gamma25.0']\n",
      "test inputs done\n",
      "test targets done\n",
      "number of test inputs 13283070\n",
      "BvL\n",
      "All raw, but different weighting methods.\n",
      "Prepared matching inputs and targets for this output/discriminator.\n",
      "Predictions done.\n",
      "auc for bvl-tagging epoch 200 $p_T, \\eta$ rew. (F.L. $\\gamma=$25.0), setup BvL_raw: 0.947256066778877\n",
      "Predictions done.\n",
      "auc for bvl-tagging epoch 200 $p_T, \\eta$ rew. (Flat, F.L. $\\gamma=$25.0), setup BvL_raw: 0.9462233522739932\n",
      "findfont: Font family ['cursive'] not found. Falling back to DejaVu Sans.\n",
      "Figure(1200x1200)\n"
     ]
    }
   ],
   "source": [
    "!python eval_roc_new.py 278 200 BvL_raw no _ptetaflavloss_focalloss_gamma25.0,_flatptetaflavloss_focalloss_gamma25.0 0.001 -1 yes yes -1 yes no 3.0 ROC"
   ]
  },
  {
   "cell_type": "markdown",
   "metadata": {},
   "source": [
    "---\n",
    "---"
   ]
  },
  {
   "cell_type": "code",
   "execution_count": 18,
   "metadata": {},
   "outputs": [
    {
     "name": "stdout",
     "output_type": "stream",
     "text": [
      "Evaluate training at epoch 200\n",
      "With weighting method _ptetaflavloss_focalloss,_ptetaflavloss_focalloss_gamma25.0\n",
      "gamma ['_ptetaflavloss_focalloss', '25.0']\n",
      "alpha ['_ptetaflavloss_focalloss', '25.0']\n",
      "epsilon ['_ptetaflavloss_focalloss', '_ptetaflavloss_focalloss_gamma25.0']\n",
      "test inputs done\n",
      "test targets done\n",
      "number of test inputs 13283070\n",
      "BvL\n",
      "All raw, but different weighting methods.\n",
      "Prepared matching inputs and targets for this output/discriminator.\n",
      "Predictions done.\n",
      "auc for bvl-tagging epoch 200 $p_T, \\eta$ rew. (F.L. $\\gamma=$2.0), setup BvL_raw: 0.946002141557919\n",
      "Predictions done.\n",
      "auc for bvl-tagging epoch 200 $p_T, \\eta$ rew. (F.L. $\\gamma=$25.0), setup BvL_raw: 0.947256066778877\n",
      "findfont: Font family ['cursive'] not found. Falling back to DejaVu Sans.\n",
      "Figure(1200x1200)\n"
     ]
    }
   ],
   "source": [
    "!python eval_roc_new.py 278 200 BvL_raw no _ptetaflavloss_focalloss,_ptetaflavloss_focalloss_gamma25.0 0.001 -1 yes no -1 yes no 3.0 ROC"
   ]
  },
  {
   "cell_type": "code",
   "execution_count": 19,
   "metadata": {},
   "outputs": [
    {
     "name": "stdout",
     "output_type": "stream",
     "text": [
      "Evaluate training at epoch 200\n",
      "With weighting method _ptetaflavloss_focalloss,_ptetaflavloss_focalloss_gamma25.0\n",
      "gamma ['_ptetaflavloss_focalloss', '25.0']\n",
      "alpha ['_ptetaflavloss_focalloss', '25.0']\n",
      "epsilon ['_ptetaflavloss_focalloss', '_ptetaflavloss_focalloss_gamma25.0']\n",
      "test inputs done\n",
      "test targets done\n",
      "number of test inputs 13283070\n",
      "BvL\n",
      "All raw, but different weighting methods.\n",
      "Prepared matching inputs and targets for this output/discriminator.\n",
      "Predictions done.\n",
      "auc for bvl-tagging epoch 200 $p_T, \\eta$ rew. (F.L. $\\gamma=$2.0), setup BvL_raw: 0.946002141557919\n",
      "Predictions done.\n",
      "auc for bvl-tagging epoch 200 $p_T, \\eta$ rew. (F.L. $\\gamma=$25.0), setup BvL_raw: 0.947256066778877\n",
      "findfont: Font family ['cursive'] not found. Falling back to DejaVu Sans.\n",
      "Figure(1200x1200)\n"
     ]
    }
   ],
   "source": [
    "!python eval_roc_new.py 278 200 BvL_raw no _ptetaflavloss_focalloss,_ptetaflavloss_focalloss_gamma25.0 0.001 -1 yes yes -1 yes no 3.0 ROC"
   ]
  },
  {
   "cell_type": "markdown",
   "metadata": {},
   "source": [
    "---\n",
    "---"
   ]
  },
  {
   "cell_type": "markdown",
   "metadata": {},
   "source": [
    "---\n",
    "---\n",
    "---"
   ]
  },
  {
   "cell_type": "markdown",
   "metadata": {},
   "source": [
    "Downloading multiple plots at once for convenience"
   ]
  },
  {
   "cell_type": "code",
   "execution_count": 9,
   "metadata": {},
   "outputs": [],
   "source": [
    "!tar czf roc_b_v2_pdf.tar.gz roc_curves/compare_new/roc_b/*.pdf"
   ]
  },
  {
   "cell_type": "code",
   "execution_count": 10,
   "metadata": {},
   "outputs": [],
   "source": [
    "!tar czf roc_b_v2_svg.tar.gz roc_curves/compare_new/roc_b/*.svg"
   ]
  },
  {
   "cell_type": "code",
   "execution_count": 11,
   "metadata": {},
   "outputs": [],
   "source": [
    "!tar czf roc_bb_v2_pdf.tar.gz roc_curves/compare_new/roc_bb/*.pdf"
   ]
  },
  {
   "cell_type": "code",
   "execution_count": 12,
   "metadata": {},
   "outputs": [],
   "source": [
    "!tar czf roc_bb_v2_svg.tar.gz roc_curves/compare_new/roc_bb/*.svg"
   ]
  },
  {
   "cell_type": "code",
   "execution_count": 13,
   "metadata": {},
   "outputs": [],
   "source": [
    "!tar czf roc_c_v2_pdf.tar.gz roc_curves/compare_new/roc_c/*.pdf"
   ]
  },
  {
   "cell_type": "code",
   "execution_count": 14,
   "metadata": {},
   "outputs": [],
   "source": [
    "!tar czf roc_c_v2_svg.tar.gz roc_curves/compare_new/roc_c/*.svg"
   ]
  },
  {
   "cell_type": "code",
   "execution_count": 15,
   "metadata": {},
   "outputs": [],
   "source": [
    "!tar czf roc_udsg_v2_pdf.tar.gz roc_curves/compare_new/roc_udsg/*.pdf"
   ]
  },
  {
   "cell_type": "code",
   "execution_count": 16,
   "metadata": {},
   "outputs": [],
   "source": [
    "!tar czf roc_udsg_v2_svg.tar.gz roc_curves/compare_new/roc_udsg/*.svg"
   ]
  },
  {
   "cell_type": "code",
   "execution_count": 1,
   "metadata": {},
   "outputs": [],
   "source": [
    "!tar czf roc_BvL_v2_pdf.tar.gz roc_curves/compare_new/roc_BvL/*.pdf"
   ]
  },
  {
   "cell_type": "code",
   "execution_count": 2,
   "metadata": {},
   "outputs": [],
   "source": [
    "!tar czf roc_BvL_v2_svg.tar.gz roc_curves/compare_new/roc_BvL/*.svg"
   ]
  },
  {
   "cell_type": "code",
   "execution_count": 3,
   "metadata": {},
   "outputs": [],
   "source": [
    "!tar czf roc_BvC_v2_pdf.tar.gz roc_curves/compare_new/roc_BvC/*.pdf"
   ]
  },
  {
   "cell_type": "code",
   "execution_count": 4,
   "metadata": {},
   "outputs": [],
   "source": [
    "!tar czf roc_BvC_v2_svg.tar.gz roc_curves/compare_new/roc_BvC/*.svg"
   ]
  },
  {
   "cell_type": "code",
   "execution_count": 7,
   "metadata": {},
   "outputs": [],
   "source": [
    "!tar czf roc_CvB_v2_pdf.tar.gz roc_curves/compare_new/roc_CvB/*.pdf"
   ]
  },
  {
   "cell_type": "code",
   "execution_count": 8,
   "metadata": {},
   "outputs": [],
   "source": [
    "!tar czf roc_CvB_v2_svg.tar.gz roc_curves/compare_new/roc_CvB/*.svg"
   ]
  },
  {
   "cell_type": "code",
   "execution_count": 5,
   "metadata": {},
   "outputs": [],
   "source": [
    "!tar czf roc_CvL_v2_pdf.tar.gz roc_curves/compare_new/roc_CvL/*.pdf"
   ]
  },
  {
   "cell_type": "code",
   "execution_count": 6,
   "metadata": {},
   "outputs": [],
   "source": [
    "!tar czf roc_CvL_v2_svg.tar.gz roc_curves/compare_new/roc_CvL/*.svg"
   ]
  },
  {
   "cell_type": "code",
   "execution_count": null,
   "metadata": {},
   "outputs": [],
   "source": []
  }
 ],
 "metadata": {
  "kernelspec": {
   "display_name": "Python 3",
   "language": "python",
   "name": "python3"
  },
  "language_info": {
   "codemirror_mode": {
    "name": "ipython",
    "version": 3
   },
   "file_extension": ".py",
   "mimetype": "text/x-python",
   "name": "python",
   "nbconvert_exporter": "python",
   "pygments_lexer": "ipython3",
   "version": "3.8.6"
  }
 },
 "nbformat": 4,
 "nbformat_minor": 4
}
