{
 "cells": [
  {
   "cell_type": "markdown",
   "metadata": {},
   "source": [
    "# Run AUC over epoch (interactively)"
   ]
  },
  {
   "cell_type": "markdown",
   "metadata": {},
   "source": [
    "***\n",
    "***\n",
    "## Basic training"
   ]
  },
  {
   "cell_type": "code",
   "execution_count": 46,
   "metadata": {},
   "outputs": [
    {
     "name": "stdout",
     "output_type": "stream",
     "text": [
      "Evaluate training at epoch 1,10\n",
      "With weighting method _ptetaflavloss_focalloss_gamma25.0\n",
      "gamma ['25.0']\n",
      "alpha ['25.0']\n",
      "epsilon ['_ptetaflavloss_focalloss_gamma25.0']\n",
      "test inputs done\n",
      "test targets done\n",
      "number of test inputs 13283070\n",
      "BvL\n",
      "Prepared matching inputs and targets for this output/discriminator.\n",
      "Predictions done.\n",
      "Predictions done.\n",
      "Predictions done.\n",
      "Predictions done.\n",
      "Predictions done.\n",
      "Predictions done.\n",
      "Predictions done.\n",
      "Predictions done.\n",
      "Predictions done.\n",
      "Predictions done.\n"
     ]
    }
   ],
   "source": [
    "!python eval_roc_new.py 278 1,10 BvL_sigma0.01 no _ptetaflavloss_focalloss_gamma25.0 0.001 -1 yes yes -1 yes AUC"
   ]
  },
  {
   "cell_type": "code",
   "execution_count": 47,
   "metadata": {},
   "outputs": [
    {
     "name": "stdout",
     "output_type": "stream",
     "text": [
      "Evaluate training at epoch 11,20\n",
      "With weighting method _ptetaflavloss_focalloss_gamma25.0\n",
      "gamma ['25.0']\n",
      "alpha ['25.0']\n",
      "epsilon ['_ptetaflavloss_focalloss_gamma25.0']\n",
      "test inputs done\n",
      "test targets done\n",
      "number of test inputs 13283070\n",
      "BvL\n",
      "Prepared matching inputs and targets for this output/discriminator.\n",
      "Predictions done.\n",
      "Predictions done.\n",
      "Predictions done.\n",
      "Predictions done.\n",
      "Predictions done.\n",
      "Predictions done.\n",
      "Predictions done.\n",
      "Predictions done.\n",
      "Predictions done.\n",
      "Predictions done.\n"
     ]
    }
   ],
   "source": [
    "!python eval_roc_new.py 278 11,20 BvL_sigma0.01 no _ptetaflavloss_focalloss_gamma25.0 0.001 -1 yes yes -1 yes AUC"
   ]
  },
  {
   "cell_type": "code",
   "execution_count": 48,
   "metadata": {},
   "outputs": [
    {
     "name": "stdout",
     "output_type": "stream",
     "text": [
      "Evaluate training at epoch 21,30\n",
      "With weighting method _ptetaflavloss_focalloss_gamma25.0\n",
      "gamma ['25.0']\n",
      "alpha ['25.0']\n",
      "epsilon ['_ptetaflavloss_focalloss_gamma25.0']\n",
      "test inputs done\n",
      "test targets done\n",
      "number of test inputs 13283070\n",
      "BvL\n",
      "Prepared matching inputs and targets for this output/discriminator.\n",
      "Predictions done.\n",
      "Predictions done.\n",
      "Predictions done.\n",
      "Predictions done.\n",
      "Predictions done.\n",
      "Predictions done.\n",
      "Predictions done.\n",
      "Predictions done.\n",
      "Predictions done.\n",
      "Predictions done.\n"
     ]
    }
   ],
   "source": [
    "!python eval_roc_new.py 278 21,30 BvL_sigma0.01 no _ptetaflavloss_focalloss_gamma25.0 0.001 -1 yes yes -1 yes AUC"
   ]
  },
  {
   "cell_type": "code",
   "execution_count": 49,
   "metadata": {},
   "outputs": [
    {
     "name": "stdout",
     "output_type": "stream",
     "text": [
      "Evaluate training at epoch 31,40\n",
      "With weighting method _ptetaflavloss_focalloss_gamma25.0\n",
      "gamma ['25.0']\n",
      "alpha ['25.0']\n",
      "epsilon ['_ptetaflavloss_focalloss_gamma25.0']\n",
      "test inputs done\n",
      "test targets done\n",
      "number of test inputs 13283070\n",
      "BvL\n",
      "Prepared matching inputs and targets for this output/discriminator.\n",
      "Predictions done.\n",
      "Predictions done.\n",
      "Predictions done.\n",
      "Predictions done.\n",
      "Predictions done.\n",
      "Predictions done.\n",
      "Predictions done.\n",
      "Predictions done.\n",
      "Predictions done.\n",
      "Predictions done.\n"
     ]
    }
   ],
   "source": [
    "!python eval_roc_new.py 278 31,40 BvL_sigma0.01 no _ptetaflavloss_focalloss_gamma25.0 0.001 -1 yes yes -1 yes AUC"
   ]
  },
  {
   "cell_type": "code",
   "execution_count": 50,
   "metadata": {},
   "outputs": [
    {
     "name": "stdout",
     "output_type": "stream",
     "text": [
      "Evaluate training at epoch 41,50\n",
      "With weighting method _ptetaflavloss_focalloss_gamma25.0\n",
      "gamma ['25.0']\n",
      "alpha ['25.0']\n",
      "epsilon ['_ptetaflavloss_focalloss_gamma25.0']\n",
      "test inputs done\n",
      "test targets done\n",
      "number of test inputs 13283070\n",
      "BvL\n",
      "Prepared matching inputs and targets for this output/discriminator.\n",
      "Predictions done.\n",
      "Predictions done.\n",
      "Predictions done.\n",
      "Predictions done.\n",
      "Predictions done.\n",
      "Predictions done.\n",
      "Predictions done.\n",
      "Predictions done.\n",
      "Predictions done.\n",
      "Predictions done.\n"
     ]
    }
   ],
   "source": [
    "!python eval_roc_new.py 278 41,50 BvL_sigma0.01 no _ptetaflavloss_focalloss_gamma25.0 0.001 -1 yes yes -1 yes AUC"
   ]
  },
  {
   "cell_type": "code",
   "execution_count": 51,
   "metadata": {},
   "outputs": [
    {
     "name": "stdout",
     "output_type": "stream",
     "text": [
      "Evaluate training at epoch 51,60\n",
      "With weighting method _ptetaflavloss_focalloss_gamma25.0\n",
      "gamma ['25.0']\n",
      "alpha ['25.0']\n",
      "epsilon ['_ptetaflavloss_focalloss_gamma25.0']\n",
      "test inputs done\n",
      "test targets done\n",
      "number of test inputs 13283070\n",
      "BvL\n",
      "Prepared matching inputs and targets for this output/discriminator.\n",
      "Predictions done.\n",
      "Predictions done.\n",
      "Predictions done.\n",
      "Predictions done.\n",
      "Predictions done.\n",
      "Predictions done.\n",
      "Predictions done.\n",
      "Predictions done.\n",
      "Predictions done.\n",
      "Predictions done.\n"
     ]
    }
   ],
   "source": [
    "!python eval_roc_new.py 278 51,60 BvL_sigma0.01 no _ptetaflavloss_focalloss_gamma25.0 0.001 -1 yes yes -1 yes AUC"
   ]
  },
  {
   "cell_type": "code",
   "execution_count": 52,
   "metadata": {},
   "outputs": [
    {
     "name": "stdout",
     "output_type": "stream",
     "text": [
      "Evaluate training at epoch 61,70\n",
      "With weighting method _ptetaflavloss_focalloss_gamma25.0\n",
      "gamma ['25.0']\n",
      "alpha ['25.0']\n",
      "epsilon ['_ptetaflavloss_focalloss_gamma25.0']\n",
      "test inputs done\n",
      "test targets done\n",
      "number of test inputs 13283070\n",
      "BvL\n",
      "Prepared matching inputs and targets for this output/discriminator.\n",
      "Predictions done.\n",
      "Predictions done.\n",
      "Predictions done.\n",
      "Predictions done.\n",
      "Predictions done.\n",
      "Predictions done.\n",
      "Predictions done.\n",
      "Predictions done.\n",
      "Predictions done.\n",
      "Predictions done.\n"
     ]
    }
   ],
   "source": [
    "!python eval_roc_new.py 278 61,70 BvL_sigma0.01 no _ptetaflavloss_focalloss_gamma25.0 0.001 -1 yes yes -1 yes AUC"
   ]
  },
  {
   "cell_type": "code",
   "execution_count": 53,
   "metadata": {},
   "outputs": [
    {
     "name": "stdout",
     "output_type": "stream",
     "text": [
      "Evaluate training at epoch 71,80\n",
      "With weighting method _ptetaflavloss_focalloss_gamma25.0\n",
      "gamma ['25.0']\n",
      "alpha ['25.0']\n",
      "epsilon ['_ptetaflavloss_focalloss_gamma25.0']\n",
      "test inputs done\n",
      "test targets done\n",
      "number of test inputs 13283070\n",
      "BvL\n",
      "Prepared matching inputs and targets for this output/discriminator.\n",
      "Predictions done.\n",
      "Predictions done.\n",
      "Predictions done.\n",
      "Predictions done.\n",
      "Predictions done.\n",
      "Predictions done.\n",
      "Predictions done.\n",
      "Predictions done.\n",
      "Predictions done.\n",
      "Predictions done.\n"
     ]
    }
   ],
   "source": [
    "!python eval_roc_new.py 278 71,80 BvL_sigma0.01 no _ptetaflavloss_focalloss_gamma25.0 0.001 -1 yes yes -1 yes AUC"
   ]
  },
  {
   "cell_type": "code",
   "execution_count": 54,
   "metadata": {},
   "outputs": [
    {
     "name": "stdout",
     "output_type": "stream",
     "text": [
      "Evaluate training at epoch 81,90\n",
      "With weighting method _ptetaflavloss_focalloss_gamma25.0\n",
      "gamma ['25.0']\n",
      "alpha ['25.0']\n",
      "epsilon ['_ptetaflavloss_focalloss_gamma25.0']\n",
      "test inputs done\n",
      "test targets done\n",
      "number of test inputs 13283070\n",
      "BvL\n",
      "Prepared matching inputs and targets for this output/discriminator.\n",
      "Predictions done.\n",
      "Predictions done.\n",
      "Predictions done.\n",
      "Predictions done.\n",
      "Predictions done.\n",
      "Predictions done.\n",
      "Predictions done.\n",
      "Predictions done.\n",
      "Predictions done.\n",
      "Predictions done.\n"
     ]
    }
   ],
   "source": [
    "!python eval_roc_new.py 278 81,90 BvL_sigma0.01 no _ptetaflavloss_focalloss_gamma25.0 0.001 -1 yes yes -1 yes AUC"
   ]
  },
  {
   "cell_type": "code",
   "execution_count": 55,
   "metadata": {},
   "outputs": [
    {
     "name": "stdout",
     "output_type": "stream",
     "text": [
      "Evaluate training at epoch 91,100\n",
      "With weighting method _ptetaflavloss_focalloss_gamma25.0\n",
      "gamma ['25.0']\n",
      "alpha ['25.0']\n",
      "epsilon ['_ptetaflavloss_focalloss_gamma25.0']\n",
      "test inputs done\n",
      "test targets done\n",
      "number of test inputs 13283070\n",
      "BvL\n",
      "Prepared matching inputs and targets for this output/discriminator.\n",
      "Predictions done.\n",
      "Predictions done.\n",
      "Predictions done.\n",
      "Predictions done.\n",
      "Predictions done.\n",
      "Predictions done.\n",
      "Predictions done.\n",
      "Predictions done.\n",
      "Predictions done.\n",
      "Predictions done.\n"
     ]
    }
   ],
   "source": [
    "!python eval_roc_new.py 278 91,100 BvL_sigma0.01 no _ptetaflavloss_focalloss_gamma25.0 0.001 -1 yes yes -1 yes AUC"
   ]
  },
  {
   "cell_type": "code",
   "execution_count": 56,
   "metadata": {},
   "outputs": [
    {
     "name": "stdout",
     "output_type": "stream",
     "text": [
      "Evaluate training at epoch 101,110\n",
      "With weighting method _ptetaflavloss_focalloss_gamma25.0\n",
      "gamma ['25.0']\n",
      "alpha ['25.0']\n",
      "epsilon ['_ptetaflavloss_focalloss_gamma25.0']\n",
      "test inputs done\n",
      "test targets done\n",
      "number of test inputs 13283070\n",
      "BvL\n",
      "Prepared matching inputs and targets for this output/discriminator.\n",
      "Predictions done.\n",
      "Predictions done.\n",
      "Predictions done.\n",
      "Predictions done.\n",
      "Predictions done.\n",
      "Predictions done.\n",
      "Predictions done.\n",
      "Predictions done.\n",
      "Predictions done.\n",
      "Predictions done.\n"
     ]
    }
   ],
   "source": [
    "!python eval_roc_new.py 278 101,110 BvL_sigma0.01 no _ptetaflavloss_focalloss_gamma25.0 0.001 -1 yes yes -1 yes AUC"
   ]
  },
  {
   "cell_type": "code",
   "execution_count": 57,
   "metadata": {},
   "outputs": [
    {
     "name": "stdout",
     "output_type": "stream",
     "text": [
      "Evaluate training at epoch 111,120\n",
      "With weighting method _ptetaflavloss_focalloss_gamma25.0\n",
      "gamma ['25.0']\n",
      "alpha ['25.0']\n",
      "epsilon ['_ptetaflavloss_focalloss_gamma25.0']\n",
      "test inputs done\n",
      "test targets done\n",
      "number of test inputs 13283070\n",
      "BvL\n",
      "Prepared matching inputs and targets for this output/discriminator.\n",
      "Predictions done.\n",
      "Predictions done.\n",
      "Predictions done.\n",
      "Predictions done.\n",
      "Predictions done.\n",
      "Predictions done.\n",
      "Predictions done.\n",
      "Predictions done.\n",
      "Predictions done.\n",
      "Predictions done.\n"
     ]
    }
   ],
   "source": [
    "!python eval_roc_new.py 278 111,120 BvL_sigma0.01 no _ptetaflavloss_focalloss_gamma25.0 0.001 -1 yes yes -1 yes AUC"
   ]
  },
  {
   "cell_type": "code",
   "execution_count": 58,
   "metadata": {},
   "outputs": [
    {
     "name": "stdout",
     "output_type": "stream",
     "text": [
      "Evaluate training at epoch 121,130\n",
      "With weighting method _ptetaflavloss_focalloss_gamma25.0\n",
      "gamma ['25.0']\n",
      "alpha ['25.0']\n",
      "epsilon ['_ptetaflavloss_focalloss_gamma25.0']\n",
      "test inputs done\n",
      "test targets done\n",
      "number of test inputs 13283070\n",
      "BvL\n",
      "Prepared matching inputs and targets for this output/discriminator.\n",
      "Predictions done.\n",
      "Predictions done.\n",
      "Predictions done.\n",
      "Predictions done.\n",
      "Predictions done.\n",
      "Predictions done.\n",
      "Predictions done.\n",
      "Predictions done.\n",
      "Predictions done.\n",
      "Predictions done.\n"
     ]
    }
   ],
   "source": [
    "!python eval_roc_new.py 278 121,130 BvL_sigma0.01 no _ptetaflavloss_focalloss_gamma25.0 0.001 -1 yes yes -1 yes AUC"
   ]
  },
  {
   "cell_type": "code",
   "execution_count": 59,
   "metadata": {},
   "outputs": [
    {
     "name": "stdout",
     "output_type": "stream",
     "text": [
      "Evaluate training at epoch 131,140\n",
      "With weighting method _ptetaflavloss_focalloss_gamma25.0\n",
      "gamma ['25.0']\n",
      "alpha ['25.0']\n",
      "epsilon ['_ptetaflavloss_focalloss_gamma25.0']\n",
      "test inputs done\n",
      "test targets done\n",
      "number of test inputs 13283070\n",
      "BvL\n",
      "Prepared matching inputs and targets for this output/discriminator.\n",
      "Predictions done.\n",
      "Predictions done.\n",
      "Predictions done.\n",
      "Predictions done.\n",
      "Predictions done.\n",
      "Predictions done.\n",
      "Predictions done.\n",
      "Predictions done.\n",
      "Predictions done.\n",
      "Predictions done.\n"
     ]
    }
   ],
   "source": [
    "!python eval_roc_new.py 278 131,140 BvL_sigma0.01 no _ptetaflavloss_focalloss_gamma25.0 0.001 -1 yes yes -1 yes AUC"
   ]
  },
  {
   "cell_type": "code",
   "execution_count": 60,
   "metadata": {},
   "outputs": [
    {
     "name": "stdout",
     "output_type": "stream",
     "text": [
      "Evaluate training at epoch 141,150\n",
      "With weighting method _ptetaflavloss_focalloss_gamma25.0\n",
      "gamma ['25.0']\n",
      "alpha ['25.0']\n",
      "epsilon ['_ptetaflavloss_focalloss_gamma25.0']\n",
      "test inputs done\n",
      "test targets done\n",
      "number of test inputs 13283070\n",
      "BvL\n",
      "Prepared matching inputs and targets for this output/discriminator.\n",
      "Predictions done.\n",
      "Predictions done.\n",
      "Predictions done.\n",
      "Predictions done.\n",
      "Predictions done.\n",
      "Predictions done.\n",
      "Predictions done.\n",
      "Predictions done.\n",
      "Predictions done.\n",
      "Predictions done.\n"
     ]
    }
   ],
   "source": [
    "!python eval_roc_new.py 278 141,150 BvL_sigma0.01 no _ptetaflavloss_focalloss_gamma25.0 0.001 -1 yes yes -1 yes AUC"
   ]
  },
  {
   "cell_type": "code",
   "execution_count": 61,
   "metadata": {},
   "outputs": [
    {
     "name": "stdout",
     "output_type": "stream",
     "text": [
      "Evaluate training at epoch 151,160\n",
      "With weighting method _ptetaflavloss_focalloss_gamma25.0\n",
      "gamma ['25.0']\n",
      "alpha ['25.0']\n",
      "epsilon ['_ptetaflavloss_focalloss_gamma25.0']\n",
      "test inputs done\n",
      "test targets done\n",
      "number of test inputs 13283070\n",
      "BvL\n",
      "Prepared matching inputs and targets for this output/discriminator.\n",
      "Predictions done.\n",
      "Predictions done.\n",
      "Predictions done.\n",
      "Predictions done.\n",
      "Predictions done.\n",
      "Predictions done.\n",
      "Predictions done.\n",
      "Predictions done.\n",
      "Predictions done.\n",
      "Predictions done.\n"
     ]
    }
   ],
   "source": [
    "!python eval_roc_new.py 278 151,160 BvL_sigma0.01 no _ptetaflavloss_focalloss_gamma25.0 0.001 -1 yes yes -1 yes AUC"
   ]
  },
  {
   "cell_type": "code",
   "execution_count": 62,
   "metadata": {},
   "outputs": [
    {
     "name": "stdout",
     "output_type": "stream",
     "text": [
      "Evaluate training at epoch 161,170\n",
      "With weighting method _ptetaflavloss_focalloss_gamma25.0\n",
      "gamma ['25.0']\n",
      "alpha ['25.0']\n",
      "epsilon ['_ptetaflavloss_focalloss_gamma25.0']\n",
      "test inputs done\n",
      "test targets done\n",
      "number of test inputs 13283070\n",
      "BvL\n",
      "Prepared matching inputs and targets for this output/discriminator.\n",
      "Predictions done.\n",
      "Predictions done.\n",
      "Predictions done.\n",
      "Predictions done.\n",
      "Predictions done.\n",
      "Predictions done.\n",
      "Predictions done.\n",
      "Predictions done.\n",
      "Predictions done.\n",
      "Predictions done.\n"
     ]
    }
   ],
   "source": [
    "!python eval_roc_new.py 278 161,170 BvL_sigma0.01 no _ptetaflavloss_focalloss_gamma25.0 0.001 -1 yes yes -1 yes AUC"
   ]
  },
  {
   "cell_type": "code",
   "execution_count": 63,
   "metadata": {},
   "outputs": [
    {
     "name": "stdout",
     "output_type": "stream",
     "text": [
      "Evaluate training at epoch 171,180\n",
      "With weighting method _ptetaflavloss_focalloss_gamma25.0\n",
      "gamma ['25.0']\n",
      "alpha ['25.0']\n",
      "epsilon ['_ptetaflavloss_focalloss_gamma25.0']\n",
      "test inputs done\n",
      "test targets done\n",
      "number of test inputs 13283070\n",
      "BvL\n",
      "Prepared matching inputs and targets for this output/discriminator.\n",
      "Predictions done.\n",
      "Predictions done.\n",
      "Predictions done.\n",
      "Predictions done.\n",
      "Predictions done.\n",
      "Predictions done.\n",
      "Predictions done.\n",
      "Predictions done.\n",
      "Predictions done.\n",
      "Predictions done.\n"
     ]
    }
   ],
   "source": [
    "!python eval_roc_new.py 278 171,180 BvL_sigma0.01 no _ptetaflavloss_focalloss_gamma25.0 0.001 -1 yes yes -1 yes AUC"
   ]
  },
  {
   "cell_type": "code",
   "execution_count": 64,
   "metadata": {},
   "outputs": [
    {
     "name": "stdout",
     "output_type": "stream",
     "text": [
      "Evaluate training at epoch 181,190\n",
      "With weighting method _ptetaflavloss_focalloss_gamma25.0\n",
      "gamma ['25.0']\n",
      "alpha ['25.0']\n",
      "epsilon ['_ptetaflavloss_focalloss_gamma25.0']\n",
      "test inputs done\n",
      "test targets done\n",
      "number of test inputs 13283070\n",
      "BvL\n",
      "Prepared matching inputs and targets for this output/discriminator.\n",
      "Predictions done.\n",
      "Predictions done.\n",
      "Predictions done.\n",
      "Predictions done.\n",
      "Predictions done.\n",
      "Predictions done.\n",
      "Predictions done.\n",
      "Predictions done.\n",
      "Predictions done.\n",
      "Predictions done.\n"
     ]
    }
   ],
   "source": [
    "!python eval_roc_new.py 278 181,190 BvL_sigma0.01 no _ptetaflavloss_focalloss_gamma25.0 0.001 -1 yes yes -1 yes AUC"
   ]
  },
  {
   "cell_type": "code",
   "execution_count": 65,
   "metadata": {},
   "outputs": [
    {
     "name": "stdout",
     "output_type": "stream",
     "text": [
      "Evaluate training at epoch 191,200\n",
      "With weighting method _ptetaflavloss_focalloss_gamma25.0\n",
      "gamma ['25.0']\n",
      "alpha ['25.0']\n",
      "epsilon ['_ptetaflavloss_focalloss_gamma25.0']\n",
      "test inputs done\n",
      "test targets done\n",
      "number of test inputs 13283070\n",
      "BvL\n",
      "Prepared matching inputs and targets for this output/discriminator.\n",
      "Predictions done.\n",
      "Predictions done.\n",
      "Predictions done.\n",
      "Predictions done.\n",
      "Predictions done.\n",
      "Predictions done.\n",
      "Predictions done.\n",
      "Predictions done.\n",
      "Predictions done.\n",
      "Predictions done.\n"
     ]
    }
   ],
   "source": [
    "!python eval_roc_new.py 278 191,200 BvL_sigma0.01 no _ptetaflavloss_focalloss_gamma25.0 0.001 -1 yes yes -1 yes AUC"
   ]
  },
  {
   "cell_type": "markdown",
   "metadata": {},
   "source": [
    "***\n",
    "***\n",
    "## Adversarial training"
   ]
  },
  {
   "cell_type": "code",
   "execution_count": 13,
   "metadata": {},
   "outputs": [
    {
     "name": "stdout",
     "output_type": "stream",
     "text": [
      "Evaluate training at epoch 31,40\n",
      "With weighting method _ptetaflavloss_focalloss_gamma25.0_adv_tr_eps0.01\n",
      "gamma ['25.0']\n",
      "alpha ['25.0']\n",
      "epsilon ['0.01']\n",
      "test inputs done\n",
      "test targets done\n",
      "number of test inputs 13283070\n",
      "BvL\n",
      "All raw, same weighting method, compare different epochs.\n",
      "Prepared matching inputs and targets for this output/discriminator.\n",
      "Predictions done.\n",
      "Predictions done.\n",
      "Predictions done.\n",
      "Predictions done.\n",
      "Predictions done.\n",
      "Predictions done.\n",
      "Predictions done.\n",
      "Predictions done.\n",
      "Predictions done.\n",
      "Predictions done.\n"
     ]
    }
   ],
   "source": [
    "!python eval_roc_new.py 278 1,10 BvL_sigma0.01 no _ptetaflavloss_focalloss_gamma25.0_adv_tr_eps0.01 0.001 -1 yes yes -1 yes AUC"
   ]
  },
  {
   "cell_type": "code",
   "execution_count": 13,
   "metadata": {},
   "outputs": [
    {
     "name": "stdout",
     "output_type": "stream",
     "text": [
      "Evaluate training at epoch 31,40\n",
      "With weighting method _ptetaflavloss_focalloss_gamma25.0_adv_tr_eps0.01\n",
      "gamma ['25.0']\n",
      "alpha ['25.0']\n",
      "epsilon ['0.01']\n",
      "test inputs done\n",
      "test targets done\n",
      "number of test inputs 13283070\n",
      "BvL\n",
      "All raw, same weighting method, compare different epochs.\n",
      "Prepared matching inputs and targets for this output/discriminator.\n",
      "Predictions done.\n",
      "Predictions done.\n",
      "Predictions done.\n",
      "Predictions done.\n",
      "Predictions done.\n",
      "Predictions done.\n",
      "Predictions done.\n",
      "Predictions done.\n",
      "Predictions done.\n",
      "Predictions done.\n"
     ]
    }
   ],
   "source": [
    "!python eval_roc_new.py 278 11,20 BvL_sigma0.01 no _ptetaflavloss_focalloss_gamma25.0_adv_tr_eps0.01 0.001 -1 yes yes -1 yes AUC"
   ]
  },
  {
   "cell_type": "code",
   "execution_count": 13,
   "metadata": {},
   "outputs": [
    {
     "name": "stdout",
     "output_type": "stream",
     "text": [
      "Evaluate training at epoch 31,40\n",
      "With weighting method _ptetaflavloss_focalloss_gamma25.0_adv_tr_eps0.01\n",
      "gamma ['25.0']\n",
      "alpha ['25.0']\n",
      "epsilon ['0.01']\n",
      "test inputs done\n",
      "test targets done\n",
      "number of test inputs 13283070\n",
      "BvL\n",
      "All raw, same weighting method, compare different epochs.\n",
      "Prepared matching inputs and targets for this output/discriminator.\n",
      "Predictions done.\n",
      "Predictions done.\n",
      "Predictions done.\n",
      "Predictions done.\n",
      "Predictions done.\n",
      "Predictions done.\n",
      "Predictions done.\n",
      "Predictions done.\n",
      "Predictions done.\n",
      "Predictions done.\n"
     ]
    }
   ],
   "source": [
    "!python eval_roc_new.py 278 21,30 BvL_sigma0.01 no _ptetaflavloss_focalloss_gamma25.0_adv_tr_eps0.01 0.001 -1 yes yes -1 yes AUC"
   ]
  },
  {
   "cell_type": "code",
   "execution_count": 13,
   "metadata": {},
   "outputs": [
    {
     "name": "stdout",
     "output_type": "stream",
     "text": [
      "Evaluate training at epoch 31,40\n",
      "With weighting method _ptetaflavloss_focalloss_gamma25.0_adv_tr_eps0.01\n",
      "gamma ['25.0']\n",
      "alpha ['25.0']\n",
      "epsilon ['0.01']\n",
      "test inputs done\n",
      "test targets done\n",
      "number of test inputs 13283070\n",
      "BvL\n",
      "All raw, same weighting method, compare different epochs.\n",
      "Prepared matching inputs and targets for this output/discriminator.\n",
      "Predictions done.\n",
      "Predictions done.\n",
      "Predictions done.\n",
      "Predictions done.\n",
      "Predictions done.\n",
      "Predictions done.\n",
      "Predictions done.\n",
      "Predictions done.\n",
      "Predictions done.\n",
      "Predictions done.\n"
     ]
    }
   ],
   "source": [
    "!python eval_roc_new.py 278 31,40 BvL_sigma0.01 no _ptetaflavloss_focalloss_gamma25.0_adv_tr_eps0.01 0.001 -1 yes yes -1 yes AUC"
   ]
  },
  {
   "cell_type": "code",
   "execution_count": 14,
   "metadata": {},
   "outputs": [
    {
     "name": "stdout",
     "output_type": "stream",
     "text": [
      "Evaluate training at epoch 41,50\n",
      "With weighting method _ptetaflavloss_focalloss_gamma25.0_adv_tr_eps0.01\n",
      "gamma ['25.0']\n",
      "alpha ['25.0']\n",
      "epsilon ['0.01']\n",
      "test inputs done\n",
      "test targets done\n",
      "number of test inputs 13283070\n",
      "BvL\n",
      "All raw, same weighting method, compare different epochs.\n",
      "Prepared matching inputs and targets for this output/discriminator.\n",
      "Predictions done.\n",
      "Predictions done.\n",
      "Predictions done.\n",
      "Predictions done.\n",
      "Predictions done.\n",
      "Predictions done.\n",
      "Predictions done.\n",
      "Predictions done.\n",
      "Predictions done.\n",
      "Predictions done.\n"
     ]
    }
   ],
   "source": [
    "!python eval_roc_new.py 278 41,50 BvL_sigma0.01 no _ptetaflavloss_focalloss_gamma25.0_adv_tr_eps0.01 0.001 -1 yes yes -1 yes AUC"
   ]
  },
  {
   "cell_type": "code",
   "execution_count": 15,
   "metadata": {},
   "outputs": [
    {
     "name": "stdout",
     "output_type": "stream",
     "text": [
      "Evaluate training at epoch 51,60\n",
      "With weighting method _ptetaflavloss_focalloss_gamma25.0_adv_tr_eps0.01\n",
      "gamma ['25.0']\n",
      "alpha ['25.0']\n",
      "epsilon ['0.01']\n",
      "test inputs done\n",
      "test targets done\n",
      "number of test inputs 13283070\n",
      "BvL\n",
      "All raw, same weighting method, compare different epochs.\n",
      "Prepared matching inputs and targets for this output/discriminator.\n",
      "Predictions done.\n",
      "Predictions done.\n",
      "Predictions done.\n",
      "Predictions done.\n",
      "Predictions done.\n",
      "Predictions done.\n",
      "Predictions done.\n",
      "Predictions done.\n",
      "Predictions done.\n",
      "Predictions done.\n"
     ]
    }
   ],
   "source": [
    "!python eval_roc_new.py 278 51,60 BvL_sigma0.01 no _ptetaflavloss_focalloss_gamma25.0_adv_tr_eps0.01 0.001 -1 yes yes -1 yes AUC"
   ]
  },
  {
   "cell_type": "code",
   "execution_count": 16,
   "metadata": {},
   "outputs": [
    {
     "name": "stdout",
     "output_type": "stream",
     "text": [
      "Evaluate training at epoch 61,70\n",
      "With weighting method _ptetaflavloss_focalloss_gamma25.0_adv_tr_eps0.01\n",
      "gamma ['25.0']\n",
      "alpha ['25.0']\n",
      "epsilon ['0.01']\n",
      "test inputs done\n",
      "test targets done\n",
      "number of test inputs 13283070\n",
      "BvL\n",
      "All raw, same weighting method, compare different epochs.\n",
      "Prepared matching inputs and targets for this output/discriminator.\n",
      "Predictions done.\n",
      "Predictions done.\n",
      "Predictions done.\n",
      "Predictions done.\n",
      "Predictions done.\n",
      "Predictions done.\n",
      "Predictions done.\n",
      "Predictions done.\n",
      "Predictions done.\n",
      "Predictions done.\n"
     ]
    }
   ],
   "source": [
    "!python eval_roc_new.py 278 61,70 BvL_sigma0.01 no _ptetaflavloss_focalloss_gamma25.0_adv_tr_eps0.01 0.001 -1 yes yes -1 yes AUC"
   ]
  },
  {
   "cell_type": "code",
   "execution_count": 17,
   "metadata": {},
   "outputs": [
    {
     "name": "stdout",
     "output_type": "stream",
     "text": [
      "Evaluate training at epoch 71,80\n",
      "With weighting method _ptetaflavloss_focalloss_gamma25.0_adv_tr_eps0.01\n",
      "gamma ['25.0']\n",
      "alpha ['25.0']\n",
      "epsilon ['0.01']\n",
      "test inputs done\n",
      "test targets done\n",
      "number of test inputs 13283070\n",
      "BvL\n",
      "All raw, same weighting method, compare different epochs.\n",
      "Prepared matching inputs and targets for this output/discriminator.\n",
      "Predictions done.\n",
      "Predictions done.\n",
      "Predictions done.\n",
      "Predictions done.\n",
      "Predictions done.\n",
      "Predictions done.\n",
      "Predictions done.\n",
      "Predictions done.\n",
      "Predictions done.\n",
      "Predictions done.\n"
     ]
    }
   ],
   "source": [
    "!python eval_roc_new.py 278 71,80 BvL_sigma0.01 no _ptetaflavloss_focalloss_gamma25.0_adv_tr_eps0.01 0.001 -1 yes yes -1 yes AUC"
   ]
  },
  {
   "cell_type": "code",
   "execution_count": 18,
   "metadata": {},
   "outputs": [
    {
     "name": "stdout",
     "output_type": "stream",
     "text": [
      "Evaluate training at epoch 81,90\n",
      "With weighting method _ptetaflavloss_focalloss_gamma25.0_adv_tr_eps0.01\n",
      "gamma ['25.0']\n",
      "alpha ['25.0']\n",
      "epsilon ['0.01']\n",
      "test inputs done\n",
      "test targets done\n",
      "number of test inputs 13283070\n",
      "BvL\n",
      "All raw, same weighting method, compare different epochs.\n",
      "Prepared matching inputs and targets for this output/discriminator.\n",
      "Predictions done.\n",
      "Predictions done.\n",
      "Predictions done.\n",
      "Predictions done.\n",
      "Predictions done.\n",
      "Predictions done.\n",
      "Predictions done.\n",
      "Predictions done.\n",
      "Predictions done.\n",
      "Predictions done.\n"
     ]
    }
   ],
   "source": [
    "!python eval_roc_new.py 278 81,90 BvL_sigma0.01 no _ptetaflavloss_focalloss_gamma25.0_adv_tr_eps0.01 0.001 -1 yes yes -1 yes AUC"
   ]
  },
  {
   "cell_type": "code",
   "execution_count": 19,
   "metadata": {},
   "outputs": [
    {
     "name": "stdout",
     "output_type": "stream",
     "text": [
      "Evaluate training at epoch 91,100\n",
      "With weighting method _ptetaflavloss_focalloss_gamma25.0_adv_tr_eps0.01\n",
      "gamma ['25.0']\n",
      "alpha ['25.0']\n",
      "epsilon ['0.01']\n",
      "test inputs done\n",
      "test targets done\n",
      "number of test inputs 13283070\n",
      "BvL\n",
      "All raw, same weighting method, compare different epochs.\n",
      "Prepared matching inputs and targets for this output/discriminator.\n",
      "Predictions done.\n",
      "Predictions done.\n",
      "Predictions done.\n",
      "Predictions done.\n",
      "Predictions done.\n",
      "Predictions done.\n",
      "Predictions done.\n",
      "Predictions done.\n",
      "Predictions done.\n",
      "Predictions done.\n"
     ]
    }
   ],
   "source": [
    "!python eval_roc_new.py 278 91,100 BvL_sigma0.01 no _ptetaflavloss_focalloss_gamma25.0_adv_tr_eps0.01 0.001 -1 yes yes -1 yes AUC"
   ]
  },
  {
   "cell_type": "code",
   "execution_count": 20,
   "metadata": {},
   "outputs": [
    {
     "name": "stdout",
     "output_type": "stream",
     "text": [
      "Evaluate training at epoch 101,110\n",
      "With weighting method _ptetaflavloss_focalloss_gamma25.0_adv_tr_eps0.01\n",
      "gamma ['25.0']\n",
      "alpha ['25.0']\n",
      "epsilon ['0.01']\n",
      "test inputs done\n",
      "test targets done\n",
      "number of test inputs 13283070\n",
      "BvL\n",
      "All raw, same weighting method, compare different epochs.\n",
      "Prepared matching inputs and targets for this output/discriminator.\n",
      "Predictions done.\n",
      "Predictions done.\n",
      "Predictions done.\n",
      "Predictions done.\n",
      "Predictions done.\n",
      "Predictions done.\n",
      "Predictions done.\n",
      "Predictions done.\n",
      "Predictions done.\n",
      "Predictions done.\n"
     ]
    }
   ],
   "source": [
    "!python eval_roc_new.py 278 101,110 BvL_sigma0.01 no _ptetaflavloss_focalloss_gamma25.0_adv_tr_eps0.01 0.001 -1 yes yes -1 yes AUC"
   ]
  },
  {
   "cell_type": "code",
   "execution_count": 21,
   "metadata": {},
   "outputs": [
    {
     "name": "stdout",
     "output_type": "stream",
     "text": [
      "Evaluate training at epoch 111,120\n",
      "With weighting method _ptetaflavloss_focalloss_gamma25.0_adv_tr_eps0.01\n",
      "gamma ['25.0']\n",
      "alpha ['25.0']\n",
      "epsilon ['0.01']\n",
      "test inputs done\n",
      "test targets done\n",
      "number of test inputs 13283070\n",
      "BvL\n",
      "All raw, same weighting method, compare different epochs.\n",
      "Prepared matching inputs and targets for this output/discriminator.\n",
      "Predictions done.\n",
      "Predictions done.\n",
      "Predictions done.\n",
      "Predictions done.\n",
      "Predictions done.\n",
      "Predictions done.\n",
      "Predictions done.\n",
      "Predictions done.\n",
      "Predictions done.\n",
      "Predictions done.\n"
     ]
    }
   ],
   "source": [
    "!python eval_roc_new.py 278 111,120 BvL_sigma0.01 no _ptetaflavloss_focalloss_gamma25.0_adv_tr_eps0.01 0.001 -1 yes yes -1 yes AUC"
   ]
  },
  {
   "cell_type": "code",
   "execution_count": 22,
   "metadata": {},
   "outputs": [
    {
     "name": "stdout",
     "output_type": "stream",
     "text": [
      "Evaluate training at epoch 121,130\n",
      "With weighting method _ptetaflavloss_focalloss_gamma25.0_adv_tr_eps0.01\n",
      "gamma ['25.0']\n",
      "alpha ['25.0']\n",
      "epsilon ['0.01']\n",
      "test inputs done\n",
      "test targets done\n",
      "number of test inputs 13283070\n",
      "BvL\n",
      "All raw, same weighting method, compare different epochs.\n",
      "Prepared matching inputs and targets for this output/discriminator.\n",
      "Predictions done.\n",
      "Predictions done.\n",
      "Predictions done.\n",
      "Predictions done.\n",
      "Predictions done.\n",
      "Predictions done.\n",
      "Predictions done.\n",
      "Predictions done.\n",
      "Predictions done.\n",
      "Predictions done.\n"
     ]
    }
   ],
   "source": [
    "!python eval_roc_new.py 278 121,130 BvL_sigma0.01 no _ptetaflavloss_focalloss_gamma25.0_adv_tr_eps0.01 0.001 -1 yes yes -1 yes AUC"
   ]
  },
  {
   "cell_type": "code",
   "execution_count": 23,
   "metadata": {},
   "outputs": [
    {
     "name": "stdout",
     "output_type": "stream",
     "text": [
      "Evaluate training at epoch 131,140\n",
      "With weighting method _ptetaflavloss_focalloss_gamma25.0_adv_tr_eps0.01\n",
      "gamma ['25.0']\n",
      "alpha ['25.0']\n",
      "epsilon ['0.01']\n",
      "test inputs done\n",
      "test targets done\n",
      "number of test inputs 13283070\n",
      "BvL\n",
      "All raw, same weighting method, compare different epochs.\n",
      "Prepared matching inputs and targets for this output/discriminator.\n",
      "Predictions done.\n",
      "Predictions done.\n",
      "Predictions done.\n",
      "Predictions done.\n",
      "Predictions done.\n",
      "Predictions done.\n",
      "Predictions done.\n",
      "Predictions done.\n",
      "Predictions done.\n",
      "Predictions done.\n"
     ]
    }
   ],
   "source": [
    "!python eval_roc_new.py 278 131,140 BvL_sigma0.01 no _ptetaflavloss_focalloss_gamma25.0_adv_tr_eps0.01 0.001 -1 yes yes -1 yes AUC"
   ]
  },
  {
   "cell_type": "code",
   "execution_count": 24,
   "metadata": {},
   "outputs": [
    {
     "name": "stdout",
     "output_type": "stream",
     "text": [
      "Evaluate training at epoch 141,150\n",
      "With weighting method _ptetaflavloss_focalloss_gamma25.0_adv_tr_eps0.01\n",
      "gamma ['25.0']\n",
      "alpha ['25.0']\n",
      "epsilon ['0.01']\n",
      "test inputs done\n",
      "test targets done\n",
      "number of test inputs 13283070\n",
      "BvL\n",
      "All raw, same weighting method, compare different epochs.\n",
      "Prepared matching inputs and targets for this output/discriminator.\n",
      "Predictions done.\n",
      "Predictions done.\n",
      "Predictions done.\n",
      "Predictions done.\n",
      "Predictions done.\n",
      "Predictions done.\n",
      "Predictions done.\n",
      "Predictions done.\n",
      "Predictions done.\n",
      "Predictions done.\n"
     ]
    }
   ],
   "source": [
    "!python eval_roc_new.py 278 141,150 BvL_sigma0.01 no _ptetaflavloss_focalloss_gamma25.0_adv_tr_eps0.01 0.001 -1 yes yes -1 yes AUC"
   ]
  },
  {
   "cell_type": "code",
   "execution_count": 25,
   "metadata": {},
   "outputs": [
    {
     "name": "stdout",
     "output_type": "stream",
     "text": [
      "Evaluate training at epoch 151,160\n",
      "With weighting method _ptetaflavloss_focalloss_gamma25.0_adv_tr_eps0.01\n",
      "gamma ['25.0']\n",
      "alpha ['25.0']\n",
      "epsilon ['0.01']\n",
      "test inputs done\n",
      "test targets done\n",
      "number of test inputs 13283070\n",
      "BvL\n",
      "All raw, same weighting method, compare different epochs.\n",
      "Prepared matching inputs and targets for this output/discriminator.\n",
      "Predictions done.\n",
      "Predictions done.\n",
      "Predictions done.\n",
      "Predictions done.\n",
      "Predictions done.\n",
      "Predictions done.\n",
      "Predictions done.\n",
      "Predictions done.\n",
      "Predictions done.\n",
      "Predictions done.\n"
     ]
    }
   ],
   "source": [
    "!python eval_roc_new.py 278 151,160 BvL_sigma0.01 no _ptetaflavloss_focalloss_gamma25.0_adv_tr_eps0.01 0.001 -1 yes yes -1 yes AUC"
   ]
  },
  {
   "cell_type": "code",
   "execution_count": 26,
   "metadata": {},
   "outputs": [
    {
     "name": "stdout",
     "output_type": "stream",
     "text": [
      "Evaluate training at epoch 161,170\n",
      "With weighting method _ptetaflavloss_focalloss_gamma25.0_adv_tr_eps0.01\n",
      "gamma ['25.0']\n",
      "alpha ['25.0']\n",
      "epsilon ['0.01']\n",
      "test inputs done\n",
      "test targets done\n",
      "number of test inputs 13283070\n",
      "BvL\n",
      "All raw, same weighting method, compare different epochs.\n",
      "Prepared matching inputs and targets for this output/discriminator.\n",
      "Predictions done.\n",
      "Predictions done.\n",
      "Predictions done.\n",
      "Predictions done.\n",
      "Predictions done.\n",
      "Predictions done.\n",
      "Predictions done.\n",
      "Predictions done.\n",
      "Predictions done.\n",
      "Predictions done.\n"
     ]
    }
   ],
   "source": [
    "!python eval_roc_new.py 278 161,170 BvL_sigma0.01 no _ptetaflavloss_focalloss_gamma25.0_adv_tr_eps0.01 0.001 -1 yes yes -1 yes AUC"
   ]
  },
  {
   "cell_type": "code",
   "execution_count": 27,
   "metadata": {},
   "outputs": [
    {
     "name": "stdout",
     "output_type": "stream",
     "text": [
      "Evaluate training at epoch 171,180\n",
      "With weighting method _ptetaflavloss_focalloss_gamma25.0_adv_tr_eps0.01\n",
      "gamma ['25.0']\n",
      "alpha ['25.0']\n",
      "epsilon ['0.01']\n",
      "test inputs done\n",
      "test targets done\n",
      "number of test inputs 13283070\n",
      "BvL\n",
      "All raw, same weighting method, compare different epochs.\n",
      "Prepared matching inputs and targets for this output/discriminator.\n",
      "Predictions done.\n",
      "Predictions done.\n",
      "Predictions done.\n",
      "Predictions done.\n",
      "Predictions done.\n",
      "Predictions done.\n",
      "Predictions done.\n",
      "Predictions done.\n",
      "Predictions done.\n",
      "Predictions done.\n"
     ]
    }
   ],
   "source": [
    "!python eval_roc_new.py 278 171,180 BvL_sigma0.01 no _ptetaflavloss_focalloss_gamma25.0_adv_tr_eps0.01 0.001 -1 yes yes -1 yes AUC"
   ]
  },
  {
   "cell_type": "code",
   "execution_count": 28,
   "metadata": {},
   "outputs": [
    {
     "name": "stdout",
     "output_type": "stream",
     "text": [
      "Evaluate training at epoch 181,190\n",
      "With weighting method _ptetaflavloss_focalloss_gamma25.0_adv_tr_eps0.01\n",
      "gamma ['25.0']\n",
      "alpha ['25.0']\n",
      "epsilon ['0.01']\n",
      "test inputs done\n",
      "test targets done\n",
      "number of test inputs 13283070\n",
      "BvL\n",
      "All raw, same weighting method, compare different epochs.\n",
      "Prepared matching inputs and targets for this output/discriminator.\n",
      "Predictions done.\n",
      "Predictions done.\n",
      "Predictions done.\n",
      "Predictions done.\n",
      "Predictions done.\n",
      "Predictions done.\n",
      "Predictions done.\n",
      "Predictions done.\n",
      "Predictions done.\n",
      "Predictions done.\n"
     ]
    }
   ],
   "source": [
    "!python eval_roc_new.py 278 181,190 BvL_sigma0.01 no _ptetaflavloss_focalloss_gamma25.0_adv_tr_eps0.01 0.001 -1 yes yes -1 yes AUC"
   ]
  },
  {
   "cell_type": "code",
   "execution_count": 29,
   "metadata": {},
   "outputs": [
    {
     "name": "stdout",
     "output_type": "stream",
     "text": [
      "Evaluate training at epoch 191,200\n",
      "With weighting method _ptetaflavloss_focalloss_gamma25.0_adv_tr_eps0.01\n",
      "gamma ['25.0']\n",
      "alpha ['25.0']\n",
      "epsilon ['0.01']\n",
      "test inputs done\n",
      "test targets done\n",
      "number of test inputs 13283070\n",
      "BvL\n",
      "All raw, same weighting method, compare different epochs.\n",
      "Prepared matching inputs and targets for this output/discriminator.\n",
      "Predictions done.\n",
      "Predictions done.\n",
      "Predictions done.\n",
      "Predictions done.\n",
      "Predictions done.\n",
      "Predictions done.\n",
      "Predictions done.\n",
      "Predictions done.\n",
      "Predictions done.\n",
      "Predictions done.\n"
     ]
    }
   ],
   "source": [
    "!python eval_roc_new.py 278 191,200 BvL_sigma0.01 no _ptetaflavloss_focalloss_gamma25.0_adv_tr_eps0.01 0.001 -1 yes yes -1 yes AUC"
   ]
  },
  {
   "cell_type": "code",
   "execution_count": null,
   "metadata": {},
   "outputs": [],
   "source": []
  }
 ],
 "metadata": {
  "kernelspec": {
   "display_name": "Python 3",
   "language": "python",
   "name": "python3"
  },
  "language_info": {
   "codemirror_mode": {
    "name": "ipython",
    "version": 3
   },
   "file_extension": ".py",
   "mimetype": "text/x-python",
   "name": "python",
   "nbconvert_exporter": "python",
   "pygments_lexer": "ipython3",
   "version": "3.8.6"
  }
 },
 "nbformat": 4,
 "nbformat_minor": 4
}
