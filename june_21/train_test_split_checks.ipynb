{
 "cells": [
  {
   "cell_type": "markdown",
   "metadata": {},
   "source": [
    "# Verify that train_test_split produces the same splits with random_state specified, no matter how many arrays are present in the function call"
   ]
  },
  {
   "cell_type": "code",
   "execution_count": 1,
   "metadata": {},
   "outputs": [],
   "source": [
    "from sklearn.model_selection import train_test_split"
   ]
  },
  {
   "cell_type": "code",
   "execution_count": 2,
   "metadata": {},
   "outputs": [],
   "source": [
    "import numpy as np"
   ]
  },
  {
   "cell_type": "code",
   "execution_count": 4,
   "metadata": {},
   "outputs": [],
   "source": [
    "X1 = np.linspace(0,50)\n",
    "X2 = np.linspace(0,50)"
   ]
  },
  {
   "cell_type": "code",
   "execution_count": 5,
   "metadata": {},
   "outputs": [],
   "source": [
    "X1tr, X1te, X2tr, X2te = train_test_split(X1, X2, test_size=0.2, random_state=1)"
   ]
  },
  {
   "cell_type": "code",
   "execution_count": 6,
   "metadata": {},
   "outputs": [
    {
     "data": {
      "text/plain": [
       "array([32.65306122, 39.79591837, 21.42857143, 36.73469388, 19.3877551 ,\n",
       "       42.85714286, 50.        , 26.53061224, 22.44897959, 13.26530612,\n",
       "       41.83673469, 17.34693878, 45.91836735, 24.48979592, 23.46938776,\n",
       "        4.08163265, 33.67346939, 14.28571429, 30.6122449 , 10.20408163,\n",
       "       28.57142857, 44.89795918, 34.69387755, 18.36734694, 20.40816327,\n",
       "       25.51020408,  6.12244898,  7.14285714, 47.95918367,  1.02040816,\n",
       "       16.32653061,  0.        , 15.30612245,  5.10204082, 11.2244898 ,\n",
       "        9.18367347,  8.16326531, 12.24489796, 43.87755102, 37.75510204])"
      ]
     },
     "execution_count": 6,
     "metadata": {},
     "output_type": "execute_result"
    }
   ],
   "source": [
    "X1tr"
   ]
  },
  {
   "cell_type": "code",
   "execution_count": 12,
   "metadata": {},
   "outputs": [],
   "source": [
    "X1tr, X1te = train_test_split(X1, test_size=0.2, random_state=1)"
   ]
  },
  {
   "cell_type": "code",
   "execution_count": 8,
   "metadata": {},
   "outputs": [
    {
     "data": {
      "text/plain": [
       "array([32.65306122, 39.79591837, 21.42857143, 36.73469388, 19.3877551 ,\n",
       "       42.85714286, 50.        , 26.53061224, 22.44897959, 13.26530612,\n",
       "       41.83673469, 17.34693878, 45.91836735, 24.48979592, 23.46938776,\n",
       "        4.08163265, 33.67346939, 14.28571429, 30.6122449 , 10.20408163,\n",
       "       28.57142857, 44.89795918, 34.69387755, 18.36734694, 20.40816327,\n",
       "       25.51020408,  6.12244898,  7.14285714, 47.95918367,  1.02040816,\n",
       "       16.32653061,  0.        , 15.30612245,  5.10204082, 11.2244898 ,\n",
       "        9.18367347,  8.16326531, 12.24489796, 43.87755102, 37.75510204])"
      ]
     },
     "execution_count": 8,
     "metadata": {},
     "output_type": "execute_result"
    }
   ],
   "source": [
    "X1tr"
   ]
  },
  {
   "cell_type": "markdown",
   "metadata": {},
   "source": [
    "It's safe to call this function on the tagger inputs alone, without DeepCSV. This will decrease the stuff that needs to be loaded into memory when producing the scalers for the preprocessing, as only my own datasets need to be present during the splitting."
   ]
  },
  {
   "cell_type": "markdown",
   "metadata": {},
   "source": [
    "Also need to check if the behaviour is the same when the array to split has varying second dimension (e.g. originally, I split arrays of NUMJETS * 67 size, but to not get any problems when running with every file, to calculate the scalers I will run with arrays of size NUMJETS * 1, so per input)."
   ]
  },
  {
   "cell_type": "code",
   "execution_count": 19,
   "metadata": {},
   "outputs": [],
   "source": [
    "X3 = np.column_stack((X1,X2))"
   ]
  },
  {
   "cell_type": "code",
   "execution_count": 20,
   "metadata": {},
   "outputs": [],
   "source": [
    "X3tr, X3te = train_test_split(X3, test_size=0.2, random_state=1)"
   ]
  },
  {
   "cell_type": "code",
   "execution_count": 21,
   "metadata": {},
   "outputs": [
    {
     "data": {
      "text/plain": [
       "array([[32.65306122, 32.65306122],\n",
       "       [39.79591837, 39.79591837],\n",
       "       [21.42857143, 21.42857143],\n",
       "       [36.73469388, 36.73469388],\n",
       "       [19.3877551 , 19.3877551 ],\n",
       "       [42.85714286, 42.85714286],\n",
       "       [50.        , 50.        ],\n",
       "       [26.53061224, 26.53061224],\n",
       "       [22.44897959, 22.44897959],\n",
       "       [13.26530612, 13.26530612],\n",
       "       [41.83673469, 41.83673469],\n",
       "       [17.34693878, 17.34693878],\n",
       "       [45.91836735, 45.91836735],\n",
       "       [24.48979592, 24.48979592],\n",
       "       [23.46938776, 23.46938776],\n",
       "       [ 4.08163265,  4.08163265],\n",
       "       [33.67346939, 33.67346939],\n",
       "       [14.28571429, 14.28571429],\n",
       "       [30.6122449 , 30.6122449 ],\n",
       "       [10.20408163, 10.20408163],\n",
       "       [28.57142857, 28.57142857],\n",
       "       [44.89795918, 44.89795918],\n",
       "       [34.69387755, 34.69387755],\n",
       "       [18.36734694, 18.36734694],\n",
       "       [20.40816327, 20.40816327],\n",
       "       [25.51020408, 25.51020408],\n",
       "       [ 6.12244898,  6.12244898],\n",
       "       [ 7.14285714,  7.14285714],\n",
       "       [47.95918367, 47.95918367],\n",
       "       [ 1.02040816,  1.02040816],\n",
       "       [16.32653061, 16.32653061],\n",
       "       [ 0.        ,  0.        ],\n",
       "       [15.30612245, 15.30612245],\n",
       "       [ 5.10204082,  5.10204082],\n",
       "       [11.2244898 , 11.2244898 ],\n",
       "       [ 9.18367347,  9.18367347],\n",
       "       [ 8.16326531,  8.16326531],\n",
       "       [12.24489796, 12.24489796],\n",
       "       [43.87755102, 43.87755102],\n",
       "       [37.75510204, 37.75510204]])"
      ]
     },
     "execution_count": 21,
     "metadata": {},
     "output_type": "execute_result"
    }
   ],
   "source": [
    "X3tr"
   ]
  },
  {
   "cell_type": "code",
   "execution_count": 28,
   "metadata": {},
   "outputs": [
    {
     "data": {
      "text/plain": [
       "True"
      ]
     },
     "execution_count": 28,
     "metadata": {},
     "output_type": "execute_result"
    }
   ],
   "source": [
    "np.array_equal(X3tr[:,0],X1tr[:])"
   ]
  },
  {
   "cell_type": "markdown",
   "metadata": {},
   "source": [
    "Good, it does not matter if train_test_split gets the full dataset or only one column, the splitting is the same."
   ]
  }
 ],
 "metadata": {
  "kernelspec": {
   "display_name": "Python 3",
   "language": "python",
   "name": "python3"
  },
  "language_info": {
   "codemirror_mode": {
    "name": "ipython",
    "version": 3
   },
   "file_extension": ".py",
   "mimetype": "text/x-python",
   "name": "python",
   "nbconvert_exporter": "python",
   "pygments_lexer": "ipython3",
   "version": "3.8.6"
  }
 },
 "nbformat": 4,
 "nbformat_minor": 4
}
