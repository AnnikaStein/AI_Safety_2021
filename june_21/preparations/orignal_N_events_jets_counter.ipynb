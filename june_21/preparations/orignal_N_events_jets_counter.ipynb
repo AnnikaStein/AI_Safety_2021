{
 "cells": [
  {
   "cell_type": "markdown",
   "metadata": {},
   "source": [
    "# Originally available events and jets"
   ]
  },
  {
   "cell_type": "code",
   "execution_count": 1,
   "metadata": {},
   "outputs": [],
   "source": [
    "import uproot4 as uproot\n",
    "import awkward1 as ak\n",
    "import numpy as np"
   ]
  },
  {
   "cell_type": "code",
   "execution_count": 2,
   "metadata": {},
   "outputs": [],
   "source": [
    "import json"
   ]
  },
  {
   "cell_type": "code",
   "execution_count": 19,
   "metadata": {},
   "outputs": [],
   "source": [
    "from tqdm import tqdm"
   ]
  },
  {
   "cell_type": "markdown",
   "metadata": {},
   "source": [
    "## Pre-cleaning / pre-preprocessing"
   ]
  },
  {
   "cell_type": "code",
   "execution_count": 3,
   "metadata": {},
   "outputs": [],
   "source": [
    "with open('/home/um106329/aisafety/new_march_21/qcd_file_paths.json') as json_file:\n",
    "    json_paths = json.load(json_file)"
   ]
  },
  {
   "cell_type": "markdown",
   "metadata": {},
   "source": [
    "### the interesting keys:\n",
    "QCD_HT300to500_TuneCP5_13TeV-madgraph-pythia8  \n",
    "QCD_HT500to700_TuneCP5_13TeV-madgraph-pythia8  \n",
    "QCD_HT700to1000_TuneCP5_13TeV-madgraph-pythia8  \n",
    "QCD_HT1000to1500_TuneCP5_13TeV-madgraph-pythia8  \n",
    "QCD_HT1500to2000_TuneCP5_13TeV-madgraph-pythia8  \n",
    "QCD_HT2000toInf_TuneCP5_13TeV-madgraph-pythia8  \n",
    "TTToSemiLeptonic_TuneCP5_13TeV-powheg-pythia8  "
   ]
  },
  {
   "cell_type": "code",
   "execution_count": 6,
   "metadata": {},
   "outputs": [],
   "source": [
    "def event_jet_counter(f):\n",
    "    N_events = f['Events'].num_entries\n",
    "    \n",
    "    # go through a specified number of events, and get the information (awkward-arrays) for the keys specified above\n",
    "    for data in f['Events'].iterate(['Jet_pt'], step_size=f['Events'].num_entries, library='ak'):\n",
    "        break\n",
    "            \n",
    "    # flatten per-event -> per-jet\n",
    "    N_jets = len(ak.flatten(data['Jet_pt'], axis=1))\n",
    "            \n",
    "    return N_events,N_jets"
   ]
  },
  {
   "cell_type": "code",
   "execution_count": 11,
   "metadata": {},
   "outputs": [],
   "source": [
    "N_events_jets_dict = {}"
   ]
  },
  {
   "cell_type": "code",
   "execution_count": 20,
   "metadata": {},
   "outputs": [],
   "source": [
    "def run_counter(process_key):\n",
    "    N_events = 0\n",
    "    N_jets = 0\n",
    "\n",
    "    for path in tqdm(json_paths[process_key]):\n",
    "        #print(path)\n",
    "        nevts, njets = event_jet_counter(uproot.open(path))\n",
    "        N_events += nevts\n",
    "        N_jets += njets\n",
    "        #break  # to see if counting works as expected (test with one file)\n",
    "\n",
    "    print(N_events)  # check events\n",
    "    print(N_jets)  # check jets\n",
    "\n",
    "    # include numbers in dictionary\n",
    "    N_events_jets_dict[process_key] = [N_events,N_jets]\n",
    "    print(N_events_jets_dict)"
   ]
  },
  {
   "cell_type": "code",
   "execution_count": 18,
   "metadata": {},
   "outputs": [
    {
     "name": "stdout",
     "output_type": "stream",
     "text": [
      "60316577\n",
      "428503277\n",
      "{'QCD_HT300to500_TuneCP5_13TeV-madgraph-pythia8': [60316577, 428503277]}\n"
     ]
    }
   ],
   "source": [
    "run_counter('QCD_HT300to500_TuneCP5_13TeV-madgraph-pythia8')"
   ]
  },
  {
   "cell_type": "code",
   "execution_count": 21,
   "metadata": {},
   "outputs": [
    {
     "name": "stderr",
     "output_type": "stream",
     "text": [
      "100%|██████████| 2000/2000 [53:55<00:00,  1.62s/it] "
     ]
    },
    {
     "name": "stdout",
     "output_type": "stream",
     "text": [
      "56207744\n",
      "430806556\n",
      "{'QCD_HT300to500_TuneCP5_13TeV-madgraph-pythia8': [60316577, 428503277], 'QCD_HT500to700_TuneCP5_13TeV-madgraph-pythia8': [56207744, 430806556]}\n"
     ]
    },
    {
     "name": "stderr",
     "output_type": "stream",
     "text": [
      "\n"
     ]
    }
   ],
   "source": [
    "run_counter('QCD_HT500to700_TuneCP5_13TeV-madgraph-pythia8')"
   ]
  },
  {
   "cell_type": "code",
   "execution_count": 22,
   "metadata": {},
   "outputs": [
    {
     "name": "stderr",
     "output_type": "stream",
     "text": [
      "100%|██████████| 564/564 [14:19<00:00,  1.52s/it]"
     ]
    },
    {
     "name": "stdout",
     "output_type": "stream",
     "text": [
      "19761895\n",
      "156090013\n",
      "{'QCD_HT300to500_TuneCP5_13TeV-madgraph-pythia8': [60316577, 428503277], 'QCD_HT500to700_TuneCP5_13TeV-madgraph-pythia8': [56207744, 430806556], 'QCD_HT700to1000_TuneCP5_13TeV-madgraph-pythia8': [19761895, 156090013]}\n"
     ]
    },
    {
     "name": "stderr",
     "output_type": "stream",
     "text": [
      "\n"
     ]
    }
   ],
   "source": [
    "run_counter('QCD_HT700to1000_TuneCP5_13TeV-madgraph-pythia8')"
   ]
  },
  {
   "cell_type": "code",
   "execution_count": 23,
   "metadata": {},
   "outputs": [
    {
     "name": "stderr",
     "output_type": "stream",
     "text": [
      "100%|██████████| 1953/1953 [42:42<00:00,  1.31s/it]"
     ]
    },
    {
     "name": "stdout",
     "output_type": "stream",
     "text": [
      "16595628\n",
      "135238130\n",
      "{'QCD_HT300to500_TuneCP5_13TeV-madgraph-pythia8': [60316577, 428503277], 'QCD_HT500to700_TuneCP5_13TeV-madgraph-pythia8': [56207744, 430806556], 'QCD_HT700to1000_TuneCP5_13TeV-madgraph-pythia8': [19761895, 156090013], 'QCD_HT1000to1500_TuneCP5_13TeV-madgraph-pythia8': [16595628, 135238130]}\n"
     ]
    },
    {
     "name": "stderr",
     "output_type": "stream",
     "text": [
      "\n"
     ]
    }
   ],
   "source": [
    "run_counter('QCD_HT1000to1500_TuneCP5_13TeV-madgraph-pythia8')"
   ]
  },
  {
   "cell_type": "code",
   "execution_count": 24,
   "metadata": {},
   "outputs": [
    {
     "name": "stderr",
     "output_type": "stream",
     "text": [
      "100%|██████████| 1671/1671 [36:21<00:00,  1.31s/it]"
     ]
    },
    {
     "name": "stdout",
     "output_type": "stream",
     "text": [
      "11634434\n",
      "97728944\n",
      "{'QCD_HT300to500_TuneCP5_13TeV-madgraph-pythia8': [60316577, 428503277], 'QCD_HT500to700_TuneCP5_13TeV-madgraph-pythia8': [56207744, 430806556], 'QCD_HT700to1000_TuneCP5_13TeV-madgraph-pythia8': [19761895, 156090013], 'QCD_HT1000to1500_TuneCP5_13TeV-madgraph-pythia8': [16595628, 135238130], 'QCD_HT1500to2000_TuneCP5_13TeV-madgraph-pythia8': [11634434, 97728944]}\n"
     ]
    },
    {
     "name": "stderr",
     "output_type": "stream",
     "text": [
      "\n"
     ]
    }
   ],
   "source": [
    "run_counter('QCD_HT1500to2000_TuneCP5_13TeV-madgraph-pythia8')"
   ]
  },
  {
   "cell_type": "code",
   "execution_count": 25,
   "metadata": {},
   "outputs": [
    {
     "name": "stderr",
     "output_type": "stream",
     "text": [
      "100%|██████████| 719/719 [15:44<00:00,  1.31s/it]"
     ]
    },
    {
     "name": "stdout",
     "output_type": "stream",
     "text": [
      "5941306\n",
      "50313754\n",
      "{'QCD_HT300to500_TuneCP5_13TeV-madgraph-pythia8': [60316577, 428503277], 'QCD_HT500to700_TuneCP5_13TeV-madgraph-pythia8': [56207744, 430806556], 'QCD_HT700to1000_TuneCP5_13TeV-madgraph-pythia8': [19761895, 156090013], 'QCD_HT1000to1500_TuneCP5_13TeV-madgraph-pythia8': [16595628, 135238130], 'QCD_HT1500to2000_TuneCP5_13TeV-madgraph-pythia8': [11634434, 97728944], 'QCD_HT2000toInf_TuneCP5_13TeV-madgraph-pythia8': [5941306, 50313754]}\n"
     ]
    },
    {
     "name": "stderr",
     "output_type": "stream",
     "text": [
      "\n"
     ]
    }
   ],
   "source": [
    "run_counter('QCD_HT2000toInf_TuneCP5_13TeV-madgraph-pythia8')"
   ]
  },
  {
   "cell_type": "code",
   "execution_count": 26,
   "metadata": {},
   "outputs": [
    {
     "name": "stderr",
     "output_type": "stream",
     "text": [
      "100%|██████████| 2446/2446 [59:42<00:00,  1.46s/it] "
     ]
    },
    {
     "name": "stdout",
     "output_type": "stream",
     "text": [
      "43732445\n",
      "382423670\n",
      "{'QCD_HT300to500_TuneCP5_13TeV-madgraph-pythia8': [60316577, 428503277], 'QCD_HT500to700_TuneCP5_13TeV-madgraph-pythia8': [56207744, 430806556], 'QCD_HT700to1000_TuneCP5_13TeV-madgraph-pythia8': [19761895, 156090013], 'QCD_HT1000to1500_TuneCP5_13TeV-madgraph-pythia8': [16595628, 135238130], 'QCD_HT1500to2000_TuneCP5_13TeV-madgraph-pythia8': [11634434, 97728944], 'QCD_HT2000toInf_TuneCP5_13TeV-madgraph-pythia8': [5941306, 50313754], 'TTToSemiLeptonic_TuneCP5_13TeV-powheg-pythia8': [43732445, 382423670]}\n"
     ]
    },
    {
     "name": "stderr",
     "output_type": "stream",
     "text": [
      "\n"
     ]
    }
   ],
   "source": [
    "run_counter('TTToSemiLeptonic_TuneCP5_13TeV-powheg-pythia8')"
   ]
  },
  {
   "cell_type": "code",
   "execution_count": null,
   "metadata": {},
   "outputs": [],
   "source": []
  }
 ],
 "metadata": {
  "kernelspec": {
   "display_name": "Python 3",
   "language": "python",
   "name": "python3"
  },
  "language_info": {
   "codemirror_mode": {
    "name": "ipython",
    "version": 3
   },
   "file_extension": ".py",
   "mimetype": "text/x-python",
   "name": "python",
   "nbconvert_exporter": "python",
   "pygments_lexer": "ipython3",
   "version": "3.8.6"
  }
 },
 "nbformat": 4,
 "nbformat_minor": 4
}
