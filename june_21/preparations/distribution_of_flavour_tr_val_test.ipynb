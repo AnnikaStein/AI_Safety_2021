{
 "cells": [
  {
   "cell_type": "markdown",
   "metadata": {},
   "source": [
    "# Distribution of flavour & splits\n",
    "## In training, validation, test"
   ]
  },
  {
   "cell_type": "code",
   "execution_count": 2,
   "metadata": {},
   "outputs": [],
   "source": [
    "import os,sys\n",
    "import gc\n",
    "import time"
   ]
  },
  {
   "cell_type": "code",
   "execution_count": 3,
   "metadata": {},
   "outputs": [
    {
     "name": "stdout",
     "output_type": "stream",
     "text": [
      "Torch version = 1.4.0\n"
     ]
    }
   ],
   "source": [
    "import numpy as np\n",
    "\n",
    "\n",
    "import torch\n",
    "\n",
    "print(\"Torch version =\",torch.__version__)"
   ]
  },
  {
   "cell_type": "code",
   "execution_count": 4,
   "metadata": {},
   "outputs": [],
   "source": [
    "import matplotlib.pyplot as plt\n",
    "import mplhep as hep\n",
    "\n",
    "plt.style.use([hep.cms.style.ROOT,hep.style.fira,hep.style.firamath])"
   ]
  },
  {
   "cell_type": "code",
   "execution_count": 5,
   "metadata": {},
   "outputs": [],
   "source": [
    "NUM_DATASETS = 278\n",
    "default = 0.001\n",
    "train_paths = [f'/hpcwork/um106329/may_21/scaled_QCD/train_targets_%d_with_default_{default}.pt' % k for k in range(0,min(NUM_DATASETS,229))] + [f'/hpcwork/um106329/may_21/scaled_TT/train_targets_%d_with_default_{default}.pt' % k for k in range(0,max(NUM_DATASETS-229,0))]\n",
    "val_paths   = [f'/hpcwork/um106329/may_21/scaled_QCD/val_targets_%d_with_default_{default}.pt' % k for k in range(0,min(NUM_DATASETS,229))] + [f'/hpcwork/um106329/may_21/scaled_TT/val_targets_%d_with_default_{default}.pt' % k for k in range(0,max(NUM_DATASETS-229,0))]\n",
    "test_paths  = [f'/hpcwork/um106329/may_21/scaled_QCD/test_targets_%d_with_default_{default}.pt' % k for k in range(0,min(NUM_DATASETS,229))] + [f'/hpcwork/um106329/may_21/scaled_TT/test_targets_%d_with_default_{default}.pt' % k for k in range(0,max(NUM_DATASETS-229,0))]"
   ]
  },
  {
   "cell_type": "code",
   "execution_count": 6,
   "metadata": {},
   "outputs": [],
   "source": [
    "train_targets = torch.cat(tuple(torch.load(ti) for ti in train_paths))\n",
    "val_targets = torch.cat(tuple(torch.load(ti) for ti in val_paths))\n",
    "test_targets = torch.cat(tuple(torch.load(ti) for ti in test_paths))"
   ]
  },
  {
   "cell_type": "code",
   "execution_count": 26,
   "metadata": {},
   "outputs": [],
   "source": [
    "train_targets  = train_targets.numpy()\n",
    "val_targets    = val_targets.numpy()\n",
    "test_targets   = test_targets.numpy()"
   ]
  },
  {
   "cell_type": "code",
   "execution_count": 28,
   "metadata": {},
   "outputs": [
    {
     "data": {
      "text/plain": [
       "array([0, 1, 2, 3])"
      ]
     },
     "execution_count": 28,
     "metadata": {},
     "output_type": "execute_result"
    }
   ],
   "source": [
    "np.unique(train_targets)"
   ]
  },
  {
   "cell_type": "code",
   "execution_count": null,
   "metadata": {},
   "outputs": [],
   "source": []
  },
  {
   "cell_type": "code",
   "execution_count": 29,
   "metadata": {},
   "outputs": [],
   "source": [
    "categories = ['b', 'bb', 'c', 'udsg']\n",
    "labels = [0, 1, 2, 3]"
   ]
  },
  {
   "cell_type": "code",
   "execution_count": 30,
   "metadata": {},
   "outputs": [],
   "source": [
    "tr_dict = {}\n",
    "va_dict = {}\n",
    "te_dict = {}"
   ]
  },
  {
   "cell_type": "code",
   "execution_count": null,
   "metadata": {},
   "outputs": [],
   "source": [
    "tr_histo = np.his"
   ]
  },
  {
   "cell_type": "code",
   "execution_count": 34,
   "metadata": {},
   "outputs": [],
   "source": [
    "tr_dict['b'] = len(train_targets[train_targets == 0])\n",
    "tr_dict['bb'] = len(train_targets[train_targets == 1])\n",
    "tr_dict['c'] = len(train_targets[train_targets == 2])\n",
    "tr_dict['l'] = len(train_targets[train_targets == 3])"
   ]
  },
  {
   "cell_type": "code",
   "execution_count": 35,
   "metadata": {},
   "outputs": [],
   "source": [
    "va_dict['b'] = len(val_targets[val_targets == 0])\n",
    "va_dict['bb'] = len(val_targets[val_targets == 1])\n",
    "va_dict['c'] = len(val_targets[val_targets == 2])\n",
    "va_dict['l'] = len(val_targets[val_targets == 3])"
   ]
  },
  {
   "cell_type": "code",
   "execution_count": 36,
   "metadata": {},
   "outputs": [],
   "source": [
    "te_dict['b'] = len(test_targets[test_targets == 0])\n",
    "te_dict['bb'] = len(test_targets[test_targets == 1])\n",
    "te_dict['c'] = len(test_targets[test_targets == 2])\n",
    "te_dict['l'] = len(test_targets[test_targets == 3])"
   ]
  },
  {
   "cell_type": "code",
   "execution_count": 37,
   "metadata": {},
   "outputs": [],
   "source": [
    "all_tr = sum(tr_dict.values())"
   ]
  },
  {
   "cell_type": "code",
   "execution_count": 38,
   "metadata": {},
   "outputs": [],
   "source": [
    "all_va = sum(va_dict.values())"
   ]
  },
  {
   "cell_type": "code",
   "execution_count": 39,
   "metadata": {},
   "outputs": [],
   "source": [
    "all_te = sum(te_dict.values())"
   ]
  },
  {
   "cell_type": "code",
   "execution_count": 40,
   "metadata": {},
   "outputs": [],
   "source": [
    "all_b = tr_dict['b'] + va_dict['b'] + te_dict['b']\n",
    "all_bb = tr_dict['bb'] + va_dict['bb'] + te_dict['bb']\n",
    "all_c = tr_dict['c'] + va_dict['c'] + te_dict['c']\n",
    "all_l = tr_dict['l'] + va_dict['l'] + te_dict['l']"
   ]
  },
  {
   "cell_type": "code",
   "execution_count": 41,
   "metadata": {},
   "outputs": [
    {
     "name": "stdout",
     "output_type": "stream",
     "text": [
      "933922746 933922746\n"
     ]
    }
   ],
   "source": [
    "all_everything = all_tr + all_va + all_te\n",
    "all_everything_crosscheck = all_b + all_bb + all_c + all_l\n",
    "print(all_everything, all_everything_crosscheck)"
   ]
  },
  {
   "cell_type": "code",
   "execution_count": 42,
   "metadata": {},
   "outputs": [
    {
     "data": {
      "text/plain": [
       "{'b': 65171355, 'bb': 4849162, 'c': 54557491, 'l': 547846145}"
      ]
     },
     "execution_count": 42,
     "metadata": {},
     "output_type": "execute_result"
    }
   ],
   "source": [
    "tr_dict"
   ]
  },
  {
   "cell_type": "code",
   "execution_count": 43,
   "metadata": {},
   "outputs": [
    {
     "data": {
      "text/plain": [
       "{'b': 7241434, 'bb': 538355, 'c': 6065387, 'l': 60868752}"
      ]
     },
     "execution_count": 43,
     "metadata": {},
     "output_type": "execute_result"
    }
   ],
   "source": [
    "va_dict"
   ]
  },
  {
   "cell_type": "code",
   "execution_count": 44,
   "metadata": {},
   "outputs": [
    {
     "data": {
      "text/plain": [
       "{'b': 18096125, 'bb': 1348007, 'c': 15154480, 'l': 152186053}"
      ]
     },
     "execution_count": 44,
     "metadata": {},
     "output_type": "execute_result"
    }
   ],
   "source": [
    "te_dict"
   ]
  },
  {
   "cell_type": "code",
   "execution_count": 45,
   "metadata": {},
   "outputs": [
    {
     "data": {
      "text/plain": [
       "672424153"
      ]
     },
     "execution_count": 45,
     "metadata": {},
     "output_type": "execute_result"
    }
   ],
   "source": [
    "all_tr"
   ]
  },
  {
   "cell_type": "code",
   "execution_count": 46,
   "metadata": {},
   "outputs": [
    {
     "data": {
      "text/plain": [
       "74713928"
      ]
     },
     "execution_count": 46,
     "metadata": {},
     "output_type": "execute_result"
    }
   ],
   "source": [
    "all_va"
   ]
  },
  {
   "cell_type": "code",
   "execution_count": 47,
   "metadata": {},
   "outputs": [
    {
     "data": {
      "text/plain": [
       "186784665"
      ]
     },
     "execution_count": 47,
     "metadata": {},
     "output_type": "execute_result"
    }
   ],
   "source": [
    "all_te"
   ]
  },
  {
   "cell_type": "code",
   "execution_count": 48,
   "metadata": {},
   "outputs": [
    {
     "name": "stdout",
     "output_type": "stream",
     "text": [
      "90508914 6735524 75777358 760900950\n"
     ]
    }
   ],
   "source": [
    "print(all_b, all_bb, all_c, all_l)"
   ]
  },
  {
   "cell_type": "code",
   "execution_count": 52,
   "metadata": {},
   "outputs": [
    {
     "name": "stdout",
     "output_type": "stream",
     "text": [
      "9.691263478446213 0.7212078331798121 8.113878618392704 81.47365006998128\n"
     ]
    }
   ],
   "source": [
    "print(all_b *100/ all_everything, all_bb *100/ all_everything, all_c *100/ all_everything, all_l *100/ all_everything)"
   ]
  },
  {
   "cell_type": "code",
   "execution_count": 49,
   "metadata": {},
   "outputs": [
    {
     "data": {
      "text/plain": [
       "0.7199997600229773"
      ]
     },
     "execution_count": 49,
     "metadata": {},
     "output_type": "execute_result"
    }
   ],
   "source": [
    "all_tr / all_everything"
   ]
  },
  {
   "cell_type": "code",
   "execution_count": 50,
   "metadata": {},
   "outputs": [
    {
     "data": {
      "text/plain": [
       "0.08000011598389745"
      ]
     },
     "execution_count": 50,
     "metadata": {},
     "output_type": "execute_result"
    }
   ],
   "source": [
    "all_va / all_everything"
   ]
  },
  {
   "cell_type": "code",
   "execution_count": 51,
   "metadata": {},
   "outputs": [
    {
     "data": {
      "text/plain": [
       "0.20000012399312522"
      ]
     },
     "execution_count": 51,
     "metadata": {},
     "output_type": "execute_result"
    }
   ],
   "source": [
    "all_te / all_everything"
   ]
  },
  {
   "cell_type": "code",
   "execution_count": 46,
   "metadata": {},
   "outputs": [],
   "source": [
    "percentages = np.array([default_counter[i] / all_counter[i] for i in range(4)])"
   ]
  },
  {
   "cell_type": "code",
   "execution_count": 48,
   "metadata": {},
   "outputs": [
    {
     "data": {
      "text/plain": [
       "array([[0.00000000e+00, 0.00000000e+00, 2.29155097e+01, 2.29155097e+01,\n",
       "        2.29155097e+01, 2.29155097e+01, 9.81730927e-01, 6.36186177e+00,\n",
       "        1.88729157e+01, 3.68232073e+01, 5.59941234e+01, 7.20542520e+01,\n",
       "        9.81730927e-01, 6.36186177e+00, 1.88729157e+01, 3.68232073e+01,\n",
       "        5.59941234e+01, 7.20542520e+01, 1.78741687e+01, 1.78741687e+01,\n",
       "        3.75892699e+01, 5.70100432e+01, 9.81730927e-01, 6.36186177e+00,\n",
       "        1.88729157e+01, 3.68232073e+01, 5.59941234e+01, 7.20542520e+01,\n",
       "        4.28185449e-01, 9.81730927e-01, 6.36186177e+00, 1.88729157e+01,\n",
       "        3.68232073e+01, 5.59941234e+01, 7.20542520e+01, 9.81730927e-01,\n",
       "        6.36186177e+00, 1.88729157e+01, 3.68232073e+01, 5.59941234e+01,\n",
       "        7.20542520e+01, 1.32108501e+01, 9.81730927e-01, 6.36186177e+00,\n",
       "        1.88729157e+01, 3.68232073e+01, 5.59941234e+01, 7.20542520e+01,\n",
       "        1.32078515e+01, 1.32112578e+01, 9.81730927e-01, 6.36186177e+00,\n",
       "        1.88729157e+01, 3.68232073e+01, 5.59941234e+01, 7.20542520e+01,\n",
       "        1.32078626e+01, 4.28185449e-01, 4.28185449e-01, 4.28185449e-01,\n",
       "        1.79223264e+01, 1.79223264e+01, 1.79223264e+01, 0.00000000e+00,\n",
       "        0.00000000e+00, 0.00000000e+00, 0.00000000e+00],\n",
       "       [0.00000000e+00, 0.00000000e+00, 9.41261586e+00, 9.41261586e+00,\n",
       "        9.41261586e+00, 9.41261586e+00, 1.60403259e-01, 1.32442554e+00,\n",
       "        4.60608558e+00, 1.07988629e+01, 1.98292813e+01, 3.08629588e+01,\n",
       "        1.60403259e-01, 1.32442554e+00, 4.60608558e+00, 1.07988629e+01,\n",
       "        1.98292813e+01, 3.08629588e+01, 6.02968678e+00, 6.02968678e+00,\n",
       "        1.61977153e+01, 2.62342024e+01, 1.60403259e-01, 1.32442554e+00,\n",
       "        4.60608558e+00, 1.07988629e+01, 1.98292813e+01, 3.08629588e+01,\n",
       "        4.14964003e-02, 1.60403259e-01, 1.32442554e+00, 4.60608558e+00,\n",
       "        1.07988629e+01, 1.98292813e+01, 3.08629588e+01, 1.60403259e-01,\n",
       "        1.32442554e+00, 4.60608558e+00, 1.07988629e+01, 1.98292813e+01,\n",
       "        3.08629588e+01, 1.90268790e+00, 1.60403259e-01, 1.32442554e+00,\n",
       "        4.60608558e+00, 1.07988629e+01, 1.98292813e+01, 3.08629588e+01,\n",
       "        1.90163379e+00, 1.90262851e+00, 1.60403259e-01, 1.32442554e+00,\n",
       "        4.60608558e+00, 1.07988629e+01, 1.98292813e+01, 3.08629588e+01,\n",
       "        1.90163379e+00, 4.14964003e-02, 4.14964003e-02, 4.14964003e-02,\n",
       "        6.03629354e+00, 6.03629354e+00, 6.03629354e+00, 0.00000000e+00,\n",
       "        0.00000000e+00, 0.00000000e+00, 0.00000000e+00],\n",
       "       [0.00000000e+00, 0.00000000e+00, 5.17418897e+01, 5.17418897e+01,\n",
       "        5.17418897e+01, 5.17418897e+01, 1.18632666e+00, 6.57617807e+00,\n",
       "        1.76185121e+01, 3.27948765e+01, 4.80976574e+01, 6.12957316e+01,\n",
       "        1.18632666e+00, 6.57617807e+00, 1.76185121e+01, 3.27948765e+01,\n",
       "        4.80976574e+01, 6.12957316e+01, 4.75287381e+01, 4.75287381e+01,\n",
       "        6.66483582e+01, 7.96520868e+01, 1.18632666e+00, 6.57617807e+00,\n",
       "        1.76185121e+01, 3.27948765e+01, 4.80976574e+01, 6.12957316e+01,\n",
       "        5.78108041e-01, 1.18632666e+00, 6.57617807e+00, 1.76185121e+01,\n",
       "        3.27948765e+01, 4.80976574e+01, 6.12957316e+01, 1.18632666e+00,\n",
       "        6.57617807e+00, 1.76185121e+01, 3.27948765e+01, 4.80976574e+01,\n",
       "        6.12957316e+01, 1.39701981e+01, 1.18632666e+00, 6.57617807e+00,\n",
       "        1.76185121e+01, 3.27948765e+01, 4.80976574e+01, 6.12957316e+01,\n",
       "        1.39659936e+01, 1.39720667e+01, 1.18632666e+00, 6.57617807e+00,\n",
       "        1.76185121e+01, 3.27948765e+01, 4.80976574e+01, 6.12957316e+01,\n",
       "        1.39660068e+01, 5.78108041e-01, 5.78108041e-01, 5.78108041e-01,\n",
       "        4.75448973e+01, 4.75448973e+01, 4.75448973e+01, 0.00000000e+00,\n",
       "        0.00000000e+00, 0.00000000e+00, 0.00000000e+00],\n",
       "       [0.00000000e+00, 0.00000000e+00, 7.66735707e+01, 7.66735707e+01,\n",
       "        7.66735707e+01, 7.66735707e+01, 2.14443273e+00, 1.05620674e+01,\n",
       "        2.17566516e+01, 3.57496380e+01, 5.00318411e+01, 6.26195649e+01,\n",
       "        2.14443273e+00, 1.05620674e+01, 2.17566516e+01, 3.57496380e+01,\n",
       "        5.00318411e+01, 6.26195649e+01, 7.44132087e+01, 7.44132087e+01,\n",
       "        8.51300159e+01, 9.03990728e+01, 2.14443273e+00, 1.05620674e+01,\n",
       "        2.17566516e+01, 3.57496380e+01, 5.00318411e+01, 6.26195649e+01,\n",
       "        1.54759802e+00, 2.14443273e+00, 1.05620674e+01, 2.17566516e+01,\n",
       "        3.57496380e+01, 5.00318411e+01, 6.26195649e+01, 2.14443273e+00,\n",
       "        1.05620674e+01, 2.17566516e+01, 3.57496380e+01, 5.00318411e+01,\n",
       "        6.26195649e+01, 1.67424754e+01, 2.14443273e+00, 1.05620674e+01,\n",
       "        2.17566516e+01, 3.57496380e+01, 5.00318411e+01, 6.26195649e+01,\n",
       "        1.67376630e+01, 1.67455044e+01, 2.14443273e+00, 1.05620674e+01,\n",
       "        2.17566516e+01, 3.57496380e+01, 5.00318411e+01, 6.26195649e+01,\n",
       "        1.67376797e+01, 1.54759802e+00, 1.54759802e+00, 1.54759802e+00,\n",
       "        7.44231143e+01, 7.44231143e+01, 7.44231143e+01, 0.00000000e+00,\n",
       "        0.00000000e+00, 0.00000000e+00, 0.00000000e+00]])"
      ]
     },
     "execution_count": 48,
     "metadata": {},
     "output_type": "execute_result"
    }
   ],
   "source": [
    "percentages*100"
   ]
  }
 ],
 "metadata": {
  "kernelspec": {
   "display_name": "Python 3",
   "language": "python",
   "name": "python3"
  },
  "language_info": {
   "codemirror_mode": {
    "name": "ipython",
    "version": 3
   },
   "file_extension": ".py",
   "mimetype": "text/x-python",
   "name": "python",
   "nbconvert_exporter": "python",
   "pygments_lexer": "ipython3",
   "version": "3.8.6"
  }
 },
 "nbformat": 4,
 "nbformat_minor": 4
}
